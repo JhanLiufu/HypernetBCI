{
 "cells": [
  {
   "cell_type": "markdown",
   "metadata": {},
   "source": [
    "\n",
    "# Baseline Experiment 1\n",
    "\n",
    "Train model from scratch for each subject. \n",
    "\n",
    "Model: BSFShallowNet\n",
    "\n",
    "Dataset: BCI Competitin IV 2a, BCNI2014001 via MOABB library\n"
   ]
  },
  {
   "cell_type": "code",
   "execution_count": 1,
   "metadata": {},
   "outputs": [
    {
     "name": "stderr",
     "output_type": "stream",
     "text": [
      "<frozen importlib._bootstrap>:241: FutureWarning: mne.io.pick.pick_types is deprecated will be removed in 1.6, use documented public API instead. If no appropriate public API exists, please open an issue on GitHub.\n",
      "<frozen importlib._bootstrap>:241: FutureWarning: mne.io.pick.pick_channels_regexp is deprecated will be removed in 1.6, use documented public API instead. If no appropriate public API exists, please open an issue on GitHub.\n",
      "<frozen importlib._bootstrap>:241: FutureWarning: mne.io.pick.channel_type is deprecated will be removed in 1.6, use documented public API instead. If no appropriate public API exists, please open an issue on GitHub.\n",
      "C:\\Users\\mengz\\anaconda3\\envs\\hyperBCI\\Lib\\site-packages\\moabb\\pipelines\\__init__.py:26: ModuleNotFoundError: Tensorflow is not installed. You won't be able to use these MOABB pipelines if you attempt to do so.\n",
      "  warn(\n"
     ]
    }
   ],
   "source": [
    "import matplotlib.pyplot as plt\n",
    "from braindecode.datasets import MOABBDataset\n",
    "from numpy import multiply\n",
    "from braindecode.preprocessing import (Preprocessor,\n",
    "                                       exponential_moving_standardize,\n",
    "                                       preprocess)\n",
    "from braindecode.preprocessing import create_windows_from_events\n",
    "import torch\n",
    "from braindecode.models import ShallowFBCSPNet\n",
    "from braindecode.util import set_random_seeds\n",
    "from skorch.callbacks import LRScheduler\n",
    "from skorch.helper import predefined_split\n",
    "from braindecode import EEGClassifier\n",
    "# from sklearn.metrics import confusion_matrix\n",
    "import matplotlib.pyplot as plt\n",
    "import pandas as pd\n",
    "from scipy import stats\n",
    "import os\n",
    "import pickle\n",
    "from matplotlib.lines import Line2D\n",
    "# from braindecode.visualization import plot_confusion_matrix\n",
    "\n",
    "from braindecode.datasets import BaseConcatDataset\n",
    "from braindecode.datasets.base import EEGWindowsDataset\n",
    "from braindecode.preprocessing.windowers import _create_windows_from_events\n",
    "import numpy as np\n",
    "import mne\n",
    "import random"
   ]
  },
  {
   "cell_type": "markdown",
   "metadata": {},
   "source": [
    "## Loading and preparing the data\n",
    "\n",
    "\n"
   ]
  },
  {
   "cell_type": "markdown",
   "metadata": {},
   "source": [
    "### Loading the dataset\n",
    "\n",
    "\n"
   ]
  },
  {
   "cell_type": "code",
   "execution_count": 2,
   "metadata": {
    "collapsed": false,
    "jupyter": {
     "outputs_hidden": false
    },
    "scrolled": true
   },
   "outputs": [],
   "source": [
    "dataset = MOABBDataset(dataset_name=\"BNCI2014_001\", subject_ids=list(range(1, 10)))"
   ]
  },
  {
   "cell_type": "markdown",
   "metadata": {},
   "source": [
    "### Preprocessing\n",
    "\n",
    "\n"
   ]
  },
  {
   "cell_type": "code",
   "execution_count": 3,
   "metadata": {
    "collapsed": false,
    "jupyter": {
     "outputs_hidden": false
    }
   },
   "outputs": [
    {
     "name": "stderr",
     "output_type": "stream",
     "text": [
      "C:\\Users\\mengz\\anaconda3\\envs\\hyperBCI\\Lib\\site-packages\\braindecode\\preprocessing\\preprocess.py:55: UserWarning: Preprocessing choices with lambda functions cannot be saved.\n",
      "  warn('Preprocessing choices with lambda functions cannot be saved.')\n"
     ]
    },
    {
     "data": {
      "text/plain": [
       "<braindecode.datasets.moabb.MOABBDataset at 0x1afd3710c90>"
      ]
     },
     "execution_count": 3,
     "metadata": {},
     "output_type": "execute_result"
    }
   ],
   "source": [
    "low_cut_hz = 4.  # low cut frequency for filtering\n",
    "high_cut_hz = 38.  # high cut frequency for filtering\n",
    "# Parameters for exponential moving standardization\n",
    "factor_new = 1e-3\n",
    "init_block_size = 1000\n",
    "# Factor to convert from V to uV\n",
    "factor = 1e6\n",
    "\n",
    "preprocessors = [\n",
    "    Preprocessor('pick_types', eeg=True, meg=False, stim=False),  # Keep EEG sensors\n",
    "    Preprocessor(lambda data: multiply(data, factor)),  # Convert from V to uV\n",
    "    Preprocessor('filter', l_freq=low_cut_hz, h_freq=high_cut_hz),  # Bandpass filter\n",
    "    Preprocessor(exponential_moving_standardize,  # Exponential moving standardization\n",
    "                 factor_new=factor_new, init_block_size=init_block_size)\n",
    "]\n",
    "\n",
    "# Transform the data\n",
    "preprocess(dataset, preprocessors, n_jobs=-1)"
   ]
  },
  {
   "cell_type": "markdown",
   "metadata": {},
   "source": [
    "### Extracting Compute Windows\n",
    "\n",
    "\n"
   ]
  },
  {
   "cell_type": "code",
   "execution_count": 4,
   "metadata": {
    "collapsed": false,
    "jupyter": {
     "outputs_hidden": false
    },
    "scrolled": true
   },
   "outputs": [
    {
     "name": "stdout",
     "output_type": "stream",
     "text": [
      "Used Annotations descriptions: ['feet', 'left_hand', 'right_hand', 'tongue']\n",
      "Used Annotations descriptions: ['feet', 'left_hand', 'right_hand', 'tongue']\n",
      "Used Annotations descriptions: ['feet', 'left_hand', 'right_hand', 'tongue']\n",
      "Used Annotations descriptions: ['feet', 'left_hand', 'right_hand', 'tongue']\n",
      "Used Annotations descriptions: ['feet', 'left_hand', 'right_hand', 'tongue']\n",
      "Used Annotations descriptions: ['feet', 'left_hand', 'right_hand', 'tongue']\n",
      "Used Annotations descriptions: ['feet', 'left_hand', 'right_hand', 'tongue']\n",
      "Used Annotations descriptions: ['feet', 'left_hand', 'right_hand', 'tongue']\n",
      "Used Annotations descriptions: ['feet', 'left_hand', 'right_hand', 'tongue']\n",
      "Used Annotations descriptions: ['feet', 'left_hand', 'right_hand', 'tongue']\n",
      "Used Annotations descriptions: ['feet', 'left_hand', 'right_hand', 'tongue']\n",
      "Used Annotations descriptions: ['feet', 'left_hand', 'right_hand', 'tongue']\n",
      "Used Annotations descriptions: ['feet', 'left_hand', 'right_hand', 'tongue']\n",
      "Used Annotations descriptions: ['feet', 'left_hand', 'right_hand', 'tongue']\n",
      "Used Annotations descriptions: ['feet', 'left_hand', 'right_hand', 'tongue']\n",
      "Used Annotations descriptions: ['feet', 'left_hand', 'right_hand', 'tongue']\n",
      "Used Annotations descriptions: ['feet', 'left_hand', 'right_hand', 'tongue']\n",
      "Used Annotations descriptions: ['feet', 'left_hand', 'right_hand', 'tongue']\n",
      "Used Annotations descriptions: ['feet', 'left_hand', 'right_hand', 'tongue']\n",
      "Used Annotations descriptions: ['feet', 'left_hand', 'right_hand', 'tongue']\n",
      "Used Annotations descriptions: ['feet', 'left_hand', 'right_hand', 'tongue']\n",
      "Used Annotations descriptions: ['feet', 'left_hand', 'right_hand', 'tongue']\n",
      "Used Annotations descriptions: ['feet', 'left_hand', 'right_hand', 'tongue']\n",
      "Used Annotations descriptions: ['feet', 'left_hand', 'right_hand', 'tongue']\n",
      "Used Annotations descriptions: ['feet', 'left_hand', 'right_hand', 'tongue']\n",
      "Used Annotations descriptions: ['feet', 'left_hand', 'right_hand', 'tongue']\n",
      "Used Annotations descriptions: ['feet', 'left_hand', 'right_hand', 'tongue']\n",
      "Used Annotations descriptions: ['feet', 'left_hand', 'right_hand', 'tongue']\n",
      "Used Annotations descriptions: ['feet', 'left_hand', 'right_hand', 'tongue']\n",
      "Used Annotations descriptions: ['feet', 'left_hand', 'right_hand', 'tongue']\n",
      "Used Annotations descriptions: ['feet', 'left_hand', 'right_hand', 'tongue']\n",
      "Used Annotations descriptions: ['feet', 'left_hand', 'right_hand', 'tongue']\n",
      "Used Annotations descriptions: ['feet', 'left_hand', 'right_hand', 'tongue']\n",
      "Used Annotations descriptions: ['feet', 'left_hand', 'right_hand', 'tongue']\n",
      "Used Annotations descriptions: ['feet', 'left_hand', 'right_hand', 'tongue']\n",
      "Used Annotations descriptions: ['feet', 'left_hand', 'right_hand', 'tongue']\n",
      "Used Annotations descriptions: ['feet', 'left_hand', 'right_hand', 'tongue']\n",
      "Used Annotations descriptions: ['feet', 'left_hand', 'right_hand', 'tongue']\n",
      "Used Annotations descriptions: ['feet', 'left_hand', 'right_hand', 'tongue']\n",
      "Used Annotations descriptions: ['feet', 'left_hand', 'right_hand', 'tongue']\n",
      "Used Annotations descriptions: ['feet', 'left_hand', 'right_hand', 'tongue']\n",
      "Used Annotations descriptions: ['feet', 'left_hand', 'right_hand', 'tongue']\n",
      "Used Annotations descriptions: ['feet', 'left_hand', 'right_hand', 'tongue']\n",
      "Used Annotations descriptions: ['feet', 'left_hand', 'right_hand', 'tongue']\n",
      "Used Annotations descriptions: ['feet', 'left_hand', 'right_hand', 'tongue']\n",
      "Used Annotations descriptions: ['feet', 'left_hand', 'right_hand', 'tongue']\n",
      "Used Annotations descriptions: ['feet', 'left_hand', 'right_hand', 'tongue']\n",
      "Used Annotations descriptions: ['feet', 'left_hand', 'right_hand', 'tongue']\n",
      "Used Annotations descriptions: ['feet', 'left_hand', 'right_hand', 'tongue']\n",
      "Used Annotations descriptions: ['feet', 'left_hand', 'right_hand', 'tongue']\n",
      "Used Annotations descriptions: ['feet', 'left_hand', 'right_hand', 'tongue']\n",
      "Used Annotations descriptions: ['feet', 'left_hand', 'right_hand', 'tongue']\n",
      "Used Annotations descriptions: ['feet', 'left_hand', 'right_hand', 'tongue']\n",
      "Used Annotations descriptions: ['feet', 'left_hand', 'right_hand', 'tongue']\n",
      "Used Annotations descriptions: ['feet', 'left_hand', 'right_hand', 'tongue']\n",
      "Used Annotations descriptions: ['feet', 'left_hand', 'right_hand', 'tongue']\n",
      "Used Annotations descriptions: ['feet', 'left_hand', 'right_hand', 'tongue']\n",
      "Used Annotations descriptions: ['feet', 'left_hand', 'right_hand', 'tongue']\n",
      "Used Annotations descriptions: ['feet', 'left_hand', 'right_hand', 'tongue']\n",
      "Used Annotations descriptions: ['feet', 'left_hand', 'right_hand', 'tongue']\n",
      "Used Annotations descriptions: ['feet', 'left_hand', 'right_hand', 'tongue']\n",
      "Used Annotations descriptions: ['feet', 'left_hand', 'right_hand', 'tongue']\n",
      "Used Annotations descriptions: ['feet', 'left_hand', 'right_hand', 'tongue']\n",
      "Used Annotations descriptions: ['feet', 'left_hand', 'right_hand', 'tongue']\n",
      "Used Annotations descriptions: ['feet', 'left_hand', 'right_hand', 'tongue']\n",
      "Used Annotations descriptions: ['feet', 'left_hand', 'right_hand', 'tongue']\n",
      "Used Annotations descriptions: ['feet', 'left_hand', 'right_hand', 'tongue']\n",
      "Used Annotations descriptions: ['feet', 'left_hand', 'right_hand', 'tongue']\n",
      "Used Annotations descriptions: ['feet', 'left_hand', 'right_hand', 'tongue']\n",
      "Used Annotations descriptions: ['feet', 'left_hand', 'right_hand', 'tongue']\n",
      "Used Annotations descriptions: ['feet', 'left_hand', 'right_hand', 'tongue']\n",
      "Used Annotations descriptions: ['feet', 'left_hand', 'right_hand', 'tongue']\n",
      "Used Annotations descriptions: ['feet', 'left_hand', 'right_hand', 'tongue']\n",
      "Used Annotations descriptions: ['feet', 'left_hand', 'right_hand', 'tongue']\n",
      "Used Annotations descriptions: ['feet', 'left_hand', 'right_hand', 'tongue']\n",
      "Used Annotations descriptions: ['feet', 'left_hand', 'right_hand', 'tongue']\n",
      "Used Annotations descriptions: ['feet', 'left_hand', 'right_hand', 'tongue']\n",
      "Used Annotations descriptions: ['feet', 'left_hand', 'right_hand', 'tongue']\n",
      "Used Annotations descriptions: ['feet', 'left_hand', 'right_hand', 'tongue']\n",
      "Used Annotations descriptions: ['feet', 'left_hand', 'right_hand', 'tongue']\n",
      "Used Annotations descriptions: ['feet', 'left_hand', 'right_hand', 'tongue']\n",
      "Used Annotations descriptions: ['feet', 'left_hand', 'right_hand', 'tongue']\n",
      "Used Annotations descriptions: ['feet', 'left_hand', 'right_hand', 'tongue']\n",
      "Used Annotations descriptions: ['feet', 'left_hand', 'right_hand', 'tongue']\n",
      "Used Annotations descriptions: ['feet', 'left_hand', 'right_hand', 'tongue']\n",
      "Used Annotations descriptions: ['feet', 'left_hand', 'right_hand', 'tongue']\n",
      "Used Annotations descriptions: ['feet', 'left_hand', 'right_hand', 'tongue']\n",
      "Used Annotations descriptions: ['feet', 'left_hand', 'right_hand', 'tongue']\n",
      "Used Annotations descriptions: ['feet', 'left_hand', 'right_hand', 'tongue']\n",
      "Used Annotations descriptions: ['feet', 'left_hand', 'right_hand', 'tongue']\n",
      "Used Annotations descriptions: ['feet', 'left_hand', 'right_hand', 'tongue']\n",
      "Used Annotations descriptions: ['feet', 'left_hand', 'right_hand', 'tongue']\n",
      "Used Annotations descriptions: ['feet', 'left_hand', 'right_hand', 'tongue']\n",
      "Used Annotations descriptions: ['feet', 'left_hand', 'right_hand', 'tongue']\n",
      "Used Annotations descriptions: ['feet', 'left_hand', 'right_hand', 'tongue']\n",
      "Used Annotations descriptions: ['feet', 'left_hand', 'right_hand', 'tongue']\n",
      "Used Annotations descriptions: ['feet', 'left_hand', 'right_hand', 'tongue']\n",
      "Used Annotations descriptions: ['feet', 'left_hand', 'right_hand', 'tongue']\n",
      "Used Annotations descriptions: ['feet', 'left_hand', 'right_hand', 'tongue']\n",
      "Used Annotations descriptions: ['feet', 'left_hand', 'right_hand', 'tongue']\n",
      "Used Annotations descriptions: ['feet', 'left_hand', 'right_hand', 'tongue']\n",
      "Used Annotations descriptions: ['feet', 'left_hand', 'right_hand', 'tongue']\n",
      "Used Annotations descriptions: ['feet', 'left_hand', 'right_hand', 'tongue']\n",
      "Used Annotations descriptions: ['feet', 'left_hand', 'right_hand', 'tongue']\n",
      "Used Annotations descriptions: ['feet', 'left_hand', 'right_hand', 'tongue']\n",
      "Used Annotations descriptions: ['feet', 'left_hand', 'right_hand', 'tongue']\n",
      "Used Annotations descriptions: ['feet', 'left_hand', 'right_hand', 'tongue']\n",
      "Used Annotations descriptions: ['feet', 'left_hand', 'right_hand', 'tongue']\n"
     ]
    }
   ],
   "source": [
    "trial_start_offset_seconds = -0.5\n",
    "# Extract sampling frequency, check that they are same in all datasets\n",
    "sfreq = dataset.datasets[0].raw.info['sfreq']\n",
    "assert all([ds.raw.info['sfreq'] == sfreq for ds in dataset.datasets])\n",
    "# Calculate the trial start offset in samples.\n",
    "trial_start_offset_samples = int(trial_start_offset_seconds * sfreq)\n",
    "\n",
    "# Create windows using braindecode function for this. It needs parameters to define how\n",
    "# trials should be used.\n",
    "windows_dataset = create_windows_from_events(\n",
    "    dataset,\n",
    "    trial_start_offset_samples=trial_start_offset_samples,\n",
    "    trial_stop_offset_samples=0,\n",
    "    preload=True,\n",
    ")"
   ]
  },
  {
   "cell_type": "code",
   "execution_count": 5,
   "metadata": {},
   "outputs": [],
   "source": [
    "def get_subset(window_set, target_trial_num):\n",
    "    new_ds_lst = []\n",
    "    \n",
    "    for ds in window_set.datasets:\n",
    "        cur_run_trial_num = len(ds.metadata)\n",
    "        if target_trial_num > cur_run_trial_num:\n",
    "            new_ds_lst.append(ds)\n",
    "            target_trial_num -= cur_run_trial_num\n",
    "        else:\n",
    "            new_ds_lst.append(EEGWindowsDataset(ds.raw, ds.metadata[:target_trial_num], description=ds.description[:target_trial_num]))\n",
    "            break\n",
    "\n",
    "    return BaseConcatDataset(new_ds_lst)"
   ]
  },
  {
   "cell_type": "markdown",
   "metadata": {},
   "source": [
    "## Model Pre-training"
   ]
  },
  {
   "cell_type": "code",
   "execution_count": 6,
   "metadata": {},
   "outputs": [],
   "source": [
    "### Split dataset into pre-train set and fine-tune set\n",
    "splitted_by_subj = windows_dataset.split('subject')\n",
    "pre_train_subj = [1, 2, 3, 4, 5]\n",
    "fine_tune_set = [6, 7, 8, 9]\n",
    "pre_train_set = BaseConcatDataset([splitted_by_subj.get(f'{i}') for i in pre_train_subj])\n",
    "fine_tune_set = BaseConcatDataset([splitted_by_subj.get(f'{i}') for i in fine_tune_set])"
   ]
  },
  {
   "cell_type": "code",
   "execution_count": 8,
   "metadata": {},
   "outputs": [],
   "source": [
    "### Split pre-train set into pre-train-train set and pre-train-test set\n",
    "pre_train_train_set_lst = []\n",
    "pre_train_test_set_lst = []\n",
    "pre_train_test_set_size = 1 # runs\n",
    "for key, val in pre_train_set.split('subject').items():\n",
    "    subj_splitted_lst_by_run = list(val.split('run').values())\n",
    "    pre_train_train_set_lst.extend(subj_splitted_lst_by_run[:-pre_train_test_set_size])\n",
    "    pre_train_test_set_lst.extend(subj_splitted_lst_by_run[-pre_train_test_set_size:])\n",
    "\n",
    "pre_train_train_set = BaseConcatDataset(pre_train_train_set_lst)\n",
    "pre_train_test_set = BaseConcatDataset(pre_train_test_set_lst)"
   ]
  },
  {
   "cell_type": "code",
   "execution_count": 9,
   "metadata": {},
   "outputs": [
    {
     "name": "stderr",
     "output_type": "stream",
     "text": [
      "C:\\Users\\mengz\\anaconda3\\envs\\hyperBCI\\Lib\\site-packages\\braindecode\\models\\base.py:23: UserWarning: ShallowFBCSPNet: 'input_window_samples' is depreciated. Use 'n_times' instead.\n",
      "  warnings.warn(\n",
      "C:\\Users\\mengz\\anaconda3\\envs\\hyperBCI\\Lib\\site-packages\\braindecode\\models\\base.py:180: UserWarning: LogSoftmax final layer will be removed! Please adjust your loss function accordingly (e.g. CrossEntropyLoss)!\n",
      "  warnings.warn(\"LogSoftmax final layer will be removed! \" +\n"
     ]
    }
   ],
   "source": [
    "cuda = torch.cuda.is_available()  # check if GPU is available, if True chooses to use it\n",
    "device = 'cuda' if cuda else 'cpu'\n",
    "if cuda:\n",
    "    torch.backends.cudnn.benchmark = True\n",
    "\n",
    "seed = 20200220\n",
    "set_random_seeds(seed=seed, cuda=cuda)\n",
    "\n",
    "n_classes = 4\n",
    "classes = list(range(n_classes))\n",
    "# Extract number of chans and time steps from dataset\n",
    "n_chans = windows_dataset[0][0].shape[0]\n",
    "input_window_samples = windows_dataset[0][0].shape[1]\n",
    "\n",
    "cur_model = ShallowFBCSPNet(\n",
    "    n_chans,\n",
    "    n_classes,\n",
    "    input_window_samples=input_window_samples,\n",
    "    final_conv_length='auto',\n",
    ")"
   ]
  },
  {
   "cell_type": "code",
   "execution_count": 10,
   "metadata": {},
   "outputs": [],
   "source": [
    "lr = 0.07 * 0.01\n",
    "weight_decay = 0\n",
    "batch_size = 64\n",
    "n_epochs = 30\n",
    "\n",
    "# Re-initialize EEGClassifier\n",
    "cur_clf = EEGClassifier(\n",
    "    cur_model,\n",
    "    criterion=torch.nn.NLLLoss,\n",
    "    optimizer=torch.optim.AdamW,\n",
    "    train_split=predefined_split(pre_train_test_set),  # using valid_set for validation\n",
    "    optimizer__lr=lr,\n",
    "    optimizer__weight_decay=weight_decay,\n",
    "    batch_size=batch_size,\n",
    "    callbacks=[\n",
    "        \"accuracy\", (\"lr_scheduler\", LRScheduler('CosineAnnealingLR', T_max=n_epochs - 1)),\n",
    "    ],\n",
    "    device=device,\n",
    "    classes=classes,\n",
    "    warm_start=False\n",
    ")"
   ]
  },
  {
   "cell_type": "code",
   "execution_count": 11,
   "metadata": {
    "scrolled": true
   },
   "outputs": [
    {
     "name": "stdout",
     "output_type": "stream",
     "text": [
      "  epoch    train_accuracy    train_loss    valid_acc    valid_accuracy    valid_loss      lr     dur\n",
      "-------  ----------------  ------------  -----------  ----------------  ------------  ------  ------\n",
      "      1            \u001b[36m0.3713\u001b[0m        \u001b[32m1.6246\u001b[0m       \u001b[35m0.3521\u001b[0m            \u001b[31m0.3521\u001b[0m        \u001b[94m1.4352\u001b[0m  0.0007  4.2605\n",
      "      2            \u001b[36m0.4529\u001b[0m        \u001b[32m1.4494\u001b[0m       \u001b[35m0.3875\u001b[0m            \u001b[31m0.3875\u001b[0m        \u001b[94m1.3038\u001b[0m  0.0007  5.0424\n",
      "      3            \u001b[36m0.4942\u001b[0m        \u001b[32m1.3483\u001b[0m       \u001b[35m0.4062\u001b[0m            \u001b[31m0.4062\u001b[0m        1.3105  0.0007  4.6133\n",
      "      4            \u001b[36m0.5188\u001b[0m        \u001b[32m1.2806\u001b[0m       \u001b[35m0.4104\u001b[0m            \u001b[31m0.4104\u001b[0m        \u001b[94m1.2838\u001b[0m  0.0007  4.1747\n",
      "      5            \u001b[36m0.5679\u001b[0m        \u001b[32m1.2352\u001b[0m       \u001b[35m0.4333\u001b[0m            \u001b[31m0.4333\u001b[0m        \u001b[94m1.2467\u001b[0m  0.0007  4.5572\n",
      "      6            \u001b[36m0.5808\u001b[0m        \u001b[32m1.1860\u001b[0m       0.4000            0.4000        1.2539  0.0006  4.1781\n",
      "      7            \u001b[36m0.6212\u001b[0m        \u001b[32m1.1197\u001b[0m       \u001b[35m0.4458\u001b[0m            \u001b[31m0.4458\u001b[0m        \u001b[94m1.2110\u001b[0m  0.0006  4.3128\n",
      "      8            \u001b[36m0.6292\u001b[0m        \u001b[32m1.1099\u001b[0m       \u001b[35m0.4521\u001b[0m            \u001b[31m0.4521\u001b[0m        \u001b[94m1.2071\u001b[0m  0.0006  4.2630\n",
      "      9            \u001b[36m0.6338\u001b[0m        \u001b[32m1.0574\u001b[0m       \u001b[35m0.4667\u001b[0m            \u001b[31m0.4667\u001b[0m        1.2102  0.0006  4.2663\n",
      "     10            0.6317        \u001b[32m1.0264\u001b[0m       0.4396            0.4396        1.2111  0.0005  4.5788\n",
      "     11            \u001b[36m0.6496\u001b[0m        \u001b[32m1.0045\u001b[0m       0.4292            0.4292        1.2321  0.0005  4.1062\n",
      "     12            \u001b[36m0.6917\u001b[0m        \u001b[32m0.9544\u001b[0m       \u001b[35m0.4708\u001b[0m            \u001b[31m0.4708\u001b[0m        1.2125  0.0005  4.0948\n",
      "     13            \u001b[36m0.7129\u001b[0m        0.9824       \u001b[35m0.4813\u001b[0m            \u001b[31m0.4813\u001b[0m        \u001b[94m1.1746\u001b[0m  0.0004  4.7641\n",
      "     14            \u001b[36m0.7338\u001b[0m        \u001b[32m0.9268\u001b[0m       0.4604            0.4604        1.1758  0.0004  4.0802\n",
      "     15            0.7304        \u001b[32m0.8751\u001b[0m       0.4729            0.4729        1.1759  0.0004  4.1606\n",
      "     16            \u001b[36m0.7550\u001b[0m        \u001b[32m0.8714\u001b[0m       0.4750            0.4750        \u001b[94m1.1515\u001b[0m  0.0003  4.3897\n",
      "     17            0.7521        0.8750       0.4792            0.4792        1.1640  0.0003  4.0928\n",
      "     18            0.7504        \u001b[32m0.8517\u001b[0m       \u001b[35m0.4896\u001b[0m            \u001b[31m0.4896\u001b[0m        1.1713  0.0003  4.4010\n",
      "     19            \u001b[36m0.7800\u001b[0m        \u001b[32m0.8211\u001b[0m       \u001b[35m0.5021\u001b[0m            \u001b[31m0.5021\u001b[0m        1.1528  0.0002  4.0934\n",
      "     20            \u001b[36m0.7829\u001b[0m        \u001b[32m0.7947\u001b[0m       \u001b[35m0.5146\u001b[0m            \u001b[31m0.5146\u001b[0m        1.1516  0.0002  4.1738\n",
      "     21            0.7754        \u001b[32m0.7831\u001b[0m       0.4938            0.4938        1.1777  0.0002  4.8218\n",
      "     22            0.7804        0.8020       0.4917            0.4917        1.1595  0.0001  4.3629\n",
      "     23            \u001b[36m0.8083\u001b[0m        \u001b[32m0.7734\u001b[0m       0.4854            0.4854        \u001b[94m1.1286\u001b[0m  0.0001  4.3212\n",
      "     24            \u001b[36m0.8092\u001b[0m        \u001b[32m0.7619\u001b[0m       0.4813            0.4813        1.1292  0.0001  4.5983\n",
      "     25            \u001b[36m0.8108\u001b[0m        \u001b[32m0.7507\u001b[0m       0.5021            0.5021        1.1305  0.0001  4.2548\n",
      "     26            0.8071        \u001b[32m0.7370\u001b[0m       0.5042            0.5042        1.1299  0.0000  4.5377\n",
      "     27            0.8108        \u001b[32m0.7305\u001b[0m       0.5062            0.5062        1.1319  0.0000  4.2925\n",
      "     28            0.8108        0.7500       0.5062            0.5062        1.1311  0.0000  4.3285\n",
      "     29            0.8108        0.7429       0.5042            0.5042        1.1311  0.0000  4.8489\n",
      "     30            0.8092        0.7413       0.5042            0.5042        1.1312  0.0000  4.2913\n"
     ]
    }
   ],
   "source": [
    "_ = cur_clf.fit(pre_train_train_set, y=None, epochs=n_epochs)"
   ]
  },
  {
   "cell_type": "code",
   "execution_count": 12,
   "metadata": {},
   "outputs": [],
   "source": [
    "results_dir = os.path.abspath(os.path.join(os.getcwd(), os.pardir, 'results'))\n",
    "exp_name = f'baseline_2_1_pretrain'\n",
    "cur_clf.save_params(f_params=os.path.join(results_dir, f'{exp_name}_model.pkl'), \n",
    "                    f_optimizer=os.path.join(results_dir, f'{exp_name}_opt.pkl'), \n",
    "                    f_history=os.path.join(results_dir, f'{exp_name}_history.json'))"
   ]
  },
  {
   "cell_type": "markdown",
   "metadata": {},
   "source": [
    "## Fine tuning\n",
    "Take the pre-trained model and fine tune (continue training) with new data from unseen subject"
   ]
  },
  {
   "cell_type": "code",
   "execution_count": 13,
   "metadata": {},
   "outputs": [
    {
     "name": "stdout",
     "output_type": "stream",
     "text": [
      "Before finetuning for subject 6, the baseline accuracy is 0.2708333333333333\n",
      "Fine tuning model for subject 6 with 20 trials\n"
     ]
    },
    {
     "name": "stderr",
     "output_type": "stream",
     "text": [
      "C:\\Users\\mengz\\anaconda3\\envs\\hyperBCI\\Lib\\site-packages\\braindecode\\models\\base.py:23: UserWarning: ShallowFBCSPNet: 'input_window_samples' is depreciated. Use 'n_times' instead.\n",
      "  warnings.warn(\n",
      "C:\\Users\\mengz\\anaconda3\\envs\\hyperBCI\\Lib\\site-packages\\braindecode\\models\\base.py:180: UserWarning: LogSoftmax final layer will be removed! Please adjust your loss function accordingly (e.g. CrossEntropyLoss)!\n",
      "  warnings.warn(\"LogSoftmax final layer will be removed! \" +\n"
     ]
    },
    {
     "name": "stdout",
     "output_type": "stream",
     "text": [
      "  epoch    train_accuracy    train_loss    valid_acc    valid_accuracy    valid_loss      lr     dur\n",
      "-------  ----------------  ------------  -----------  ----------------  ------------  ------  ------\n",
      "     31            0.5667        1.6704       0.3438            0.3438        1.4737  0.0004  1.2052\n",
      "     32            0.6813        1.2084       0.3646            0.3646        1.6763  0.0005  1.4153\n",
      "     33            0.8042        0.9000       0.3438            0.3438        1.5461  0.0005  1.0939\n",
      "     34            \u001b[36m0.8271\u001b[0m        0.8191       0.4271            0.4271        1.6537  0.0006  1.0935\n",
      "     35            \u001b[36m0.8812\u001b[0m        \u001b[32m0.7112\u001b[0m       0.3854            0.3854        1.6616  0.0006  1.1568\n",
      "     36            \u001b[36m0.9167\u001b[0m        \u001b[32m0.6718\u001b[0m       0.4271            0.4271        1.6516  0.0007  1.1917\n",
      "     37            \u001b[36m0.9500\u001b[0m        \u001b[32m0.5227\u001b[0m       0.3646            0.3646        1.8200  0.0007  1.3058\n",
      "     38            0.9417        \u001b[32m0.4759\u001b[0m       0.3333            0.3333        2.0015  0.0007  1.1712\n",
      "     39            \u001b[36m0.9688\u001b[0m        \u001b[32m0.4670\u001b[0m       0.3750            0.3750        1.8133  0.0007  1.4363\n",
      "     40            0.9563        \u001b[32m0.3842\u001b[0m       0.3646            0.3646        1.8657  0.0007  1.2278\n",
      "     41            0.9625        \u001b[32m0.3303\u001b[0m       0.3750            0.3750        1.9987  0.0007  1.3444\n",
      "     42            \u001b[36m0.9896\u001b[0m        \u001b[32m0.3246\u001b[0m       0.3854            0.3854        1.9706  0.0007  1.5845\n",
      "     43            \u001b[36m0.9917\u001b[0m        \u001b[32m0.3031\u001b[0m       0.3750            0.3750        1.9523  0.0006  1.1792\n",
      "     44            0.9875        \u001b[32m0.2623\u001b[0m       0.3854            0.3854        1.9440  0.0006  1.1475\n",
      "     45            \u001b[36m1.0000\u001b[0m        \u001b[32m0.2302\u001b[0m       0.3646            0.3646        2.0170  0.0005  1.1623\n",
      "     46            1.0000        \u001b[32m0.2158\u001b[0m       0.3333            0.3333        2.0645  0.0005  1.2198\n",
      "     47            1.0000        \u001b[32m0.1982\u001b[0m       0.3542            0.3542        2.1554  0.0004  1.2591\n",
      "     48            1.0000        \u001b[32m0.1528\u001b[0m       0.3958            0.3958        2.1316  0.0004  1.1965\n",
      "     49            0.9979        0.1658       0.3646            0.3646        2.1195  0.0003  1.1577\n",
      "     50            1.0000        \u001b[32m0.1479\u001b[0m       0.3333            0.3333        2.1208  0.0003  1.1260\n",
      "Fine tuning model for subject 6 with 40 trials\n"
     ]
    },
    {
     "name": "stderr",
     "output_type": "stream",
     "text": [
      "C:\\Users\\mengz\\anaconda3\\envs\\hyperBCI\\Lib\\site-packages\\braindecode\\models\\base.py:23: UserWarning: ShallowFBCSPNet: 'input_window_samples' is depreciated. Use 'n_times' instead.\n",
      "  warnings.warn(\n",
      "C:\\Users\\mengz\\anaconda3\\envs\\hyperBCI\\Lib\\site-packages\\braindecode\\models\\base.py:180: UserWarning: LogSoftmax final layer will be removed! Please adjust your loss function accordingly (e.g. CrossEntropyLoss)!\n",
      "  warnings.warn(\"LogSoftmax final layer will be removed! \" +\n"
     ]
    },
    {
     "name": "stdout",
     "output_type": "stream",
     "text": [
      "  epoch    train_accuracy    train_loss    valid_acc    valid_accuracy    valid_loss      lr     dur\n",
      "-------  ----------------  ------------  -----------  ----------------  ------------  ------  ------\n",
      "     31            0.4958        1.5463       0.3438            0.3438        1.6052  0.0004  1.0915\n",
      "     32            0.6562        1.1883       0.3542            0.3542        1.5101  0.0005  1.1720\n",
      "     33            0.7208        0.9818       0.3646            0.3646        1.5308  0.0005  1.0802\n",
      "     34            0.8042        0.8886       0.3958            0.3958        1.4613  0.0006  0.9280\n",
      "     35            \u001b[36m0.8667\u001b[0m        0.7818       0.3750            0.3750        1.5365  0.0006  0.9376\n",
      "     36            \u001b[36m0.9042\u001b[0m        \u001b[32m0.6373\u001b[0m       0.4167            0.4167        1.5868  0.0007  1.0437\n",
      "     37            \u001b[36m0.9313\u001b[0m        \u001b[32m0.5603\u001b[0m       0.4062            0.4062        1.5689  0.0007  0.9981\n",
      "     38            \u001b[36m0.9688\u001b[0m        \u001b[32m0.5385\u001b[0m       0.3646            0.3646        1.6480  0.0007  0.9221\n",
      "     39            \u001b[36m0.9750\u001b[0m        \u001b[32m0.4359\u001b[0m       0.3854            0.3854        1.6547  0.0007  0.9951\n",
      "     40            \u001b[36m0.9833\u001b[0m        \u001b[32m0.3786\u001b[0m       0.3646            0.3646        1.6893  0.0007  0.9436\n",
      "     41            0.9729        0.4137       0.4167            0.4167        1.5966  0.0007  0.9297\n",
      "     42            \u001b[36m0.9896\u001b[0m        \u001b[32m0.3439\u001b[0m       0.4167            0.4167        1.7178  0.0007  0.9063\n",
      "     43            \u001b[36m0.9979\u001b[0m        \u001b[32m0.2648\u001b[0m       0.3958            0.3958        1.7326  0.0006  1.0517\n",
      "     44            0.9979        \u001b[32m0.2608\u001b[0m       0.4062            0.4062        1.7462  0.0006  1.1401\n",
      "     45            0.9979        0.2650       0.4062            0.4062        1.7314  0.0005  1.1221\n",
      "     46            0.9958        \u001b[32m0.2093\u001b[0m       0.4062            0.4062        1.6960  0.0005  0.9271\n",
      "     47            0.9979        \u001b[32m0.1991\u001b[0m       0.3958            0.3958        1.7355  0.0004  0.9374\n",
      "     48            \u001b[36m1.0000\u001b[0m        0.2099       0.4271            0.4271        1.7288  0.0004  0.9685\n",
      "     49            1.0000        \u001b[32m0.1659\u001b[0m       0.4375            0.4375        1.7454  0.0003  1.3630\n",
      "     50            1.0000        0.1660       0.3958            0.3958        1.7893  0.0003  1.8903\n",
      "Fine tuning model for subject 6 with 60 trials\n"
     ]
    },
    {
     "name": "stderr",
     "output_type": "stream",
     "text": [
      "C:\\Users\\mengz\\anaconda3\\envs\\hyperBCI\\Lib\\site-packages\\braindecode\\models\\base.py:23: UserWarning: ShallowFBCSPNet: 'input_window_samples' is depreciated. Use 'n_times' instead.\n",
      "  warnings.warn(\n",
      "C:\\Users\\mengz\\anaconda3\\envs\\hyperBCI\\Lib\\site-packages\\braindecode\\models\\base.py:180: UserWarning: LogSoftmax final layer will be removed! Please adjust your loss function accordingly (e.g. CrossEntropyLoss)!\n",
      "  warnings.warn(\"LogSoftmax final layer will be removed! \" +\n"
     ]
    },
    {
     "name": "stdout",
     "output_type": "stream",
     "text": [
      "  epoch    train_accuracy    train_loss    valid_acc    valid_accuracy    valid_loss      lr     dur\n",
      "-------  ----------------  ------------  -----------  ----------------  ------------  ------  ------\n",
      "     31            0.5042        1.6150       0.3333            0.3333        1.5637  0.0004  1.7271\n",
      "     32            0.6542        1.2568       0.3646            0.3646        1.5097  0.0005  1.6003\n",
      "     33            0.7542        0.9712       0.4375            0.4375        1.4471  0.0005  1.2773\n",
      "     34            0.7937        0.8334       0.3333            0.3333        1.5793  0.0006  1.1043\n",
      "     35            \u001b[36m0.8708\u001b[0m        0.7769       0.4062            0.4062        1.5180  0.0006  0.8901\n",
      "     36            \u001b[36m0.8833\u001b[0m        \u001b[32m0.6839\u001b[0m       0.3750            0.3750        1.5029  0.0007  0.8767\n",
      "     37            \u001b[36m0.9042\u001b[0m        \u001b[32m0.5949\u001b[0m       0.3646            0.3646        1.5383  0.0007  0.8771\n",
      "     38            \u001b[36m0.9104\u001b[0m        \u001b[32m0.5558\u001b[0m       0.3542            0.3542        1.6151  0.0007  0.8888\n",
      "     39            \u001b[36m0.9500\u001b[0m        \u001b[32m0.5241\u001b[0m       0.3542            0.3542        1.5502  0.0007  0.8672\n",
      "     40            \u001b[36m0.9875\u001b[0m        \u001b[32m0.4569\u001b[0m       0.3438            0.3438        1.6166  0.0007  0.8756\n",
      "     41            0.9833        \u001b[32m0.4044\u001b[0m       0.3958            0.3958        1.6039  0.0007  0.8906\n",
      "     42            0.9792        \u001b[32m0.3614\u001b[0m       0.3542            0.3542        1.6717  0.0007  0.8911\n",
      "     43            \u001b[36m0.9917\u001b[0m        \u001b[32m0.3251\u001b[0m       0.3750            0.3750        1.6780  0.0006  0.8743\n",
      "     44            0.9917        \u001b[32m0.3011\u001b[0m       0.3854            0.3854        1.6387  0.0006  0.9637\n",
      "     45            \u001b[36m0.9979\u001b[0m        \u001b[32m0.2661\u001b[0m       0.3542            0.3542        1.6901  0.0005  0.9937\n",
      "     46            0.9958        0.2781       0.3646            0.3646        1.7205  0.0005  1.1867\n",
      "     47            \u001b[36m1.0000\u001b[0m        \u001b[32m0.2507\u001b[0m       0.4062            0.4062        1.6938  0.0004  1.2220\n",
      "     48            1.0000        \u001b[32m0.2184\u001b[0m       0.4167            0.4167        1.6724  0.0004  1.0665\n",
      "     49            1.0000        0.2197       0.3750            0.3750        1.7153  0.0003  1.0864\n",
      "     50            1.0000        \u001b[32m0.2011\u001b[0m       0.3750            0.3750        1.7234  0.0003  1.1072\n",
      "Fine tuning model for subject 6 with 80 trials\n"
     ]
    },
    {
     "name": "stderr",
     "output_type": "stream",
     "text": [
      "C:\\Users\\mengz\\anaconda3\\envs\\hyperBCI\\Lib\\site-packages\\braindecode\\models\\base.py:23: UserWarning: ShallowFBCSPNet: 'input_window_samples' is depreciated. Use 'n_times' instead.\n",
      "  warnings.warn(\n",
      "C:\\Users\\mengz\\anaconda3\\envs\\hyperBCI\\Lib\\site-packages\\braindecode\\models\\base.py:180: UserWarning: LogSoftmax final layer will be removed! Please adjust your loss function accordingly (e.g. CrossEntropyLoss)!\n",
      "  warnings.warn(\"LogSoftmax final layer will be removed! \" +\n"
     ]
    },
    {
     "name": "stdout",
     "output_type": "stream",
     "text": [
      "  epoch    train_accuracy    train_loss    valid_acc    valid_accuracy    valid_loss      lr     dur\n",
      "-------  ----------------  ------------  -----------  ----------------  ------------  ------  ------\n",
      "     31            0.5292        1.6085       0.3750            0.3750        1.5556  0.0004  0.9784\n",
      "     32            0.6104        1.2577       0.3646            0.3646        1.4311  0.0005  1.0201\n",
      "     33            0.7083        1.0420       0.4062            0.4062        1.4002  0.0005  1.0211\n",
      "     34            0.7604        0.9781       0.4167            0.4167        1.4601  0.0006  0.9039\n",
      "     35            \u001b[36m0.8292\u001b[0m        0.8267       0.3958            0.3958        1.4439  0.0006  0.9140\n",
      "     36            \u001b[36m0.8625\u001b[0m        \u001b[32m0.7115\u001b[0m       0.3958            0.3958        1.5555  0.0007  0.9430\n",
      "     37            \u001b[36m0.8833\u001b[0m        \u001b[32m0.6467\u001b[0m       0.3646            0.3646        1.5227  0.0007  1.1311\n",
      "     38            \u001b[36m0.9125\u001b[0m        \u001b[32m0.5876\u001b[0m       0.3438            0.3438        1.5497  0.0007  1.0568\n",
      "     39            \u001b[36m0.9542\u001b[0m        \u001b[32m0.5226\u001b[0m       0.3854            0.3854        1.5813  0.0007  1.1059\n",
      "     40            \u001b[36m0.9625\u001b[0m        \u001b[32m0.4982\u001b[0m       0.3438            0.3438        1.6181  0.0007  0.9261\n",
      "     41            \u001b[36m0.9729\u001b[0m        \u001b[32m0.4882\u001b[0m       0.3750            0.3750        1.5998  0.0007  0.9033\n",
      "     42            0.9688        \u001b[32m0.4204\u001b[0m       0.3542            0.3542        1.6533  0.0007  0.9764\n",
      "     43            \u001b[36m0.9896\u001b[0m        \u001b[32m0.3949\u001b[0m       0.3438            0.3438        1.6368  0.0006  1.0270\n",
      "     44            0.9812        \u001b[32m0.3495\u001b[0m       0.3646            0.3646        1.6395  0.0006  0.9151\n",
      "     45            \u001b[36m0.9917\u001b[0m        \u001b[32m0.3111\u001b[0m       0.3750            0.3750        1.6850  0.0005  0.8834\n",
      "     46            \u001b[36m0.9958\u001b[0m        0.3406       0.3438            0.3438        1.6857  0.0005  0.8884\n",
      "     47            \u001b[36m0.9979\u001b[0m        \u001b[32m0.2765\u001b[0m       0.3438            0.3438        1.7164  0.0004  0.9434\n",
      "     48            0.9979        \u001b[32m0.2647\u001b[0m       0.3542            0.3542        1.6853  0.0004  0.9336\n",
      "     49            0.9979        0.2703       0.4062            0.4062        1.6922  0.0003  1.1666\n",
      "     50            0.9979        \u001b[32m0.2447\u001b[0m       0.3646            0.3646        1.6834  0.0003  1.1492\n",
      "Fine tuning model for subject 6 with 100 trials\n"
     ]
    },
    {
     "name": "stderr",
     "output_type": "stream",
     "text": [
      "C:\\Users\\mengz\\anaconda3\\envs\\hyperBCI\\Lib\\site-packages\\braindecode\\models\\base.py:23: UserWarning: ShallowFBCSPNet: 'input_window_samples' is depreciated. Use 'n_times' instead.\n",
      "  warnings.warn(\n",
      "C:\\Users\\mengz\\anaconda3\\envs\\hyperBCI\\Lib\\site-packages\\braindecode\\models\\base.py:180: UserWarning: LogSoftmax final layer will be removed! Please adjust your loss function accordingly (e.g. CrossEntropyLoss)!\n",
      "  warnings.warn(\"LogSoftmax final layer will be removed! \" +\n"
     ]
    },
    {
     "name": "stdout",
     "output_type": "stream",
     "text": [
      "  epoch    train_accuracy    train_loss    valid_acc    valid_accuracy    valid_loss      lr     dur\n",
      "-------  ----------------  ------------  -----------  ----------------  ------------  ------  ------\n",
      "     31            0.4313        1.5276       0.3125            0.3125        1.6392  0.0004  1.0366\n",
      "     32            0.5458        1.3120       0.3229            0.3229        1.6009  0.0005  0.8350\n",
      "     33            0.6312        1.1139       0.3438            0.3438        1.5527  0.0005  0.8708\n",
      "     34            0.7104        1.0101       0.3542            0.3542        1.4497  0.0006  0.8534\n",
      "     35            0.7562        0.9132       0.4167            0.4167        1.4222  0.0006  0.8439\n",
      "     36            0.7958        0.8350       0.3750            0.3750        1.4712  0.0007  0.8291\n",
      "     37            \u001b[36m0.8542\u001b[0m        \u001b[32m0.7050\u001b[0m       0.4271            0.4271        1.4699  0.0007  0.8445\n",
      "     38            \u001b[36m0.8958\u001b[0m        \u001b[32m0.6437\u001b[0m       0.3750            0.3750        1.4456  0.0007  0.8608\n",
      "     39            \u001b[36m0.9208\u001b[0m        \u001b[32m0.6103\u001b[0m       0.4062            0.4062        1.4902  0.0007  0.8733\n",
      "     40            \u001b[36m0.9250\u001b[0m        \u001b[32m0.5586\u001b[0m       0.4062            0.4062        1.5179  0.0007  0.8613\n",
      "     41            \u001b[36m0.9417\u001b[0m        \u001b[32m0.5566\u001b[0m       0.4271            0.4271        1.5325  0.0007  0.9065\n",
      "     42            \u001b[36m0.9521\u001b[0m        \u001b[32m0.4727\u001b[0m       0.3854            0.3854        1.4924  0.0007  1.0174\n",
      "     43            0.9417        \u001b[32m0.4508\u001b[0m       0.3958            0.3958        1.5413  0.0006  0.9744\n",
      "     44            \u001b[36m0.9750\u001b[0m        \u001b[32m0.4233\u001b[0m       0.3958            0.3958        1.5665  0.0006  0.9684\n",
      "     45            \u001b[36m0.9771\u001b[0m        \u001b[32m0.3974\u001b[0m       0.4062            0.4062        1.5512  0.0005  0.8737\n",
      "     46            \u001b[36m0.9812\u001b[0m        \u001b[32m0.3698\u001b[0m       0.4271            0.4271        1.5934  0.0005  0.8725\n",
      "     47            0.9792        \u001b[32m0.3480\u001b[0m       0.4062            0.4062        1.6163  0.0004  0.8783\n",
      "     48            \u001b[36m0.9854\u001b[0m        \u001b[32m0.3415\u001b[0m       0.3958            0.3958        1.5894  0.0004  0.9213\n",
      "     49            0.9854        \u001b[32m0.3085\u001b[0m       0.4167            0.4167        1.5889  0.0003  0.8596\n",
      "     50            \u001b[36m0.9875\u001b[0m        0.3374       0.4375            0.4375        1.5832  0.0003  0.8595\n",
      "Fine tuning model for subject 6 with 120 trials\n"
     ]
    },
    {
     "name": "stderr",
     "output_type": "stream",
     "text": [
      "C:\\Users\\mengz\\anaconda3\\envs\\hyperBCI\\Lib\\site-packages\\braindecode\\models\\base.py:23: UserWarning: ShallowFBCSPNet: 'input_window_samples' is depreciated. Use 'n_times' instead.\n",
      "  warnings.warn(\n",
      "C:\\Users\\mengz\\anaconda3\\envs\\hyperBCI\\Lib\\site-packages\\braindecode\\models\\base.py:180: UserWarning: LogSoftmax final layer will be removed! Please adjust your loss function accordingly (e.g. CrossEntropyLoss)!\n",
      "  warnings.warn(\"LogSoftmax final layer will be removed! \" +\n"
     ]
    },
    {
     "name": "stdout",
     "output_type": "stream",
     "text": [
      "  epoch    train_accuracy    train_loss    valid_acc    valid_accuracy    valid_loss      lr     dur\n",
      "-------  ----------------  ------------  -----------  ----------------  ------------  ------  ------\n",
      "     31            0.4146        1.5915       0.3542            0.3542        1.6983  0.0004  0.8828\n",
      "     32            0.5396        1.3330       0.3333            0.3333        1.6213  0.0005  0.8912\n",
      "     33            0.6104        1.1453       0.3542            0.3542        1.5606  0.0005  0.9218\n",
      "     34            0.6771        0.9703       0.4062            0.4062        1.4913  0.0006  0.9988\n",
      "     35            0.7604        0.9131       0.3646            0.3646        1.4763  0.0006  1.0458\n",
      "     36            0.8042        0.8096       0.3646            0.3646        1.4504  0.0007  1.0932\n",
      "     37            \u001b[36m0.8333\u001b[0m        \u001b[32m0.6869\u001b[0m       0.3438            0.3438        1.4837  0.0007  0.9377\n",
      "     38            \u001b[36m0.8792\u001b[0m        0.6941       0.4062            0.4062        1.4644  0.0007  0.9526\n",
      "     39            \u001b[36m0.8854\u001b[0m        \u001b[32m0.6348\u001b[0m       0.4271            0.4271        1.4705  0.0007  0.8740\n",
      "     40            \u001b[36m0.9167\u001b[0m        \u001b[32m0.5802\u001b[0m       0.4271            0.4271        1.4377  0.0007  0.8767\n",
      "     41            0.9146        \u001b[32m0.5518\u001b[0m       0.3750            0.3750        1.5115  0.0007  0.9231\n",
      "     42            \u001b[36m0.9479\u001b[0m        \u001b[32m0.4899\u001b[0m       0.3958            0.3958        1.5230  0.0007  0.8767\n",
      "     43            \u001b[36m0.9542\u001b[0m        \u001b[32m0.4826\u001b[0m       0.3958            0.3958        1.5067  0.0006  0.9220\n",
      "     44            \u001b[36m0.9667\u001b[0m        \u001b[32m0.4174\u001b[0m       0.3646            0.3646        1.5556  0.0006  0.9232\n",
      "     45            \u001b[36m0.9750\u001b[0m        0.4255       0.4167            0.4167        1.5705  0.0005  0.8383\n",
      "     46            0.9708        \u001b[32m0.3917\u001b[0m       0.4167            0.4167        1.5452  0.0005  0.8941\n",
      "     47            \u001b[36m0.9875\u001b[0m        \u001b[32m0.3503\u001b[0m       0.3958            0.3958        1.5521  0.0004  0.9485\n",
      "     48            \u001b[36m0.9896\u001b[0m        \u001b[32m0.3466\u001b[0m       0.4062            0.4062        1.5450  0.0004  0.9453\n",
      "     49            0.9896        \u001b[32m0.3436\u001b[0m       0.4167            0.4167        1.5211  0.0003  1.1153\n",
      "     50            \u001b[36m0.9917\u001b[0m        \u001b[32m0.3114\u001b[0m       0.3854            0.3854        1.5324  0.0003  0.8599\n",
      "Fine tuning model for subject 6 with 140 trials\n"
     ]
    },
    {
     "name": "stderr",
     "output_type": "stream",
     "text": [
      "C:\\Users\\mengz\\anaconda3\\envs\\hyperBCI\\Lib\\site-packages\\braindecode\\models\\base.py:23: UserWarning: ShallowFBCSPNet: 'input_window_samples' is depreciated. Use 'n_times' instead.\n",
      "  warnings.warn(\n",
      "C:\\Users\\mengz\\anaconda3\\envs\\hyperBCI\\Lib\\site-packages\\braindecode\\models\\base.py:180: UserWarning: LogSoftmax final layer will be removed! Please adjust your loss function accordingly (e.g. CrossEntropyLoss)!\n",
      "  warnings.warn(\"LogSoftmax final layer will be removed! \" +\n"
     ]
    },
    {
     "name": "stdout",
     "output_type": "stream",
     "text": [
      "  epoch    train_accuracy    train_loss    valid_acc    valid_accuracy    valid_loss      lr     dur\n",
      "-------  ----------------  ------------  -----------  ----------------  ------------  ------  ------\n",
      "     31            0.4354        1.6633       0.3125            0.3125        1.6374  0.0004  0.8062\n",
      "     32            0.5125        1.3944       0.3229            0.3229        1.6282  0.0005  0.7768\n",
      "     33            0.5687        1.2213       0.3750            0.3750        1.5812  0.0005  0.8083\n",
      "     34            0.6792        1.0347       0.3854            0.3854        1.4837  0.0006  0.8042\n",
      "     35            0.7167        0.9215       0.3958            0.3958        1.4466  0.0006  0.7976\n",
      "     36            0.7792        0.8933       0.3750            0.3750        1.4778  0.0007  0.8013\n",
      "     37            0.8104        0.7539       0.4062            0.4062        1.5364  0.0007  0.8024\n",
      "     38            \u001b[36m0.8479\u001b[0m        0.7735       0.3958            0.3958        1.5362  0.0007  0.7812\n",
      "     39            0.8313        \u001b[32m0.6785\u001b[0m       0.4271            0.4271        1.5625  0.0007  0.8046\n",
      "     40            \u001b[36m0.9104\u001b[0m        \u001b[32m0.6327\u001b[0m       0.3750            0.3750        1.5068  0.0007  0.8266\n",
      "     41            \u001b[36m0.9208\u001b[0m        \u001b[32m0.6002\u001b[0m       0.3854            0.3854        1.5477  0.0007  0.8729\n",
      "     42            0.9125        \u001b[32m0.5417\u001b[0m       0.4271            0.4271        1.5855  0.0007  0.9008\n",
      "     43            \u001b[36m0.9354\u001b[0m        \u001b[32m0.4820\u001b[0m       0.4167            0.4167        1.5247  0.0006  0.9711\n",
      "     44            \u001b[36m0.9458\u001b[0m        \u001b[32m0.4660\u001b[0m       0.3854            0.3854        1.5606  0.0006  0.8862\n",
      "     45            \u001b[36m0.9542\u001b[0m        \u001b[32m0.4380\u001b[0m       0.3958            0.3958        1.5638  0.0005  0.8243\n",
      "     46            \u001b[36m0.9667\u001b[0m        \u001b[32m0.4299\u001b[0m       0.3542            0.3542        1.5335  0.0005  0.8850\n",
      "     47            \u001b[36m0.9688\u001b[0m        0.4361       0.3854            0.3854        1.5296  0.0004  0.7908\n",
      "     48            0.9646        \u001b[32m0.4185\u001b[0m       0.4167            0.4167        1.5478  0.0004  0.8225\n",
      "     49            \u001b[36m0.9750\u001b[0m        \u001b[32m0.3639\u001b[0m       0.4062            0.4062        1.5787  0.0003  0.8607\n",
      "     50            0.9750        \u001b[32m0.3386\u001b[0m       0.4375            0.4375        1.5917  0.0003  0.8582\n",
      "Fine tuning model for subject 6 with 160 trials\n"
     ]
    },
    {
     "name": "stderr",
     "output_type": "stream",
     "text": [
      "C:\\Users\\mengz\\anaconda3\\envs\\hyperBCI\\Lib\\site-packages\\braindecode\\models\\base.py:23: UserWarning: ShallowFBCSPNet: 'input_window_samples' is depreciated. Use 'n_times' instead.\n",
      "  warnings.warn(\n",
      "C:\\Users\\mengz\\anaconda3\\envs\\hyperBCI\\Lib\\site-packages\\braindecode\\models\\base.py:180: UserWarning: LogSoftmax final layer will be removed! Please adjust your loss function accordingly (e.g. CrossEntropyLoss)!\n",
      "  warnings.warn(\"LogSoftmax final layer will be removed! \" +\n"
     ]
    },
    {
     "name": "stdout",
     "output_type": "stream",
     "text": [
      "  epoch    train_accuracy    train_loss    valid_acc    valid_accuracy    valid_loss      lr     dur\n",
      "-------  ----------------  ------------  -----------  ----------------  ------------  ------  ------\n",
      "     31            0.4250        1.6577       0.3021            0.3021        1.6256  0.0004  0.8394\n",
      "     32            0.5229        1.4119       0.3229            0.3229        1.5544  0.0005  0.8456\n",
      "     33            0.6042        1.1890       0.3646            0.3646        1.5200  0.0005  0.7950\n",
      "     34            0.6646        1.0188       0.3854            0.3854        1.4748  0.0006  0.8802\n",
      "     35            0.7312        0.9572       0.4167            0.4167        1.4337  0.0006  0.9376\n",
      "     36            0.7708        0.8321       0.4062            0.4062        1.4876  0.0007  0.9712\n",
      "     37            0.7896        0.7943       0.3958            0.3958        1.5183  0.0007  0.8855\n",
      "     38            \u001b[36m0.8354\u001b[0m        0.7521       0.3750            0.3750        1.5516  0.0007  0.8594\n",
      "     39            \u001b[36m0.8500\u001b[0m        \u001b[32m0.6938\u001b[0m       0.3958            0.3958        1.5577  0.0007  0.8281\n",
      "     40            \u001b[36m0.8958\u001b[0m        \u001b[32m0.6252\u001b[0m       0.4062            0.4062        1.4966  0.0007  0.8124\n",
      "     41            \u001b[36m0.9208\u001b[0m        \u001b[32m0.5866\u001b[0m       0.4062            0.4062        1.4939  0.0007  0.7983\n",
      "     42            \u001b[36m0.9333\u001b[0m        \u001b[32m0.5494\u001b[0m       0.4167            0.4167        1.4921  0.0007  0.7878\n",
      "     43            \u001b[36m0.9354\u001b[0m        \u001b[32m0.5457\u001b[0m       0.3958            0.3958        1.5675  0.0006  0.8221\n",
      "     44            0.9333        \u001b[32m0.4929\u001b[0m       0.3958            0.3958        1.5418  0.0006  0.8344\n",
      "     45            \u001b[36m0.9375\u001b[0m        \u001b[32m0.4229\u001b[0m       0.3958            0.3958        1.5249  0.0005  0.7953\n",
      "     46            \u001b[36m0.9625\u001b[0m        0.4448       0.3854            0.3854        1.5232  0.0005  0.8443\n",
      "     47            \u001b[36m0.9688\u001b[0m        \u001b[32m0.4075\u001b[0m       0.4167            0.4167        1.5085  0.0004  0.8597\n",
      "     48            \u001b[36m0.9708\u001b[0m        \u001b[32m0.3950\u001b[0m       0.4167            0.4167        1.5189  0.0004  1.0626\n",
      "     49            0.9667        0.4176       0.4167            0.4167        1.5436  0.0003  0.9691\n",
      "     50            \u001b[36m0.9729\u001b[0m        \u001b[32m0.3509\u001b[0m       0.4271            0.4271        1.5413  0.0003  1.0002\n",
      "Fine tuning model for subject 6 with 180 trials\n"
     ]
    },
    {
     "name": "stderr",
     "output_type": "stream",
     "text": [
      "C:\\Users\\mengz\\anaconda3\\envs\\hyperBCI\\Lib\\site-packages\\braindecode\\models\\base.py:23: UserWarning: ShallowFBCSPNet: 'input_window_samples' is depreciated. Use 'n_times' instead.\n",
      "  warnings.warn(\n",
      "C:\\Users\\mengz\\anaconda3\\envs\\hyperBCI\\Lib\\site-packages\\braindecode\\models\\base.py:180: UserWarning: LogSoftmax final layer will be removed! Please adjust your loss function accordingly (e.g. CrossEntropyLoss)!\n",
      "  warnings.warn(\"LogSoftmax final layer will be removed! \" +\n"
     ]
    },
    {
     "name": "stdout",
     "output_type": "stream",
     "text": [
      "  epoch    train_accuracy    train_loss    valid_acc    valid_accuracy    valid_loss      lr     dur\n",
      "-------  ----------------  ------------  -----------  ----------------  ------------  ------  ------\n",
      "     31            0.4396        1.6415       0.3438            0.3438        1.5994  0.0004  0.8271\n",
      "     32            0.4875        1.3567       0.3333            0.3333        1.6385  0.0005  0.8334\n",
      "     33            0.5958        1.1900       0.3438            0.3438        1.5633  0.0005  0.7859\n",
      "     34            0.6708        1.0619       0.3958            0.3958        1.4666  0.0006  0.8441\n",
      "     35            0.7167        0.9503       0.3646            0.3646        1.4613  0.0006  0.8441\n",
      "     36            0.7646        0.8283       0.3750            0.3750        1.5145  0.0007  0.9075\n",
      "     37            0.8021        0.8056       0.3646            0.3646        1.5189  0.0007  0.8844\n",
      "     38            \u001b[36m0.8521\u001b[0m        0.7749       0.3958            0.3958        1.4708  0.0007  0.8284\n",
      "     39            \u001b[36m0.8854\u001b[0m        \u001b[32m0.6734\u001b[0m       0.3958            0.3958        1.5298  0.0007  0.8124\n",
      "     40            \u001b[36m0.8979\u001b[0m        \u001b[32m0.6150\u001b[0m       0.4062            0.4062        1.5566  0.0007  0.8271\n",
      "     41            \u001b[36m0.9396\u001b[0m        \u001b[32m0.5666\u001b[0m       0.3958            0.3958        1.4986  0.0007  0.9703\n",
      "     42            \u001b[36m0.9417\u001b[0m        \u001b[32m0.5490\u001b[0m       0.3958            0.3958        1.5267  0.0007  1.0330\n",
      "     43            \u001b[36m0.9479\u001b[0m        \u001b[32m0.5072\u001b[0m       0.4167            0.4167        1.5526  0.0006  1.0188\n",
      "     44            \u001b[36m0.9521\u001b[0m        \u001b[32m0.4545\u001b[0m       0.3958            0.3958        1.5798  0.0006  0.8096\n",
      "     45            \u001b[36m0.9563\u001b[0m        0.4639       0.3854            0.3854        1.5648  0.0005  0.8315\n",
      "     46            \u001b[36m0.9708\u001b[0m        \u001b[32m0.4284\u001b[0m       0.4167            0.4167        1.5099  0.0005  0.7920\n",
      "     47            \u001b[36m0.9792\u001b[0m        0.4392       0.4062            0.4062        1.5275  0.0004  0.8063\n",
      "     48            \u001b[36m0.9812\u001b[0m        \u001b[32m0.3757\u001b[0m       0.3958            0.3958        1.5442  0.0004  0.8288\n",
      "     49            0.9812        0.3797       0.3750            0.3750        1.5335  0.0003  0.8468\n",
      "     50            \u001b[36m0.9833\u001b[0m        \u001b[32m0.3585\u001b[0m       0.3854            0.3854        1.5439  0.0003  0.8273\n",
      "Fine tuning model for subject 6 with 200 trials\n"
     ]
    },
    {
     "name": "stderr",
     "output_type": "stream",
     "text": [
      "C:\\Users\\mengz\\anaconda3\\envs\\hyperBCI\\Lib\\site-packages\\braindecode\\models\\base.py:23: UserWarning: ShallowFBCSPNet: 'input_window_samples' is depreciated. Use 'n_times' instead.\n",
      "  warnings.warn(\n",
      "C:\\Users\\mengz\\anaconda3\\envs\\hyperBCI\\Lib\\site-packages\\braindecode\\models\\base.py:180: UserWarning: LogSoftmax final layer will be removed! Please adjust your loss function accordingly (e.g. CrossEntropyLoss)!\n",
      "  warnings.warn(\"LogSoftmax final layer will be removed! \" +\n"
     ]
    },
    {
     "name": "stdout",
     "output_type": "stream",
     "text": [
      "  epoch    train_accuracy    train_loss    valid_acc    valid_accuracy    valid_loss      lr     dur\n",
      "-------  ----------------  ------------  -----------  ----------------  ------------  ------  ------\n",
      "     31            0.4042        1.6675       0.3125            0.3125        1.6238  0.0004  0.8138\n",
      "     32            0.5271        1.3631       0.3438            0.3438        1.5975  0.0005  0.8130\n",
      "     33            0.6083        1.1346       0.4062            0.4062        1.4533  0.0005  0.8472\n",
      "     34            0.6750        1.0682       0.4271            0.4271        1.4581  0.0006  0.9682\n",
      "     35            0.7125        0.9114       0.3958            0.3958        1.4931  0.0006  0.9301\n",
      "     36            0.7604        0.8442       0.3542            0.3542        1.5015  0.0007  1.0220\n",
      "     37            0.7979        0.7489       0.3750            0.3750        1.5073  0.0007  0.9700\n",
      "     38            \u001b[36m0.8313\u001b[0m        \u001b[32m0.7186\u001b[0m       0.4271            0.4271        1.5033  0.0007  0.8833\n",
      "     39            \u001b[36m0.8854\u001b[0m        \u001b[32m0.7073\u001b[0m       0.4062            0.4062        1.4841  0.0007  0.7896\n",
      "     40            \u001b[36m0.9104\u001b[0m        \u001b[32m0.6463\u001b[0m       0.3854            0.3854        1.4658  0.0007  0.7889\n",
      "     41            0.9083        \u001b[32m0.5831\u001b[0m       0.4479            0.4479        1.4810  0.0007  0.8130\n",
      "     42            \u001b[36m0.9313\u001b[0m        \u001b[32m0.5353\u001b[0m       0.4479            0.4479        1.4876  0.0007  0.8713\n",
      "     43            \u001b[36m0.9542\u001b[0m        \u001b[32m0.5117\u001b[0m       0.3542            0.3542        1.4961  0.0006  0.7919\n",
      "     44            \u001b[36m0.9667\u001b[0m        \u001b[32m0.4824\u001b[0m       0.3750            0.3750        1.5119  0.0006  0.8634\n",
      "     45            \u001b[36m0.9771\u001b[0m        \u001b[32m0.4524\u001b[0m       0.3750            0.3750        1.5284  0.0005  0.7993\n",
      "     46            0.9729        0.4741       0.4167            0.4167        1.5445  0.0005  0.7743\n",
      "     47            0.9750        \u001b[32m0.4104\u001b[0m       0.3854            0.3854        1.5389  0.0004  0.9846\n",
      "     48            0.9771        \u001b[32m0.3835\u001b[0m       0.3854            0.3854        1.5194  0.0004  0.9891\n",
      "     49            \u001b[36m0.9792\u001b[0m        0.3847       0.3854            0.3854        1.5205  0.0003  0.9506\n",
      "     50            0.9792        0.3940       0.3958            0.3958        1.5225  0.0003  0.7939\n",
      "Fine tuning model for subject 6 with 220 trials\n"
     ]
    },
    {
     "name": "stderr",
     "output_type": "stream",
     "text": [
      "C:\\Users\\mengz\\anaconda3\\envs\\hyperBCI\\Lib\\site-packages\\braindecode\\models\\base.py:23: UserWarning: ShallowFBCSPNet: 'input_window_samples' is depreciated. Use 'n_times' instead.\n",
      "  warnings.warn(\n",
      "C:\\Users\\mengz\\anaconda3\\envs\\hyperBCI\\Lib\\site-packages\\braindecode\\models\\base.py:180: UserWarning: LogSoftmax final layer will be removed! Please adjust your loss function accordingly (e.g. CrossEntropyLoss)!\n",
      "  warnings.warn(\"LogSoftmax final layer will be removed! \" +\n"
     ]
    },
    {
     "name": "stdout",
     "output_type": "stream",
     "text": [
      "  epoch    train_accuracy    train_loss    valid_acc    valid_accuracy    valid_loss      lr     dur\n",
      "-------  ----------------  ------------  -----------  ----------------  ------------  ------  ------\n",
      "     31            0.4188        1.6585       0.3438            0.3438        1.5836  0.0004  0.8025\n",
      "     32            0.4979        1.4020       0.3333            0.3333        1.5499  0.0005  0.7651\n",
      "     33            0.5958        1.1835       0.3958            0.3958        1.4854  0.0005  0.8089\n",
      "     34            0.6750        1.0533       0.3854            0.3854        1.4231  0.0006  0.7959\n",
      "     35            0.7312        0.8990       0.3854            0.3854        1.4337  0.0006  0.7657\n",
      "     36            0.7604        0.8881       0.3854            0.3854        1.4708  0.0007  0.8539\n",
      "     37            0.8083        0.8014       0.4062            0.4062        1.4402  0.0007  0.7986\n",
      "     38            \u001b[36m0.8417\u001b[0m        \u001b[32m0.7292\u001b[0m       0.3854            0.3854        1.4698  0.0007  0.7649\n",
      "     39            \u001b[36m0.8542\u001b[0m        \u001b[32m0.6913\u001b[0m       0.3646            0.3646        1.4904  0.0007  0.8291\n",
      "     40            \u001b[36m0.8792\u001b[0m        \u001b[32m0.6232\u001b[0m       0.4271            0.4271        1.4845  0.0007  0.7734\n",
      "     41            \u001b[36m0.9146\u001b[0m        \u001b[32m0.6213\u001b[0m       0.4271            0.4271        1.4944  0.0007  0.9040\n",
      "     42            \u001b[36m0.9333\u001b[0m        \u001b[32m0.6015\u001b[0m       0.4062            0.4062        1.4905  0.0007  0.9212\n",
      "     43            0.9271        \u001b[32m0.5525\u001b[0m       0.4167            0.4167        1.5278  0.0006  0.9461\n",
      "     44            \u001b[36m0.9437\u001b[0m        \u001b[32m0.4729\u001b[0m       0.4062            0.4062        1.5231  0.0006  0.8910\n",
      "     45            \u001b[36m0.9625\u001b[0m        \u001b[32m0.4506\u001b[0m       0.3854            0.3854        1.5317  0.0005  0.8761\n",
      "     46            \u001b[36m0.9708\u001b[0m        0.4656       0.3958            0.3958        1.5283  0.0005  0.8117\n",
      "     47            0.9688        \u001b[32m0.4317\u001b[0m       0.4062            0.4062        1.5576  0.0004  0.7981\n",
      "     48            \u001b[36m0.9771\u001b[0m        \u001b[32m0.4049\u001b[0m       0.3958            0.3958        1.5323  0.0004  0.8052\n",
      "     49            \u001b[36m0.9854\u001b[0m        \u001b[32m0.3912\u001b[0m       0.3958            0.3958        1.5157  0.0003  0.7947\n",
      "     50            \u001b[36m0.9875\u001b[0m        \u001b[32m0.3507\u001b[0m       0.4062            0.4062        1.5253  0.0003  0.8017\n",
      "Fine tuning model for subject 6 with 240 trials\n"
     ]
    },
    {
     "name": "stderr",
     "output_type": "stream",
     "text": [
      "C:\\Users\\mengz\\anaconda3\\envs\\hyperBCI\\Lib\\site-packages\\braindecode\\models\\base.py:23: UserWarning: ShallowFBCSPNet: 'input_window_samples' is depreciated. Use 'n_times' instead.\n",
      "  warnings.warn(\n",
      "C:\\Users\\mengz\\anaconda3\\envs\\hyperBCI\\Lib\\site-packages\\braindecode\\models\\base.py:180: UserWarning: LogSoftmax final layer will be removed! Please adjust your loss function accordingly (e.g. CrossEntropyLoss)!\n",
      "  warnings.warn(\"LogSoftmax final layer will be removed! \" +\n"
     ]
    },
    {
     "name": "stdout",
     "output_type": "stream",
     "text": [
      "  epoch    train_accuracy    train_loss    valid_acc    valid_accuracy    valid_loss      lr     dur\n",
      "-------  ----------------  ------------  -----------  ----------------  ------------  ------  ------\n",
      "     31            0.4188        1.5986       0.3229            0.3229        1.6034  0.0004  0.8674\n",
      "     32            0.5167        1.3697       0.3438            0.3438        1.5906  0.0005  0.7953\n",
      "     33            0.5958        1.1386       0.3750            0.3750        1.5187  0.0005  0.7803\n",
      "     34            0.6500        1.0545       0.3854            0.3854        1.4498  0.0006  0.8269\n",
      "     35            0.7188        0.9292       0.4271            0.4271        1.4295  0.0006  0.9789\n",
      "     36            0.7646        0.8658       0.3958            0.3958        1.4506  0.0007  0.9096\n",
      "     37            0.8021        0.7681       0.3646            0.3646        1.4708  0.0007  0.9729\n",
      "     38            \u001b[36m0.8292\u001b[0m        0.7375       0.4167            0.4167        1.4920  0.0007  0.8173\n",
      "     39            \u001b[36m0.8708\u001b[0m        \u001b[32m0.7206\u001b[0m       0.4479            0.4479        1.4822  0.0007  0.7933\n",
      "     40            0.8521        \u001b[32m0.6162\u001b[0m       0.4375            0.4375        1.5180  0.0007  0.8038\n",
      "     41            \u001b[36m0.9208\u001b[0m        \u001b[32m0.6046\u001b[0m       0.4167            0.4167        1.5011  0.0007  0.7883\n",
      "     42            \u001b[36m0.9292\u001b[0m        \u001b[32m0.5521\u001b[0m       0.3750            0.3750        1.5343  0.0007  0.7922\n",
      "     43            0.9167        \u001b[32m0.5205\u001b[0m       0.3854            0.3854        1.5661  0.0006  0.7804\n",
      "     44            \u001b[36m0.9542\u001b[0m        \u001b[32m0.4645\u001b[0m       0.3646            0.3646        1.5180  0.0006  0.7788\n",
      "     45            0.9521        0.4765       0.3333            0.3333        1.5122  0.0005  0.9542\n",
      "     46            \u001b[36m0.9688\u001b[0m        \u001b[32m0.4280\u001b[0m       0.3542            0.3542        1.5151  0.0005  0.7969\n",
      "     47            \u001b[36m0.9771\u001b[0m        \u001b[32m0.4149\u001b[0m       0.4167            0.4167        1.5177  0.0004  0.8589\n",
      "     48            \u001b[36m0.9812\u001b[0m        0.4165       0.4062            0.4062        1.5318  0.0004  1.2377\n",
      "     49            0.9708        \u001b[32m0.3810\u001b[0m       0.4062            0.4062        1.5566  0.0003  1.1548\n",
      "     50            0.9729        \u001b[32m0.3714\u001b[0m       0.4062            0.4062        1.5575  0.0003  1.0932\n",
      "Fine tuning model for subject 6 with 260 trials\n"
     ]
    },
    {
     "name": "stderr",
     "output_type": "stream",
     "text": [
      "C:\\Users\\mengz\\anaconda3\\envs\\hyperBCI\\Lib\\site-packages\\braindecode\\models\\base.py:23: UserWarning: ShallowFBCSPNet: 'input_window_samples' is depreciated. Use 'n_times' instead.\n",
      "  warnings.warn(\n",
      "C:\\Users\\mengz\\anaconda3\\envs\\hyperBCI\\Lib\\site-packages\\braindecode\\models\\base.py:180: UserWarning: LogSoftmax final layer will be removed! Please adjust your loss function accordingly (e.g. CrossEntropyLoss)!\n",
      "  warnings.warn(\"LogSoftmax final layer will be removed! \" +\n"
     ]
    },
    {
     "name": "stdout",
     "output_type": "stream",
     "text": [
      "  epoch    train_accuracy    train_loss    valid_acc    valid_accuracy    valid_loss      lr     dur\n",
      "-------  ----------------  ------------  -----------  ----------------  ------------  ------  ------\n",
      "     31            0.4250        1.6192       0.3125            0.3125        1.6402  0.0004  0.8024\n",
      "     32            0.5396        1.3813       0.3229            0.3229        1.6004  0.0005  0.8078\n",
      "     33            0.6333        1.1959       0.3125            0.3125        1.5359  0.0005  0.8170\n",
      "     34            0.6333        0.9788       0.3438            0.3438        1.5216  0.0006  0.8189\n",
      "     35            0.7125        0.9673       0.3958            0.3958        1.4493  0.0006  0.8256\n",
      "     36            0.7917        0.8597       0.3958            0.3958        1.4425  0.0007  0.8022\n",
      "     37            \u001b[36m0.8313\u001b[0m        0.7603       0.4375            0.4375        1.4537  0.0007  0.8094\n",
      "     38            0.8083        \u001b[32m0.6934\u001b[0m       0.4375            0.4375        1.4986  0.0007  0.8116\n",
      "     39            \u001b[36m0.8917\u001b[0m        \u001b[32m0.6663\u001b[0m       0.4167            0.4167        1.4823  0.0007  0.7974\n",
      "     40            \u001b[36m0.9062\u001b[0m        \u001b[32m0.6488\u001b[0m       0.3542            0.3542        1.5355  0.0007  0.7967\n",
      "     41            \u001b[36m0.9292\u001b[0m        \u001b[32m0.5986\u001b[0m       0.3646            0.3646        1.5710  0.0007  0.9048\n",
      "     42            \u001b[36m0.9313\u001b[0m        \u001b[32m0.5526\u001b[0m       0.3542            0.3542        1.5617  0.0007  0.9219\n",
      "     43            \u001b[36m0.9521\u001b[0m        \u001b[32m0.4961\u001b[0m       0.3958            0.3958        1.5705  0.0006  0.9374\n",
      "     44            \u001b[36m0.9563\u001b[0m        \u001b[32m0.4838\u001b[0m       0.3854            0.3854        1.5759  0.0006  0.9223\n",
      "     45            \u001b[36m0.9583\u001b[0m        \u001b[32m0.4352\u001b[0m       0.3958            0.3958        1.5845  0.0005  0.8444\n",
      "     46            \u001b[36m0.9604\u001b[0m        0.4515       0.4062            0.4062        1.6114  0.0005  0.7932\n",
      "     47            \u001b[36m0.9708\u001b[0m        0.4457       0.4167            0.4167        1.5818  0.0004  0.9213\n",
      "     48            \u001b[36m0.9729\u001b[0m        \u001b[32m0.3792\u001b[0m       0.3958            0.3958        1.5809  0.0004  0.9750\n",
      "     49            \u001b[36m0.9812\u001b[0m        \u001b[32m0.3545\u001b[0m       0.3958            0.3958        1.5928  0.0003  0.8130\n",
      "     50            0.9792        \u001b[32m0.3534\u001b[0m       0.3854            0.3854        1.6040  0.0003  0.8229\n",
      "Fine tuning model for subject 6 with 280 trials\n"
     ]
    },
    {
     "name": "stderr",
     "output_type": "stream",
     "text": [
      "C:\\Users\\mengz\\anaconda3\\envs\\hyperBCI\\Lib\\site-packages\\braindecode\\models\\base.py:23: UserWarning: ShallowFBCSPNet: 'input_window_samples' is depreciated. Use 'n_times' instead.\n",
      "  warnings.warn(\n",
      "C:\\Users\\mengz\\anaconda3\\envs\\hyperBCI\\Lib\\site-packages\\braindecode\\models\\base.py:180: UserWarning: LogSoftmax final layer will be removed! Please adjust your loss function accordingly (e.g. CrossEntropyLoss)!\n",
      "  warnings.warn(\"LogSoftmax final layer will be removed! \" +\n"
     ]
    },
    {
     "name": "stdout",
     "output_type": "stream",
     "text": [
      "  epoch    train_accuracy    train_loss    valid_acc    valid_accuracy    valid_loss      lr     dur\n",
      "-------  ----------------  ------------  -----------  ----------------  ------------  ------  ------\n",
      "     31            0.4125        1.6749       0.3333            0.3333        1.6323  0.0004  0.7976\n",
      "     32            0.5250        1.4048       0.3229            0.3229        1.6145  0.0005  0.8282\n",
      "     33            0.6000        1.2121       0.3646            0.3646        1.5453  0.0005  0.8181\n",
      "     34            0.6896        1.0458       0.3958            0.3958        1.4665  0.0006  0.8515\n",
      "     35            0.7438        0.9274       0.4062            0.4062        1.4425  0.0006  0.9789\n",
      "     36            0.7833        0.8996       0.4479            0.4479        1.4458  0.0007  0.9472\n",
      "     37            \u001b[36m0.8313\u001b[0m        0.7892       0.4167            0.4167        1.4260  0.0007  0.9344\n",
      "     38            \u001b[36m0.8542\u001b[0m        \u001b[32m0.6784\u001b[0m       0.3958            0.3958        1.4409  0.0007  0.7850\n",
      "     39            \u001b[36m0.8792\u001b[0m        0.7133       0.4167            0.4167        1.4823  0.0007  0.8051\n",
      "     40            \u001b[36m0.8917\u001b[0m        \u001b[32m0.6043\u001b[0m       0.3958            0.3958        1.5022  0.0007  0.8271\n",
      "     41            \u001b[36m0.9146\u001b[0m        \u001b[32m0.5850\u001b[0m       0.3958            0.3958        1.4940  0.0007  0.8037\n",
      "     42            \u001b[36m0.9208\u001b[0m        \u001b[32m0.5228\u001b[0m       0.4062            0.4062        1.5440  0.0007  0.8218\n",
      "     43            \u001b[36m0.9333\u001b[0m        \u001b[32m0.5045\u001b[0m       0.4271            0.4271        1.5619  0.0006  0.8164\n",
      "     44            \u001b[36m0.9500\u001b[0m        \u001b[32m0.4715\u001b[0m       0.3438            0.3438        1.5402  0.0006  0.8166\n",
      "     45            \u001b[36m0.9667\u001b[0m        \u001b[32m0.4542\u001b[0m       0.3438            0.3438        1.5100  0.0005  0.7877\n",
      "     46            0.9625        0.4623       0.4062            0.4062        1.5308  0.0005  0.8030\n",
      "     47            \u001b[36m0.9708\u001b[0m        \u001b[32m0.4163\u001b[0m       0.3854            0.3854        1.5268  0.0004  0.7898\n",
      "     48            \u001b[36m0.9729\u001b[0m        \u001b[32m0.3854\u001b[0m       0.4375            0.4375        1.5342  0.0004  0.8937\n",
      "     49            \u001b[36m0.9812\u001b[0m        \u001b[32m0.3692\u001b[0m       0.3854            0.3854        1.5408  0.0003  1.0058\n",
      "     50            0.9792        \u001b[32m0.3682\u001b[0m       0.3854            0.3854        1.5495  0.0003  0.9724\n",
      "Fine tuning model for subject 6 with 300 trials\n"
     ]
    },
    {
     "name": "stderr",
     "output_type": "stream",
     "text": [
      "C:\\Users\\mengz\\anaconda3\\envs\\hyperBCI\\Lib\\site-packages\\braindecode\\models\\base.py:23: UserWarning: ShallowFBCSPNet: 'input_window_samples' is depreciated. Use 'n_times' instead.\n",
      "  warnings.warn(\n",
      "C:\\Users\\mengz\\anaconda3\\envs\\hyperBCI\\Lib\\site-packages\\braindecode\\models\\base.py:180: UserWarning: LogSoftmax final layer will be removed! Please adjust your loss function accordingly (e.g. CrossEntropyLoss)!\n",
      "  warnings.warn(\"LogSoftmax final layer will be removed! \" +\n"
     ]
    },
    {
     "name": "stdout",
     "output_type": "stream",
     "text": [
      "  epoch    train_accuracy    train_loss    valid_acc    valid_accuracy    valid_loss      lr     dur\n",
      "-------  ----------------  ------------  -----------  ----------------  ------------  ------  ------\n",
      "     31            0.3896        1.6306       0.3646            0.3646        1.5918  0.0004  0.7747\n",
      "     32            0.5104        1.4355       0.3646            0.3646        1.5690  0.0005  0.7961\n",
      "     33            0.6083        1.1406       0.3229            0.3229        1.4863  0.0005  0.8039\n",
      "     34            0.6771        1.0318       0.4167            0.4167        1.4447  0.0006  0.8001\n",
      "     35            0.7229        0.9817       0.4167            0.4167        1.4046  0.0006  0.7818\n",
      "     36            0.7438        0.8425       0.4062            0.4062        1.4070  0.0007  0.8234\n",
      "     37            0.7771        0.8071       0.3854            0.3854        1.4663  0.0007  0.7629\n",
      "     38            \u001b[36m0.8396\u001b[0m        0.7374       0.3854            0.3854        1.4612  0.0007  0.7984\n",
      "     39            \u001b[36m0.8667\u001b[0m        \u001b[32m0.6820\u001b[0m       0.3854            0.3854        1.4609  0.0007  0.7920\n",
      "     40            \u001b[36m0.9125\u001b[0m        \u001b[32m0.6587\u001b[0m       0.3958            0.3958        1.4430  0.0007  0.7779\n",
      "     41            0.8896        \u001b[32m0.5757\u001b[0m       0.3542            0.3542        1.4799  0.0007  0.7901\n",
      "     42            \u001b[36m0.9292\u001b[0m        \u001b[32m0.5461\u001b[0m       0.4062            0.4062        1.4657  0.0007  0.9549\n",
      "     43            \u001b[36m0.9479\u001b[0m        \u001b[32m0.5081\u001b[0m       0.3750            0.3750        1.4374  0.0006  0.8782\n",
      "     44            \u001b[36m0.9542\u001b[0m        \u001b[32m0.4680\u001b[0m       0.4167            0.4167        1.4789  0.0006  0.9796\n",
      "     45            \u001b[36m0.9646\u001b[0m        0.5088       0.3854            0.3854        1.5155  0.0005  0.8084\n",
      "     46            \u001b[36m0.9688\u001b[0m        \u001b[32m0.4232\u001b[0m       0.4062            0.4062        1.5546  0.0005  0.7636\n",
      "     47            \u001b[36m0.9729\u001b[0m        0.4285       0.4062            0.4062        1.5440  0.0004  0.7645\n",
      "     48            \u001b[36m0.9812\u001b[0m        \u001b[32m0.4069\u001b[0m       0.4062            0.4062        1.5461  0.0004  0.7940\n",
      "     49            \u001b[36m0.9854\u001b[0m        \u001b[32m0.3677\u001b[0m       0.4167            0.4167        1.5392  0.0003  0.8345\n",
      "     50            0.9812        \u001b[32m0.3439\u001b[0m       0.4062            0.4062        1.5259  0.0003  0.7664\n",
      "Fine tuning model for subject 6 with 320 trials\n"
     ]
    },
    {
     "name": "stderr",
     "output_type": "stream",
     "text": [
      "C:\\Users\\mengz\\anaconda3\\envs\\hyperBCI\\Lib\\site-packages\\braindecode\\models\\base.py:23: UserWarning: ShallowFBCSPNet: 'input_window_samples' is depreciated. Use 'n_times' instead.\n",
      "  warnings.warn(\n",
      "C:\\Users\\mengz\\anaconda3\\envs\\hyperBCI\\Lib\\site-packages\\braindecode\\models\\base.py:180: UserWarning: LogSoftmax final layer will be removed! Please adjust your loss function accordingly (e.g. CrossEntropyLoss)!\n",
      "  warnings.warn(\"LogSoftmax final layer will be removed! \" +\n"
     ]
    },
    {
     "name": "stdout",
     "output_type": "stream",
     "text": [
      "  epoch    train_accuracy    train_loss    valid_acc    valid_accuracy    valid_loss      lr     dur\n",
      "-------  ----------------  ------------  -----------  ----------------  ------------  ------  ------\n",
      "     31            0.4042        1.6377       0.3229            0.3229        1.6240  0.0004  0.7638\n",
      "     32            0.5417        1.3883       0.3229            0.3229        1.5690  0.0005  0.7638\n",
      "     33            0.5938        1.1265       0.3854            0.3854        1.5168  0.0005  0.7764\n",
      "     34            0.6500        1.0599       0.3646            0.3646        1.5132  0.0006  0.7702\n",
      "     35            0.7104        0.9261       0.3958            0.3958        1.5137  0.0006  0.7594\n",
      "     36            0.7708        0.8636       0.3958            0.3958        1.5039  0.0007  0.9225\n",
      "     37            0.7958        0.7876       0.3646            0.3646        1.5620  0.0007  0.9044\n",
      "     38            0.8083        0.7670       0.3958            0.3958        1.6046  0.0007  0.9364\n",
      "     39            0.7688        \u001b[32m0.6879\u001b[0m       0.4479            0.4479        1.5905  0.0007  0.7905\n",
      "     40            \u001b[36m0.8833\u001b[0m        \u001b[32m0.6463\u001b[0m       0.4375            0.4375        1.4768  0.0007  0.7952\n",
      "     41            \u001b[36m0.9250\u001b[0m        \u001b[32m0.5911\u001b[0m       0.4167            0.4167        1.5214  0.0007  0.8159\n",
      "     42            \u001b[36m0.9292\u001b[0m        \u001b[32m0.5527\u001b[0m       0.3854            0.3854        1.5561  0.0007  0.8089\n",
      "     43            \u001b[36m0.9354\u001b[0m        \u001b[32m0.5274\u001b[0m       0.3958            0.3958        1.5705  0.0006  0.8196\n",
      "     44            \u001b[36m0.9500\u001b[0m        \u001b[32m0.5251\u001b[0m       0.3958            0.3958        1.5332  0.0006  0.8564\n",
      "     45            \u001b[36m0.9667\u001b[0m        \u001b[32m0.4813\u001b[0m       0.4167            0.4167        1.5757  0.0005  0.8308\n",
      "     46            0.9646        \u001b[32m0.4653\u001b[0m       0.4167            0.4167        1.5911  0.0005  0.8214\n",
      "     47            0.9625        \u001b[32m0.3945\u001b[0m       0.3854            0.3854        1.5588  0.0004  0.8812\n",
      "     48            \u001b[36m0.9688\u001b[0m        0.4004       0.3958            0.3958        1.5541  0.0004  0.8392\n",
      "     49            \u001b[36m0.9750\u001b[0m        \u001b[32m0.3782\u001b[0m       0.3958            0.3958        1.5489  0.0003  0.8790\n",
      "     50            \u001b[36m0.9833\u001b[0m        \u001b[32m0.3461\u001b[0m       0.4062            0.4062        1.5436  0.0003  0.9838\n",
      "Fine tuning model for subject 6 with 340 trials\n"
     ]
    },
    {
     "name": "stderr",
     "output_type": "stream",
     "text": [
      "C:\\Users\\mengz\\anaconda3\\envs\\hyperBCI\\Lib\\site-packages\\braindecode\\models\\base.py:23: UserWarning: ShallowFBCSPNet: 'input_window_samples' is depreciated. Use 'n_times' instead.\n",
      "  warnings.warn(\n",
      "C:\\Users\\mengz\\anaconda3\\envs\\hyperBCI\\Lib\\site-packages\\braindecode\\models\\base.py:180: UserWarning: LogSoftmax final layer will be removed! Please adjust your loss function accordingly (e.g. CrossEntropyLoss)!\n",
      "  warnings.warn(\"LogSoftmax final layer will be removed! \" +\n"
     ]
    },
    {
     "name": "stdout",
     "output_type": "stream",
     "text": [
      "  epoch    train_accuracy    train_loss    valid_acc    valid_accuracy    valid_loss      lr     dur\n",
      "-------  ----------------  ------------  -----------  ----------------  ------------  ------  ------\n",
      "     31            0.4083        1.6080       0.3438            0.3438        1.5928  0.0004  1.0347\n",
      "     32            0.4938        1.3365       0.2917            0.2917        1.5980  0.0005  0.8135\n",
      "     33            0.6083        1.2052       0.3542            0.3542        1.4948  0.0005  0.8606\n",
      "     34            0.6771        1.0346       0.4167            0.4167        1.4642  0.0006  0.8174\n",
      "     35            0.7354        0.9261       0.3750            0.3750        1.4426  0.0006  0.8427\n",
      "     36            0.8021        0.8756       0.3646            0.3646        1.4412  0.0007  0.8905\n",
      "     37            \u001b[36m0.8167\u001b[0m        0.7866       0.4062            0.4062        1.4577  0.0007  0.8373\n",
      "     38            \u001b[36m0.8396\u001b[0m        \u001b[32m0.7159\u001b[0m       0.4479            0.4479        1.4896  0.0007  0.7892\n",
      "     39            \u001b[36m0.8583\u001b[0m        \u001b[32m0.6943\u001b[0m       0.3750            0.3750        1.5075  0.0007  0.9481\n",
      "     40            \u001b[36m0.8771\u001b[0m        \u001b[32m0.6343\u001b[0m       0.3542            0.3542        1.4861  0.0007  0.8540\n",
      "     41            \u001b[36m0.9083\u001b[0m        \u001b[32m0.5709\u001b[0m       0.3646            0.3646        1.4736  0.0007  0.8844\n",
      "     42            \u001b[36m0.9437\u001b[0m        0.5733       0.3958            0.3958        1.4900  0.0007  0.9078\n",
      "     43            0.9375        \u001b[32m0.5424\u001b[0m       0.4167            0.4167        1.4699  0.0006  0.9473\n",
      "     44            0.9396        \u001b[32m0.4880\u001b[0m       0.3646            0.3646        1.5149  0.0006  0.9125\n",
      "     45            \u001b[36m0.9563\u001b[0m        \u001b[32m0.4368\u001b[0m       0.3750            0.3750        1.5273  0.0005  0.9271\n",
      "     46            \u001b[36m0.9708\u001b[0m        0.4436       0.3750            0.3750        1.5313  0.0005  0.7899\n",
      "     47            \u001b[36m0.9729\u001b[0m        \u001b[32m0.3985\u001b[0m       0.3438            0.3438        1.5334  0.0004  0.8132\n",
      "     48            0.9729        \u001b[32m0.3832\u001b[0m       0.3438            0.3438        1.5411  0.0004  0.7933\n",
      "     49            \u001b[36m0.9792\u001b[0m        \u001b[32m0.3741\u001b[0m       0.3750            0.3750        1.5614  0.0003  0.7680\n",
      "     50            \u001b[36m0.9896\u001b[0m        \u001b[32m0.3584\u001b[0m       0.3646            0.3646        1.5749  0.0003  0.8442\n",
      "Fine tuning model for subject 6 with 360 trials\n"
     ]
    },
    {
     "name": "stderr",
     "output_type": "stream",
     "text": [
      "C:\\Users\\mengz\\anaconda3\\envs\\hyperBCI\\Lib\\site-packages\\braindecode\\models\\base.py:23: UserWarning: ShallowFBCSPNet: 'input_window_samples' is depreciated. Use 'n_times' instead.\n",
      "  warnings.warn(\n",
      "C:\\Users\\mengz\\anaconda3\\envs\\hyperBCI\\Lib\\site-packages\\braindecode\\models\\base.py:180: UserWarning: LogSoftmax final layer will be removed! Please adjust your loss function accordingly (e.g. CrossEntropyLoss)!\n",
      "  warnings.warn(\"LogSoftmax final layer will be removed! \" +\n"
     ]
    },
    {
     "name": "stdout",
     "output_type": "stream",
     "text": [
      "  epoch    train_accuracy    train_loss    valid_acc    valid_accuracy    valid_loss      lr     dur\n",
      "-------  ----------------  ------------  -----------  ----------------  ------------  ------  ------\n",
      "     31            0.4167        1.6554       0.3125            0.3125        1.6678  0.0004  0.8289\n",
      "     32            0.5208        1.3538       0.3333            0.3333        1.6125  0.0005  0.8324\n",
      "     33            0.6042        1.1509       0.3542            0.3542        1.5525  0.0005  0.7841\n",
      "     34            0.6604        1.0030       0.3750            0.3750        1.4636  0.0006  0.7867\n",
      "     35            0.7312        0.9413       0.4062            0.4062        1.4352  0.0006  0.8018\n",
      "     36            0.7708        0.8300       0.4167            0.4167        1.4319  0.0007  0.9609\n",
      "     37            \u001b[36m0.8125\u001b[0m        0.8375       0.4167            0.4167        1.4733  0.0007  0.8862\n",
      "     38            \u001b[36m0.8354\u001b[0m        0.7314       0.3958            0.3958        1.4838  0.0007  0.9636\n",
      "     39            \u001b[36m0.8646\u001b[0m        \u001b[32m0.7153\u001b[0m       0.3854            0.3854        1.5422  0.0007  0.8913\n",
      "     40            0.8542        \u001b[32m0.6538\u001b[0m       0.4167            0.4167        1.6210  0.0007  0.8599\n",
      "     41            \u001b[36m0.9000\u001b[0m        \u001b[32m0.6043\u001b[0m       0.3958            0.3958        1.5886  0.0007  0.9771\n",
      "     42            \u001b[36m0.9271\u001b[0m        \u001b[32m0.5090\u001b[0m       0.3854            0.3854        1.5805  0.0007  0.7886\n",
      "     43            \u001b[36m0.9500\u001b[0m        0.5141       0.3958            0.3958        1.5648  0.0006  0.8429\n",
      "     44            \u001b[36m0.9542\u001b[0m        \u001b[32m0.4917\u001b[0m       0.3750            0.3750        1.5656  0.0006  0.8669\n",
      "     45            \u001b[36m0.9667\u001b[0m        \u001b[32m0.4691\u001b[0m       0.4167            0.4167        1.5762  0.0005  0.7825\n",
      "     46            \u001b[36m0.9750\u001b[0m        \u001b[32m0.4494\u001b[0m       0.3750            0.3750        1.5748  0.0005  0.8683\n",
      "     47            0.9583        \u001b[32m0.4109\u001b[0m       0.3750            0.3750        1.5963  0.0004  0.9829\n",
      "     48            0.9750        \u001b[32m0.3873\u001b[0m       0.3854            0.3854        1.6010  0.0004  0.8281\n",
      "     49            0.9729        \u001b[32m0.3716\u001b[0m       0.3958            0.3958        1.6008  0.0003  0.9062\n",
      "     50            0.9750        \u001b[32m0.3602\u001b[0m       0.3854            0.3854        1.6147  0.0003  1.0000\n",
      "Fine tuning model for subject 6 with 380 trials\n"
     ]
    },
    {
     "name": "stderr",
     "output_type": "stream",
     "text": [
      "C:\\Users\\mengz\\anaconda3\\envs\\hyperBCI\\Lib\\site-packages\\braindecode\\models\\base.py:23: UserWarning: ShallowFBCSPNet: 'input_window_samples' is depreciated. Use 'n_times' instead.\n",
      "  warnings.warn(\n",
      "C:\\Users\\mengz\\anaconda3\\envs\\hyperBCI\\Lib\\site-packages\\braindecode\\models\\base.py:180: UserWarning: LogSoftmax final layer will be removed! Please adjust your loss function accordingly (e.g. CrossEntropyLoss)!\n",
      "  warnings.warn(\"LogSoftmax final layer will be removed! \" +\n"
     ]
    },
    {
     "name": "stdout",
     "output_type": "stream",
     "text": [
      "  epoch    train_accuracy    train_loss    valid_acc    valid_accuracy    valid_loss      lr     dur\n",
      "-------  ----------------  ------------  -----------  ----------------  ------------  ------  ------\n",
      "     31            0.4146        1.6866       0.3646            0.3646        1.6126  0.0004  1.1094\n",
      "     32            0.5083        1.3313       0.3438            0.3438        1.6245  0.0005  0.8125\n",
      "     33            0.6062        1.1287       0.3958            0.3958        1.5138  0.0005  0.8437\n",
      "     34            0.6521        1.0287       0.4167            0.4167        1.5281  0.0006  0.8750\n",
      "     35            0.6958        0.9109       0.4062            0.4062        1.5222  0.0006  0.8750\n",
      "     36            0.7458        0.8599       0.4062            0.4062        1.4935  0.0007  0.8282\n",
      "     37            0.8104        0.7773       0.4167            0.4167        1.4808  0.0007  0.8438\n",
      "     38            \u001b[36m0.8688\u001b[0m        0.7528       0.4375            0.4375        1.4573  0.0007  0.8438\n",
      "     39            0.8688        \u001b[32m0.6911\u001b[0m       0.4167            0.4167        1.5274  0.0007  0.8281\n",
      "     40            \u001b[36m0.8958\u001b[0m        \u001b[32m0.6375\u001b[0m       0.4062            0.4062        1.4878  0.0007  0.8437\n",
      "     41            \u001b[36m0.9167\u001b[0m        \u001b[32m0.6098\u001b[0m       0.3958            0.3958        1.4813  0.0007  0.8906\n",
      "     42            \u001b[36m0.9187\u001b[0m        \u001b[32m0.5716\u001b[0m       0.4271            0.4271        1.4826  0.0007  0.9531\n",
      "     43            \u001b[36m0.9292\u001b[0m        \u001b[32m0.4647\u001b[0m       0.4167            0.4167        1.4852  0.0006  0.9375\n",
      "     44            \u001b[36m0.9458\u001b[0m        \u001b[32m0.4581\u001b[0m       0.3854            0.3854        1.4948  0.0006  1.1094\n",
      "     45            \u001b[36m0.9542\u001b[0m        0.4960       0.4062            0.4062        1.5107  0.0005  0.8906\n",
      "     46            \u001b[36m0.9625\u001b[0m        \u001b[32m0.4261\u001b[0m       0.3958            0.3958        1.5254  0.0005  0.8906\n",
      "     47            \u001b[36m0.9729\u001b[0m        \u001b[32m0.4150\u001b[0m       0.4062            0.4062        1.5212  0.0004  0.9375\n",
      "     48            \u001b[36m0.9771\u001b[0m        \u001b[32m0.3882\u001b[0m       0.4167            0.4167        1.5199  0.0004  0.8750\n",
      "     49            \u001b[36m0.9812\u001b[0m        \u001b[32m0.3529\u001b[0m       0.3958            0.3958        1.5356  0.0003  0.9219\n",
      "     50            \u001b[36m0.9833\u001b[0m        0.3735       0.3854            0.3854        1.5391  0.0003  0.8437\n",
      "Fine tuning model for subject 6 with 400 trials\n"
     ]
    },
    {
     "name": "stderr",
     "output_type": "stream",
     "text": [
      "C:\\Users\\mengz\\anaconda3\\envs\\hyperBCI\\Lib\\site-packages\\braindecode\\models\\base.py:23: UserWarning: ShallowFBCSPNet: 'input_window_samples' is depreciated. Use 'n_times' instead.\n",
      "  warnings.warn(\n",
      "C:\\Users\\mengz\\anaconda3\\envs\\hyperBCI\\Lib\\site-packages\\braindecode\\models\\base.py:180: UserWarning: LogSoftmax final layer will be removed! Please adjust your loss function accordingly (e.g. CrossEntropyLoss)!\n",
      "  warnings.warn(\"LogSoftmax final layer will be removed! \" +\n"
     ]
    },
    {
     "name": "stdout",
     "output_type": "stream",
     "text": [
      "  epoch    train_accuracy    train_loss    valid_acc    valid_accuracy    valid_loss      lr     dur\n",
      "-------  ----------------  ------------  -----------  ----------------  ------------  ------  ------\n",
      "     31            0.4250        1.6754       0.3229            0.3229        1.6275  0.0004  0.8281\n",
      "     32            0.5167        1.3324       0.3542            0.3542        1.5671  0.0005  0.8281\n",
      "     33            0.5958        1.1969       0.3542            0.3542        1.4990  0.0005  0.8281\n",
      "     34            0.6438        1.0386       0.3750            0.3750        1.4434  0.0006  0.9380\n",
      "     35            0.7375        0.9365       0.4375            0.4375        1.3930  0.0006  0.9531\n",
      "     36            0.7875        0.8548       0.4271            0.4271        1.4090  0.0007  0.9844\n",
      "     37            \u001b[36m0.8187\u001b[0m        0.7752       0.4479            0.4479        1.4365  0.0007  1.0469\n",
      "     38            \u001b[36m0.8646\u001b[0m        \u001b[32m0.6763\u001b[0m       0.4062            0.4062        1.4549  0.0007  0.9555\n",
      "     39            \u001b[36m0.8688\u001b[0m        0.7056       0.4062            0.4062        1.4833  0.0007  0.8932\n",
      "     40            \u001b[36m0.8979\u001b[0m        \u001b[32m0.5912\u001b[0m       0.4062            0.4062        1.4924  0.0007  0.9131\n",
      "     41            0.8958        0.6071       0.3958            0.3958        1.5326  0.0007  0.8786\n",
      "     42            \u001b[36m0.9354\u001b[0m        \u001b[32m0.5737\u001b[0m       0.3958            0.3958        1.5289  0.0007  0.9270\n",
      "     43            \u001b[36m0.9542\u001b[0m        \u001b[32m0.5042\u001b[0m       0.4167            0.4167        1.4865  0.0006  0.9329\n",
      "     44            \u001b[36m0.9646\u001b[0m        \u001b[32m0.4668\u001b[0m       0.4271            0.4271        1.4875  0.0006  0.9078\n",
      "     45            0.9604        \u001b[32m0.4372\u001b[0m       0.4062            0.4062        1.4781  0.0005  0.8594\n",
      "     46            \u001b[36m0.9729\u001b[0m        0.4465       0.4062            0.4062        1.5015  0.0005  0.7974\n",
      "     47            \u001b[36m0.9771\u001b[0m        \u001b[32m0.4108\u001b[0m       0.4167            0.4167        1.5363  0.0004  0.9374\n",
      "     48            \u001b[36m0.9833\u001b[0m        0.4174       0.4167            0.4167        1.5568  0.0004  1.0713\n",
      "     49            0.9833        \u001b[32m0.3597\u001b[0m       0.4167            0.4167        1.5690  0.0003  1.1333\n",
      "     50            \u001b[36m0.9896\u001b[0m        \u001b[32m0.3548\u001b[0m       0.4062            0.4062        1.5650  0.0003  0.9456\n",
      "Fine tuning model for subject 6 with 420 trials\n"
     ]
    },
    {
     "name": "stderr",
     "output_type": "stream",
     "text": [
      "C:\\Users\\mengz\\anaconda3\\envs\\hyperBCI\\Lib\\site-packages\\braindecode\\models\\base.py:23: UserWarning: ShallowFBCSPNet: 'input_window_samples' is depreciated. Use 'n_times' instead.\n",
      "  warnings.warn(\n",
      "C:\\Users\\mengz\\anaconda3\\envs\\hyperBCI\\Lib\\site-packages\\braindecode\\models\\base.py:180: UserWarning: LogSoftmax final layer will be removed! Please adjust your loss function accordingly (e.g. CrossEntropyLoss)!\n",
      "  warnings.warn(\"LogSoftmax final layer will be removed! \" +\n"
     ]
    },
    {
     "name": "stdout",
     "output_type": "stream",
     "text": [
      "  epoch    train_accuracy    train_loss    valid_acc    valid_accuracy    valid_loss      lr     dur\n",
      "-------  ----------------  ------------  -----------  ----------------  ------------  ------  ------\n",
      "     31            0.4104        1.6672       0.3438            0.3438        1.5846  0.0004  0.9180\n",
      "     32            0.5208        1.3818       0.3333            0.3333        1.6023  0.0005  0.8249\n",
      "     33            0.6146        1.1568       0.3333            0.3333        1.5036  0.0005  0.8099\n",
      "     34            0.6750        1.0304       0.3750            0.3750        1.4509  0.0006  1.0113\n",
      "     35            0.7271        0.9316       0.4375            0.4375        1.3992  0.0006  0.8026\n",
      "     36            0.7667        0.8523       0.4167            0.4167        1.4075  0.0007  0.8651\n",
      "     37            0.8042        0.7850       0.4062            0.4062        1.4764  0.0007  0.7938\n",
      "     38            \u001b[36m0.8333\u001b[0m        \u001b[32m0.7171\u001b[0m       0.3854            0.3854        1.5282  0.0007  0.8527\n",
      "     39            \u001b[36m0.8833\u001b[0m        \u001b[32m0.6460\u001b[0m       0.3854            0.3854        1.5310  0.0007  0.8809\n",
      "     40            \u001b[36m0.8958\u001b[0m        \u001b[32m0.6352\u001b[0m       0.3854            0.3854        1.5262  0.0007  1.0296\n",
      "     41            \u001b[36m0.9167\u001b[0m        \u001b[32m0.6321\u001b[0m       0.4062            0.4062        1.4958  0.0007  1.1206\n",
      "     42            \u001b[36m0.9229\u001b[0m        \u001b[32m0.5728\u001b[0m       0.3958            0.3958        1.5526  0.0007  1.3696\n",
      "     43            \u001b[36m0.9437\u001b[0m        \u001b[32m0.5312\u001b[0m       0.3854            0.3854        1.5317  0.0006  0.9588\n",
      "     44            \u001b[36m0.9563\u001b[0m        \u001b[32m0.4574\u001b[0m       0.3854            0.3854        1.5189  0.0006  0.8454\n",
      "     45            \u001b[36m0.9708\u001b[0m        0.4777       0.4271            0.4271        1.5287  0.0005  0.8589\n",
      "     46            0.9708        \u001b[32m0.4197\u001b[0m       0.4167            0.4167        1.5619  0.0005  0.7978\n",
      "     47            \u001b[36m0.9750\u001b[0m        \u001b[32m0.4138\u001b[0m       0.4271            0.4271        1.5731  0.0004  0.8447\n",
      "     48            0.9729        \u001b[32m0.4038\u001b[0m       0.4271            0.4271        1.5771  0.0004  0.7772\n",
      "     49            \u001b[36m0.9812\u001b[0m        \u001b[32m0.3899\u001b[0m       0.4271            0.4271        1.5744  0.0003  0.8939\n",
      "     50            \u001b[36m0.9833\u001b[0m        0.3938       0.4167            0.4167        1.5840  0.0003  0.8880\n",
      "Fine tuning model for subject 6 with 440 trials\n"
     ]
    },
    {
     "name": "stderr",
     "output_type": "stream",
     "text": [
      "C:\\Users\\mengz\\anaconda3\\envs\\hyperBCI\\Lib\\site-packages\\braindecode\\models\\base.py:23: UserWarning: ShallowFBCSPNet: 'input_window_samples' is depreciated. Use 'n_times' instead.\n",
      "  warnings.warn(\n",
      "C:\\Users\\mengz\\anaconda3\\envs\\hyperBCI\\Lib\\site-packages\\braindecode\\models\\base.py:180: UserWarning: LogSoftmax final layer will be removed! Please adjust your loss function accordingly (e.g. CrossEntropyLoss)!\n",
      "  warnings.warn(\"LogSoftmax final layer will be removed! \" +\n"
     ]
    },
    {
     "name": "stdout",
     "output_type": "stream",
     "text": [
      "  epoch    train_accuracy    train_loss    valid_acc    valid_accuracy    valid_loss      lr     dur\n",
      "-------  ----------------  ------------  -----------  ----------------  ------------  ------  ------\n",
      "     31            0.4000        1.5470       0.3438            0.3438        1.6303  0.0004  0.9012\n",
      "     32            0.4979        1.3956       0.3125            0.3125        1.7105  0.0005  0.9911\n",
      "     33            0.6062        1.1862       0.3333            0.3333        1.5705  0.0005  1.1759\n",
      "     34            0.6813        1.0010       0.3854            0.3854        1.4741  0.0006  0.9602\n",
      "     35            0.7208        0.9036       0.4062            0.4062        1.4622  0.0006  0.9419\n",
      "     36            0.7583        0.8741       0.4062            0.4062        1.4612  0.0007  0.8341\n",
      "     37            \u001b[36m0.8187\u001b[0m        0.7975       0.3854            0.3854        1.5058  0.0007  0.7854\n",
      "     38            \u001b[36m0.8354\u001b[0m        \u001b[32m0.7247\u001b[0m       0.4062            0.4062        1.4884  0.0007  0.7973\n",
      "     39            \u001b[36m0.8792\u001b[0m        \u001b[32m0.6609\u001b[0m       0.4271            0.4271        1.4747  0.0007  0.7973\n",
      "     40            \u001b[36m0.9000\u001b[0m        \u001b[32m0.6473\u001b[0m       0.3854            0.3854        1.5064  0.0007  0.7985\n",
      "     41            \u001b[36m0.9187\u001b[0m        \u001b[32m0.5761\u001b[0m       0.4062            0.4062        1.5537  0.0007  0.7742\n",
      "     42            \u001b[36m0.9229\u001b[0m        \u001b[32m0.5414\u001b[0m       0.3854            0.3854        1.5629  0.0007  0.8731\n",
      "     43            \u001b[36m0.9500\u001b[0m        \u001b[32m0.5379\u001b[0m       0.3854            0.3854        1.5412  0.0006  0.8383\n",
      "     44            0.9417        \u001b[32m0.5053\u001b[0m       0.3750            0.3750        1.5632  0.0006  0.8648\n",
      "     45            \u001b[36m0.9563\u001b[0m        \u001b[32m0.4872\u001b[0m       0.3854            0.3854        1.5983  0.0005  0.9226\n",
      "     46            0.9500        \u001b[32m0.4818\u001b[0m       0.3958            0.3958        1.5893  0.0005  1.1599\n",
      "     47            \u001b[36m0.9750\u001b[0m        \u001b[32m0.4203\u001b[0m       0.4271            0.4271        1.5415  0.0004  1.1699\n",
      "     48            \u001b[36m0.9792\u001b[0m        \u001b[32m0.4109\u001b[0m       0.4062            0.4062        1.5321  0.0004  0.8337\n",
      "     49            0.9792        \u001b[32m0.4008\u001b[0m       0.3646            0.3646        1.5762  0.0003  0.8168\n",
      "     50            0.9771        \u001b[32m0.3964\u001b[0m       0.3854            0.3854        1.6024  0.0003  0.7875\n",
      "Fine tuning model for subject 6 with 460 trials\n"
     ]
    },
    {
     "name": "stderr",
     "output_type": "stream",
     "text": [
      "C:\\Users\\mengz\\anaconda3\\envs\\hyperBCI\\Lib\\site-packages\\braindecode\\models\\base.py:23: UserWarning: ShallowFBCSPNet: 'input_window_samples' is depreciated. Use 'n_times' instead.\n",
      "  warnings.warn(\n",
      "C:\\Users\\mengz\\anaconda3\\envs\\hyperBCI\\Lib\\site-packages\\braindecode\\models\\base.py:180: UserWarning: LogSoftmax final layer will be removed! Please adjust your loss function accordingly (e.g. CrossEntropyLoss)!\n",
      "  warnings.warn(\"LogSoftmax final layer will be removed! \" +\n"
     ]
    },
    {
     "name": "stdout",
     "output_type": "stream",
     "text": [
      "  epoch    train_accuracy    train_loss    valid_acc    valid_accuracy    valid_loss      lr     dur\n",
      "-------  ----------------  ------------  -----------  ----------------  ------------  ------  ------\n",
      "     31            0.4313        1.5974       0.3438            0.3438        1.6186  0.0004  0.8254\n",
      "     32            0.4979        1.3602       0.3438            0.3438        1.6739  0.0005  0.8051\n",
      "     33            0.6104        1.1585       0.3646            0.3646        1.5151  0.0005  0.8748\n",
      "     34            0.6646        1.0845       0.3958            0.3958        1.4183  0.0006  0.8803\n",
      "     35            0.7063        0.9624       0.4062            0.4062        1.4027  0.0006  0.7914\n",
      "     36            0.7854        0.8319       0.3750            0.3750        1.4019  0.0007  0.7969\n",
      "     37            \u001b[36m0.8333\u001b[0m        0.8127       0.3854            0.3854        1.4314  0.0007  0.8073\n",
      "     38            0.8292        \u001b[32m0.6814\u001b[0m       0.4479            0.4479        1.4781  0.0007  1.0236\n",
      "     39            \u001b[36m0.8750\u001b[0m        \u001b[32m0.6760\u001b[0m       0.4167            0.4167        1.4978  0.0007  1.0708\n",
      "     40            \u001b[36m0.8979\u001b[0m        \u001b[32m0.6195\u001b[0m       0.4062            0.4062        1.5008  0.0007  1.0266\n",
      "     41            \u001b[36m0.9083\u001b[0m        \u001b[32m0.5659\u001b[0m       0.3958            0.3958        1.5057  0.0007  0.8471\n",
      "     42            \u001b[36m0.9125\u001b[0m        0.5676       0.4167            0.4167        1.4885  0.0007  0.7873\n",
      "     43            \u001b[36m0.9354\u001b[0m        \u001b[32m0.5195\u001b[0m       0.4167            0.4167        1.4878  0.0006  0.7880\n",
      "     44            \u001b[36m0.9437\u001b[0m        \u001b[32m0.4632\u001b[0m       0.4167            0.4167        1.4945  0.0006  0.7956\n",
      "     45            \u001b[36m0.9500\u001b[0m        0.4666       0.4375            0.4375        1.5215  0.0005  0.8186\n",
      "     46            \u001b[36m0.9625\u001b[0m        0.4675       0.3854            0.3854        1.5454  0.0005  0.7866\n",
      "     47            \u001b[36m0.9729\u001b[0m        \u001b[32m0.4529\u001b[0m       0.3958            0.3958        1.5146  0.0004  0.8704\n",
      "     48            \u001b[36m0.9750\u001b[0m        \u001b[32m0.3927\u001b[0m       0.3854            0.3854        1.5268  0.0004  0.8258\n",
      "     49            \u001b[36m0.9771\u001b[0m        0.4012       0.3958            0.3958        1.5255  0.0003  0.7850\n",
      "     50            \u001b[36m0.9833\u001b[0m        \u001b[32m0.3714\u001b[0m       0.4062            0.4062        1.5383  0.0003  0.8116\n",
      "Before finetuning for subject 7, the baseline accuracy is 0.34375\n",
      "Fine tuning model for subject 7 with 20 trials\n"
     ]
    },
    {
     "name": "stderr",
     "output_type": "stream",
     "text": [
      "C:\\Users\\mengz\\anaconda3\\envs\\hyperBCI\\Lib\\site-packages\\braindecode\\models\\base.py:23: UserWarning: ShallowFBCSPNet: 'input_window_samples' is depreciated. Use 'n_times' instead.\n",
      "  warnings.warn(\n",
      "C:\\Users\\mengz\\anaconda3\\envs\\hyperBCI\\Lib\\site-packages\\braindecode\\models\\base.py:180: UserWarning: LogSoftmax final layer will be removed! Please adjust your loss function accordingly (e.g. CrossEntropyLoss)!\n",
      "  warnings.warn(\"LogSoftmax final layer will be removed! \" +\n"
     ]
    },
    {
     "name": "stdout",
     "output_type": "stream",
     "text": [
      "  epoch    train_accuracy    train_loss    valid_acc    valid_accuracy    valid_loss      lr     dur\n",
      "-------  ----------------  ------------  -----------  ----------------  ------------  ------  ------\n",
      "     31            0.6875        1.5629       \u001b[35m0.5312\u001b[0m            \u001b[31m0.5312\u001b[0m        1.1667  0.0004  1.6116\n",
      "     32            0.7438        0.9721       0.4688            0.4688        1.3264  0.0005  1.3972\n",
      "     33            \u001b[36m0.8500\u001b[0m        0.8613       0.4792            0.4792        1.2239  0.0005  1.3719\n",
      "     34            \u001b[36m0.9292\u001b[0m        \u001b[32m0.6430\u001b[0m       \u001b[35m0.6042\u001b[0m            \u001b[31m0.6042\u001b[0m        \u001b[94m1.0486\u001b[0m  0.0006  1.2500\n",
      "     35            0.9125        \u001b[32m0.5316\u001b[0m       0.5417            0.5417        1.1405  0.0006  1.3599\n",
      "     36            \u001b[36m0.9688\u001b[0m        \u001b[32m0.4124\u001b[0m       0.5729            0.5729        1.0519  0.0007  1.3700\n",
      "     37            \u001b[36m0.9854\u001b[0m        \u001b[32m0.3653\u001b[0m       \u001b[35m0.6458\u001b[0m            \u001b[31m0.6458\u001b[0m        \u001b[94m0.9381\u001b[0m  0.0007  1.3843\n",
      "     38            0.9750        \u001b[32m0.3097\u001b[0m       0.6458            0.6458        \u001b[94m0.9270\u001b[0m  0.0007  1.2749\n",
      "     39            0.9396        \u001b[32m0.2731\u001b[0m       0.5625            0.5625        1.2349  0.0007  1.3024\n",
      "     40            \u001b[36m0.9917\u001b[0m        \u001b[32m0.2236\u001b[0m       0.5938            0.5938        1.0553  0.0007  1.6293\n",
      "     41            0.9792        \u001b[32m0.2017\u001b[0m       \u001b[35m0.6562\u001b[0m            \u001b[31m0.6562\u001b[0m        1.0192  0.0007  1.4063\n",
      "     42            \u001b[36m0.9958\u001b[0m        \u001b[32m0.1822\u001b[0m       \u001b[35m0.6667\u001b[0m            \u001b[31m0.6667\u001b[0m        0.9952  0.0007  1.2656\n",
      "     43            \u001b[36m1.0000\u001b[0m        \u001b[32m0.1430\u001b[0m       0.6562            0.6562        1.0065  0.0006  1.2504\n",
      "     44            1.0000        \u001b[32m0.1297\u001b[0m       0.6667            0.6667        0.9664  0.0006  1.1875\n",
      "     45            0.9979        \u001b[32m0.1088\u001b[0m       0.6042            0.6042        0.9620  0.0005  1.2031\n",
      "     46            1.0000        \u001b[32m0.0863\u001b[0m       0.6562            0.6562        0.9495  0.0005  1.2344\n",
      "     47            1.0000        \u001b[32m0.0749\u001b[0m       0.6667            0.6667        0.9931  0.0004  1.2031\n",
      "     48            1.0000        0.0782       \u001b[35m0.6771\u001b[0m            \u001b[31m0.6771\u001b[0m        0.9564  0.0004  1.2344\n",
      "     49            1.0000        \u001b[32m0.0628\u001b[0m       0.6562            0.6562        0.9605  0.0003  2.0858\n",
      "     50            1.0000        0.0631       0.6771            0.6771        0.9689  0.0003  1.8662\n",
      "Fine tuning model for subject 7 with 40 trials\n"
     ]
    },
    {
     "name": "stderr",
     "output_type": "stream",
     "text": [
      "C:\\Users\\mengz\\anaconda3\\envs\\hyperBCI\\Lib\\site-packages\\braindecode\\models\\base.py:23: UserWarning: ShallowFBCSPNet: 'input_window_samples' is depreciated. Use 'n_times' instead.\n",
      "  warnings.warn(\n",
      "C:\\Users\\mengz\\anaconda3\\envs\\hyperBCI\\Lib\\site-packages\\braindecode\\models\\base.py:180: UserWarning: LogSoftmax final layer will be removed! Please adjust your loss function accordingly (e.g. CrossEntropyLoss)!\n",
      "  warnings.warn(\"LogSoftmax final layer will be removed! \" +\n"
     ]
    },
    {
     "name": "stdout",
     "output_type": "stream",
     "text": [
      "  epoch    train_accuracy    train_loss    valid_acc    valid_accuracy    valid_loss      lr     dur\n",
      "-------  ----------------  ------------  -----------  ----------------  ------------  ------  ------\n",
      "     31            0.6104        1.5120       0.4479            0.4479        1.3373  0.0004  1.2863\n",
      "     32            0.7042        1.0409       \u001b[35m0.5208\u001b[0m            \u001b[31m0.5208\u001b[0m        1.2342  0.0005  1.0862\n",
      "     33            0.7750        0.8223       0.5104            0.5104        1.2585  0.0005  1.2786\n",
      "     34            \u001b[36m0.9167\u001b[0m        \u001b[32m0.6376\u001b[0m       \u001b[35m0.5625\u001b[0m            \u001b[31m0.5625\u001b[0m        1.1589  0.0006  1.2055\n",
      "     35            \u001b[36m0.9229\u001b[0m        \u001b[32m0.5442\u001b[0m       \u001b[35m0.5833\u001b[0m            \u001b[31m0.5833\u001b[0m        1.1516  0.0006  1.1571\n",
      "     36            \u001b[36m0.9646\u001b[0m        \u001b[32m0.4639\u001b[0m       \u001b[35m0.6042\u001b[0m            \u001b[31m0.6042\u001b[0m        \u001b[94m1.0699\u001b[0m  0.0007  0.9722\n",
      "     37            \u001b[36m0.9729\u001b[0m        \u001b[32m0.4106\u001b[0m       0.5417            0.5417        \u001b[94m1.0577\u001b[0m  0.0007  1.0778\n",
      "     38            \u001b[36m0.9792\u001b[0m        \u001b[32m0.3360\u001b[0m       0.5938            0.5938        1.1043  0.0007  1.4360\n",
      "     39            \u001b[36m0.9938\u001b[0m        \u001b[32m0.3014\u001b[0m       0.5938            0.5938        \u001b[94m0.9256\u001b[0m  0.0007  1.6571\n",
      "     40            \u001b[36m0.9958\u001b[0m        \u001b[32m0.2585\u001b[0m       0.5833            0.5833        1.0858  0.0007  1.0719\n",
      "     41            0.9854        \u001b[32m0.2062\u001b[0m       \u001b[35m0.6354\u001b[0m            \u001b[31m0.6354\u001b[0m        0.9408  0.0007  1.3380\n",
      "     42            \u001b[36m1.0000\u001b[0m        \u001b[32m0.1788\u001b[0m       0.6354            0.6354        \u001b[94m0.8722\u001b[0m  0.0007  0.9653\n",
      "     43            0.9979        \u001b[32m0.1778\u001b[0m       0.6042            0.6042        1.0584  0.0006  1.0053\n",
      "     44            1.0000        \u001b[32m0.1339\u001b[0m       \u001b[35m0.6667\u001b[0m            \u001b[31m0.6667\u001b[0m        0.9327  0.0006  0.9412\n",
      "     45            1.0000        \u001b[32m0.1276\u001b[0m       0.6146            0.6146        1.0031  0.0005  1.0114\n",
      "     46            1.0000        \u001b[32m0.1208\u001b[0m       \u001b[35m0.7292\u001b[0m            \u001b[31m0.7292\u001b[0m        0.9169  0.0005  0.9760\n",
      "     47            0.9979        \u001b[32m0.0976\u001b[0m       0.6875            0.6875        0.9025  0.0004  1.1107\n",
      "     48            1.0000        \u001b[32m0.0920\u001b[0m       0.6875            0.6875        0.9135  0.0004  1.4644\n",
      "     49            1.0000        \u001b[32m0.0900\u001b[0m       0.7188            0.7188        0.9130  0.0003  1.5744\n",
      "     50            1.0000        0.0936       0.7292            0.7292        0.9087  0.0003  1.7113\n",
      "Fine tuning model for subject 7 with 60 trials\n"
     ]
    },
    {
     "name": "stderr",
     "output_type": "stream",
     "text": [
      "C:\\Users\\mengz\\anaconda3\\envs\\hyperBCI\\Lib\\site-packages\\braindecode\\models\\base.py:23: UserWarning: ShallowFBCSPNet: 'input_window_samples' is depreciated. Use 'n_times' instead.\n",
      "  warnings.warn(\n",
      "C:\\Users\\mengz\\anaconda3\\envs\\hyperBCI\\Lib\\site-packages\\braindecode\\models\\base.py:180: UserWarning: LogSoftmax final layer will be removed! Please adjust your loss function accordingly (e.g. CrossEntropyLoss)!\n",
      "  warnings.warn(\"LogSoftmax final layer will be removed! \" +\n"
     ]
    },
    {
     "name": "stdout",
     "output_type": "stream",
     "text": [
      "  epoch    train_accuracy    train_loss    valid_acc    valid_accuracy    valid_loss      lr     dur\n",
      "-------  ----------------  ------------  -----------  ----------------  ------------  ------  ------\n",
      "     31            0.5333        1.4868       0.4271            0.4271        1.3497  0.0004  2.1751\n",
      "     32            0.7271        1.0975       0.4688            0.4688        1.2418  0.0005  2.0331\n",
      "     33            \u001b[36m0.8229\u001b[0m        0.8767       \u001b[35m0.5312\u001b[0m            \u001b[31m0.5312\u001b[0m        \u001b[94m1.1250\u001b[0m  0.0005  1.0575\n",
      "     34            \u001b[36m0.8604\u001b[0m        0.7551       0.4792            0.4792        1.2079  0.0006  1.9641\n",
      "     35            \u001b[36m0.8917\u001b[0m        \u001b[32m0.6562\u001b[0m       \u001b[35m0.5417\u001b[0m            \u001b[31m0.5417\u001b[0m        1.1864  0.0006  1.0129\n",
      "     36            0.8771        \u001b[32m0.5452\u001b[0m       0.5000            0.5000        1.2138  0.0007  1.2531\n",
      "     37            \u001b[36m0.9688\u001b[0m        \u001b[32m0.4987\u001b[0m       0.5000            0.5000        \u001b[94m1.0240\u001b[0m  0.0007  1.2794\n",
      "     38            \u001b[36m0.9708\u001b[0m        \u001b[32m0.4109\u001b[0m       \u001b[35m0.6146\u001b[0m            \u001b[31m0.6146\u001b[0m        \u001b[94m0.9953\u001b[0m  0.0007  1.1292\n",
      "     39            \u001b[36m0.9833\u001b[0m        \u001b[32m0.3368\u001b[0m       0.5729            0.5729        1.0832  0.0007  0.9925\n",
      "     40            \u001b[36m0.9854\u001b[0m        \u001b[32m0.2930\u001b[0m       0.5417            0.5417        1.0929  0.0007  0.9426\n",
      "     41            \u001b[36m0.9917\u001b[0m        \u001b[32m0.2811\u001b[0m       \u001b[35m0.6354\u001b[0m            \u001b[31m0.6354\u001b[0m        \u001b[94m0.9953\u001b[0m  0.0007  0.9071\n",
      "     42            \u001b[36m0.9958\u001b[0m        \u001b[32m0.2243\u001b[0m       \u001b[35m0.6458\u001b[0m            \u001b[31m0.6458\u001b[0m        \u001b[94m0.9718\u001b[0m  0.0007  0.9085\n",
      "     43            \u001b[36m1.0000\u001b[0m        \u001b[32m0.1932\u001b[0m       0.6146            0.6146        1.0015  0.0006  0.9157\n",
      "     44            1.0000        0.1956       0.6458            0.6458        \u001b[94m0.9208\u001b[0m  0.0006  0.8946\n",
      "     45            1.0000        \u001b[32m0.1720\u001b[0m       \u001b[35m0.6771\u001b[0m            \u001b[31m0.6771\u001b[0m        \u001b[94m0.8987\u001b[0m  0.0005  0.8940\n",
      "     46            1.0000        \u001b[32m0.1412\u001b[0m       0.6146            0.6146        1.0459  0.0005  0.8968\n",
      "     47            1.0000        \u001b[32m0.1209\u001b[0m       0.6667            0.6667        0.9407  0.0004  0.9092\n",
      "     48            1.0000        0.1360       0.6667            0.6667        \u001b[94m0.8906\u001b[0m  0.0004  1.1141\n",
      "     49            1.0000        \u001b[32m0.1138\u001b[0m       0.6667            0.6667        0.9023  0.0003  1.0656\n",
      "     50            1.0000        \u001b[32m0.0935\u001b[0m       \u001b[35m0.6979\u001b[0m            \u001b[31m0.6979\u001b[0m        0.8948  0.0003  1.2528\n",
      "Fine tuning model for subject 7 with 80 trials\n"
     ]
    },
    {
     "name": "stderr",
     "output_type": "stream",
     "text": [
      "C:\\Users\\mengz\\anaconda3\\envs\\hyperBCI\\Lib\\site-packages\\braindecode\\models\\base.py:23: UserWarning: ShallowFBCSPNet: 'input_window_samples' is depreciated. Use 'n_times' instead.\n",
      "  warnings.warn(\n",
      "C:\\Users\\mengz\\anaconda3\\envs\\hyperBCI\\Lib\\site-packages\\braindecode\\models\\base.py:180: UserWarning: LogSoftmax final layer will be removed! Please adjust your loss function accordingly (e.g. CrossEntropyLoss)!\n",
      "  warnings.warn(\"LogSoftmax final layer will be removed! \" +\n"
     ]
    },
    {
     "name": "stdout",
     "output_type": "stream",
     "text": [
      "  epoch    train_accuracy    train_loss    valid_acc    valid_accuracy    valid_loss      lr     dur\n",
      "-------  ----------------  ------------  -----------  ----------------  ------------  ------  ------\n",
      "     31            0.5646        1.5153       0.4375            0.4375        1.2478  0.0004  0.8784\n",
      "     32            0.6750        1.1410       0.4896            0.4896        1.2042  0.0005  0.8773\n",
      "     33            0.7500        0.9378       0.5104            0.5104        1.1750  0.0005  0.8778\n",
      "     34            \u001b[36m0.8458\u001b[0m        0.8184       \u001b[35m0.5729\u001b[0m            \u001b[31m0.5729\u001b[0m        1.1352  0.0006  0.8786\n",
      "     35            \u001b[36m0.9000\u001b[0m        \u001b[32m0.6996\u001b[0m       0.5417            0.5417        \u001b[94m1.0850\u001b[0m  0.0006  0.9094\n",
      "     36            \u001b[36m0.9167\u001b[0m        \u001b[32m0.5802\u001b[0m       0.5625            0.5625        \u001b[94m1.0790\u001b[0m  0.0007  0.8926\n",
      "     37            \u001b[36m0.9604\u001b[0m        \u001b[32m0.5126\u001b[0m       0.5729            0.5729        \u001b[94m1.0428\u001b[0m  0.0007  0.8773\n",
      "     38            0.9229        \u001b[32m0.4645\u001b[0m       0.5521            0.5521        1.1339  0.0007  0.8799\n",
      "     39            \u001b[36m0.9792\u001b[0m        \u001b[32m0.3893\u001b[0m       \u001b[35m0.6042\u001b[0m            \u001b[31m0.6042\u001b[0m        \u001b[94m1.0098\u001b[0m  0.0007  1.0743\n",
      "     40            \u001b[36m0.9875\u001b[0m        \u001b[32m0.3317\u001b[0m       \u001b[35m0.6146\u001b[0m            \u001b[31m0.6146\u001b[0m        \u001b[94m0.9872\u001b[0m  0.0007  1.1686\n",
      "     41            0.9875        \u001b[32m0.3281\u001b[0m       0.5625            0.5625        \u001b[94m0.9852\u001b[0m  0.0007  1.0875\n",
      "     42            \u001b[36m0.9917\u001b[0m        \u001b[32m0.2586\u001b[0m       0.5417            0.5417        1.0157  0.0007  1.4472\n",
      "     43            \u001b[36m0.9938\u001b[0m        \u001b[32m0.2351\u001b[0m       0.5521            0.5521        1.0017  0.0006  0.9693\n",
      "     44            0.9938        \u001b[32m0.2147\u001b[0m       0.6146            0.6146        \u001b[94m0.9697\u001b[0m  0.0006  1.0230\n",
      "     45            0.9938        \u001b[32m0.1905\u001b[0m       \u001b[35m0.6250\u001b[0m            \u001b[31m0.6250\u001b[0m        0.9799  0.0005  1.2903\n",
      "     46            \u001b[36m0.9979\u001b[0m        0.1936       0.6146            0.6146        1.0112  0.0005  0.9833\n",
      "     47            \u001b[36m1.0000\u001b[0m        \u001b[32m0.1648\u001b[0m       0.6146            0.6146        \u001b[94m0.9531\u001b[0m  0.0004  0.8677\n",
      "     48            1.0000        0.1713       0.5938            0.5938        1.0117  0.0004  1.2736\n",
      "     49            1.0000        \u001b[32m0.1373\u001b[0m       \u001b[35m0.6354\u001b[0m            \u001b[31m0.6354\u001b[0m        0.9546  0.0003  0.9634\n",
      "     50            1.0000        \u001b[32m0.1294\u001b[0m       0.6250            0.6250        \u001b[94m0.9280\u001b[0m  0.0003  0.9937\n",
      "Fine tuning model for subject 7 with 100 trials\n"
     ]
    },
    {
     "name": "stderr",
     "output_type": "stream",
     "text": [
      "C:\\Users\\mengz\\anaconda3\\envs\\hyperBCI\\Lib\\site-packages\\braindecode\\models\\base.py:23: UserWarning: ShallowFBCSPNet: 'input_window_samples' is depreciated. Use 'n_times' instead.\n",
      "  warnings.warn(\n",
      "C:\\Users\\mengz\\anaconda3\\envs\\hyperBCI\\Lib\\site-packages\\braindecode\\models\\base.py:180: UserWarning: LogSoftmax final layer will be removed! Please adjust your loss function accordingly (e.g. CrossEntropyLoss)!\n",
      "  warnings.warn(\"LogSoftmax final layer will be removed! \" +\n"
     ]
    },
    {
     "name": "stdout",
     "output_type": "stream",
     "text": [
      "  epoch    train_accuracy    train_loss    valid_acc    valid_accuracy    valid_loss      lr     dur\n",
      "-------  ----------------  ------------  -----------  ----------------  ------------  ------  ------\n",
      "     31            0.4688        1.4496       0.4583            0.4583        1.2287  0.0004  1.0742\n",
      "     32            0.6250        1.2074       0.4792            0.4792        1.2093  0.0005  0.9765\n",
      "     33            0.7292        1.0017       \u001b[35m0.5208\u001b[0m            \u001b[31m0.5208\u001b[0m        1.1410  0.0005  1.2023\n",
      "     34            0.7833        0.8301       \u001b[35m0.5417\u001b[0m            \u001b[31m0.5417\u001b[0m        \u001b[94m1.0624\u001b[0m  0.0006  0.8873\n",
      "     35            \u001b[36m0.8417\u001b[0m        0.7628       0.5312            0.5312        1.1586  0.0006  0.9486\n",
      "     36            \u001b[36m0.8792\u001b[0m        \u001b[32m0.6917\u001b[0m       0.5208            0.5208        1.1142  0.0007  0.8606\n",
      "     37            \u001b[36m0.9146\u001b[0m        \u001b[32m0.6004\u001b[0m       \u001b[35m0.5625\u001b[0m            \u001b[31m0.5625\u001b[0m        1.1106  0.0007  0.8650\n",
      "     38            \u001b[36m0.9313\u001b[0m        \u001b[32m0.5004\u001b[0m       0.5312            0.5312        1.1014  0.0007  0.9139\n",
      "     39            \u001b[36m0.9583\u001b[0m        \u001b[32m0.4848\u001b[0m       0.5521            0.5521        \u001b[94m1.0557\u001b[0m  0.0007  0.8871\n",
      "     40            \u001b[36m0.9625\u001b[0m        \u001b[32m0.4327\u001b[0m       0.5625            0.5625        \u001b[94m1.0535\u001b[0m  0.0007  1.0037\n",
      "     41            \u001b[36m0.9667\u001b[0m        \u001b[32m0.3760\u001b[0m       0.5625            0.5625        \u001b[94m1.0133\u001b[0m  0.0007  1.0692\n",
      "     42            \u001b[36m0.9750\u001b[0m        \u001b[32m0.3397\u001b[0m       \u001b[35m0.5938\u001b[0m            \u001b[31m0.5938\u001b[0m        \u001b[94m0.9979\u001b[0m  0.0007  1.0065\n",
      "     43            \u001b[36m0.9792\u001b[0m        \u001b[32m0.3046\u001b[0m       0.5729            0.5729        \u001b[94m0.9863\u001b[0m  0.0006  0.9732\n",
      "     44            \u001b[36m0.9875\u001b[0m        \u001b[32m0.2826\u001b[0m       \u001b[35m0.6042\u001b[0m            \u001b[31m0.6042\u001b[0m        \u001b[94m0.9705\u001b[0m  0.0006  0.9647\n",
      "     45            0.9875        \u001b[32m0.2673\u001b[0m       \u001b[35m0.6354\u001b[0m            \u001b[31m0.6354\u001b[0m        1.0017  0.0005  1.0578\n",
      "     46            \u001b[36m0.9917\u001b[0m        \u001b[32m0.2509\u001b[0m       0.6250            0.6250        \u001b[94m0.9239\u001b[0m  0.0005  0.8630\n",
      "     47            0.9917        \u001b[32m0.2151\u001b[0m       \u001b[35m0.6875\u001b[0m            \u001b[31m0.6875\u001b[0m        0.9435  0.0004  0.8173\n",
      "     48            \u001b[36m0.9938\u001b[0m        0.2241       0.6458            0.6458        0.9362  0.0004  0.8306\n",
      "     49            0.9917        0.2172       0.6354            0.6354        0.9325  0.0003  0.8615\n",
      "     50            0.9938        \u001b[32m0.1825\u001b[0m       0.6354            0.6354        0.9308  0.0003  0.8314\n",
      "Fine tuning model for subject 7 with 120 trials\n"
     ]
    },
    {
     "name": "stderr",
     "output_type": "stream",
     "text": [
      "C:\\Users\\mengz\\anaconda3\\envs\\hyperBCI\\Lib\\site-packages\\braindecode\\models\\base.py:23: UserWarning: ShallowFBCSPNet: 'input_window_samples' is depreciated. Use 'n_times' instead.\n",
      "  warnings.warn(\n",
      "C:\\Users\\mengz\\anaconda3\\envs\\hyperBCI\\Lib\\site-packages\\braindecode\\models\\base.py:180: UserWarning: LogSoftmax final layer will be removed! Please adjust your loss function accordingly (e.g. CrossEntropyLoss)!\n",
      "  warnings.warn(\"LogSoftmax final layer will be removed! \" +\n"
     ]
    },
    {
     "name": "stdout",
     "output_type": "stream",
     "text": [
      "  epoch    train_accuracy    train_loss    valid_acc    valid_accuracy    valid_loss      lr     dur\n",
      "-------  ----------------  ------------  -----------  ----------------  ------------  ------  ------\n",
      "     31            0.4604        1.4816       0.4062            0.4062        1.2548  0.0004  0.8484\n",
      "     32            0.6333        1.2616       0.4375            0.4375        1.2030  0.0005  0.8459\n",
      "     33            0.7146        1.0186       0.5104            0.5104        1.2280  0.0005  0.8439\n",
      "     34            0.7750        0.9141       0.4896            0.4896        1.1382  0.0006  0.9388\n",
      "     35            \u001b[36m0.8313\u001b[0m        0.7582       \u001b[35m0.5208\u001b[0m            \u001b[31m0.5208\u001b[0m        \u001b[94m1.0971\u001b[0m  0.0006  0.8912\n",
      "     36            \u001b[36m0.8625\u001b[0m        \u001b[32m0.7104\u001b[0m       \u001b[35m0.5521\u001b[0m            \u001b[31m0.5521\u001b[0m        \u001b[94m1.0948\u001b[0m  0.0007  1.0652\n",
      "     37            \u001b[36m0.9104\u001b[0m        \u001b[32m0.5938\u001b[0m       0.5521            0.5521        \u001b[94m1.0682\u001b[0m  0.0007  1.1522\n",
      "     38            \u001b[36m0.9125\u001b[0m        \u001b[32m0.5620\u001b[0m       0.5417            0.5417        1.0871  0.0007  1.0527\n",
      "     39            \u001b[36m0.9521\u001b[0m        \u001b[32m0.5020\u001b[0m       \u001b[35m0.5625\u001b[0m            \u001b[31m0.5625\u001b[0m        1.1143  0.0007  0.9783\n",
      "     40            \u001b[36m0.9604\u001b[0m        \u001b[32m0.4435\u001b[0m       \u001b[35m0.5833\u001b[0m            \u001b[31m0.5833\u001b[0m        1.0792  0.0007  1.0294\n",
      "     41            \u001b[36m0.9708\u001b[0m        \u001b[32m0.4091\u001b[0m       0.5625            0.5625        \u001b[94m1.0483\u001b[0m  0.0007  1.0517\n",
      "     42            \u001b[36m0.9812\u001b[0m        \u001b[32m0.3662\u001b[0m       0.5312            0.5312        1.0536  0.0007  0.8578\n",
      "     43            0.9792        \u001b[32m0.3340\u001b[0m       0.5417            0.5417        \u001b[94m1.0433\u001b[0m  0.0006  1.0319\n",
      "     44            \u001b[36m0.9896\u001b[0m        \u001b[32m0.3332\u001b[0m       0.5521            0.5521        \u001b[94m0.9918\u001b[0m  0.0006  1.0340\n",
      "     45            0.9833        \u001b[32m0.2877\u001b[0m       \u001b[35m0.6146\u001b[0m            \u001b[31m0.6146\u001b[0m        1.0128  0.0005  0.9933\n",
      "     46            0.9875        \u001b[32m0.2762\u001b[0m       \u001b[35m0.6354\u001b[0m            \u001b[31m0.6354\u001b[0m        \u001b[94m0.9761\u001b[0m  0.0005  0.9756\n",
      "     47            \u001b[36m0.9958\u001b[0m        \u001b[32m0.2554\u001b[0m       0.5625            0.5625        0.9794  0.0004  0.9487\n",
      "     48            0.9938        \u001b[32m0.2376\u001b[0m       0.6250            0.6250        0.9794  0.0004  1.0468\n",
      "     49            0.9958        \u001b[32m0.2265\u001b[0m       0.6354            0.6354        0.9818  0.0003  1.0000\n",
      "     50            \u001b[36m0.9979\u001b[0m        \u001b[32m0.2179\u001b[0m       \u001b[35m0.6562\u001b[0m            \u001b[31m0.6562\u001b[0m        \u001b[94m0.9696\u001b[0m  0.0003  1.0156\n",
      "Fine tuning model for subject 7 with 140 trials\n"
     ]
    },
    {
     "name": "stderr",
     "output_type": "stream",
     "text": [
      "C:\\Users\\mengz\\anaconda3\\envs\\hyperBCI\\Lib\\site-packages\\braindecode\\models\\base.py:23: UserWarning: ShallowFBCSPNet: 'input_window_samples' is depreciated. Use 'n_times' instead.\n",
      "  warnings.warn(\n",
      "C:\\Users\\mengz\\anaconda3\\envs\\hyperBCI\\Lib\\site-packages\\braindecode\\models\\base.py:180: UserWarning: LogSoftmax final layer will be removed! Please adjust your loss function accordingly (e.g. CrossEntropyLoss)!\n",
      "  warnings.warn(\"LogSoftmax final layer will be removed! \" +\n"
     ]
    },
    {
     "name": "stdout",
     "output_type": "stream",
     "text": [
      "  epoch    train_accuracy    train_loss    valid_acc    valid_accuracy    valid_loss      lr     dur\n",
      "-------  ----------------  ------------  -----------  ----------------  ------------  ------  ------\n",
      "     31            0.4562        1.5531       0.4479            0.4479        1.2616  0.0004  0.8132\n",
      "     32            0.5604        1.2210       0.4271            0.4271        1.1983  0.0005  0.7812\n",
      "     33            0.6813        1.0914       0.4792            0.4792        1.1704  0.0005  0.7974\n",
      "     34            0.7708        0.8757       0.4583            0.4583        1.1530  0.0006  0.7815\n",
      "     35            0.7979        0.8399       \u001b[35m0.5208\u001b[0m            \u001b[31m0.5208\u001b[0m        1.1316  0.0006  0.7969\n",
      "     36            \u001b[36m0.8167\u001b[0m        \u001b[32m0.7283\u001b[0m       0.5104            0.5104        1.1509  0.0007  0.8437\n",
      "     37            \u001b[36m0.8771\u001b[0m        \u001b[32m0.6588\u001b[0m       \u001b[35m0.5833\u001b[0m            \u001b[31m0.5833\u001b[0m        \u001b[94m1.1089\u001b[0m  0.0007  0.8681\n",
      "     38            \u001b[36m0.9062\u001b[0m        \u001b[32m0.5799\u001b[0m       0.5729            0.5729        \u001b[94m1.0742\u001b[0m  0.0007  0.9008\n",
      "     39            \u001b[36m0.9313\u001b[0m        \u001b[32m0.5235\u001b[0m       0.5625            0.5625        1.1119  0.0007  0.7885\n",
      "     40            0.9187        \u001b[32m0.5127\u001b[0m       0.5208            0.5208        1.1382  0.0007  0.7984\n",
      "     41            \u001b[36m0.9500\u001b[0m        \u001b[32m0.4563\u001b[0m       0.5521            0.5521        1.0994  0.0007  0.9409\n",
      "     42            \u001b[36m0.9729\u001b[0m        \u001b[32m0.4330\u001b[0m       0.5625            0.5625        1.0810  0.0007  0.8906\n",
      "     43            0.9688        \u001b[32m0.3681\u001b[0m       0.5833            0.5833        \u001b[94m1.0395\u001b[0m  0.0006  0.9062\n",
      "     44            \u001b[36m0.9771\u001b[0m        \u001b[32m0.3662\u001b[0m       0.5833            0.5833        1.0567  0.0006  0.8594\n",
      "     45            \u001b[36m0.9875\u001b[0m        \u001b[32m0.3161\u001b[0m       \u001b[35m0.6146\u001b[0m            \u001b[31m0.6146\u001b[0m        \u001b[94m1.0330\u001b[0m  0.0005  0.7814\n",
      "     46            0.9854        \u001b[32m0.2924\u001b[0m       0.5729            0.5729        \u001b[94m1.0153\u001b[0m  0.0005  0.8695\n",
      "     47            0.9854        \u001b[32m0.2889\u001b[0m       0.5625            0.5625        \u001b[94m1.0112\u001b[0m  0.0004  0.8936\n",
      "     48            \u001b[36m0.9917\u001b[0m        \u001b[32m0.2672\u001b[0m       0.5729            0.5729        1.0180  0.0004  0.8176\n",
      "     49            0.9917        \u001b[32m0.2589\u001b[0m       0.6042            0.6042        1.0243  0.0003  0.7920\n",
      "     50            \u001b[36m0.9958\u001b[0m        \u001b[32m0.2501\u001b[0m       \u001b[35m0.6354\u001b[0m            \u001b[31m0.6354\u001b[0m        \u001b[94m0.9998\u001b[0m  0.0003  0.8182\n",
      "Fine tuning model for subject 7 with 160 trials\n"
     ]
    },
    {
     "name": "stderr",
     "output_type": "stream",
     "text": [
      "C:\\Users\\mengz\\anaconda3\\envs\\hyperBCI\\Lib\\site-packages\\braindecode\\models\\base.py:23: UserWarning: ShallowFBCSPNet: 'input_window_samples' is depreciated. Use 'n_times' instead.\n",
      "  warnings.warn(\n",
      "C:\\Users\\mengz\\anaconda3\\envs\\hyperBCI\\Lib\\site-packages\\braindecode\\models\\base.py:180: UserWarning: LogSoftmax final layer will be removed! Please adjust your loss function accordingly (e.g. CrossEntropyLoss)!\n",
      "  warnings.warn(\"LogSoftmax final layer will be removed! \" +\n"
     ]
    },
    {
     "name": "stdout",
     "output_type": "stream",
     "text": [
      "  epoch    train_accuracy    train_loss    valid_acc    valid_accuracy    valid_loss      lr     dur\n",
      "-------  ----------------  ------------  -----------  ----------------  ------------  ------  ------\n",
      "     31            0.4396        1.5003       0.4271            0.4271        1.2819  0.0004  0.9312\n",
      "     32            0.5854        1.3195       0.4375            0.4375        1.2157  0.0005  0.8022\n",
      "     33            0.7083        1.0524       0.4896            0.4896        1.1750  0.0005  0.9011\n",
      "     34            0.7396        0.9075       \u001b[35m0.5208\u001b[0m            \u001b[31m0.5208\u001b[0m        1.1698  0.0006  0.9052\n",
      "     35            0.7688        0.8628       0.5104            0.5104        1.2073  0.0006  1.0690\n",
      "     36            \u001b[36m0.8229\u001b[0m        0.7397       0.5208            0.5208        1.1690  0.0007  1.0684\n",
      "     37            \u001b[36m0.8771\u001b[0m        \u001b[32m0.6370\u001b[0m       0.4896            0.4896        1.1571  0.0007  0.9237\n",
      "     38            \u001b[36m0.9250\u001b[0m        \u001b[32m0.5662\u001b[0m       0.5104            0.5104        \u001b[94m1.0960\u001b[0m  0.0007  0.8281\n",
      "     39            0.9250        \u001b[32m0.5409\u001b[0m       \u001b[35m0.5521\u001b[0m            \u001b[31m0.5521\u001b[0m        \u001b[94m1.0300\u001b[0m  0.0007  0.8079\n",
      "     40            \u001b[36m0.9521\u001b[0m        \u001b[32m0.4998\u001b[0m       \u001b[35m0.5729\u001b[0m            \u001b[31m0.5729\u001b[0m        \u001b[94m1.0167\u001b[0m  0.0007  0.8395\n",
      "     41            \u001b[36m0.9688\u001b[0m        \u001b[32m0.4209\u001b[0m       \u001b[35m0.5833\u001b[0m            \u001b[31m0.5833\u001b[0m        1.0338  0.0007  0.8002\n",
      "     42            0.9563        \u001b[32m0.3915\u001b[0m       0.5208            0.5208        1.0785  0.0007  0.8456\n",
      "     43            0.9646        \u001b[32m0.3843\u001b[0m       0.5625            0.5625        1.0593  0.0006  0.8475\n",
      "     44            \u001b[36m0.9854\u001b[0m        \u001b[32m0.3306\u001b[0m       0.5625            0.5625        \u001b[94m0.9928\u001b[0m  0.0006  0.8270\n",
      "     45            0.9792        \u001b[32m0.3157\u001b[0m       0.5417            0.5417        1.0181  0.0005  0.8314\n",
      "     46            \u001b[36m0.9896\u001b[0m        \u001b[32m0.2919\u001b[0m       \u001b[35m0.5938\u001b[0m            \u001b[31m0.5938\u001b[0m        \u001b[94m0.9691\u001b[0m  0.0005  0.8365\n",
      "     47            \u001b[36m0.9938\u001b[0m        0.2931       \u001b[35m0.6146\u001b[0m            \u001b[31m0.6146\u001b[0m        \u001b[94m0.9440\u001b[0m  0.0004  0.9853\n",
      "     48            0.9917        \u001b[32m0.2889\u001b[0m       0.5417            0.5417        0.9831  0.0004  0.9764\n",
      "     49            0.9938        \u001b[32m0.2553\u001b[0m       0.6146            0.6146        0.9702  0.0003  0.9790\n",
      "     50            \u001b[36m0.9958\u001b[0m        \u001b[32m0.2304\u001b[0m       \u001b[35m0.6250\u001b[0m            \u001b[31m0.6250\u001b[0m        0.9468  0.0003  1.0441\n",
      "Fine tuning model for subject 7 with 180 trials\n"
     ]
    },
    {
     "name": "stderr",
     "output_type": "stream",
     "text": [
      "C:\\Users\\mengz\\anaconda3\\envs\\hyperBCI\\Lib\\site-packages\\braindecode\\models\\base.py:23: UserWarning: ShallowFBCSPNet: 'input_window_samples' is depreciated. Use 'n_times' instead.\n",
      "  warnings.warn(\n",
      "C:\\Users\\mengz\\anaconda3\\envs\\hyperBCI\\Lib\\site-packages\\braindecode\\models\\base.py:180: UserWarning: LogSoftmax final layer will be removed! Please adjust your loss function accordingly (e.g. CrossEntropyLoss)!\n",
      "  warnings.warn(\"LogSoftmax final layer will be removed! \" +\n"
     ]
    },
    {
     "name": "stdout",
     "output_type": "stream",
     "text": [
      "  epoch    train_accuracy    train_loss    valid_acc    valid_accuracy    valid_loss      lr     dur\n",
      "-------  ----------------  ------------  -----------  ----------------  ------------  ------  ------\n",
      "     31            0.4250        1.5183       0.3958            0.3958        1.2810  0.0004  0.9974\n",
      "     32            0.5583        1.2889       0.4583            0.4583        1.1905  0.0005  0.8663\n",
      "     33            0.6542        1.0644       0.4479            0.4479        1.2410  0.0005  0.9825\n",
      "     34            0.7417        0.9802       0.4792            0.4792        1.1753  0.0006  0.8944\n",
      "     35            0.7812        0.8616       0.4896            0.4896        1.1361  0.0006  0.9063\n",
      "     36            \u001b[36m0.8438\u001b[0m        \u001b[32m0.7162\u001b[0m       \u001b[35m0.5312\u001b[0m            \u001b[31m0.5312\u001b[0m        \u001b[94m1.1212\u001b[0m  0.0007  0.8685\n",
      "     37            \u001b[36m0.8688\u001b[0m        \u001b[32m0.6578\u001b[0m       \u001b[35m0.5417\u001b[0m            \u001b[31m0.5417\u001b[0m        \u001b[94m1.1014\u001b[0m  0.0007  0.9297\n",
      "     38            \u001b[36m0.9083\u001b[0m        \u001b[32m0.6063\u001b[0m       0.5417            0.5417        \u001b[94m1.0648\u001b[0m  0.0007  0.9542\n",
      "     39            \u001b[36m0.9167\u001b[0m        \u001b[32m0.5175\u001b[0m       0.5312            0.5312        1.0773  0.0007  1.0180\n",
      "     40            \u001b[36m0.9542\u001b[0m        0.5368       \u001b[35m0.5729\u001b[0m            \u001b[31m0.5729\u001b[0m        \u001b[94m1.0395\u001b[0m  0.0007  0.9785\n",
      "     41            \u001b[36m0.9667\u001b[0m        \u001b[32m0.4503\u001b[0m       0.5729            0.5729        1.0486  0.0007  1.0666\n",
      "     42            \u001b[36m0.9771\u001b[0m        \u001b[32m0.4403\u001b[0m       \u001b[35m0.5833\u001b[0m            \u001b[31m0.5833\u001b[0m        1.0557  0.0007  0.9405\n",
      "     43            0.9729        \u001b[32m0.3787\u001b[0m       \u001b[35m0.6042\u001b[0m            \u001b[31m0.6042\u001b[0m        1.0568  0.0006  0.8281\n",
      "     44            0.9563        \u001b[32m0.3626\u001b[0m       0.5938            0.5938        1.0509  0.0006  0.8595\n",
      "     45            \u001b[36m0.9854\u001b[0m        \u001b[32m0.3240\u001b[0m       \u001b[35m0.6146\u001b[0m            \u001b[31m0.6146\u001b[0m        \u001b[94m0.9933\u001b[0m  0.0005  0.8013\n",
      "     46            \u001b[36m0.9896\u001b[0m        \u001b[32m0.2979\u001b[0m       0.5729            0.5729        \u001b[94m0.9855\u001b[0m  0.0005  0.8594\n",
      "     47            \u001b[36m0.9938\u001b[0m        \u001b[32m0.2733\u001b[0m       0.6146            0.6146        \u001b[94m0.9742\u001b[0m  0.0004  0.9706\n",
      "     48            0.9938        \u001b[32m0.2599\u001b[0m       \u001b[35m0.6250\u001b[0m            \u001b[31m0.6250\u001b[0m        0.9760  0.0004  0.8594\n",
      "     49            0.9938        \u001b[32m0.2513\u001b[0m       \u001b[35m0.6458\u001b[0m            \u001b[31m0.6458\u001b[0m        0.9897  0.0003  0.9375\n",
      "     50            0.9938        \u001b[32m0.2388\u001b[0m       0.6458            0.6458        0.9876  0.0003  0.9399\n",
      "Fine tuning model for subject 7 with 200 trials\n"
     ]
    },
    {
     "name": "stderr",
     "output_type": "stream",
     "text": [
      "C:\\Users\\mengz\\anaconda3\\envs\\hyperBCI\\Lib\\site-packages\\braindecode\\models\\base.py:23: UserWarning: ShallowFBCSPNet: 'input_window_samples' is depreciated. Use 'n_times' instead.\n",
      "  warnings.warn(\n",
      "C:\\Users\\mengz\\anaconda3\\envs\\hyperBCI\\Lib\\site-packages\\braindecode\\models\\base.py:180: UserWarning: LogSoftmax final layer will be removed! Please adjust your loss function accordingly (e.g. CrossEntropyLoss)!\n",
      "  warnings.warn(\"LogSoftmax final layer will be removed! \" +\n"
     ]
    },
    {
     "name": "stdout",
     "output_type": "stream",
     "text": [
      "  epoch    train_accuracy    train_loss    valid_acc    valid_accuracy    valid_loss      lr     dur\n",
      "-------  ----------------  ------------  -----------  ----------------  ------------  ------  ------\n",
      "     31            0.4333        1.5057       0.3958            0.3958        1.3011  0.0004  1.0126\n",
      "     32            0.5687        1.3263       0.4271            0.4271        1.2107  0.0005  1.0726\n",
      "     33            0.6937        1.0856       0.4688            0.4688        1.1535  0.0005  1.1696\n",
      "     34            0.7667        0.9452       0.5104            0.5104        \u001b[94m1.1248\u001b[0m  0.0006  0.9469\n",
      "     35            0.8063        0.8273       0.5104            0.5104        \u001b[94m1.1223\u001b[0m  0.0006  0.7818\n",
      "     36            \u001b[36m0.8354\u001b[0m        \u001b[32m0.6822\u001b[0m       \u001b[35m0.5208\u001b[0m            \u001b[31m0.5208\u001b[0m        \u001b[94m1.1022\u001b[0m  0.0007  0.7973\n",
      "     37            \u001b[36m0.8708\u001b[0m        \u001b[32m0.6029\u001b[0m       \u001b[35m0.5625\u001b[0m            \u001b[31m0.5625\u001b[0m        \u001b[94m1.0749\u001b[0m  0.0007  0.7974\n",
      "     38            \u001b[36m0.9083\u001b[0m        0.6151       0.5625            0.5625        \u001b[94m1.0365\u001b[0m  0.0007  0.7812\n",
      "     39            \u001b[36m0.9292\u001b[0m        \u001b[32m0.5220\u001b[0m       \u001b[35m0.6146\u001b[0m            \u001b[31m0.6146\u001b[0m        1.0616  0.0007  0.7976\n",
      "     40            \u001b[36m0.9396\u001b[0m        \u001b[32m0.4779\u001b[0m       0.5833            0.5833        1.0755  0.0007  0.7812\n",
      "     41            \u001b[36m0.9583\u001b[0m        \u001b[32m0.4161\u001b[0m       0.6042            0.6042        1.0389  0.0007  0.7822\n",
      "     42            \u001b[36m0.9729\u001b[0m        0.4258       0.5417            0.5417        1.0597  0.0007  0.7817\n",
      "     43            \u001b[36m0.9792\u001b[0m        \u001b[32m0.3502\u001b[0m       0.5729            0.5729        \u001b[94m1.0244\u001b[0m  0.0006  0.7812\n",
      "     44            0.9792        0.3569       0.5938            0.5938        \u001b[94m0.9832\u001b[0m  0.0006  0.8285\n",
      "     45            \u001b[36m0.9833\u001b[0m        \u001b[32m0.3400\u001b[0m       0.5417            0.5417        0.9948  0.0005  0.9237\n",
      "     46            \u001b[36m0.9875\u001b[0m        \u001b[32m0.2940\u001b[0m       0.6042            0.6042        \u001b[94m0.9777\u001b[0m  0.0005  0.9062\n",
      "     47            0.9854        \u001b[32m0.2666\u001b[0m       0.6146            0.6146        \u001b[94m0.9594\u001b[0m  0.0004  1.0625\n",
      "     48            \u001b[36m0.9938\u001b[0m        0.2678       0.5938            0.5938        0.9741  0.0004  0.7817\n",
      "     49            0.9938        \u001b[32m0.2646\u001b[0m       0.5938            0.5938        0.9622  0.0003  0.7821\n",
      "     50            0.9938        \u001b[32m0.2470\u001b[0m       0.5833            0.5833        \u001b[94m0.9567\u001b[0m  0.0003  0.7813\n",
      "Fine tuning model for subject 7 with 220 trials\n"
     ]
    },
    {
     "name": "stderr",
     "output_type": "stream",
     "text": [
      "C:\\Users\\mengz\\anaconda3\\envs\\hyperBCI\\Lib\\site-packages\\braindecode\\models\\base.py:23: UserWarning: ShallowFBCSPNet: 'input_window_samples' is depreciated. Use 'n_times' instead.\n",
      "  warnings.warn(\n",
      "C:\\Users\\mengz\\anaconda3\\envs\\hyperBCI\\Lib\\site-packages\\braindecode\\models\\base.py:180: UserWarning: LogSoftmax final layer will be removed! Please adjust your loss function accordingly (e.g. CrossEntropyLoss)!\n",
      "  warnings.warn(\"LogSoftmax final layer will be removed! \" +\n"
     ]
    },
    {
     "name": "stdout",
     "output_type": "stream",
     "text": [
      "  epoch    train_accuracy    train_loss    valid_acc    valid_accuracy    valid_loss      lr     dur\n",
      "-------  ----------------  ------------  -----------  ----------------  ------------  ------  ------\n",
      "     31            0.4625        1.5179       0.3958            0.3958        1.2783  0.0004  0.7969\n",
      "     32            0.5833        1.2523       0.4688            0.4688        1.2003  0.0005  0.7812\n",
      "     33            0.6979        1.0855       0.4792            0.4792        1.1747  0.0005  0.7968\n",
      "     34            0.7438        0.8801       0.5000            0.5000        1.1476  0.0006  0.7817\n",
      "     35            \u001b[36m0.8313\u001b[0m        0.8150       \u001b[35m0.5625\u001b[0m            \u001b[31m0.5625\u001b[0m        \u001b[94m1.0792\u001b[0m  0.0006  0.7718\n",
      "     36            \u001b[36m0.8521\u001b[0m        0.7532       \u001b[35m0.5729\u001b[0m            \u001b[31m0.5729\u001b[0m        1.0970  0.0007  0.7818\n",
      "     37            \u001b[36m0.8854\u001b[0m        \u001b[32m0.6101\u001b[0m       0.5312            0.5312        1.0823  0.0007  0.7974\n",
      "     38            \u001b[36m0.9083\u001b[0m        \u001b[32m0.5647\u001b[0m       \u001b[35m0.5833\u001b[0m            \u001b[31m0.5833\u001b[0m        1.0842  0.0007  0.8598\n",
      "     39            \u001b[36m0.9417\u001b[0m        \u001b[32m0.5276\u001b[0m       0.5625            0.5625        1.1089  0.0007  0.9376\n",
      "     40            \u001b[36m0.9521\u001b[0m        \u001b[32m0.4876\u001b[0m       0.5312            0.5312        \u001b[94m1.0643\u001b[0m  0.0007  0.9062\n",
      "     41            \u001b[36m0.9646\u001b[0m        \u001b[32m0.4186\u001b[0m       0.5312            0.5312        \u001b[94m1.0634\u001b[0m  0.0007  1.0473\n",
      "     42            \u001b[36m0.9750\u001b[0m        \u001b[32m0.4037\u001b[0m       0.5312            0.5312        1.0851  0.0007  0.7969\n",
      "     43            0.9604        \u001b[32m0.3664\u001b[0m       0.5521            0.5521        1.0952  0.0006  0.7817\n",
      "     44            \u001b[36m0.9812\u001b[0m        \u001b[32m0.3338\u001b[0m       \u001b[35m0.5938\u001b[0m            \u001b[31m0.5938\u001b[0m        \u001b[94m1.0359\u001b[0m  0.0006  0.7812\n",
      "     45            \u001b[36m0.9833\u001b[0m        \u001b[32m0.3293\u001b[0m       0.5938            0.5938        \u001b[94m0.9980\u001b[0m  0.0005  0.7972\n",
      "     46            \u001b[36m0.9854\u001b[0m        \u001b[32m0.3142\u001b[0m       0.5521            0.5521        1.0411  0.0005  0.7812\n",
      "     47            \u001b[36m0.9917\u001b[0m        \u001b[32m0.2810\u001b[0m       0.5312            0.5312        1.0105  0.0004  0.7817\n",
      "     48            \u001b[36m0.9938\u001b[0m        \u001b[32m0.2552\u001b[0m       \u001b[35m0.6042\u001b[0m            \u001b[31m0.6042\u001b[0m        \u001b[94m0.9946\u001b[0m  0.0004  0.7812\n",
      "     49            0.9938        0.2588       0.6042            0.6042        \u001b[94m0.9877\u001b[0m  0.0003  0.7818\n",
      "     50            \u001b[36m0.9958\u001b[0m        \u001b[32m0.2432\u001b[0m       0.5938            0.5938        0.9933  0.0003  0.8281\n",
      "Fine tuning model for subject 7 with 240 trials\n"
     ]
    },
    {
     "name": "stderr",
     "output_type": "stream",
     "text": [
      "C:\\Users\\mengz\\anaconda3\\envs\\hyperBCI\\Lib\\site-packages\\braindecode\\models\\base.py:23: UserWarning: ShallowFBCSPNet: 'input_window_samples' is depreciated. Use 'n_times' instead.\n",
      "  warnings.warn(\n",
      "C:\\Users\\mengz\\anaconda3\\envs\\hyperBCI\\Lib\\site-packages\\braindecode\\models\\base.py:180: UserWarning: LogSoftmax final layer will be removed! Please adjust your loss function accordingly (e.g. CrossEntropyLoss)!\n",
      "  warnings.warn(\"LogSoftmax final layer will be removed! \" +\n"
     ]
    },
    {
     "name": "stdout",
     "output_type": "stream",
     "text": [
      "  epoch    train_accuracy    train_loss    valid_acc    valid_accuracy    valid_loss      lr     dur\n",
      "-------  ----------------  ------------  -----------  ----------------  ------------  ------  ------\n",
      "     31            0.4250        1.5153       0.4375            0.4375        1.3274  0.0004  0.7813\n",
      "     32            0.5979        1.3238       0.4375            0.4375        1.2341  0.0005  0.9535\n",
      "     33            0.6833        1.1141       0.4688            0.4688        1.2281  0.0005  0.9375\n",
      "     34            0.7479        0.9307       0.4792            0.4792        1.1868  0.0006  0.9062\n",
      "     35            0.7958        0.8419       \u001b[35m0.5312\u001b[0m            \u001b[31m0.5312\u001b[0m        1.1663  0.0006  0.9383\n",
      "     36            \u001b[36m0.8521\u001b[0m        \u001b[32m0.7222\u001b[0m       \u001b[35m0.5417\u001b[0m            \u001b[31m0.5417\u001b[0m        1.1369  0.0007  0.8281\n",
      "     37            \u001b[36m0.8958\u001b[0m        \u001b[32m0.6625\u001b[0m       \u001b[35m0.5833\u001b[0m            \u001b[31m0.5833\u001b[0m        \u001b[94m1.0709\u001b[0m  0.0007  0.7817\n",
      "     38            \u001b[36m0.9146\u001b[0m        \u001b[32m0.5722\u001b[0m       0.5521            0.5521        1.1005  0.0007  0.7813\n",
      "     39            \u001b[36m0.9396\u001b[0m        \u001b[32m0.5371\u001b[0m       0.5729            0.5729        1.0745  0.0007  0.7818\n",
      "     40            \u001b[36m0.9500\u001b[0m        \u001b[32m0.5062\u001b[0m       0.5417            0.5417        \u001b[94m1.0408\u001b[0m  0.0007  0.7969\n",
      "     41            \u001b[36m0.9646\u001b[0m        \u001b[32m0.4306\u001b[0m       0.5521            0.5521        \u001b[94m1.0232\u001b[0m  0.0007  0.7812\n",
      "     42            \u001b[36m0.9688\u001b[0m        \u001b[32m0.3985\u001b[0m       \u001b[35m0.5938\u001b[0m            \u001b[31m0.5938\u001b[0m        \u001b[94m1.0129\u001b[0m  0.0007  0.8130\n",
      "     43            \u001b[36m0.9792\u001b[0m        \u001b[32m0.3760\u001b[0m       0.5729            0.5729        \u001b[94m0.9982\u001b[0m  0.0006  0.7817\n",
      "     44            \u001b[36m0.9854\u001b[0m        \u001b[32m0.3214\u001b[0m       \u001b[35m0.6146\u001b[0m            \u001b[31m0.6146\u001b[0m        \u001b[94m0.9619\u001b[0m  0.0006  0.8437\n",
      "     45            0.9812        \u001b[32m0.3096\u001b[0m       \u001b[35m0.6354\u001b[0m            \u001b[31m0.6354\u001b[0m        \u001b[94m0.9546\u001b[0m  0.0005  0.8598\n",
      "     46            \u001b[36m0.9875\u001b[0m        \u001b[32m0.3035\u001b[0m       0.6146            0.6146        0.9717  0.0005  0.8750\n",
      "     47            \u001b[36m0.9917\u001b[0m        \u001b[32m0.2784\u001b[0m       0.5625            0.5625        0.9899  0.0004  0.9062\n",
      "     48            \u001b[36m0.9958\u001b[0m        \u001b[32m0.2694\u001b[0m       0.6250            0.6250        0.9913  0.0004  0.8751\n",
      "     49            0.9958        \u001b[32m0.2617\u001b[0m       \u001b[35m0.6562\u001b[0m            \u001b[31m0.6562\u001b[0m        0.9637  0.0003  0.9692\n",
      "     50            0.9958        0.2695       \u001b[35m0.6667\u001b[0m            \u001b[31m0.6667\u001b[0m        \u001b[94m0.9488\u001b[0m  0.0003  0.8290\n",
      "Fine tuning model for subject 7 with 260 trials\n"
     ]
    },
    {
     "name": "stderr",
     "output_type": "stream",
     "text": [
      "C:\\Users\\mengz\\anaconda3\\envs\\hyperBCI\\Lib\\site-packages\\braindecode\\models\\base.py:23: UserWarning: ShallowFBCSPNet: 'input_window_samples' is depreciated. Use 'n_times' instead.\n",
      "  warnings.warn(\n",
      "C:\\Users\\mengz\\anaconda3\\envs\\hyperBCI\\Lib\\site-packages\\braindecode\\models\\base.py:180: UserWarning: LogSoftmax final layer will be removed! Please adjust your loss function accordingly (e.g. CrossEntropyLoss)!\n",
      "  warnings.warn(\"LogSoftmax final layer will be removed! \" +\n"
     ]
    },
    {
     "name": "stdout",
     "output_type": "stream",
     "text": [
      "  epoch    train_accuracy    train_loss    valid_acc    valid_accuracy    valid_loss      lr     dur\n",
      "-------  ----------------  ------------  -----------  ----------------  ------------  ------  ------\n",
      "     31            0.4583        1.5435       0.4062            0.4062        1.2640  0.0004  0.7813\n",
      "     32            0.5875        1.2679       0.4167            0.4167        1.2087  0.0005  0.7980\n",
      "     33            0.6667        1.0659       0.4583            0.4583        1.1660  0.0005  0.7818\n",
      "     34            0.7479        0.9160       \u001b[35m0.5312\u001b[0m            \u001b[31m0.5312\u001b[0m        1.1806  0.0006  0.7812\n",
      "     35            0.8042        0.8039       0.5208            0.5208        1.2091  0.0006  0.7969\n",
      "     36            \u001b[36m0.8375\u001b[0m        \u001b[32m0.7292\u001b[0m       \u001b[35m0.5417\u001b[0m            \u001b[31m0.5417\u001b[0m        1.1603  0.0007  0.7973\n",
      "     37            \u001b[36m0.8750\u001b[0m        \u001b[32m0.6376\u001b[0m       \u001b[35m0.5625\u001b[0m            \u001b[31m0.5625\u001b[0m        1.1287  0.0007  0.7993\n",
      "     38            \u001b[36m0.9021\u001b[0m        \u001b[32m0.6190\u001b[0m       0.5625            0.5625        \u001b[94m1.0890\u001b[0m  0.0007  0.7973\n",
      "     39            \u001b[36m0.9208\u001b[0m        \u001b[32m0.5241\u001b[0m       0.5312            0.5312        \u001b[94m1.0635\u001b[0m  0.0007  0.7817\n",
      "     40            \u001b[36m0.9437\u001b[0m        \u001b[32m0.4896\u001b[0m       0.5521            0.5521        \u001b[94m1.0598\u001b[0m  0.0007  0.8906\n",
      "     41            \u001b[36m0.9479\u001b[0m        \u001b[32m0.4393\u001b[0m       \u001b[35m0.5938\u001b[0m            \u001b[31m0.5938\u001b[0m        \u001b[94m1.0422\u001b[0m  0.0007  0.8755\n",
      "     42            \u001b[36m0.9646\u001b[0m        \u001b[32m0.4033\u001b[0m       \u001b[35m0.6042\u001b[0m            \u001b[31m0.6042\u001b[0m        1.0549  0.0007  0.9063\n",
      "     43            \u001b[36m0.9750\u001b[0m        \u001b[32m0.3958\u001b[0m       0.5729            0.5729        1.0869  0.0006  0.9375\n",
      "     44            \u001b[36m0.9812\u001b[0m        \u001b[32m0.3456\u001b[0m       0.5625            0.5625        1.0777  0.0006  0.7818\n",
      "     45            \u001b[36m0.9875\u001b[0m        \u001b[32m0.3379\u001b[0m       0.5417            0.5417        \u001b[94m1.0417\u001b[0m  0.0005  0.7818\n",
      "     46            0.9833        \u001b[32m0.3251\u001b[0m       0.5833            0.5833        \u001b[94m1.0288\u001b[0m  0.0005  0.7813\n",
      "     47            \u001b[36m0.9896\u001b[0m        \u001b[32m0.2827\u001b[0m       0.5729            0.5729        \u001b[94m1.0137\u001b[0m  0.0004  0.7979\n",
      "     48            \u001b[36m0.9917\u001b[0m        \u001b[32m0.2644\u001b[0m       0.6042            0.6042        \u001b[94m0.9753\u001b[0m  0.0004  0.7970\n",
      "     49            0.9917        \u001b[32m0.2450\u001b[0m       0.5938            0.5938        \u001b[94m0.9498\u001b[0m  0.0003  0.7969\n",
      "     50            \u001b[36m0.9938\u001b[0m        0.2554       \u001b[35m0.6354\u001b[0m            \u001b[31m0.6354\u001b[0m        \u001b[94m0.9374\u001b[0m  0.0003  0.7969\n",
      "Fine tuning model for subject 7 with 280 trials\n"
     ]
    },
    {
     "name": "stderr",
     "output_type": "stream",
     "text": [
      "C:\\Users\\mengz\\anaconda3\\envs\\hyperBCI\\Lib\\site-packages\\braindecode\\models\\base.py:23: UserWarning: ShallowFBCSPNet: 'input_window_samples' is depreciated. Use 'n_times' instead.\n",
      "  warnings.warn(\n",
      "C:\\Users\\mengz\\anaconda3\\envs\\hyperBCI\\Lib\\site-packages\\braindecode\\models\\base.py:180: UserWarning: LogSoftmax final layer will be removed! Please adjust your loss function accordingly (e.g. CrossEntropyLoss)!\n",
      "  warnings.warn(\"LogSoftmax final layer will be removed! \" +\n"
     ]
    },
    {
     "name": "stdout",
     "output_type": "stream",
     "text": [
      "  epoch    train_accuracy    train_loss    valid_acc    valid_accuracy    valid_loss      lr     dur\n",
      "-------  ----------------  ------------  -----------  ----------------  ------------  ------  ------\n",
      "     31            0.4479        1.5290       0.4062            0.4062        1.2861  0.0004  0.7969\n",
      "     32            0.5813        1.2084       0.4479            0.4479        1.1934  0.0005  0.7969\n",
      "     33            0.7021        1.0385       0.4479            0.4479        1.1524  0.0005  0.7973\n",
      "     34            0.7458        0.9082       0.4896            0.4896        1.1455  0.0006  0.9063\n",
      "     35            0.8083        0.7833       \u001b[35m0.5312\u001b[0m            \u001b[31m0.5312\u001b[0m        \u001b[94m1.1270\u001b[0m  0.0006  0.9219\n",
      "     36            \u001b[36m0.8500\u001b[0m        \u001b[32m0.7121\u001b[0m       0.5312            0.5312        1.1312  0.0007  0.9063\n",
      "     37            0.8479        \u001b[32m0.6358\u001b[0m       0.5312            0.5312        1.1587  0.0007  0.7817\n",
      "     38            \u001b[36m0.9146\u001b[0m        \u001b[32m0.6209\u001b[0m       \u001b[35m0.5521\u001b[0m            \u001b[31m0.5521\u001b[0m        1.1323  0.0007  0.7813\n",
      "     39            \u001b[36m0.9396\u001b[0m        \u001b[32m0.4887\u001b[0m       0.5521            0.5521        \u001b[94m1.0400\u001b[0m  0.0007  0.7818\n",
      "     40            0.9229        \u001b[32m0.4677\u001b[0m       \u001b[35m0.5729\u001b[0m            \u001b[31m0.5729\u001b[0m        1.0644  0.0007  0.7975\n",
      "     41            0.9187        \u001b[32m0.4593\u001b[0m       0.5417            0.5417        1.1554  0.0007  0.7817\n",
      "     42            \u001b[36m0.9708\u001b[0m        \u001b[32m0.4130\u001b[0m       \u001b[35m0.5833\u001b[0m            \u001b[31m0.5833\u001b[0m        1.0801  0.0007  0.7817\n",
      "     43            0.9708        \u001b[32m0.3630\u001b[0m       \u001b[35m0.6146\u001b[0m            \u001b[31m0.6146\u001b[0m        1.0442  0.0006  0.7969\n",
      "     44            \u001b[36m0.9833\u001b[0m        \u001b[32m0.3275\u001b[0m       0.6042            0.6042        \u001b[94m1.0223\u001b[0m  0.0006  0.8750\n",
      "     45            \u001b[36m0.9875\u001b[0m        0.3331       0.6146            0.6146        \u001b[94m1.0006\u001b[0m  0.0005  0.7812\n",
      "     46            \u001b[36m0.9917\u001b[0m        \u001b[32m0.2772\u001b[0m       0.6146            0.6146        \u001b[94m0.9870\u001b[0m  0.0005  0.7813\n",
      "     47            0.9875        \u001b[32m0.2737\u001b[0m       0.6146            0.6146        0.9908  0.0004  0.8129\n",
      "     48            0.9875        0.2805       0.5938            0.5938        0.9918  0.0004  1.0001\n",
      "     49            0.9917        \u001b[32m0.2292\u001b[0m       0.6146            0.6146        \u001b[94m0.9834\u001b[0m  0.0003  0.8750\n",
      "     50            \u001b[36m0.9938\u001b[0m        0.2327       0.6042            0.6042        \u001b[94m0.9701\u001b[0m  0.0003  1.0156\n",
      "Fine tuning model for subject 7 with 300 trials\n"
     ]
    },
    {
     "name": "stderr",
     "output_type": "stream",
     "text": [
      "C:\\Users\\mengz\\anaconda3\\envs\\hyperBCI\\Lib\\site-packages\\braindecode\\models\\base.py:23: UserWarning: ShallowFBCSPNet: 'input_window_samples' is depreciated. Use 'n_times' instead.\n",
      "  warnings.warn(\n",
      "C:\\Users\\mengz\\anaconda3\\envs\\hyperBCI\\Lib\\site-packages\\braindecode\\models\\base.py:180: UserWarning: LogSoftmax final layer will be removed! Please adjust your loss function accordingly (e.g. CrossEntropyLoss)!\n",
      "  warnings.warn(\"LogSoftmax final layer will be removed! \" +\n"
     ]
    },
    {
     "name": "stdout",
     "output_type": "stream",
     "text": [
      "  epoch    train_accuracy    train_loss    valid_acc    valid_accuracy    valid_loss      lr     dur\n",
      "-------  ----------------  ------------  -----------  ----------------  ------------  ------  ------\n",
      "     31            0.4333        1.5223       0.4062            0.4062        1.3009  0.0004  0.7817\n",
      "     32            0.5687        1.3370       0.4062            0.4062        1.2458  0.0005  0.7973\n",
      "     33            0.6687        1.0880       0.4375            0.4375        1.1972  0.0005  0.7817\n",
      "     34            0.7562        0.9658       0.5104            0.5104        1.1849  0.0006  0.7812\n",
      "     35            0.8042        0.8714       0.4688            0.4688        1.1656  0.0006  0.7812\n",
      "     36            \u001b[36m0.8333\u001b[0m        \u001b[32m0.7131\u001b[0m       0.4792            0.4792        1.1423  0.0007  0.8125\n",
      "     37            \u001b[36m0.8771\u001b[0m        \u001b[32m0.6710\u001b[0m       0.4792            0.4792        1.1455  0.0007  0.7813\n",
      "     38            \u001b[36m0.8917\u001b[0m        \u001b[32m0.5644\u001b[0m       0.5104            0.5104        \u001b[94m1.0737\u001b[0m  0.0007  0.7817\n",
      "     39            \u001b[36m0.9208\u001b[0m        \u001b[32m0.5315\u001b[0m       \u001b[35m0.5729\u001b[0m            \u001b[31m0.5729\u001b[0m        \u001b[94m1.0191\u001b[0m  0.0007  0.7823\n",
      "     40            \u001b[36m0.9333\u001b[0m        \u001b[32m0.4651\u001b[0m       0.5521            0.5521        1.0844  0.0007  0.7817\n",
      "     41            \u001b[36m0.9396\u001b[0m        \u001b[32m0.4521\u001b[0m       0.5208            0.5208        1.0638  0.0007  0.9068\n",
      "     42            \u001b[36m0.9667\u001b[0m        \u001b[32m0.4449\u001b[0m       0.5625            0.5625        \u001b[94m1.0105\u001b[0m  0.0007  0.9219\n",
      "     43            \u001b[36m0.9750\u001b[0m        \u001b[32m0.3648\u001b[0m       \u001b[35m0.6146\u001b[0m            \u001b[31m0.6146\u001b[0m        \u001b[94m0.9757\u001b[0m  0.0006  0.9532\n",
      "     44            \u001b[36m0.9854\u001b[0m        \u001b[32m0.3600\u001b[0m       0.5938            0.5938        1.0012  0.0006  0.9688\n",
      "     45            0.9854        \u001b[32m0.3408\u001b[0m       0.5938            0.5938        1.0213  0.0005  0.7817\n",
      "     46            \u001b[36m0.9896\u001b[0m        \u001b[32m0.2956\u001b[0m       0.5729            0.5729        1.0631  0.0005  0.8281\n",
      "     47            0.9875        \u001b[32m0.2709\u001b[0m       0.5938            0.5938        1.0482  0.0004  0.7812\n",
      "     48            0.9875        0.2820       0.5729            0.5729        1.0133  0.0004  0.7973\n",
      "     49            \u001b[36m0.9917\u001b[0m        \u001b[32m0.2564\u001b[0m       0.5729            0.5729        1.0164  0.0003  0.8125\n",
      "     50            0.9917        \u001b[32m0.2423\u001b[0m       0.5729            0.5729        1.0183  0.0003  0.7817\n",
      "Fine tuning model for subject 7 with 320 trials\n"
     ]
    },
    {
     "name": "stderr",
     "output_type": "stream",
     "text": [
      "C:\\Users\\mengz\\anaconda3\\envs\\hyperBCI\\Lib\\site-packages\\braindecode\\models\\base.py:23: UserWarning: ShallowFBCSPNet: 'input_window_samples' is depreciated. Use 'n_times' instead.\n",
      "  warnings.warn(\n",
      "C:\\Users\\mengz\\anaconda3\\envs\\hyperBCI\\Lib\\site-packages\\braindecode\\models\\base.py:180: UserWarning: LogSoftmax final layer will be removed! Please adjust your loss function accordingly (e.g. CrossEntropyLoss)!\n",
      "  warnings.warn(\"LogSoftmax final layer will be removed! \" +\n"
     ]
    },
    {
     "name": "stdout",
     "output_type": "stream",
     "text": [
      "  epoch    train_accuracy    train_loss    valid_acc    valid_accuracy    valid_loss      lr     dur\n",
      "-------  ----------------  ------------  -----------  ----------------  ------------  ------  ------\n",
      "     31            0.4604        1.5097       0.3958            0.3958        1.3030  0.0004  0.7818\n",
      "     32            0.5813        1.2451       0.4271            0.4271        1.2510  0.0005  0.7813\n",
      "     33            0.6646        1.0665       0.4896            0.4896        1.1870  0.0005  0.7817\n",
      "     34            0.7646        0.9611       \u001b[35m0.5417\u001b[0m            \u001b[31m0.5417\u001b[0m        1.1457  0.0006  0.7819\n",
      "     35            0.8063        0.8120       \u001b[35m0.5521\u001b[0m            \u001b[31m0.5521\u001b[0m        1.1390  0.0006  0.9062\n",
      "     36            \u001b[36m0.8354\u001b[0m        \u001b[32m0.6909\u001b[0m       \u001b[35m0.5729\u001b[0m            \u001b[31m0.5729\u001b[0m        1.2029  0.0007  0.9063\n",
      "     37            \u001b[36m0.8917\u001b[0m        \u001b[32m0.6391\u001b[0m       0.5417            0.5417        1.1543  0.0007  0.8906\n",
      "     38            \u001b[36m0.9042\u001b[0m        \u001b[32m0.5622\u001b[0m       0.5625            0.5625        \u001b[94m1.0801\u001b[0m  0.0007  0.9531\n",
      "     39            \u001b[36m0.9417\u001b[0m        \u001b[32m0.5030\u001b[0m       0.5521            0.5521        1.0943  0.0007  0.7969\n",
      "     40            \u001b[36m0.9521\u001b[0m        \u001b[32m0.4385\u001b[0m       0.5625            0.5625        1.0927  0.0007  0.7812\n",
      "     41            \u001b[36m0.9729\u001b[0m        \u001b[32m0.4196\u001b[0m       \u001b[35m0.5938\u001b[0m            \u001b[31m0.5938\u001b[0m        \u001b[94m1.0488\u001b[0m  0.0007  0.7817\n",
      "     42            \u001b[36m0.9771\u001b[0m        \u001b[32m0.3746\u001b[0m       0.5729            0.5729        1.0528  0.0007  0.7975\n",
      "     43            0.9750        \u001b[32m0.3590\u001b[0m       0.5625            0.5625        1.0925  0.0006  0.7979\n",
      "     44            0.9771        0.3711       0.5833            0.5833        1.0633  0.0006  0.8125\n",
      "     45            \u001b[36m0.9812\u001b[0m        \u001b[32m0.2981\u001b[0m       0.5938            0.5938        1.0571  0.0005  0.7978\n",
      "     46            \u001b[36m0.9896\u001b[0m        0.3265       \u001b[35m0.6042\u001b[0m            \u001b[31m0.6042\u001b[0m        \u001b[94m1.0410\u001b[0m  0.0005  0.7819\n",
      "     47            \u001b[36m0.9938\u001b[0m        \u001b[32m0.2890\u001b[0m       \u001b[35m0.6146\u001b[0m            \u001b[31m0.6146\u001b[0m        \u001b[94m0.9951\u001b[0m  0.0004  0.7969\n",
      "     48            0.9938        \u001b[32m0.2661\u001b[0m       0.5833            0.5833        \u001b[94m0.9634\u001b[0m  0.0004  0.7817\n",
      "     49            \u001b[36m0.9958\u001b[0m        \u001b[32m0.2434\u001b[0m       0.5729            0.5729        0.9767  0.0003  0.9531\n",
      "     50            0.9896        0.2543       0.6146            0.6146        0.9930  0.0003  0.9375\n",
      "Fine tuning model for subject 7 with 340 trials\n"
     ]
    },
    {
     "name": "stderr",
     "output_type": "stream",
     "text": [
      "C:\\Users\\mengz\\anaconda3\\envs\\hyperBCI\\Lib\\site-packages\\braindecode\\models\\base.py:23: UserWarning: ShallowFBCSPNet: 'input_window_samples' is depreciated. Use 'n_times' instead.\n",
      "  warnings.warn(\n",
      "C:\\Users\\mengz\\anaconda3\\envs\\hyperBCI\\Lib\\site-packages\\braindecode\\models\\base.py:180: UserWarning: LogSoftmax final layer will be removed! Please adjust your loss function accordingly (e.g. CrossEntropyLoss)!\n",
      "  warnings.warn(\"LogSoftmax final layer will be removed! \" +\n"
     ]
    },
    {
     "name": "stdout",
     "output_type": "stream",
     "text": [
      "  epoch    train_accuracy    train_loss    valid_acc    valid_accuracy    valid_loss      lr     dur\n",
      "-------  ----------------  ------------  -----------  ----------------  ------------  ------  ------\n",
      "     31            0.4521        1.5457       0.3854            0.3854        1.2758  0.0004  0.9532\n",
      "     32            0.6167        1.2871       0.4479            0.4479        1.1891  0.0005  0.8129\n",
      "     33            0.7000        1.0581       0.5000            0.5000        1.1789  0.0005  0.7970\n",
      "     34            0.7646        0.9354       0.5104            0.5104        1.1777  0.0006  0.8442\n",
      "     35            \u001b[36m0.8125\u001b[0m        0.7975       0.5104            0.5104        \u001b[94m1.1254\u001b[0m  0.0006  0.8443\n",
      "     36            \u001b[36m0.8438\u001b[0m        \u001b[32m0.7204\u001b[0m       \u001b[35m0.5208\u001b[0m            \u001b[31m0.5208\u001b[0m        \u001b[94m1.1164\u001b[0m  0.0007  0.7974\n",
      "     37            \u001b[36m0.8542\u001b[0m        \u001b[32m0.6609\u001b[0m       \u001b[35m0.5312\u001b[0m            \u001b[31m0.5312\u001b[0m        \u001b[94m1.1114\u001b[0m  0.0007  0.7817\n",
      "     38            \u001b[36m0.9083\u001b[0m        \u001b[32m0.6545\u001b[0m       \u001b[35m0.5729\u001b[0m            \u001b[31m0.5729\u001b[0m        \u001b[94m1.0445\u001b[0m  0.0007  0.7813\n",
      "     39            \u001b[36m0.9521\u001b[0m        \u001b[32m0.5313\u001b[0m       \u001b[35m0.5938\u001b[0m            \u001b[31m0.5938\u001b[0m        \u001b[94m1.0358\u001b[0m  0.0007  0.7975\n",
      "     40            0.9479        \u001b[32m0.4859\u001b[0m       0.5833            0.5833        1.0674  0.0007  0.8437\n",
      "     41            0.9479        \u001b[32m0.4534\u001b[0m       \u001b[35m0.6042\u001b[0m            \u001b[31m0.6042\u001b[0m        \u001b[94m1.0210\u001b[0m  0.0007  0.7973\n",
      "     42            \u001b[36m0.9646\u001b[0m        \u001b[32m0.3631\u001b[0m       \u001b[35m0.6354\u001b[0m            \u001b[31m0.6354\u001b[0m        \u001b[94m0.9918\u001b[0m  0.0007  0.7974\n",
      "     43            \u001b[36m0.9792\u001b[0m        0.3824       0.6250            0.6250        0.9980  0.0006  0.9219\n",
      "     44            \u001b[36m0.9812\u001b[0m        \u001b[32m0.3198\u001b[0m       0.5938            0.5938        1.0324  0.0006  0.9375\n",
      "     45            0.9812        \u001b[32m0.3169\u001b[0m       0.6042            0.6042        1.0168  0.0005  1.0000\n",
      "     46            \u001b[36m0.9833\u001b[0m        \u001b[32m0.2909\u001b[0m       0.5625            0.5625        1.0209  0.0005  0.7969\n",
      "     47            0.9833        \u001b[32m0.2762\u001b[0m       \u001b[35m0.6458\u001b[0m            \u001b[31m0.6458\u001b[0m        \u001b[94m0.9425\u001b[0m  0.0004  0.7974\n",
      "     48            0.9833        0.2785       \u001b[35m0.6562\u001b[0m            \u001b[31m0.6562\u001b[0m        \u001b[94m0.9244\u001b[0m  0.0004  0.7974\n",
      "     49            \u001b[36m0.9917\u001b[0m        \u001b[32m0.2639\u001b[0m       0.6458            0.6458        0.9388  0.0003  0.7969\n",
      "     50            0.9917        \u001b[32m0.2599\u001b[0m       0.6146            0.6146        0.9580  0.0003  0.8599\n",
      "Fine tuning model for subject 7 with 360 trials\n"
     ]
    },
    {
     "name": "stderr",
     "output_type": "stream",
     "text": [
      "C:\\Users\\mengz\\anaconda3\\envs\\hyperBCI\\Lib\\site-packages\\braindecode\\models\\base.py:23: UserWarning: ShallowFBCSPNet: 'input_window_samples' is depreciated. Use 'n_times' instead.\n",
      "  warnings.warn(\n",
      "C:\\Users\\mengz\\anaconda3\\envs\\hyperBCI\\Lib\\site-packages\\braindecode\\models\\base.py:180: UserWarning: LogSoftmax final layer will be removed! Please adjust your loss function accordingly (e.g. CrossEntropyLoss)!\n",
      "  warnings.warn(\"LogSoftmax final layer will be removed! \" +\n"
     ]
    },
    {
     "name": "stdout",
     "output_type": "stream",
     "text": [
      "  epoch    train_accuracy    train_loss    valid_acc    valid_accuracy    valid_loss      lr     dur\n",
      "-------  ----------------  ------------  -----------  ----------------  ------------  ------  ------\n",
      "     31            0.4542        1.5436       0.3854            0.3854        1.2826  0.0004  0.7817\n",
      "     32            0.5875        1.2990       0.4583            0.4583        1.2070  0.0005  0.7980\n",
      "     33            0.6979        1.0705       0.4688            0.4688        1.2154  0.0005  0.7968\n",
      "     34            0.7583        0.9324       0.5000            0.5000        1.1874  0.0006  0.7813\n",
      "     35            0.7792        0.8378       0.5000            0.5000        \u001b[94m1.1143\u001b[0m  0.0006  0.7969\n",
      "     36            \u001b[36m0.8125\u001b[0m        \u001b[32m0.7281\u001b[0m       \u001b[35m0.5625\u001b[0m            \u001b[31m0.5625\u001b[0m        \u001b[94m1.0842\u001b[0m  0.0007  0.8598\n",
      "     37            \u001b[36m0.8583\u001b[0m        \u001b[32m0.6520\u001b[0m       \u001b[35m0.5729\u001b[0m            \u001b[31m0.5729\u001b[0m        1.1327  0.0007  0.9688\n",
      "     38            \u001b[36m0.8896\u001b[0m        \u001b[32m0.6146\u001b[0m       \u001b[35m0.5833\u001b[0m            \u001b[31m0.5833\u001b[0m        1.0856  0.0007  0.9844\n",
      "     39            \u001b[36m0.9146\u001b[0m        \u001b[32m0.5230\u001b[0m       0.5417            0.5417        \u001b[94m1.0634\u001b[0m  0.0007  0.8126\n",
      "     40            \u001b[36m0.9396\u001b[0m        0.5284       \u001b[35m0.6042\u001b[0m            \u001b[31m0.6042\u001b[0m        \u001b[94m1.0203\u001b[0m  0.0007  0.7841\n",
      "     41            \u001b[36m0.9479\u001b[0m        \u001b[32m0.4639\u001b[0m       0.5521            0.5521        \u001b[94m1.0119\u001b[0m  0.0007  0.7817\n",
      "     42            \u001b[36m0.9688\u001b[0m        \u001b[32m0.4313\u001b[0m       0.5312            0.5312        1.0393  0.0007  0.7837\n",
      "     43            \u001b[36m0.9708\u001b[0m        \u001b[32m0.3770\u001b[0m       0.5833            0.5833        1.0627  0.0006  0.7817\n",
      "     44            \u001b[36m0.9792\u001b[0m        \u001b[32m0.3561\u001b[0m       0.5833            0.5833        1.0197  0.0006  0.7974\n",
      "     45            \u001b[36m0.9896\u001b[0m        \u001b[32m0.3186\u001b[0m       \u001b[35m0.6250\u001b[0m            \u001b[31m0.6250\u001b[0m        \u001b[94m0.9694\u001b[0m  0.0005  0.8438\n",
      "     46            \u001b[36m0.9917\u001b[0m        \u001b[32m0.3020\u001b[0m       0.6250            0.6250        0.9803  0.0005  0.7974\n",
      "     47            \u001b[36m0.9938\u001b[0m        \u001b[32m0.2720\u001b[0m       0.6146            0.6146        0.9855  0.0004  0.7818\n",
      "     48            0.9917        0.2789       0.6250            0.6250        \u001b[94m0.9629\u001b[0m  0.0004  0.7974\n",
      "     49            0.9917        0.2873       0.5833            0.5833        \u001b[94m0.9605\u001b[0m  0.0003  0.7978\n",
      "     50            0.9938        \u001b[32m0.2332\u001b[0m       0.6042            0.6042        0.9618  0.0003  0.8594\n",
      "Fine tuning model for subject 7 with 380 trials\n"
     ]
    },
    {
     "name": "stderr",
     "output_type": "stream",
     "text": [
      "C:\\Users\\mengz\\anaconda3\\envs\\hyperBCI\\Lib\\site-packages\\braindecode\\models\\base.py:23: UserWarning: ShallowFBCSPNet: 'input_window_samples' is depreciated. Use 'n_times' instead.\n",
      "  warnings.warn(\n",
      "C:\\Users\\mengz\\anaconda3\\envs\\hyperBCI\\Lib\\site-packages\\braindecode\\models\\base.py:180: UserWarning: LogSoftmax final layer will be removed! Please adjust your loss function accordingly (e.g. CrossEntropyLoss)!\n",
      "  warnings.warn(\"LogSoftmax final layer will be removed! \" +\n"
     ]
    },
    {
     "name": "stdout",
     "output_type": "stream",
     "text": [
      "  epoch    train_accuracy    train_loss    valid_acc    valid_accuracy    valid_loss      lr     dur\n",
      "-------  ----------------  ------------  -----------  ----------------  ------------  ------  ------\n",
      "     31            0.4750        1.5239       0.4167            0.4167        1.2677  0.0004  0.9375\n",
      "     32            0.5854        1.3554       0.5000            0.5000        1.2405  0.0005  0.9688\n",
      "     33            0.6750        1.0421       \u001b[35m0.5312\u001b[0m            \u001b[31m0.5312\u001b[0m        1.1517  0.0005  0.8131\n",
      "     34            0.7792        0.9169       \u001b[35m0.5521\u001b[0m            \u001b[31m0.5521\u001b[0m        \u001b[94m1.1277\u001b[0m  0.0006  0.7974\n",
      "     35            \u001b[36m0.8125\u001b[0m        0.8109       0.5417            0.5417        1.1319  0.0006  0.7818\n",
      "     36            \u001b[36m0.8625\u001b[0m        0.7584       0.5417            0.5417        1.1726  0.0007  0.7969\n",
      "     37            \u001b[36m0.8812\u001b[0m        \u001b[32m0.6282\u001b[0m       0.5312            0.5312        \u001b[94m1.1250\u001b[0m  0.0007  0.7978\n",
      "     38            \u001b[36m0.9042\u001b[0m        \u001b[32m0.5989\u001b[0m       0.5208            0.5208        \u001b[94m1.1098\u001b[0m  0.0007  0.7812\n",
      "     39            \u001b[36m0.9333\u001b[0m        \u001b[32m0.5364\u001b[0m       \u001b[35m0.5833\u001b[0m            \u001b[31m0.5833\u001b[0m        \u001b[94m1.1074\u001b[0m  0.0007  0.7973\n",
      "     40            \u001b[36m0.9500\u001b[0m        \u001b[32m0.4840\u001b[0m       0.5521            0.5521        \u001b[94m1.0916\u001b[0m  0.0007  0.7818\n",
      "     41            0.9396        \u001b[32m0.4258\u001b[0m       0.5521            0.5521        1.1077  0.0007  0.7974\n",
      "     42            \u001b[36m0.9625\u001b[0m        \u001b[32m0.4087\u001b[0m       0.5625            0.5625        \u001b[94m1.0902\u001b[0m  0.0007  0.7913\n",
      "     43            \u001b[36m0.9792\u001b[0m        \u001b[32m0.3733\u001b[0m       0.5625            0.5625        \u001b[94m1.0316\u001b[0m  0.0006  0.7979\n",
      "     44            0.9750        \u001b[32m0.3411\u001b[0m       0.5729            0.5729        1.0478  0.0006  0.8906\n",
      "     45            \u001b[36m0.9875\u001b[0m        \u001b[32m0.3006\u001b[0m       \u001b[35m0.6146\u001b[0m            \u001b[31m0.6146\u001b[0m        \u001b[94m1.0242\u001b[0m  0.0005  0.9692\n",
      "     46            \u001b[36m0.9938\u001b[0m        0.3009       \u001b[35m0.6250\u001b[0m            \u001b[31m0.6250\u001b[0m        \u001b[94m1.0109\u001b[0m  0.0005  0.9375\n",
      "     47            0.9938        \u001b[32m0.2780\u001b[0m       0.6250            0.6250        \u001b[94m0.9872\u001b[0m  0.0004  0.9380\n",
      "     48            0.9938        \u001b[32m0.2446\u001b[0m       0.6250            0.6250        \u001b[94m0.9783\u001b[0m  0.0004  0.7812\n",
      "     49            \u001b[36m0.9958\u001b[0m        0.2637       \u001b[35m0.6354\u001b[0m            \u001b[31m0.6354\u001b[0m        0.9818  0.0003  0.7817\n",
      "     50            0.9938        0.2572       0.6354            0.6354        0.9788  0.0003  0.7812\n",
      "Fine tuning model for subject 7 with 400 trials\n"
     ]
    },
    {
     "name": "stderr",
     "output_type": "stream",
     "text": [
      "C:\\Users\\mengz\\anaconda3\\envs\\hyperBCI\\Lib\\site-packages\\braindecode\\models\\base.py:23: UserWarning: ShallowFBCSPNet: 'input_window_samples' is depreciated. Use 'n_times' instead.\n",
      "  warnings.warn(\n",
      "C:\\Users\\mengz\\anaconda3\\envs\\hyperBCI\\Lib\\site-packages\\braindecode\\models\\base.py:180: UserWarning: LogSoftmax final layer will be removed! Please adjust your loss function accordingly (e.g. CrossEntropyLoss)!\n",
      "  warnings.warn(\"LogSoftmax final layer will be removed! \" +\n"
     ]
    },
    {
     "name": "stdout",
     "output_type": "stream",
     "text": [
      "  epoch    train_accuracy    train_loss    valid_acc    valid_accuracy    valid_loss      lr     dur\n",
      "-------  ----------------  ------------  -----------  ----------------  ------------  ------  ------\n",
      "     31            0.4583        1.5694       0.4062            0.4062        1.2728  0.0004  0.7969\n",
      "     32            0.5750        1.2516       0.4583            0.4583        1.2164  0.0005  0.7817\n",
      "     33            0.7208        1.0171       0.5000            0.5000        1.1655  0.0005  0.7974\n",
      "     34            0.7479        0.9176       0.4792            0.4792        1.1753  0.0006  0.7969\n",
      "     35            0.7917        0.8550       \u001b[35m0.5208\u001b[0m            \u001b[31m0.5208\u001b[0m        1.1555  0.0006  0.8906\n",
      "     36            \u001b[36m0.8583\u001b[0m        \u001b[32m0.7160\u001b[0m       \u001b[35m0.5312\u001b[0m            \u001b[31m0.5312\u001b[0m        \u001b[94m1.0950\u001b[0m  0.0007  0.7818\n",
      "     37            \u001b[36m0.8750\u001b[0m        \u001b[32m0.6407\u001b[0m       \u001b[35m0.5938\u001b[0m            \u001b[31m0.5938\u001b[0m        \u001b[94m1.0762\u001b[0m  0.0007  0.7813\n",
      "     38            \u001b[36m0.9062\u001b[0m        \u001b[32m0.5983\u001b[0m       \u001b[35m0.6146\u001b[0m            \u001b[31m0.6146\u001b[0m        1.0838  0.0007  0.8750\n",
      "     39            \u001b[36m0.9208\u001b[0m        \u001b[32m0.5224\u001b[0m       0.5938            0.5938        1.1147  0.0007  0.9375\n",
      "     40            \u001b[36m0.9479\u001b[0m        \u001b[32m0.5057\u001b[0m       0.5833            0.5833        \u001b[94m1.0738\u001b[0m  0.0007  0.9219\n",
      "     41            0.9354        \u001b[32m0.4377\u001b[0m       0.5833            0.5833        \u001b[94m1.0664\u001b[0m  0.0007  1.2812\n",
      "     42            \u001b[36m0.9542\u001b[0m        \u001b[32m0.4211\u001b[0m       0.6042            0.6042        \u001b[94m1.0336\u001b[0m  0.0007  0.8594\n",
      "     43            \u001b[36m0.9688\u001b[0m        \u001b[32m0.3851\u001b[0m       \u001b[35m0.6250\u001b[0m            \u001b[31m0.6250\u001b[0m        \u001b[94m1.0146\u001b[0m  0.0006  0.7817\n",
      "     44            \u001b[36m0.9896\u001b[0m        \u001b[32m0.3104\u001b[0m       \u001b[35m0.6458\u001b[0m            \u001b[31m0.6458\u001b[0m        1.0192  0.0006  0.7969\n",
      "     45            \u001b[36m0.9917\u001b[0m        0.3265       0.6042            0.6042        1.0376  0.0005  0.7969\n",
      "     46            0.9917        \u001b[32m0.2727\u001b[0m       0.6042            0.6042        \u001b[94m1.0139\u001b[0m  0.0005  0.7812\n",
      "     47            \u001b[36m0.9938\u001b[0m        0.2745       0.6354            0.6354        \u001b[94m0.9633\u001b[0m  0.0004  0.7817\n",
      "     48            0.9917        \u001b[32m0.2613\u001b[0m       \u001b[35m0.6667\u001b[0m            \u001b[31m0.6667\u001b[0m        \u001b[94m0.9576\u001b[0m  0.0004  0.7812\n",
      "     49            0.9896        \u001b[32m0.2441\u001b[0m       0.6562            0.6562        \u001b[94m0.9559\u001b[0m  0.0003  0.7817\n",
      "     50            0.9938        0.2534       0.6458            0.6458        0.9781  0.0003  0.7818\n",
      "Fine tuning model for subject 7 with 420 trials\n"
     ]
    },
    {
     "name": "stderr",
     "output_type": "stream",
     "text": [
      "C:\\Users\\mengz\\anaconda3\\envs\\hyperBCI\\Lib\\site-packages\\braindecode\\models\\base.py:23: UserWarning: ShallowFBCSPNet: 'input_window_samples' is depreciated. Use 'n_times' instead.\n",
      "  warnings.warn(\n",
      "C:\\Users\\mengz\\anaconda3\\envs\\hyperBCI\\Lib\\site-packages\\braindecode\\models\\base.py:180: UserWarning: LogSoftmax final layer will be removed! Please adjust your loss function accordingly (e.g. CrossEntropyLoss)!\n",
      "  warnings.warn(\"LogSoftmax final layer will be removed! \" +\n"
     ]
    },
    {
     "name": "stdout",
     "output_type": "stream",
     "text": [
      "  epoch    train_accuracy    train_loss    valid_acc    valid_accuracy    valid_loss      lr     dur\n",
      "-------  ----------------  ------------  -----------  ----------------  ------------  ------  ------\n",
      "     31            0.4625        1.5186       0.4167            0.4167        1.2758  0.0004  0.8281\n",
      "     32            0.5875        1.2529       0.4479            0.4479        1.1680  0.0005  0.9869\n",
      "     33            0.6750        1.0820       0.4792            0.4792        1.1635  0.0005  0.9062\n",
      "     34            0.7396        0.9673       0.5104            0.5104        1.1921  0.0006  0.9225\n",
      "     35            0.8063        0.8127       \u001b[35m0.5521\u001b[0m            \u001b[31m0.5521\u001b[0m        1.1458  0.0006  0.7973\n",
      "     36            \u001b[36m0.8438\u001b[0m        \u001b[32m0.7144\u001b[0m       \u001b[35m0.5625\u001b[0m            \u001b[31m0.5625\u001b[0m        \u001b[94m1.1264\u001b[0m  0.0007  0.7817\n",
      "     37            \u001b[36m0.8938\u001b[0m        \u001b[32m0.6313\u001b[0m       \u001b[35m0.5833\u001b[0m            \u001b[31m0.5833\u001b[0m        \u001b[94m1.0946\u001b[0m  0.0007  0.7969\n",
      "     38            \u001b[36m0.9021\u001b[0m        \u001b[32m0.6005\u001b[0m       0.5521            0.5521        \u001b[94m1.0795\u001b[0m  0.0007  0.7817\n",
      "     39            \u001b[36m0.9333\u001b[0m        \u001b[32m0.5467\u001b[0m       0.5521            0.5521        1.1243  0.0007  0.7969\n",
      "     40            \u001b[36m0.9542\u001b[0m        \u001b[32m0.4947\u001b[0m       0.5208            0.5208        \u001b[94m1.0596\u001b[0m  0.0007  0.7969\n",
      "     41            0.9417        \u001b[32m0.4178\u001b[0m       0.5312            0.5312        \u001b[94m1.0544\u001b[0m  0.0007  0.7819\n",
      "     42            \u001b[36m0.9688\u001b[0m        \u001b[32m0.4048\u001b[0m       0.5729            0.5729        \u001b[94m1.0366\u001b[0m  0.0007  0.7817\n",
      "     43            \u001b[36m0.9792\u001b[0m        0.4193       \u001b[35m0.5938\u001b[0m            \u001b[31m0.5938\u001b[0m        \u001b[94m1.0247\u001b[0m  0.0006  0.7818\n",
      "     44            \u001b[36m0.9875\u001b[0m        \u001b[32m0.3421\u001b[0m       0.5938            0.5938        \u001b[94m1.0219\u001b[0m  0.0006  0.7969\n",
      "     45            0.9875        \u001b[32m0.3178\u001b[0m       \u001b[35m0.6042\u001b[0m            \u001b[31m0.6042\u001b[0m        \u001b[94m1.0187\u001b[0m  0.0005  0.8906\n",
      "     46            0.9875        \u001b[32m0.3138\u001b[0m       0.5833            0.5833        \u001b[94m0.9929\u001b[0m  0.0005  0.9532\n",
      "     47            \u001b[36m0.9896\u001b[0m        \u001b[32m0.2893\u001b[0m       0.5729            0.5729        \u001b[94m0.9739\u001b[0m  0.0004  0.9375\n",
      "     48            \u001b[36m0.9917\u001b[0m        \u001b[32m0.2628\u001b[0m       \u001b[35m0.6146\u001b[0m            \u001b[31m0.6146\u001b[0m        \u001b[94m0.9577\u001b[0m  0.0004  0.8750\n",
      "     49            0.9917        \u001b[32m0.2574\u001b[0m       0.5938            0.5938        0.9758  0.0003  0.7975\n",
      "     50            0.9917        \u001b[32m0.2566\u001b[0m       0.5938            0.5938        1.0044  0.0003  0.7973\n",
      "Fine tuning model for subject 7 with 440 trials\n"
     ]
    },
    {
     "name": "stderr",
     "output_type": "stream",
     "text": [
      "C:\\Users\\mengz\\anaconda3\\envs\\hyperBCI\\Lib\\site-packages\\braindecode\\models\\base.py:23: UserWarning: ShallowFBCSPNet: 'input_window_samples' is depreciated. Use 'n_times' instead.\n",
      "  warnings.warn(\n",
      "C:\\Users\\mengz\\anaconda3\\envs\\hyperBCI\\Lib\\site-packages\\braindecode\\models\\base.py:180: UserWarning: LogSoftmax final layer will be removed! Please adjust your loss function accordingly (e.g. CrossEntropyLoss)!\n",
      "  warnings.warn(\"LogSoftmax final layer will be removed! \" +\n"
     ]
    },
    {
     "name": "stdout",
     "output_type": "stream",
     "text": [
      "  epoch    train_accuracy    train_loss    valid_acc    valid_accuracy    valid_loss      lr     dur\n",
      "-------  ----------------  ------------  -----------  ----------------  ------------  ------  ------\n",
      "     31            0.4375        1.4770       0.4062            0.4062        1.2755  0.0004  0.9918\n",
      "     32            0.5958        1.2608       0.4479            0.4479        1.2070  0.0005  0.8150\n",
      "     33            0.6875        1.0528       0.4583            0.4583        1.2032  0.0005  0.7919\n",
      "     34            0.7521        0.9421       0.4688            0.4688        1.1909  0.0006  0.9147\n",
      "     35            \u001b[36m0.8146\u001b[0m        0.8354       \u001b[35m0.5208\u001b[0m            \u001b[31m0.5208\u001b[0m        \u001b[94m1.1222\u001b[0m  0.0006  0.8923\n",
      "     36            \u001b[36m0.8354\u001b[0m        0.7425       \u001b[35m0.5417\u001b[0m            \u001b[31m0.5417\u001b[0m        1.1265  0.0007  0.8981\n",
      "     37            \u001b[36m0.8708\u001b[0m        \u001b[32m0.6653\u001b[0m       0.5104            0.5104        1.1320  0.0007  0.8982\n",
      "     38            \u001b[36m0.9104\u001b[0m        \u001b[32m0.5856\u001b[0m       0.5417            0.5417        \u001b[94m1.0592\u001b[0m  0.0007  1.0158\n",
      "     39            \u001b[36m0.9417\u001b[0m        \u001b[32m0.5442\u001b[0m       \u001b[35m0.5833\u001b[0m            \u001b[31m0.5833\u001b[0m        \u001b[94m1.0521\u001b[0m  0.0007  0.9860\n",
      "     40            \u001b[36m0.9479\u001b[0m        \u001b[32m0.4893\u001b[0m       0.5625            0.5625        1.0684  0.0007  0.9661\n",
      "     41            0.9458        \u001b[32m0.4244\u001b[0m       0.5521            0.5521        1.0957  0.0007  0.8603\n",
      "     42            \u001b[36m0.9750\u001b[0m        \u001b[32m0.3993\u001b[0m       0.5625            0.5625        \u001b[94m1.0450\u001b[0m  0.0007  0.8107\n",
      "     43            \u001b[36m0.9792\u001b[0m        \u001b[32m0.3626\u001b[0m       0.5729            0.5729        \u001b[94m1.0311\u001b[0m  0.0006  0.8805\n",
      "     44            \u001b[36m0.9875\u001b[0m        0.3679       0.5417            0.5417        1.0506  0.0006  0.8408\n",
      "     45            0.9854        \u001b[32m0.3105\u001b[0m       \u001b[35m0.6042\u001b[0m            \u001b[31m0.6042\u001b[0m        \u001b[94m1.0097\u001b[0m  0.0005  0.8286\n",
      "     46            0.9875        \u001b[32m0.2764\u001b[0m       0.5833            0.5833        1.0117  0.0005  0.8518\n",
      "     47            \u001b[36m0.9896\u001b[0m        \u001b[32m0.2667\u001b[0m       0.5938            0.5938        \u001b[94m1.0060\u001b[0m  0.0004  0.8613\n",
      "     48            \u001b[36m0.9917\u001b[0m        0.2696       \u001b[35m0.6458\u001b[0m            \u001b[31m0.6458\u001b[0m        1.0069  0.0004  0.8397\n",
      "     49            0.9917        0.2684       0.6250            0.6250        \u001b[94m0.9807\u001b[0m  0.0003  0.8595\n",
      "     50            0.9917        \u001b[32m0.2451\u001b[0m       0.6146            0.6146        \u001b[94m0.9775\u001b[0m  0.0003  0.8239\n",
      "Fine tuning model for subject 7 with 460 trials\n"
     ]
    },
    {
     "name": "stderr",
     "output_type": "stream",
     "text": [
      "C:\\Users\\mengz\\anaconda3\\envs\\hyperBCI\\Lib\\site-packages\\braindecode\\models\\base.py:23: UserWarning: ShallowFBCSPNet: 'input_window_samples' is depreciated. Use 'n_times' instead.\n",
      "  warnings.warn(\n",
      "C:\\Users\\mengz\\anaconda3\\envs\\hyperBCI\\Lib\\site-packages\\braindecode\\models\\base.py:180: UserWarning: LogSoftmax final layer will be removed! Please adjust your loss function accordingly (e.g. CrossEntropyLoss)!\n",
      "  warnings.warn(\"LogSoftmax final layer will be removed! \" +\n"
     ]
    },
    {
     "name": "stdout",
     "output_type": "stream",
     "text": [
      "  epoch    train_accuracy    train_loss    valid_acc    valid_accuracy    valid_loss      lr     dur\n",
      "-------  ----------------  ------------  -----------  ----------------  ------------  ------  ------\n",
      "     31            0.4667        1.5463       0.4062            0.4062        1.2503  0.0004  1.0242\n",
      "     32            0.5854        1.2534       0.4688            0.4688        1.2093  0.0005  1.0521\n",
      "     33            0.6417        1.1098       0.4479            0.4479        1.1950  0.0005  1.0416\n",
      "     34            0.7417        0.9163       0.4792            0.4792        1.1728  0.0006  0.8300\n",
      "     35            0.8063        0.7965       0.5000            0.5000        1.1741  0.0006  0.8257\n",
      "     36            \u001b[36m0.8417\u001b[0m        0.7688       \u001b[35m0.5521\u001b[0m            \u001b[31m0.5521\u001b[0m        \u001b[94m1.0953\u001b[0m  0.0007  0.8313\n",
      "     37            \u001b[36m0.8792\u001b[0m        \u001b[32m0.6726\u001b[0m       \u001b[35m0.5833\u001b[0m            \u001b[31m0.5833\u001b[0m        \u001b[94m1.0948\u001b[0m  0.0007  0.8351\n",
      "     38            \u001b[36m0.9083\u001b[0m        \u001b[32m0.6295\u001b[0m       0.5208            0.5208        1.1132  0.0007  0.8957\n",
      "     39            \u001b[36m0.9167\u001b[0m        \u001b[32m0.5395\u001b[0m       0.5417            0.5417        \u001b[94m1.0864\u001b[0m  0.0007  0.8398\n",
      "     40            \u001b[36m0.9417\u001b[0m        \u001b[32m0.4733\u001b[0m       0.5625            0.5625        \u001b[94m1.0572\u001b[0m  0.0007  0.9175\n",
      "     41            \u001b[36m0.9604\u001b[0m        \u001b[32m0.4340\u001b[0m       \u001b[35m0.5938\u001b[0m            \u001b[31m0.5938\u001b[0m        \u001b[94m1.0148\u001b[0m  0.0007  0.9109\n",
      "     42            \u001b[36m0.9625\u001b[0m        \u001b[32m0.3576\u001b[0m       0.5833            0.5833        1.0166  0.0007  1.0998\n",
      "     43            \u001b[36m0.9667\u001b[0m        \u001b[32m0.3489\u001b[0m       \u001b[35m0.6042\u001b[0m            \u001b[31m0.6042\u001b[0m        1.0201  0.0006  1.3156\n",
      "     44            \u001b[36m0.9771\u001b[0m        0.3506       \u001b[35m0.6250\u001b[0m            \u001b[31m0.6250\u001b[0m        \u001b[94m0.9761\u001b[0m  0.0006  0.9450\n",
      "     45            \u001b[36m0.9875\u001b[0m        \u001b[32m0.3083\u001b[0m       \u001b[35m0.6354\u001b[0m            \u001b[31m0.6354\u001b[0m        0.9812  0.0005  1.0156\n",
      "     46            \u001b[36m0.9917\u001b[0m        0.3150       0.6354            0.6354        \u001b[94m0.9752\u001b[0m  0.0005  0.8292\n",
      "     47            \u001b[36m0.9938\u001b[0m        \u001b[32m0.2890\u001b[0m       \u001b[35m0.6667\u001b[0m            \u001b[31m0.6667\u001b[0m        \u001b[94m0.9430\u001b[0m  0.0004  0.8380\n",
      "     48            \u001b[36m0.9958\u001b[0m        \u001b[32m0.2835\u001b[0m       0.6667            0.6667        \u001b[94m0.9333\u001b[0m  0.0004  0.8409\n",
      "     49            0.9958        \u001b[32m0.2445\u001b[0m       0.6458            0.6458        0.9448  0.0003  0.8696\n",
      "     50            0.9938        \u001b[32m0.2345\u001b[0m       0.6667            0.6667        0.9526  0.0003  0.8699\n",
      "Before finetuning for subject 8, the baseline accuracy is 0.4791666666666667\n",
      "Fine tuning model for subject 8 with 20 trials\n"
     ]
    },
    {
     "name": "stderr",
     "output_type": "stream",
     "text": [
      "C:\\Users\\mengz\\anaconda3\\envs\\hyperBCI\\Lib\\site-packages\\braindecode\\models\\base.py:23: UserWarning: ShallowFBCSPNet: 'input_window_samples' is depreciated. Use 'n_times' instead.\n",
      "  warnings.warn(\n",
      "C:\\Users\\mengz\\anaconda3\\envs\\hyperBCI\\Lib\\site-packages\\braindecode\\models\\base.py:180: UserWarning: LogSoftmax final layer will be removed! Please adjust your loss function accordingly (e.g. CrossEntropyLoss)!\n",
      "  warnings.warn(\"LogSoftmax final layer will be removed! \" +\n"
     ]
    },
    {
     "name": "stdout",
     "output_type": "stream",
     "text": [
      "  epoch    train_accuracy    train_loss    valid_acc    valid_accuracy    valid_loss      lr     dur\n",
      "-------  ----------------  ------------  -----------  ----------------  ------------  ------  ------\n",
      "     31            0.7479        1.1390       0.5104            0.5104        1.2512  0.0004  1.2248\n",
      "     32            0.7604        0.8576       \u001b[35m0.5312\u001b[0m            \u001b[31m0.5312\u001b[0m        \u001b[94m1.0827\u001b[0m  0.0005  1.2046\n",
      "     33            \u001b[36m0.8187\u001b[0m        \u001b[32m0.6719\u001b[0m       0.4479            0.4479        1.2862  0.0005  1.2753\n",
      "     34            \u001b[36m0.9104\u001b[0m        \u001b[32m0.6105\u001b[0m       \u001b[35m0.5833\u001b[0m            \u001b[31m0.5833\u001b[0m        1.1377  0.0006  1.3284\n",
      "     35            \u001b[36m0.9271\u001b[0m        \u001b[32m0.4667\u001b[0m       0.5208            0.5208        1.1279  0.0006  1.6650\n",
      "     36            \u001b[36m0.9479\u001b[0m        \u001b[32m0.4257\u001b[0m       0.5104            0.5104        1.1171  0.0007  1.2025\n",
      "     37            0.9458        \u001b[32m0.4144\u001b[0m       0.5729            0.5729        1.2043  0.0007  1.1975\n",
      "     38            \u001b[36m0.9625\u001b[0m        \u001b[32m0.3477\u001b[0m       \u001b[35m0.6250\u001b[0m            \u001b[31m0.6250\u001b[0m        1.1338  0.0007  1.2351\n",
      "     39            \u001b[36m0.9708\u001b[0m        \u001b[32m0.3331\u001b[0m       0.5417            0.5417        1.2609  0.0007  1.2211\n",
      "     40            \u001b[36m0.9812\u001b[0m        \u001b[32m0.2580\u001b[0m       0.5938            0.5938        1.1433  0.0007  1.3184\n",
      "     41            0.9688        \u001b[32m0.2296\u001b[0m       0.5417            0.5417        1.3390  0.0007  1.1836\n",
      "     42            \u001b[36m0.9854\u001b[0m        \u001b[32m0.1963\u001b[0m       0.5625            0.5625        1.2643  0.0007  1.2563\n",
      "     43            \u001b[36m0.9917\u001b[0m        \u001b[32m0.1671\u001b[0m       0.5104            0.5104        1.2910  0.0006  1.2000\n",
      "     44            \u001b[36m0.9958\u001b[0m        0.1687       0.6250            0.6250        1.1593  0.0006  1.4794\n",
      "     45            0.9958        \u001b[32m0.1513\u001b[0m       0.5938            0.5938        1.2625  0.0005  1.6620\n",
      "     46            \u001b[36m0.9979\u001b[0m        \u001b[32m0.1226\u001b[0m       0.6042            0.6042        1.2056  0.0005  1.5019\n",
      "     47            0.9979        0.1231       0.6250            0.6250        1.1981  0.0004  1.3151\n",
      "     48            \u001b[36m1.0000\u001b[0m        \u001b[32m0.1164\u001b[0m       0.5938            0.5938        1.2550  0.0004  1.2448\n",
      "     49            1.0000        \u001b[32m0.0960\u001b[0m       0.6146            0.6146        1.2268  0.0003  1.2356\n",
      "     50            1.0000        \u001b[32m0.0842\u001b[0m       0.6146            0.6146        1.2030  0.0003  1.2258\n",
      "Fine tuning model for subject 8 with 40 trials\n"
     ]
    },
    {
     "name": "stderr",
     "output_type": "stream",
     "text": [
      "C:\\Users\\mengz\\anaconda3\\envs\\hyperBCI\\Lib\\site-packages\\braindecode\\models\\base.py:23: UserWarning: ShallowFBCSPNet: 'input_window_samples' is depreciated. Use 'n_times' instead.\n",
      "  warnings.warn(\n",
      "C:\\Users\\mengz\\anaconda3\\envs\\hyperBCI\\Lib\\site-packages\\braindecode\\models\\base.py:180: UserWarning: LogSoftmax final layer will be removed! Please adjust your loss function accordingly (e.g. CrossEntropyLoss)!\n",
      "  warnings.warn(\"LogSoftmax final layer will be removed! \" +\n"
     ]
    },
    {
     "name": "stdout",
     "output_type": "stream",
     "text": [
      "  epoch    train_accuracy    train_loss    valid_acc    valid_accuracy    valid_loss      lr     dur\n",
      "-------  ----------------  ------------  -----------  ----------------  ------------  ------  ------\n",
      "     31            0.6937        1.1607       \u001b[35m0.5625\u001b[0m            \u001b[31m0.5625\u001b[0m        1.2652  0.0004  1.0033\n",
      "     32            0.8042        0.8355       0.5104            0.5104        1.1699  0.0005  1.1438\n",
      "     33            \u001b[36m0.8292\u001b[0m        \u001b[32m0.6750\u001b[0m       \u001b[35m0.6042\u001b[0m            \u001b[31m0.6042\u001b[0m        1.1357  0.0005  1.1460\n",
      "     34            \u001b[36m0.9021\u001b[0m        \u001b[32m0.5574\u001b[0m       0.5417            0.5417        \u001b[94m1.1111\u001b[0m  0.0006  1.5205\n",
      "     35            \u001b[36m0.9229\u001b[0m        \u001b[32m0.4978\u001b[0m       0.5312            0.5312        1.2239  0.0006  1.4322\n",
      "     36            0.9208        \u001b[32m0.4731\u001b[0m       0.5417            0.5417        1.1679  0.0007  1.8458\n",
      "     37            \u001b[36m0.9458\u001b[0m        \u001b[32m0.4037\u001b[0m       \u001b[35m0.6354\u001b[0m            \u001b[31m0.6354\u001b[0m        \u001b[94m1.0688\u001b[0m  0.0007  1.5930\n",
      "     38            0.9354        \u001b[32m0.3419\u001b[0m       0.5625            0.5625        1.1598  0.0007  1.8911\n",
      "     39            \u001b[36m0.9771\u001b[0m        \u001b[32m0.3016\u001b[0m       0.5521            0.5521        1.1939  0.0007  1.8643\n",
      "     40            0.9729        \u001b[32m0.2708\u001b[0m       0.5729            0.5729        1.1839  0.0007  1.9769\n",
      "     41            \u001b[36m0.9833\u001b[0m        \u001b[32m0.2355\u001b[0m       0.5521            0.5521        1.2032  0.0007  2.0570\n",
      "     42            0.9812        \u001b[32m0.2221\u001b[0m       0.5521            0.5521        1.3797  0.0007  1.8334\n",
      "     43            0.9833        0.2326       0.5312            0.5312        1.3348  0.0006  1.0574\n",
      "     44            \u001b[36m0.9958\u001b[0m        \u001b[32m0.1993\u001b[0m       0.6146            0.6146        1.1806  0.0006  1.0061\n",
      "     45            0.9833        \u001b[32m0.1507\u001b[0m       0.5417            0.5417        1.2049  0.0005  0.9861\n",
      "     46            \u001b[36m0.9979\u001b[0m        0.1712       0.5521            0.5521        1.2411  0.0005  1.1174\n",
      "     47            \u001b[36m1.0000\u001b[0m        \u001b[32m0.1281\u001b[0m       0.5625            0.5625        1.2363  0.0004  0.9997\n",
      "     48            1.0000        \u001b[32m0.1256\u001b[0m       0.5417            0.5417        1.2512  0.0004  1.0202\n",
      "     49            1.0000        \u001b[32m0.1185\u001b[0m       0.5417            0.5417        1.2152  0.0003  1.0217\n",
      "     50            1.0000        \u001b[32m0.0904\u001b[0m       0.5521            0.5521        1.2316  0.0003  0.9705\n",
      "Fine tuning model for subject 8 with 60 trials\n"
     ]
    },
    {
     "name": "stderr",
     "output_type": "stream",
     "text": [
      "C:\\Users\\mengz\\anaconda3\\envs\\hyperBCI\\Lib\\site-packages\\braindecode\\models\\base.py:23: UserWarning: ShallowFBCSPNet: 'input_window_samples' is depreciated. Use 'n_times' instead.\n",
      "  warnings.warn(\n",
      "C:\\Users\\mengz\\anaconda3\\envs\\hyperBCI\\Lib\\site-packages\\braindecode\\models\\base.py:180: UserWarning: LogSoftmax final layer will be removed! Please adjust your loss function accordingly (e.g. CrossEntropyLoss)!\n",
      "  warnings.warn(\"LogSoftmax final layer will be removed! \" +\n"
     ]
    },
    {
     "name": "stdout",
     "output_type": "stream",
     "text": [
      "  epoch    train_accuracy    train_loss    valid_acc    valid_accuracy    valid_loss      lr     dur\n",
      "-------  ----------------  ------------  -----------  ----------------  ------------  ------  ------\n",
      "     31            0.6896        1.1803       0.5104            0.5104        1.2203  0.0004  1.3000\n",
      "     32            0.7708        0.8191       \u001b[35m0.5521\u001b[0m            \u001b[31m0.5521\u001b[0m        1.1895  0.0005  1.1422\n",
      "     33            \u001b[36m0.8396\u001b[0m        \u001b[32m0.6672\u001b[0m       0.5417            0.5417        \u001b[94m1.0983\u001b[0m  0.0005  0.9933\n",
      "     34            \u001b[36m0.8875\u001b[0m        \u001b[32m0.5642\u001b[0m       0.5521            0.5521        \u001b[94m1.0421\u001b[0m  0.0006  1.0591\n",
      "     35            \u001b[36m0.9125\u001b[0m        \u001b[32m0.4954\u001b[0m       0.5208            0.5208        1.0950  0.0006  0.9545\n",
      "     36            \u001b[36m0.9333\u001b[0m        \u001b[32m0.4146\u001b[0m       \u001b[35m0.5625\u001b[0m            \u001b[31m0.5625\u001b[0m        1.1206  0.0007  0.9075\n",
      "     37            0.9333        \u001b[32m0.3838\u001b[0m       0.5417            0.5417        1.1775  0.0007  0.9229\n",
      "     38            \u001b[36m0.9583\u001b[0m        \u001b[32m0.3451\u001b[0m       0.5417            0.5417        1.1501  0.0007  0.9068\n",
      "     39            \u001b[36m0.9750\u001b[0m        \u001b[32m0.3449\u001b[0m       \u001b[35m0.5938\u001b[0m            \u001b[31m0.5938\u001b[0m        1.1389  0.0007  0.8911\n",
      "     40            0.9750        \u001b[32m0.2731\u001b[0m       \u001b[35m0.6250\u001b[0m            \u001b[31m0.6250\u001b[0m        1.1238  0.0007  0.9181\n",
      "     41            \u001b[36m0.9958\u001b[0m        \u001b[32m0.2632\u001b[0m       0.5521            0.5521        1.1852  0.0007  0.9066\n",
      "     42            0.9875        \u001b[32m0.2476\u001b[0m       0.5625            0.5625        1.0963  0.0007  0.9223\n",
      "     43            0.9792        \u001b[32m0.2055\u001b[0m       0.5625            0.5625        1.0700  0.0006  1.1930\n",
      "     44            0.9938        0.2096       0.6042            0.6042        1.1211  0.0006  1.2480\n",
      "     45            0.9938        \u001b[32m0.1634\u001b[0m       0.6042            0.6042        1.1121  0.0005  1.7453\n",
      "     46            0.9958        \u001b[32m0.1589\u001b[0m       0.5521            0.5521        1.0935  0.0005  0.9219\n",
      "     47            \u001b[36m0.9979\u001b[0m        \u001b[32m0.1393\u001b[0m       0.5729            0.5729        1.1619  0.0004  0.9219\n",
      "     48            0.9979        \u001b[32m0.1284\u001b[0m       0.6042            0.6042        1.1430  0.0004  1.0047\n",
      "     49            \u001b[36m1.0000\u001b[0m        0.1393       0.6042            0.6042        1.1565  0.0003  1.0007\n",
      "     50            0.9979        \u001b[32m0.1176\u001b[0m       0.6250            0.6250        1.1198  0.0003  1.0766\n",
      "Fine tuning model for subject 8 with 80 trials\n"
     ]
    },
    {
     "name": "stderr",
     "output_type": "stream",
     "text": [
      "C:\\Users\\mengz\\anaconda3\\envs\\hyperBCI\\Lib\\site-packages\\braindecode\\models\\base.py:23: UserWarning: ShallowFBCSPNet: 'input_window_samples' is depreciated. Use 'n_times' instead.\n",
      "  warnings.warn(\n",
      "C:\\Users\\mengz\\anaconda3\\envs\\hyperBCI\\Lib\\site-packages\\braindecode\\models\\base.py:180: UserWarning: LogSoftmax final layer will be removed! Please adjust your loss function accordingly (e.g. CrossEntropyLoss)!\n",
      "  warnings.warn(\"LogSoftmax final layer will be removed! \" +\n"
     ]
    },
    {
     "name": "stdout",
     "output_type": "stream",
     "text": [
      "  epoch    train_accuracy    train_loss    valid_acc    valid_accuracy    valid_loss      lr     dur\n",
      "-------  ----------------  ------------  -----------  ----------------  ------------  ------  ------\n",
      "     31            0.6104        1.1611       0.4688            0.4688        1.3480  0.0004  0.9327\n",
      "     32            0.7438        0.8624       \u001b[35m0.5521\u001b[0m            \u001b[31m0.5521\u001b[0m        1.1919  0.0005  0.9156\n",
      "     33            0.8042        \u001b[32m0.7048\u001b[0m       \u001b[35m0.5625\u001b[0m            \u001b[31m0.5625\u001b[0m        1.1771  0.0005  0.9505\n",
      "     34            \u001b[36m0.8771\u001b[0m        \u001b[32m0.6227\u001b[0m       0.5625            0.5625        \u001b[94m1.0962\u001b[0m  0.0006  1.2479\n",
      "     35            \u001b[36m0.9062\u001b[0m        \u001b[32m0.5313\u001b[0m       0.5625            0.5625        \u001b[94m1.0799\u001b[0m  0.0006  1.7214\n",
      "     36            \u001b[36m0.9187\u001b[0m        \u001b[32m0.4491\u001b[0m       0.5625            0.5625        1.1525  0.0007  1.1301\n",
      "     37            \u001b[36m0.9313\u001b[0m        \u001b[32m0.4393\u001b[0m       \u001b[35m0.5938\u001b[0m            \u001b[31m0.5938\u001b[0m        \u001b[94m1.0745\u001b[0m  0.0007  1.0282\n",
      "     38            \u001b[36m0.9417\u001b[0m        \u001b[32m0.3812\u001b[0m       0.5417            0.5417        1.1318  0.0007  0.9986\n",
      "     39            \u001b[36m0.9625\u001b[0m        \u001b[32m0.3360\u001b[0m       \u001b[35m0.6146\u001b[0m            \u001b[31m0.6146\u001b[0m        1.1393  0.0007  1.0847\n",
      "     40            \u001b[36m0.9729\u001b[0m        \u001b[32m0.3025\u001b[0m       0.6042            0.6042        1.1093  0.0007  0.9330\n",
      "     41            0.9688        \u001b[32m0.2754\u001b[0m       0.5625            0.5625        1.0919  0.0007  1.0347\n",
      "     42            \u001b[36m0.9833\u001b[0m        \u001b[32m0.2394\u001b[0m       0.5833            0.5833        1.1245  0.0007  1.0322\n",
      "     43            \u001b[36m0.9917\u001b[0m        0.2561       0.5521            0.5521        1.1149  0.0006  1.1045\n",
      "     44            \u001b[36m0.9938\u001b[0m        \u001b[32m0.2157\u001b[0m       0.6042            0.6042        \u001b[94m1.0699\u001b[0m  0.0006  1.0220\n",
      "     45            0.9938        0.2198       \u001b[35m0.6250\u001b[0m            \u001b[31m0.6250\u001b[0m        1.0897  0.0005  1.1741\n",
      "     46            \u001b[36m0.9979\u001b[0m        \u001b[32m0.1881\u001b[0m       0.5833            0.5833        1.1224  0.0005  1.1617\n",
      "     47            0.9979        \u001b[32m0.1726\u001b[0m       0.5938            0.5938        1.1216  0.0004  0.9799\n",
      "     48            0.9979        \u001b[32m0.1524\u001b[0m       0.5833            0.5833        1.1266  0.0004  1.3486\n",
      "     49            0.9979        \u001b[32m0.1478\u001b[0m       0.5938            0.5938        1.1300  0.0003  1.3023\n",
      "     50            0.9979        \u001b[32m0.1335\u001b[0m       0.5938            0.5938        1.0932  0.0003  0.9875\n",
      "Fine tuning model for subject 8 with 100 trials\n"
     ]
    },
    {
     "name": "stderr",
     "output_type": "stream",
     "text": [
      "C:\\Users\\mengz\\anaconda3\\envs\\hyperBCI\\Lib\\site-packages\\braindecode\\models\\base.py:23: UserWarning: ShallowFBCSPNet: 'input_window_samples' is depreciated. Use 'n_times' instead.\n",
      "  warnings.warn(\n",
      "C:\\Users\\mengz\\anaconda3\\envs\\hyperBCI\\Lib\\site-packages\\braindecode\\models\\base.py:180: UserWarning: LogSoftmax final layer will be removed! Please adjust your loss function accordingly (e.g. CrossEntropyLoss)!\n",
      "  warnings.warn(\"LogSoftmax final layer will be removed! \" +\n"
     ]
    },
    {
     "name": "stdout",
     "output_type": "stream",
     "text": [
      "  epoch    train_accuracy    train_loss    valid_acc    valid_accuracy    valid_loss      lr     dur\n",
      "-------  ----------------  ------------  -----------  ----------------  ------------  ------  ------\n",
      "     31            0.6375        1.1959       0.4792            0.4792        1.1464  0.0004  0.9371\n",
      "     32            0.7146        0.9246       \u001b[35m0.5312\u001b[0m            \u001b[31m0.5312\u001b[0m        1.2404  0.0005  0.9850\n",
      "     33            0.7583        0.7890       \u001b[35m0.5833\u001b[0m            \u001b[31m0.5833\u001b[0m        1.2532  0.0005  1.1040\n",
      "     34            \u001b[36m0.8333\u001b[0m        \u001b[32m0.6762\u001b[0m       0.5208            0.5208        \u001b[94m1.1262\u001b[0m  0.0006  1.0614\n",
      "     35            \u001b[36m0.8521\u001b[0m        \u001b[32m0.5847\u001b[0m       0.5729            0.5729        \u001b[94m1.1156\u001b[0m  0.0006  1.1872\n",
      "     36            \u001b[36m0.9000\u001b[0m        \u001b[32m0.5526\u001b[0m       0.5833            0.5833        \u001b[94m1.0931\u001b[0m  0.0007  1.3484\n",
      "     37            \u001b[36m0.9062\u001b[0m        \u001b[32m0.4578\u001b[0m       \u001b[35m0.6250\u001b[0m            \u001b[31m0.6250\u001b[0m        \u001b[94m1.0656\u001b[0m  0.0007  1.1093\n",
      "     38            \u001b[36m0.9375\u001b[0m        \u001b[32m0.4275\u001b[0m       0.5625            0.5625        1.0950  0.0007  1.0483\n",
      "     39            \u001b[36m0.9458\u001b[0m        \u001b[32m0.3536\u001b[0m       0.5208            0.5208        1.1116  0.0007  0.9331\n",
      "     40            \u001b[36m0.9625\u001b[0m        \u001b[32m0.3276\u001b[0m       0.5312            0.5312        1.1087  0.0007  0.9537\n",
      "     41            0.9604        \u001b[32m0.2968\u001b[0m       0.6042            0.6042        1.1010  0.0007  0.9159\n",
      "     42            \u001b[36m0.9771\u001b[0m        \u001b[32m0.2592\u001b[0m       0.5625            0.5625        1.0955  0.0007  1.0521\n",
      "     43            \u001b[36m0.9854\u001b[0m        0.2759       0.5729            0.5729        1.1009  0.0006  1.1847\n",
      "     44            0.9833        \u001b[32m0.2585\u001b[0m       0.5625            0.5625        1.1386  0.0006  1.1055\n",
      "     45            0.9854        \u001b[32m0.2291\u001b[0m       0.5417            0.5417        1.1467  0.0005  1.1461\n",
      "     46            0.9854        \u001b[32m0.2245\u001b[0m       0.5729            0.5729        1.1512  0.0005  1.0836\n",
      "     47            \u001b[36m0.9958\u001b[0m        \u001b[32m0.1844\u001b[0m       0.5833            0.5833        1.1053  0.0004  1.0457\n",
      "     48            0.9958        0.1974       0.5729            0.5729        1.1187  0.0004  1.1484\n",
      "     49            0.9958        \u001b[32m0.1723\u001b[0m       0.5625            0.5625        1.1240  0.0003  0.8569\n",
      "     50            0.9958        0.2043       0.5521            0.5521        1.1193  0.0003  0.9437\n",
      "Fine tuning model for subject 8 with 120 trials\n"
     ]
    },
    {
     "name": "stderr",
     "output_type": "stream",
     "text": [
      "C:\\Users\\mengz\\anaconda3\\envs\\hyperBCI\\Lib\\site-packages\\braindecode\\models\\base.py:23: UserWarning: ShallowFBCSPNet: 'input_window_samples' is depreciated. Use 'n_times' instead.\n",
      "  warnings.warn(\n",
      "C:\\Users\\mengz\\anaconda3\\envs\\hyperBCI\\Lib\\site-packages\\braindecode\\models\\base.py:180: UserWarning: LogSoftmax final layer will be removed! Please adjust your loss function accordingly (e.g. CrossEntropyLoss)!\n",
      "  warnings.warn(\"LogSoftmax final layer will be removed! \" +\n"
     ]
    },
    {
     "name": "stdout",
     "output_type": "stream",
     "text": [
      "  epoch    train_accuracy    train_loss    valid_acc    valid_accuracy    valid_loss      lr     dur\n",
      "-------  ----------------  ------------  -----------  ----------------  ------------  ------  ------\n",
      "     31            0.6167        1.2024       0.4792            0.4792        1.1631  0.0004  0.8959\n",
      "     32            0.6771        0.9625       \u001b[35m0.5312\u001b[0m            \u001b[31m0.5312\u001b[0m        1.2736  0.0005  0.9661\n",
      "     33            0.7396        0.8265       \u001b[35m0.5729\u001b[0m            \u001b[31m0.5729\u001b[0m        1.1961  0.0005  0.9612\n",
      "     34            0.8083        \u001b[32m0.6712\u001b[0m       0.5625            0.5625        1.1437  0.0006  0.9518\n",
      "     35            \u001b[36m0.8625\u001b[0m        \u001b[32m0.6009\u001b[0m       0.5521            0.5521        \u001b[94m1.0780\u001b[0m  0.0006  1.0941\n",
      "     36            0.8583        \u001b[32m0.5571\u001b[0m       \u001b[35m0.5833\u001b[0m            \u001b[31m0.5833\u001b[0m        1.0890  0.0007  0.9934\n",
      "     37            \u001b[36m0.9000\u001b[0m        \u001b[32m0.4657\u001b[0m       0.5625            0.5625        \u001b[94m1.0706\u001b[0m  0.0007  1.0000\n",
      "     38            \u001b[36m0.9187\u001b[0m        \u001b[32m0.4374\u001b[0m       \u001b[35m0.6042\u001b[0m            \u001b[31m0.6042\u001b[0m        1.0744  0.0007  1.2310\n",
      "     39            \u001b[36m0.9333\u001b[0m        \u001b[32m0.4062\u001b[0m       0.5729            0.5729        1.1032  0.0007  1.2747\n",
      "     40            \u001b[36m0.9542\u001b[0m        \u001b[32m0.3777\u001b[0m       0.5938            0.5938        1.1059  0.0007  0.9541\n",
      "     41            \u001b[36m0.9688\u001b[0m        \u001b[32m0.3508\u001b[0m       0.5938            0.5938        1.0734  0.0007  0.8841\n",
      "     42            \u001b[36m0.9771\u001b[0m        \u001b[32m0.2867\u001b[0m       0.5833            0.5833        1.0732  0.0007  0.8636\n",
      "     43            \u001b[36m0.9896\u001b[0m        0.3032       0.5938            0.5938        \u001b[94m1.0620\u001b[0m  0.0006  0.8595\n",
      "     44            0.9875        \u001b[32m0.2742\u001b[0m       0.5938            0.5938        1.1100  0.0006  0.9983\n",
      "     45            0.9854        0.2763       0.5833            0.5833        1.1144  0.0005  0.9731\n",
      "     46            \u001b[36m0.9938\u001b[0m        \u001b[32m0.2226\u001b[0m       0.5938            0.5938        1.1062  0.0005  0.8983\n",
      "     47            \u001b[36m0.9958\u001b[0m        0.2267       0.5729            0.5729        1.0956  0.0004  0.9169\n",
      "     48            0.9896        \u001b[32m0.2049\u001b[0m       0.5833            0.5833        1.1133  0.0004  0.9126\n",
      "     49            0.9938        \u001b[32m0.2026\u001b[0m       0.5938            0.5938        1.1050  0.0003  0.9989\n",
      "     50            \u001b[36m0.9979\u001b[0m        \u001b[32m0.1912\u001b[0m       \u001b[35m0.6146\u001b[0m            \u001b[31m0.6146\u001b[0m        1.0865  0.0003  1.0903\n",
      "Fine tuning model for subject 8 with 140 trials\n"
     ]
    },
    {
     "name": "stderr",
     "output_type": "stream",
     "text": [
      "C:\\Users\\mengz\\anaconda3\\envs\\hyperBCI\\Lib\\site-packages\\braindecode\\models\\base.py:23: UserWarning: ShallowFBCSPNet: 'input_window_samples' is depreciated. Use 'n_times' instead.\n",
      "  warnings.warn(\n",
      "C:\\Users\\mengz\\anaconda3\\envs\\hyperBCI\\Lib\\site-packages\\braindecode\\models\\base.py:180: UserWarning: LogSoftmax final layer will be removed! Please adjust your loss function accordingly (e.g. CrossEntropyLoss)!\n",
      "  warnings.warn(\"LogSoftmax final layer will be removed! \" +\n"
     ]
    },
    {
     "name": "stdout",
     "output_type": "stream",
     "text": [
      "  epoch    train_accuracy    train_loss    valid_acc    valid_accuracy    valid_loss      lr     dur\n",
      "-------  ----------------  ------------  -----------  ----------------  ------------  ------  ------\n",
      "     31            0.6396        1.2537       0.4792            0.4792        \u001b[94m1.1069\u001b[0m  0.0004  1.0970\n",
      "     32            0.6917        1.0460       0.4792            0.4792        1.2151  0.0005  0.8863\n",
      "     33            0.7292        0.8158       \u001b[35m0.5417\u001b[0m            \u001b[31m0.5417\u001b[0m        1.2049  0.0005  0.8511\n",
      "     34            0.7958        0.7445       \u001b[35m0.5833\u001b[0m            \u001b[31m0.5833\u001b[0m        1.1316  0.0006  0.9583\n",
      "     35            \u001b[36m0.8417\u001b[0m        \u001b[32m0.6109\u001b[0m       0.5729            0.5729        \u001b[94m1.0750\u001b[0m  0.0006  0.8132\n",
      "     36            \u001b[36m0.8604\u001b[0m        \u001b[32m0.5375\u001b[0m       0.5625            0.5625        \u001b[94m1.0524\u001b[0m  0.0007  0.8327\n",
      "     37            \u001b[36m0.8625\u001b[0m        \u001b[32m0.5148\u001b[0m       0.5625            0.5625        1.0742  0.0007  0.7962\n",
      "     38            \u001b[36m0.9187\u001b[0m        \u001b[32m0.4908\u001b[0m       0.5729            0.5729        1.0825  0.0007  0.7756\n",
      "     39            \u001b[36m0.9354\u001b[0m        \u001b[32m0.4427\u001b[0m       0.5729            0.5729        \u001b[94m1.0358\u001b[0m  0.0007  0.8051\n",
      "     40            \u001b[36m0.9479\u001b[0m        \u001b[32m0.3994\u001b[0m       \u001b[35m0.6042\u001b[0m            \u001b[31m0.6042\u001b[0m        \u001b[94m1.0197\u001b[0m  0.0007  0.7883\n",
      "     41            \u001b[36m0.9563\u001b[0m        \u001b[32m0.3291\u001b[0m       0.5938            0.5938        1.0435  0.0007  0.8090\n",
      "     42            \u001b[36m0.9688\u001b[0m        0.3400       0.6042            0.6042        1.0628  0.0007  0.8374\n",
      "     43            \u001b[36m0.9708\u001b[0m        \u001b[32m0.3143\u001b[0m       0.5938            0.5938        1.0783  0.0006  0.9614\n",
      "     44            \u001b[36m0.9792\u001b[0m        \u001b[32m0.2943\u001b[0m       0.5521            0.5521        1.1067  0.0006  0.9674\n",
      "     45            0.9771        \u001b[32m0.2703\u001b[0m       0.5417            0.5417        1.1220  0.0005  0.9979\n",
      "     46            \u001b[36m0.9833\u001b[0m        \u001b[32m0.2498\u001b[0m       0.5521            0.5521        1.1034  0.0005  0.8547\n",
      "     47            \u001b[36m0.9938\u001b[0m        \u001b[32m0.2468\u001b[0m       0.6042            0.6042        1.0816  0.0004  0.8515\n",
      "     48            0.9938        \u001b[32m0.2428\u001b[0m       0.5833            0.5833        1.0808  0.0004  0.8033\n",
      "     49            0.9875        \u001b[32m0.2183\u001b[0m       0.5938            0.5938        1.0985  0.0003  0.7962\n",
      "     50            0.9938        \u001b[32m0.2108\u001b[0m       0.5938            0.5938        1.0937  0.0003  0.8274\n",
      "Fine tuning model for subject 8 with 160 trials\n"
     ]
    },
    {
     "name": "stderr",
     "output_type": "stream",
     "text": [
      "C:\\Users\\mengz\\anaconda3\\envs\\hyperBCI\\Lib\\site-packages\\braindecode\\models\\base.py:23: UserWarning: ShallowFBCSPNet: 'input_window_samples' is depreciated. Use 'n_times' instead.\n",
      "  warnings.warn(\n",
      "C:\\Users\\mengz\\anaconda3\\envs\\hyperBCI\\Lib\\site-packages\\braindecode\\models\\base.py:180: UserWarning: LogSoftmax final layer will be removed! Please adjust your loss function accordingly (e.g. CrossEntropyLoss)!\n",
      "  warnings.warn(\"LogSoftmax final layer will be removed! \" +\n"
     ]
    },
    {
     "name": "stdout",
     "output_type": "stream",
     "text": [
      "  epoch    train_accuracy    train_loss    valid_acc    valid_accuracy    valid_loss      lr     dur\n",
      "-------  ----------------  ------------  -----------  ----------------  ------------  ------  ------\n",
      "     31            0.6229        1.1483       0.4792            0.4792        1.1472  0.0004  0.8345\n",
      "     32            0.7042        0.9721       0.5000            0.5000        1.2387  0.0005  0.8025\n",
      "     33            0.7500        0.8585       \u001b[35m0.5729\u001b[0m            \u001b[31m0.5729\u001b[0m        1.2500  0.0005  0.8492\n",
      "     34            0.7792        \u001b[32m0.7035\u001b[0m       0.5625            0.5625        1.1715  0.0006  0.8780\n",
      "     35            \u001b[36m0.8313\u001b[0m        \u001b[32m0.6440\u001b[0m       0.5625            0.5625        \u001b[94m1.1062\u001b[0m  0.0006  0.8250\n",
      "     36            0.8292        \u001b[32m0.5776\u001b[0m       0.5521            0.5521        1.1062  0.0007  1.0594\n",
      "     37            \u001b[36m0.9021\u001b[0m        \u001b[32m0.4970\u001b[0m       0.5625            0.5625        \u001b[94m1.0805\u001b[0m  0.0007  0.9357\n",
      "     38            \u001b[36m0.9146\u001b[0m        \u001b[32m0.4683\u001b[0m       0.5521            0.5521        1.0925  0.0007  1.1296\n",
      "     39            \u001b[36m0.9375\u001b[0m        \u001b[32m0.3949\u001b[0m       0.5417            0.5417        \u001b[94m1.0770\u001b[0m  0.0007  0.8608\n",
      "     40            0.9250        \u001b[32m0.3761\u001b[0m       0.5729            0.5729        1.0775  0.0007  0.9169\n",
      "     41            \u001b[36m0.9479\u001b[0m        \u001b[32m0.3702\u001b[0m       \u001b[35m0.5833\u001b[0m            \u001b[31m0.5833\u001b[0m        \u001b[94m1.0746\u001b[0m  0.0007  0.9504\n",
      "     42            \u001b[36m0.9625\u001b[0m        \u001b[32m0.3464\u001b[0m       0.5729            0.5729        1.0818  0.0007  0.8856\n",
      "     43            \u001b[36m0.9667\u001b[0m        \u001b[32m0.2994\u001b[0m       0.5417            0.5417        1.0909  0.0006  0.9467\n",
      "     44            \u001b[36m0.9750\u001b[0m        \u001b[32m0.2762\u001b[0m       0.5521            0.5521        1.0786  0.0006  0.8198\n",
      "     45            \u001b[36m0.9833\u001b[0m        \u001b[32m0.2646\u001b[0m       \u001b[35m0.6042\u001b[0m            \u001b[31m0.6042\u001b[0m        1.0753  0.0005  0.8382\n",
      "     46            \u001b[36m0.9896\u001b[0m        \u001b[32m0.2557\u001b[0m       0.5938            0.5938        1.0773  0.0005  0.9047\n",
      "     47            0.9875        \u001b[32m0.2220\u001b[0m       0.6042            0.6042        1.1036  0.0004  0.8868\n",
      "     48            \u001b[36m0.9917\u001b[0m        0.2386       \u001b[35m0.6146\u001b[0m            \u001b[31m0.6146\u001b[0m        1.1062  0.0004  1.0122\n",
      "     49            0.9896        0.2546       0.6146            0.6146        1.1180  0.0003  1.0339\n",
      "     50            0.9917        \u001b[32m0.1929\u001b[0m       0.5938            0.5938        1.1022  0.0003  1.0165\n",
      "Fine tuning model for subject 8 with 180 trials\n"
     ]
    },
    {
     "name": "stderr",
     "output_type": "stream",
     "text": [
      "C:\\Users\\mengz\\anaconda3\\envs\\hyperBCI\\Lib\\site-packages\\braindecode\\models\\base.py:23: UserWarning: ShallowFBCSPNet: 'input_window_samples' is depreciated. Use 'n_times' instead.\n",
      "  warnings.warn(\n",
      "C:\\Users\\mengz\\anaconda3\\envs\\hyperBCI\\Lib\\site-packages\\braindecode\\models\\base.py:180: UserWarning: LogSoftmax final layer will be removed! Please adjust your loss function accordingly (e.g. CrossEntropyLoss)!\n",
      "  warnings.warn(\"LogSoftmax final layer will be removed! \" +\n"
     ]
    },
    {
     "name": "stdout",
     "output_type": "stream",
     "text": [
      "  epoch    train_accuracy    train_loss    valid_acc    valid_accuracy    valid_loss      lr     dur\n",
      "-------  ----------------  ------------  -----------  ----------------  ------------  ------  ------\n",
      "     31            0.6292        1.1813       \u001b[35m0.5312\u001b[0m            \u001b[31m0.5312\u001b[0m        \u001b[94m1.0866\u001b[0m  0.0004  0.8534\n",
      "     32            0.6854        0.9752       0.5000            0.5000        1.1671  0.0005  0.8012\n",
      "     33            0.7208        0.8009       0.5312            0.5312        1.2963  0.0005  0.8366\n",
      "     34            0.7917        \u001b[32m0.6857\u001b[0m       \u001b[35m0.5625\u001b[0m            \u001b[31m0.5625\u001b[0m        1.1912  0.0006  0.8559\n",
      "     35            \u001b[36m0.8354\u001b[0m        \u001b[32m0.6147\u001b[0m       0.5521            0.5521        1.1358  0.0006  1.1354\n",
      "     36            \u001b[36m0.8562\u001b[0m        \u001b[32m0.5572\u001b[0m       0.5625            0.5625        1.1559  0.0007  0.8446\n",
      "     37            \u001b[36m0.8792\u001b[0m        \u001b[32m0.5201\u001b[0m       \u001b[35m0.5729\u001b[0m            \u001b[31m0.5729\u001b[0m        1.1093  0.0007  0.7912\n",
      "     38            \u001b[36m0.8917\u001b[0m        \u001b[32m0.4714\u001b[0m       0.5729            0.5729        1.0946  0.0007  0.8154\n",
      "     39            \u001b[36m0.9208\u001b[0m        \u001b[32m0.4121\u001b[0m       0.5729            0.5729        1.1021  0.0007  0.8997\n",
      "     40            0.9208        \u001b[32m0.3965\u001b[0m       0.5417            0.5417        1.1249  0.0007  0.8415\n",
      "     41            \u001b[36m0.9500\u001b[0m        \u001b[32m0.3608\u001b[0m       0.5417            0.5417        1.1310  0.0007  0.9150\n",
      "     42            \u001b[36m0.9625\u001b[0m        0.3636       0.5417            0.5417        1.1150  0.0007  0.9156\n",
      "     43            \u001b[36m0.9750\u001b[0m        \u001b[32m0.3209\u001b[0m       \u001b[35m0.5833\u001b[0m            \u001b[31m0.5833\u001b[0m        1.1063  0.0006  0.9342\n",
      "     44            \u001b[36m0.9833\u001b[0m        \u001b[32m0.2895\u001b[0m       0.5521            0.5521        1.1121  0.0006  0.9156\n",
      "     45            0.9771        \u001b[32m0.2781\u001b[0m       0.5833            0.5833        1.1373  0.0005  0.8117\n",
      "     46            \u001b[36m0.9917\u001b[0m        \u001b[32m0.2534\u001b[0m       0.5521            0.5521        1.1073  0.0005  0.7994\n",
      "     47            \u001b[36m0.9979\u001b[0m        0.2708       0.5625            0.5625        1.0979  0.0004  0.8351\n",
      "     48            0.9896        \u001b[32m0.2161\u001b[0m       \u001b[35m0.6042\u001b[0m            \u001b[31m0.6042\u001b[0m        1.1198  0.0004  0.7985\n",
      "     49            0.9958        \u001b[32m0.1979\u001b[0m       0.5938            0.5938        1.0961  0.0003  0.8533\n",
      "     50            0.9979        0.2328       0.5833            0.5833        \u001b[94m1.0726\u001b[0m  0.0003  0.9867\n",
      "Fine tuning model for subject 8 with 200 trials\n"
     ]
    },
    {
     "name": "stderr",
     "output_type": "stream",
     "text": [
      "C:\\Users\\mengz\\anaconda3\\envs\\hyperBCI\\Lib\\site-packages\\braindecode\\models\\base.py:23: UserWarning: ShallowFBCSPNet: 'input_window_samples' is depreciated. Use 'n_times' instead.\n",
      "  warnings.warn(\n",
      "C:\\Users\\mengz\\anaconda3\\envs\\hyperBCI\\Lib\\site-packages\\braindecode\\models\\base.py:180: UserWarning: LogSoftmax final layer will be removed! Please adjust your loss function accordingly (e.g. CrossEntropyLoss)!\n",
      "  warnings.warn(\"LogSoftmax final layer will be removed! \" +\n"
     ]
    },
    {
     "name": "stdout",
     "output_type": "stream",
     "text": [
      "  epoch    train_accuracy    train_loss    valid_acc    valid_accuracy    valid_loss      lr     dur\n",
      "-------  ----------------  ------------  -----------  ----------------  ------------  ------  ------\n",
      "     31            0.6333        1.2844       0.5104            0.5104        \u001b[94m1.1068\u001b[0m  0.0004  0.8867\n",
      "     32            0.7042        0.9915       0.5000            0.5000        1.1609  0.0005  0.8018\n",
      "     33            0.7250        0.8748       \u001b[35m0.5521\u001b[0m            \u001b[31m0.5521\u001b[0m        1.2002  0.0005  0.7976\n",
      "     34            0.7833        \u001b[32m0.7232\u001b[0m       \u001b[35m0.5625\u001b[0m            \u001b[31m0.5625\u001b[0m        \u001b[94m1.0995\u001b[0m  0.0006  0.9561\n",
      "     35            \u001b[36m0.8375\u001b[0m        \u001b[32m0.6497\u001b[0m       0.5417            0.5417        \u001b[94m1.0706\u001b[0m  0.0006  1.0172\n",
      "     36            \u001b[36m0.8583\u001b[0m        \u001b[32m0.5364\u001b[0m       0.5417            0.5417        1.0939  0.0007  0.9559\n",
      "     37            \u001b[36m0.8938\u001b[0m        \u001b[32m0.5025\u001b[0m       \u001b[35m0.6042\u001b[0m            \u001b[31m0.6042\u001b[0m        1.1067  0.0007  0.8561\n",
      "     38            \u001b[36m0.9125\u001b[0m        \u001b[32m0.4445\u001b[0m       0.5729            0.5729        1.1095  0.0007  0.8022\n",
      "     39            \u001b[36m0.9250\u001b[0m        0.4762       0.5938            0.5938        \u001b[94m1.0618\u001b[0m  0.0007  0.7988\n",
      "     40            \u001b[36m0.9333\u001b[0m        \u001b[32m0.4118\u001b[0m       0.5729            0.5729        1.1178  0.0007  0.7880\n",
      "     41            \u001b[36m0.9437\u001b[0m        \u001b[32m0.3607\u001b[0m       0.5729            0.5729        \u001b[94m1.0584\u001b[0m  0.0007  0.8338\n",
      "     42            \u001b[36m0.9646\u001b[0m        \u001b[32m0.3449\u001b[0m       0.5833            0.5833        \u001b[94m1.0570\u001b[0m  0.0007  0.8688\n",
      "     43            \u001b[36m0.9667\u001b[0m        \u001b[32m0.3140\u001b[0m       0.5625            0.5625        1.0804  0.0006  0.8672\n",
      "     44            \u001b[36m0.9729\u001b[0m        \u001b[32m0.2967\u001b[0m       0.5833            0.5833        1.0637  0.0006  0.8738\n",
      "     45            0.9729        \u001b[32m0.2743\u001b[0m       \u001b[35m0.6146\u001b[0m            \u001b[31m0.6146\u001b[0m        1.0643  0.0005  0.8612\n",
      "     46            \u001b[36m0.9792\u001b[0m        \u001b[32m0.2396\u001b[0m       0.5833            0.5833        1.0792  0.0005  0.9751\n",
      "     47            \u001b[36m0.9854\u001b[0m        0.2725       0.5938            0.5938        1.0873  0.0004  1.0594\n",
      "     48            \u001b[36m0.9896\u001b[0m        \u001b[32m0.2156\u001b[0m       0.5938            0.5938        1.0682  0.0004  0.9797\n",
      "     49            \u001b[36m0.9938\u001b[0m        0.2362       0.6042            0.6042        1.0764  0.0003  1.0326\n",
      "     50            0.9938        \u001b[32m0.2016\u001b[0m       0.5938            0.5938        1.0830  0.0003  1.0052\n",
      "Fine tuning model for subject 8 with 220 trials\n"
     ]
    },
    {
     "name": "stderr",
     "output_type": "stream",
     "text": [
      "C:\\Users\\mengz\\anaconda3\\envs\\hyperBCI\\Lib\\site-packages\\braindecode\\models\\base.py:23: UserWarning: ShallowFBCSPNet: 'input_window_samples' is depreciated. Use 'n_times' instead.\n",
      "  warnings.warn(\n",
      "C:\\Users\\mengz\\anaconda3\\envs\\hyperBCI\\Lib\\site-packages\\braindecode\\models\\base.py:180: UserWarning: LogSoftmax final layer will be removed! Please adjust your loss function accordingly (e.g. CrossEntropyLoss)!\n",
      "  warnings.warn(\"LogSoftmax final layer will be removed! \" +\n"
     ]
    },
    {
     "name": "stdout",
     "output_type": "stream",
     "text": [
      "  epoch    train_accuracy    train_loss    valid_acc    valid_accuracy    valid_loss      lr     dur\n",
      "-------  ----------------  ------------  -----------  ----------------  ------------  ------  ------\n",
      "     31            0.6292        1.2198       0.4792            0.4792        \u001b[94m1.1155\u001b[0m  0.0004  0.9257\n",
      "     32            0.6979        0.9276       0.5000            0.5000        1.1803  0.0005  0.9397\n",
      "     33            0.7188        0.7754       \u001b[35m0.5521\u001b[0m            \u001b[31m0.5521\u001b[0m        1.2307  0.0005  0.7993\n",
      "     34            0.7729        \u001b[32m0.7262\u001b[0m       \u001b[35m0.5625\u001b[0m            \u001b[31m0.5625\u001b[0m        1.1172  0.0006  0.7817\n",
      "     35            \u001b[36m0.8292\u001b[0m        \u001b[32m0.6405\u001b[0m       0.5417            0.5417        \u001b[94m1.0665\u001b[0m  0.0006  0.7818\n",
      "     36            \u001b[36m0.8542\u001b[0m        \u001b[32m0.5385\u001b[0m       \u001b[35m0.5729\u001b[0m            \u001b[31m0.5729\u001b[0m        1.1134  0.0007  0.7813\n",
      "     37            \u001b[36m0.8938\u001b[0m        \u001b[32m0.5056\u001b[0m       \u001b[35m0.5833\u001b[0m            \u001b[31m0.5833\u001b[0m        1.1191  0.0007  0.7812\n",
      "     38            \u001b[36m0.9021\u001b[0m        \u001b[32m0.4836\u001b[0m       \u001b[35m0.5938\u001b[0m            \u001b[31m0.5938\u001b[0m        1.1169  0.0007  0.7813\n",
      "     39            \u001b[36m0.9208\u001b[0m        \u001b[32m0.4264\u001b[0m       0.5833            0.5833        \u001b[94m1.0563\u001b[0m  0.0007  0.8130\n",
      "     40            \u001b[36m0.9333\u001b[0m        \u001b[32m0.3801\u001b[0m       0.5938            0.5938        1.0776  0.0007  0.8906\n",
      "     41            \u001b[36m0.9458\u001b[0m        \u001b[32m0.3552\u001b[0m       0.5938            0.5938        1.0834  0.0007  0.9062\n",
      "     42            \u001b[36m0.9604\u001b[0m        \u001b[32m0.3174\u001b[0m       0.5938            0.5938        1.0914  0.0007  0.9765\n",
      "     43            \u001b[36m0.9688\u001b[0m        \u001b[32m0.2979\u001b[0m       \u001b[35m0.6042\u001b[0m            \u001b[31m0.6042\u001b[0m        1.0952  0.0006  0.9062\n",
      "     44            \u001b[36m0.9792\u001b[0m        \u001b[32m0.2900\u001b[0m       0.5938            0.5938        1.0846  0.0006  0.7969\n",
      "     45            0.9771        \u001b[32m0.2708\u001b[0m       0.5833            0.5833        1.1064  0.0005  0.8209\n",
      "     46            0.9792        0.2772       0.5833            0.5833        1.1012  0.0005  0.7817\n",
      "     47            \u001b[36m0.9896\u001b[0m        \u001b[32m0.2355\u001b[0m       0.5625            0.5625        1.0722  0.0004  0.7816\n",
      "     48            0.9896        \u001b[32m0.2317\u001b[0m       0.5729            0.5729        1.0772  0.0004  0.7969\n",
      "     49            0.9896        0.2502       0.5938            0.5938        1.0946  0.0003  0.7816\n",
      "     50            0.9875        \u001b[32m0.2079\u001b[0m       0.6042            0.6042        1.1064  0.0003  0.7817\n",
      "Fine tuning model for subject 8 with 240 trials\n"
     ]
    },
    {
     "name": "stderr",
     "output_type": "stream",
     "text": [
      "C:\\Users\\mengz\\anaconda3\\envs\\hyperBCI\\Lib\\site-packages\\braindecode\\models\\base.py:23: UserWarning: ShallowFBCSPNet: 'input_window_samples' is depreciated. Use 'n_times' instead.\n",
      "  warnings.warn(\n",
      "C:\\Users\\mengz\\anaconda3\\envs\\hyperBCI\\Lib\\site-packages\\braindecode\\models\\base.py:180: UserWarning: LogSoftmax final layer will be removed! Please adjust your loss function accordingly (e.g. CrossEntropyLoss)!\n",
      "  warnings.warn(\"LogSoftmax final layer will be removed! \" +\n"
     ]
    },
    {
     "name": "stdout",
     "output_type": "stream",
     "text": [
      "  epoch    train_accuracy    train_loss    valid_acc    valid_accuracy    valid_loss      lr     dur\n",
      "-------  ----------------  ------------  -----------  ----------------  ------------  ------  ------\n",
      "     31            0.6396        1.2404       0.4792            0.4792        \u001b[94m1.1005\u001b[0m  0.0004  0.7817\n",
      "     32            0.7000        0.9569       0.4896            0.4896        1.1441  0.0005  0.7973\n",
      "     33            0.7417        0.8301       \u001b[35m0.5417\u001b[0m            \u001b[31m0.5417\u001b[0m        1.2360  0.0005  0.7969\n",
      "     34            0.7917        0.7344       \u001b[35m0.5833\u001b[0m            \u001b[31m0.5833\u001b[0m        1.1863  0.0006  0.9063\n",
      "     35            0.8083        \u001b[32m0.6370\u001b[0m       0.5625            0.5625        1.1258  0.0006  0.8906\n",
      "     36            \u001b[36m0.8604\u001b[0m        \u001b[32m0.5558\u001b[0m       0.5625            0.5625        \u001b[94m1.0915\u001b[0m  0.0007  0.9380\n",
      "     37            \u001b[36m0.8875\u001b[0m        \u001b[32m0.4722\u001b[0m       \u001b[35m0.6042\u001b[0m            \u001b[31m0.6042\u001b[0m        \u001b[94m1.0810\u001b[0m  0.0007  0.9219\n",
      "     38            \u001b[36m0.9208\u001b[0m        0.4803       0.5625            0.5625        1.1024  0.0007  0.7812\n",
      "     39            \u001b[36m0.9375\u001b[0m        \u001b[32m0.4079\u001b[0m       0.5312            0.5312        1.1006  0.0007  0.7812\n",
      "     40            \u001b[36m0.9500\u001b[0m        \u001b[32m0.3733\u001b[0m       0.5521            0.5521        1.1071  0.0007  0.7969\n",
      "     41            0.9313        \u001b[32m0.3588\u001b[0m       0.5938            0.5938        1.1153  0.0007  0.7812\n",
      "     42            \u001b[36m0.9667\u001b[0m        \u001b[32m0.3376\u001b[0m       0.5729            0.5729        1.0993  0.0007  0.7812\n",
      "     43            \u001b[36m0.9792\u001b[0m        \u001b[32m0.3005\u001b[0m       0.5833            0.5833        1.1270  0.0006  0.8125\n",
      "     44            0.9625        \u001b[32m0.2819\u001b[0m       0.6042            0.6042        1.1343  0.0006  0.7969\n",
      "     45            \u001b[36m0.9917\u001b[0m        \u001b[32m0.2624\u001b[0m       0.5729            0.5729        1.0929  0.0005  0.8130\n",
      "     46            0.9896        \u001b[32m0.2490\u001b[0m       0.5833            0.5833        1.1157  0.0005  0.7969\n",
      "     47            0.9917        0.2604       0.5833            0.5833        1.1062  0.0004  0.8125\n",
      "     48            0.9917        \u001b[32m0.2307\u001b[0m       0.6042            0.6042        1.0926  0.0004  0.8906\n",
      "     49            \u001b[36m0.9979\u001b[0m        \u001b[32m0.2228\u001b[0m       0.5729            0.5729        1.0826  0.0003  0.8906\n",
      "     50            0.9958        \u001b[32m0.2060\u001b[0m       0.6042            0.6042        \u001b[94m1.0784\u001b[0m  0.0003  1.0312\n",
      "Fine tuning model for subject 8 with 260 trials\n"
     ]
    },
    {
     "name": "stderr",
     "output_type": "stream",
     "text": [
      "C:\\Users\\mengz\\anaconda3\\envs\\hyperBCI\\Lib\\site-packages\\braindecode\\models\\base.py:23: UserWarning: ShallowFBCSPNet: 'input_window_samples' is depreciated. Use 'n_times' instead.\n",
      "  warnings.warn(\n",
      "C:\\Users\\mengz\\anaconda3\\envs\\hyperBCI\\Lib\\site-packages\\braindecode\\models\\base.py:180: UserWarning: LogSoftmax final layer will be removed! Please adjust your loss function accordingly (e.g. CrossEntropyLoss)!\n",
      "  warnings.warn(\"LogSoftmax final layer will be removed! \" +\n"
     ]
    },
    {
     "name": "stdout",
     "output_type": "stream",
     "text": [
      "  epoch    train_accuracy    train_loss    valid_acc    valid_accuracy    valid_loss      lr     dur\n",
      "-------  ----------------  ------------  -----------  ----------------  ------------  ------  ------\n",
      "     31            0.6354        1.1983       0.4896            0.4896        \u001b[94m1.1144\u001b[0m  0.0004  0.7817\n",
      "     32            0.6771        0.9974       0.5000            0.5000        1.1960  0.0005  0.7973\n",
      "     33            0.7562        0.7968       \u001b[35m0.5417\u001b[0m            \u001b[31m0.5417\u001b[0m        1.1601  0.0005  0.8135\n",
      "     34            0.8000        \u001b[32m0.7050\u001b[0m       \u001b[35m0.5625\u001b[0m            \u001b[31m0.5625\u001b[0m        1.1301  0.0006  0.7819\n",
      "     35            \u001b[36m0.8167\u001b[0m        \u001b[32m0.6567\u001b[0m       0.5625            0.5625        1.1220  0.0006  0.7812\n",
      "     36            \u001b[36m0.8625\u001b[0m        \u001b[32m0.5297\u001b[0m       0.5417            0.5417        \u001b[94m1.0663\u001b[0m  0.0007  0.7813\n",
      "     37            \u001b[36m0.8917\u001b[0m        \u001b[32m0.5288\u001b[0m       \u001b[35m0.5833\u001b[0m            \u001b[31m0.5833\u001b[0m        1.0728  0.0007  0.7969\n",
      "     38            \u001b[36m0.9125\u001b[0m        \u001b[32m0.4717\u001b[0m       \u001b[35m0.6042\u001b[0m            \u001b[31m0.6042\u001b[0m        \u001b[94m1.0650\u001b[0m  0.0007  0.7974\n",
      "     39            \u001b[36m0.9167\u001b[0m        \u001b[32m0.4094\u001b[0m       0.5833            0.5833        1.0815  0.0007  0.7973\n",
      "     40            \u001b[36m0.9271\u001b[0m        \u001b[32m0.3864\u001b[0m       0.5833            0.5833        1.0687  0.0007  0.7816\n",
      "     41            \u001b[36m0.9458\u001b[0m        0.4080       0.5833            0.5833        1.0855  0.0007  0.8285\n",
      "     42            \u001b[36m0.9583\u001b[0m        \u001b[32m0.3565\u001b[0m       0.5729            0.5729        1.1133  0.0007  0.9067\n",
      "     43            \u001b[36m0.9729\u001b[0m        \u001b[32m0.3261\u001b[0m       0.5625            0.5625        1.1507  0.0006  0.8906\n",
      "     44            0.9708        \u001b[32m0.2934\u001b[0m       0.5833            0.5833        1.1277  0.0006  0.9375\n",
      "     45            0.9688        \u001b[32m0.2859\u001b[0m       0.5625            0.5625        1.1937  0.0005  0.8144\n",
      "     46            \u001b[36m0.9812\u001b[0m        \u001b[32m0.2839\u001b[0m       0.5833            0.5833        1.1074  0.0005  0.7817\n",
      "     47            0.9771        \u001b[32m0.2635\u001b[0m       0.5521            0.5521        1.1205  0.0004  0.7834\n",
      "     48            \u001b[36m0.9938\u001b[0m        \u001b[32m0.2474\u001b[0m       0.5833            0.5833        1.1068  0.0004  0.7818\n",
      "     49            0.9896        \u001b[32m0.2209\u001b[0m       0.5729            0.5729        1.1176  0.0003  0.7817\n",
      "     50            0.9875        \u001b[32m0.2018\u001b[0m       0.5938            0.5938        1.1319  0.0003  0.8285\n",
      "Fine tuning model for subject 8 with 280 trials\n"
     ]
    },
    {
     "name": "stderr",
     "output_type": "stream",
     "text": [
      "C:\\Users\\mengz\\anaconda3\\envs\\hyperBCI\\Lib\\site-packages\\braindecode\\models\\base.py:23: UserWarning: ShallowFBCSPNet: 'input_window_samples' is depreciated. Use 'n_times' instead.\n",
      "  warnings.warn(\n",
      "C:\\Users\\mengz\\anaconda3\\envs\\hyperBCI\\Lib\\site-packages\\braindecode\\models\\base.py:180: UserWarning: LogSoftmax final layer will be removed! Please adjust your loss function accordingly (e.g. CrossEntropyLoss)!\n",
      "  warnings.warn(\"LogSoftmax final layer will be removed! \" +\n"
     ]
    },
    {
     "name": "stdout",
     "output_type": "stream",
     "text": [
      "  epoch    train_accuracy    train_loss    valid_acc    valid_accuracy    valid_loss      lr     dur\n",
      "-------  ----------------  ------------  -----------  ----------------  ------------  ------  ------\n",
      "     31            0.6333        1.1937       0.4792            0.4792        \u001b[94m1.1198\u001b[0m  0.0004  0.7974\n",
      "     32            0.6917        1.0194       0.5000            0.5000        1.1575  0.0005  0.7813\n",
      "     33            0.7625        0.8077       \u001b[35m0.5312\u001b[0m            \u001b[31m0.5312\u001b[0m        1.1693  0.0005  0.7817\n",
      "     34            \u001b[36m0.8313\u001b[0m        \u001b[32m0.6868\u001b[0m       \u001b[35m0.5417\u001b[0m            \u001b[31m0.5417\u001b[0m        \u001b[94m1.1006\u001b[0m  0.0006  0.7818\n",
      "     35            \u001b[36m0.8521\u001b[0m        \u001b[32m0.5886\u001b[0m       \u001b[35m0.5521\u001b[0m            \u001b[31m0.5521\u001b[0m        \u001b[94m1.0815\u001b[0m  0.0006  0.8437\n",
      "     36            \u001b[36m0.8729\u001b[0m        \u001b[32m0.5217\u001b[0m       \u001b[35m0.5625\u001b[0m            \u001b[31m0.5625\u001b[0m        \u001b[94m1.0569\u001b[0m  0.0007  0.9063\n",
      "     37            0.8708        \u001b[32m0.5037\u001b[0m       \u001b[35m0.5938\u001b[0m            \u001b[31m0.5938\u001b[0m        1.1080  0.0007  0.9375\n",
      "     38            \u001b[36m0.8938\u001b[0m        \u001b[32m0.4521\u001b[0m       \u001b[35m0.6042\u001b[0m            \u001b[31m0.6042\u001b[0m        1.1204  0.0007  1.0313\n",
      "     39            \u001b[36m0.9208\u001b[0m        0.4602       0.5729            0.5729        1.1332  0.0007  0.7813\n",
      "     40            \u001b[36m0.9354\u001b[0m        \u001b[32m0.3930\u001b[0m       0.5833            0.5833        1.0968  0.0007  0.7973\n",
      "     41            0.9313        \u001b[32m0.3846\u001b[0m       0.5625            0.5625        1.0846  0.0007  0.7969\n",
      "     42            \u001b[36m0.9542\u001b[0m        \u001b[32m0.3674\u001b[0m       0.5833            0.5833        1.0839  0.0007  0.7812\n",
      "     43            0.9542        \u001b[32m0.3264\u001b[0m       0.6042            0.6042        1.1360  0.0006  0.8437\n",
      "     44            \u001b[36m0.9729\u001b[0m        \u001b[32m0.2831\u001b[0m       0.5833            0.5833        1.1098  0.0006  0.8131\n",
      "     45            \u001b[36m0.9771\u001b[0m        0.2853       0.5729            0.5729        1.1125  0.0005  0.7969\n",
      "     46            0.9771        \u001b[32m0.2576\u001b[0m       0.5729            0.5729        1.0605  0.0005  0.7812\n",
      "     47            \u001b[36m0.9854\u001b[0m        \u001b[32m0.2390\u001b[0m       0.5938            0.5938        1.0854  0.0004  0.7812\n",
      "     48            \u001b[36m0.9875\u001b[0m        \u001b[32m0.2220\u001b[0m       0.6042            0.6042        1.0934  0.0004  0.7812\n",
      "     49            \u001b[36m0.9938\u001b[0m        0.2280       0.6042            0.6042        1.0869  0.0003  0.8438\n",
      "     50            0.9917        0.2361       0.6042            0.6042        1.0687  0.0003  0.9219\n",
      "Fine tuning model for subject 8 with 300 trials\n"
     ]
    },
    {
     "name": "stderr",
     "output_type": "stream",
     "text": [
      "C:\\Users\\mengz\\anaconda3\\envs\\hyperBCI\\Lib\\site-packages\\braindecode\\models\\base.py:23: UserWarning: ShallowFBCSPNet: 'input_window_samples' is depreciated. Use 'n_times' instead.\n",
      "  warnings.warn(\n",
      "C:\\Users\\mengz\\anaconda3\\envs\\hyperBCI\\Lib\\site-packages\\braindecode\\models\\base.py:180: UserWarning: LogSoftmax final layer will be removed! Please adjust your loss function accordingly (e.g. CrossEntropyLoss)!\n",
      "  warnings.warn(\"LogSoftmax final layer will be removed! \" +\n"
     ]
    },
    {
     "name": "stdout",
     "output_type": "stream",
     "text": [
      "  epoch    train_accuracy    train_loss    valid_acc    valid_accuracy    valid_loss      lr     dur\n",
      "-------  ----------------  ------------  -----------  ----------------  ------------  ------  ------\n",
      "     31            0.6188        1.2199       0.4583            0.4583        \u001b[94m1.1200\u001b[0m  0.0004  0.9063\n",
      "     32            0.6937        0.9456       0.4688            0.4688        1.1410  0.0005  0.9375\n",
      "     33            0.7312        0.8158       \u001b[35m0.5729\u001b[0m            \u001b[31m0.5729\u001b[0m        1.1758  0.0005  0.7980\n",
      "     34            0.7688        \u001b[32m0.6679\u001b[0m       0.5729            0.5729        1.1576  0.0006  0.7973\n",
      "     35            \u001b[36m0.8292\u001b[0m        \u001b[32m0.6360\u001b[0m       0.5312            0.5312        \u001b[94m1.0915\u001b[0m  0.0006  0.7817\n",
      "     36            \u001b[36m0.8771\u001b[0m        \u001b[32m0.5326\u001b[0m       \u001b[35m0.5833\u001b[0m            \u001b[31m0.5833\u001b[0m        \u001b[94m1.0698\u001b[0m  0.0007  0.7818\n",
      "     37            \u001b[36m0.8979\u001b[0m        \u001b[32m0.4631\u001b[0m       \u001b[35m0.6042\u001b[0m            \u001b[31m0.6042\u001b[0m        \u001b[94m1.0402\u001b[0m  0.0007  0.7812\n",
      "     38            \u001b[36m0.9000\u001b[0m        0.4712       0.6042            0.6042        1.0505  0.0007  0.7813\n",
      "     39            \u001b[36m0.9083\u001b[0m        \u001b[32m0.4001\u001b[0m       0.5938            0.5938        1.0748  0.0007  0.7979\n",
      "     40            \u001b[36m0.9271\u001b[0m        \u001b[32m0.3950\u001b[0m       \u001b[35m0.6250\u001b[0m            \u001b[31m0.6250\u001b[0m        1.0873  0.0007  0.7817\n",
      "     41            \u001b[36m0.9458\u001b[0m        \u001b[32m0.3767\u001b[0m       0.5938            0.5938        1.0969  0.0007  0.7812\n",
      "     42            \u001b[36m0.9625\u001b[0m        \u001b[32m0.3127\u001b[0m       0.5938            0.5938        1.0740  0.0007  0.7813\n",
      "     43            0.9458        \u001b[32m0.3025\u001b[0m       0.5521            0.5521        1.1053  0.0006  0.8750\n",
      "     44            \u001b[36m0.9771\u001b[0m        \u001b[32m0.2960\u001b[0m       0.5729            0.5729        1.0882  0.0006  0.9380\n",
      "     45            \u001b[36m0.9812\u001b[0m        0.2961       0.5938            0.5938        1.1179  0.0005  0.9062\n",
      "     46            0.9812        \u001b[32m0.2642\u001b[0m       0.6042            0.6042        1.1025  0.0005  0.9219\n",
      "     47            \u001b[36m0.9875\u001b[0m        0.2736       0.5938            0.5938        1.0706  0.0004  0.7969\n",
      "     48            \u001b[36m0.9917\u001b[0m        \u001b[32m0.2304\u001b[0m       0.5729            0.5729        1.0705  0.0004  0.7817\n",
      "     49            \u001b[36m0.9938\u001b[0m        0.2372       0.5833            0.5833        1.0614  0.0003  0.7969\n",
      "     50            0.9938        \u001b[32m0.2056\u001b[0m       0.5625            0.5625        1.0574  0.0003  0.7973\n",
      "Fine tuning model for subject 8 with 320 trials\n"
     ]
    },
    {
     "name": "stderr",
     "output_type": "stream",
     "text": [
      "C:\\Users\\mengz\\anaconda3\\envs\\hyperBCI\\Lib\\site-packages\\braindecode\\models\\base.py:23: UserWarning: ShallowFBCSPNet: 'input_window_samples' is depreciated. Use 'n_times' instead.\n",
      "  warnings.warn(\n",
      "C:\\Users\\mengz\\anaconda3\\envs\\hyperBCI\\Lib\\site-packages\\braindecode\\models\\base.py:180: UserWarning: LogSoftmax final layer will be removed! Please adjust your loss function accordingly (e.g. CrossEntropyLoss)!\n",
      "  warnings.warn(\"LogSoftmax final layer will be removed! \" +\n"
     ]
    },
    {
     "name": "stdout",
     "output_type": "stream",
     "text": [
      "  epoch    train_accuracy    train_loss    valid_acc    valid_accuracy    valid_loss      lr     dur\n",
      "-------  ----------------  ------------  -----------  ----------------  ------------  ------  ------\n",
      "     31            0.6396        1.2096       0.5000            0.5000        1.1318  0.0004  0.7812\n",
      "     32            0.6708        0.9843       0.5104            0.5104        1.2248  0.0005  0.7817\n",
      "     33            0.7479        0.8166       \u001b[35m0.5417\u001b[0m            \u001b[31m0.5417\u001b[0m        1.2106  0.0005  0.7969\n",
      "     34            0.7771        \u001b[32m0.6703\u001b[0m       0.5312            0.5312        1.1522  0.0006  0.7817\n",
      "     35            \u001b[36m0.8167\u001b[0m        \u001b[32m0.6423\u001b[0m       0.5312            0.5312        \u001b[94m1.0824\u001b[0m  0.0006  0.7813\n",
      "     36            \u001b[36m0.8583\u001b[0m        \u001b[32m0.5604\u001b[0m       \u001b[35m0.5729\u001b[0m            \u001b[31m0.5729\u001b[0m        \u001b[94m1.0672\u001b[0m  0.0007  0.7816\n",
      "     37            \u001b[36m0.9000\u001b[0m        \u001b[32m0.5207\u001b[0m       0.5729            0.5729        \u001b[94m1.0644\u001b[0m  0.0007  0.8926\n",
      "     38            \u001b[36m0.9104\u001b[0m        \u001b[32m0.4677\u001b[0m       \u001b[35m0.5833\u001b[0m            \u001b[31m0.5833\u001b[0m        1.0812  0.0007  0.8594\n",
      "     39            \u001b[36m0.9125\u001b[0m        \u001b[32m0.3797\u001b[0m       0.5833            0.5833        1.0698  0.0007  0.8906\n",
      "     40            \u001b[36m0.9292\u001b[0m        0.4020       0.5833            0.5833        \u001b[94m1.0354\u001b[0m  0.0007  1.0000\n",
      "     41            \u001b[36m0.9583\u001b[0m        0.3956       \u001b[35m0.6042\u001b[0m            \u001b[31m0.6042\u001b[0m        1.0435  0.0007  0.7817\n",
      "     42            \u001b[36m0.9604\u001b[0m        \u001b[32m0.3277\u001b[0m       0.5938            0.5938        1.0615  0.0007  0.7817\n",
      "     43            \u001b[36m0.9833\u001b[0m        \u001b[32m0.2874\u001b[0m       0.5729            0.5729        1.0730  0.0006  0.7978\n",
      "     44            0.9812        \u001b[32m0.2819\u001b[0m       0.5625            0.5625        1.0650  0.0006  0.7812\n",
      "     45            0.9792        \u001b[32m0.2519\u001b[0m       0.5729            0.5729        1.0635  0.0005  0.7811\n",
      "     46            0.9812        0.2692       0.5729            0.5729        1.0737  0.0005  0.8124\n",
      "     47            \u001b[36m0.9875\u001b[0m        0.2559       0.5729            0.5729        1.0700  0.0004  0.8594\n",
      "     48            0.9812        \u001b[32m0.2237\u001b[0m       0.6042            0.6042        1.1081  0.0004  0.9063\n",
      "     49            \u001b[36m0.9917\u001b[0m        0.2328       0.5938            0.5938        1.0826  0.0003  0.7818\n",
      "     50            0.9896        \u001b[32m0.1912\u001b[0m       0.5938            0.5938        1.0860  0.0003  0.7973\n",
      "Fine tuning model for subject 8 with 340 trials\n"
     ]
    },
    {
     "name": "stderr",
     "output_type": "stream",
     "text": [
      "C:\\Users\\mengz\\anaconda3\\envs\\hyperBCI\\Lib\\site-packages\\braindecode\\models\\base.py:23: UserWarning: ShallowFBCSPNet: 'input_window_samples' is depreciated. Use 'n_times' instead.\n",
      "  warnings.warn(\n",
      "C:\\Users\\mengz\\anaconda3\\envs\\hyperBCI\\Lib\\site-packages\\braindecode\\models\\base.py:180: UserWarning: LogSoftmax final layer will be removed! Please adjust your loss function accordingly (e.g. CrossEntropyLoss)!\n",
      "  warnings.warn(\"LogSoftmax final layer will be removed! \" +\n"
     ]
    },
    {
     "name": "stdout",
     "output_type": "stream",
     "text": [
      "  epoch    train_accuracy    train_loss    valid_acc    valid_accuracy    valid_loss      lr     dur\n",
      "-------  ----------------  ------------  -----------  ----------------  ------------  ------  ------\n",
      "     31            0.6229        1.2422       0.4896            0.4896        \u001b[94m1.1203\u001b[0m  0.0004  0.9844\n",
      "     32            0.7042        1.0240       \u001b[35m0.5208\u001b[0m            \u001b[31m0.5208\u001b[0m        1.1450  0.0005  0.9375\n",
      "     33            0.7562        0.8257       \u001b[35m0.5417\u001b[0m            \u001b[31m0.5417\u001b[0m        1.1769  0.0005  1.0000\n",
      "     34            0.8021        \u001b[32m0.6974\u001b[0m       \u001b[35m0.5625\u001b[0m            \u001b[31m0.5625\u001b[0m        1.1402  0.0006  0.7970\n",
      "     35            \u001b[36m0.8250\u001b[0m        \u001b[32m0.6265\u001b[0m       0.5521            0.5521        \u001b[94m1.1120\u001b[0m  0.0006  0.7817\n",
      "     36            \u001b[36m0.8521\u001b[0m        \u001b[32m0.5561\u001b[0m       \u001b[35m0.5729\u001b[0m            \u001b[31m0.5729\u001b[0m        \u001b[94m1.0811\u001b[0m  0.0007  0.9063\n",
      "     37            \u001b[36m0.9021\u001b[0m        \u001b[32m0.5217\u001b[0m       \u001b[35m0.5833\u001b[0m            \u001b[31m0.5833\u001b[0m        \u001b[94m1.0698\u001b[0m  0.0007  0.8438\n",
      "     38            \u001b[36m0.9083\u001b[0m        \u001b[32m0.4238\u001b[0m       \u001b[35m0.6042\u001b[0m            \u001b[31m0.6042\u001b[0m        1.1176  0.0007  0.8281\n",
      "     39            \u001b[36m0.9333\u001b[0m        \u001b[32m0.4162\u001b[0m       0.5833            0.5833        1.1155  0.0007  0.8125\n",
      "     40            \u001b[36m0.9375\u001b[0m        \u001b[32m0.4120\u001b[0m       0.5938            0.5938        1.0798  0.0007  0.8285\n",
      "     41            \u001b[36m0.9521\u001b[0m        \u001b[32m0.3619\u001b[0m       0.5938            0.5938        1.0922  0.0007  0.7812\n",
      "     42            \u001b[36m0.9688\u001b[0m        \u001b[32m0.2931\u001b[0m       0.5833            0.5833        1.0914  0.0007  0.7812\n",
      "     43            \u001b[36m0.9812\u001b[0m        0.3188       0.5938            0.5938        1.0744  0.0006  0.7812\n",
      "     44            0.9667        \u001b[32m0.2750\u001b[0m       0.5729            0.5729        1.0833  0.0006  0.8286\n",
      "     45            \u001b[36m0.9875\u001b[0m        \u001b[32m0.2735\u001b[0m       0.5833            0.5833        \u001b[94m1.0592\u001b[0m  0.0005  1.0000\n",
      "     46            0.9833        \u001b[32m0.2570\u001b[0m       0.5729            0.5729        1.0988  0.0005  0.8754\n",
      "     47            0.9875        0.2750       0.5625            0.5625        1.1072  0.0004  0.9844\n",
      "     48            \u001b[36m0.9896\u001b[0m        \u001b[32m0.2357\u001b[0m       0.6042            0.6042        1.1193  0.0004  0.7813\n",
      "     49            \u001b[36m0.9938\u001b[0m        \u001b[32m0.2215\u001b[0m       0.6042            0.6042        1.0922  0.0003  0.7969\n",
      "     50            \u001b[36m0.9958\u001b[0m        \u001b[32m0.2136\u001b[0m       0.5938            0.5938        \u001b[94m1.0555\u001b[0m  0.0003  0.7969\n",
      "Fine tuning model for subject 8 with 360 trials\n"
     ]
    },
    {
     "name": "stderr",
     "output_type": "stream",
     "text": [
      "C:\\Users\\mengz\\anaconda3\\envs\\hyperBCI\\Lib\\site-packages\\braindecode\\models\\base.py:23: UserWarning: ShallowFBCSPNet: 'input_window_samples' is depreciated. Use 'n_times' instead.\n",
      "  warnings.warn(\n",
      "C:\\Users\\mengz\\anaconda3\\envs\\hyperBCI\\Lib\\site-packages\\braindecode\\models\\base.py:180: UserWarning: LogSoftmax final layer will be removed! Please adjust your loss function accordingly (e.g. CrossEntropyLoss)!\n",
      "  warnings.warn(\"LogSoftmax final layer will be removed! \" +\n"
     ]
    },
    {
     "name": "stdout",
     "output_type": "stream",
     "text": [
      "  epoch    train_accuracy    train_loss    valid_acc    valid_accuracy    valid_loss      lr     dur\n",
      "-------  ----------------  ------------  -----------  ----------------  ------------  ------  ------\n",
      "     31            0.6312        1.2005       0.4792            0.4792        \u001b[94m1.1232\u001b[0m  0.0004  0.8130\n",
      "     32            0.6958        0.9781       0.4688            0.4688        1.2072  0.0005  0.7814\n",
      "     33            0.7375        0.8472       \u001b[35m0.5312\u001b[0m            \u001b[31m0.5312\u001b[0m        1.2535  0.0005  0.7812\n",
      "     34            0.7625        \u001b[32m0.6859\u001b[0m       \u001b[35m0.5521\u001b[0m            \u001b[31m0.5521\u001b[0m        1.2521  0.0006  0.7812\n",
      "     35            0.8104        \u001b[32m0.6117\u001b[0m       0.5521            0.5521        1.1788  0.0006  0.7813\n",
      "     36            \u001b[36m0.8688\u001b[0m        \u001b[32m0.5741\u001b[0m       \u001b[35m0.5938\u001b[0m            \u001b[31m0.5938\u001b[0m        1.1346  0.0007  0.8131\n",
      "     37            \u001b[36m0.8938\u001b[0m        \u001b[32m0.4809\u001b[0m       0.5729            0.5729        \u001b[94m1.1229\u001b[0m  0.0007  0.8126\n",
      "     38            \u001b[36m0.9146\u001b[0m        \u001b[32m0.4645\u001b[0m       0.5833            0.5833        \u001b[94m1.1045\u001b[0m  0.0007  0.9063\n",
      "     39            \u001b[36m0.9271\u001b[0m        \u001b[32m0.4298\u001b[0m       0.5938            0.5938        \u001b[94m1.0858\u001b[0m  0.0007  0.9531\n",
      "     40            \u001b[36m0.9479\u001b[0m        \u001b[32m0.3901\u001b[0m       \u001b[35m0.6042\u001b[0m            \u001b[31m0.6042\u001b[0m        1.1235  0.0007  0.9688\n",
      "     41            \u001b[36m0.9542\u001b[0m        \u001b[32m0.3765\u001b[0m       0.5729            0.5729        1.1086  0.0007  0.8287\n",
      "     42            \u001b[36m0.9667\u001b[0m        \u001b[32m0.3313\u001b[0m       0.6042            0.6042        1.1532  0.0007  0.8125\n",
      "     43            \u001b[36m0.9708\u001b[0m        \u001b[32m0.3194\u001b[0m       0.5521            0.5521        1.1807  0.0006  0.7817\n",
      "     44            \u001b[36m0.9812\u001b[0m        \u001b[32m0.3039\u001b[0m       0.5938            0.5938        1.1193  0.0006  0.7973\n",
      "     45            \u001b[36m0.9833\u001b[0m        \u001b[32m0.2775\u001b[0m       0.5729            0.5729        1.1127  0.0005  0.7817\n",
      "     46            \u001b[36m0.9854\u001b[0m        \u001b[32m0.2584\u001b[0m       0.5625            0.5625        1.1272  0.0005  0.7812\n",
      "     47            \u001b[36m0.9917\u001b[0m        \u001b[32m0.2232\u001b[0m       0.5625            0.5625        1.1045  0.0004  0.7971\n",
      "     48            0.9896        0.2341       0.5729            0.5729        1.1095  0.0004  0.7969\n",
      "     49            \u001b[36m0.9938\u001b[0m        0.2471       0.5833            0.5833        1.1110  0.0003  0.7989\n",
      "     50            0.9938        \u001b[32m0.2173\u001b[0m       0.5938            0.5938        1.1085  0.0003  0.7969\n",
      "Fine tuning model for subject 8 with 380 trials\n"
     ]
    },
    {
     "name": "stderr",
     "output_type": "stream",
     "text": [
      "C:\\Users\\mengz\\anaconda3\\envs\\hyperBCI\\Lib\\site-packages\\braindecode\\models\\base.py:23: UserWarning: ShallowFBCSPNet: 'input_window_samples' is depreciated. Use 'n_times' instead.\n",
      "  warnings.warn(\n",
      "C:\\Users\\mengz\\anaconda3\\envs\\hyperBCI\\Lib\\site-packages\\braindecode\\models\\base.py:180: UserWarning: LogSoftmax final layer will be removed! Please adjust your loss function accordingly (e.g. CrossEntropyLoss)!\n",
      "  warnings.warn(\"LogSoftmax final layer will be removed! \" +\n"
     ]
    },
    {
     "name": "stdout",
     "output_type": "stream",
     "text": [
      "  epoch    train_accuracy    train_loss    valid_acc    valid_accuracy    valid_loss      lr     dur\n",
      "-------  ----------------  ------------  -----------  ----------------  ------------  ------  ------\n",
      "     31            0.6312        1.2347       0.4688            0.4688        \u001b[94m1.1129\u001b[0m  0.0004  0.7830\n",
      "     32            0.7125        1.0077       0.5000            0.5000        1.1450  0.0005  0.9063\n",
      "     33            0.7562        0.7976       \u001b[35m0.5312\u001b[0m            \u001b[31m0.5312\u001b[0m        1.1964  0.0005  0.8599\n",
      "     34            0.7833        \u001b[32m0.6917\u001b[0m       \u001b[35m0.5729\u001b[0m            \u001b[31m0.5729\u001b[0m        1.1677  0.0006  0.9844\n",
      "     35            \u001b[36m0.8271\u001b[0m        \u001b[32m0.6132\u001b[0m       0.5625            0.5625        \u001b[94m1.0884\u001b[0m  0.0006  0.8750\n",
      "     36            \u001b[36m0.8750\u001b[0m        \u001b[32m0.5841\u001b[0m       0.5417            0.5417        \u001b[94m1.0758\u001b[0m  0.0007  0.8282\n",
      "     37            \u001b[36m0.9083\u001b[0m        \u001b[32m0.5045\u001b[0m       0.5521            0.5521        \u001b[94m1.0564\u001b[0m  0.0007  0.7734\n",
      "     38            \u001b[36m0.9146\u001b[0m        \u001b[32m0.4561\u001b[0m       \u001b[35m0.6354\u001b[0m            \u001b[31m0.6354\u001b[0m        1.0730  0.0007  0.7817\n",
      "     39            \u001b[36m0.9229\u001b[0m        \u001b[32m0.4304\u001b[0m       \u001b[35m0.6458\u001b[0m            \u001b[31m0.6458\u001b[0m        1.0617  0.0007  0.7818\n",
      "     40            \u001b[36m0.9375\u001b[0m        \u001b[32m0.4195\u001b[0m       0.5833            0.5833        1.0658  0.0007  0.7812\n",
      "     41            \u001b[36m0.9500\u001b[0m        \u001b[32m0.3366\u001b[0m       0.5833            0.5833        \u001b[94m1.0513\u001b[0m  0.0007  0.7817\n",
      "     42            \u001b[36m0.9604\u001b[0m        \u001b[32m0.3059\u001b[0m       0.5833            0.5833        1.0563  0.0007  0.8281\n",
      "     43            \u001b[36m0.9667\u001b[0m        \u001b[32m0.2810\u001b[0m       0.5938            0.5938        1.0633  0.0006  0.7817\n",
      "     44            \u001b[36m0.9708\u001b[0m        \u001b[32m0.2720\u001b[0m       0.6146            0.6146        1.0709  0.0006  0.7817\n",
      "     45            \u001b[36m0.9792\u001b[0m        0.2787       0.5938            0.5938        1.0517  0.0005  0.7974\n",
      "     46            \u001b[36m0.9812\u001b[0m        \u001b[32m0.2586\u001b[0m       0.5938            0.5938        1.0635  0.0005  0.9223\n",
      "     47            \u001b[36m0.9917\u001b[0m        0.2680       0.5938            0.5938        1.0732  0.0004  0.8750\n",
      "     48            0.9854        \u001b[32m0.2423\u001b[0m       0.5625            0.5625        1.0889  0.0004  0.9850\n",
      "     49            0.9833        \u001b[32m0.2223\u001b[0m       0.5729            0.5729        1.0938  0.0003  0.8907\n",
      "     50            0.9917        0.2278       0.5833            0.5833        1.0789  0.0003  0.7818\n",
      "Fine tuning model for subject 8 with 400 trials\n"
     ]
    },
    {
     "name": "stderr",
     "output_type": "stream",
     "text": [
      "C:\\Users\\mengz\\anaconda3\\envs\\hyperBCI\\Lib\\site-packages\\braindecode\\models\\base.py:23: UserWarning: ShallowFBCSPNet: 'input_window_samples' is depreciated. Use 'n_times' instead.\n",
      "  warnings.warn(\n",
      "C:\\Users\\mengz\\anaconda3\\envs\\hyperBCI\\Lib\\site-packages\\braindecode\\models\\base.py:180: UserWarning: LogSoftmax final layer will be removed! Please adjust your loss function accordingly (e.g. CrossEntropyLoss)!\n",
      "  warnings.warn(\"LogSoftmax final layer will be removed! \" +\n"
     ]
    },
    {
     "name": "stdout",
     "output_type": "stream",
     "text": [
      "  epoch    train_accuracy    train_loss    valid_acc    valid_accuracy    valid_loss      lr     dur\n",
      "-------  ----------------  ------------  -----------  ----------------  ------------  ------  ------\n",
      "     31            0.6354        1.2339       0.5104            0.5104        1.1411  0.0004  0.7969\n",
      "     32            0.6937        0.9274       0.4896            0.4896        1.1861  0.0005  0.8126\n",
      "     33            0.7562        0.8361       \u001b[35m0.5521\u001b[0m            \u001b[31m0.5521\u001b[0m        1.1758  0.0005  0.7817\n",
      "     34            0.7958        0.7360       \u001b[35m0.5729\u001b[0m            \u001b[31m0.5729\u001b[0m        \u001b[94m1.1165\u001b[0m  0.0006  0.7974\n",
      "     35            \u001b[36m0.8229\u001b[0m        \u001b[32m0.6221\u001b[0m       0.5417            0.5417        \u001b[94m1.0915\u001b[0m  0.0006  0.7974\n",
      "     36            \u001b[36m0.8438\u001b[0m        \u001b[32m0.5431\u001b[0m       \u001b[35m0.5938\u001b[0m            \u001b[31m0.5938\u001b[0m        \u001b[94m1.0846\u001b[0m  0.0007  0.7969\n",
      "     37            \u001b[36m0.8646\u001b[0m        \u001b[32m0.5215\u001b[0m       \u001b[35m0.6042\u001b[0m            \u001b[31m0.6042\u001b[0m        \u001b[94m1.0811\u001b[0m  0.0007  0.7813\n",
      "     38            \u001b[36m0.9104\u001b[0m        \u001b[32m0.4688\u001b[0m       0.5521            0.5521        1.0841  0.0007  0.7818\n",
      "     39            \u001b[36m0.9313\u001b[0m        \u001b[32m0.4178\u001b[0m       0.5521            0.5521        1.1016  0.0007  0.7812\n",
      "     40            \u001b[36m0.9458\u001b[0m        \u001b[32m0.3935\u001b[0m       0.5938            0.5938        \u001b[94m1.0473\u001b[0m  0.0007  0.9063\n",
      "     41            0.9250        \u001b[32m0.3914\u001b[0m       0.5625            0.5625        1.0488  0.0007  0.9219\n",
      "     42            0.9437        \u001b[32m0.3548\u001b[0m       0.5625            0.5625        \u001b[94m0.9998\u001b[0m  0.0007  1.0469\n",
      "     43            \u001b[36m0.9583\u001b[0m        \u001b[32m0.2989\u001b[0m       \u001b[35m0.6146\u001b[0m            \u001b[31m0.6146\u001b[0m        1.0400  0.0006  0.7813\n",
      "     44            \u001b[36m0.9625\u001b[0m        0.3035       0.5938            0.5938        1.0694  0.0006  0.7817\n",
      "     45            \u001b[36m0.9833\u001b[0m        \u001b[32m0.2901\u001b[0m       0.6042            0.6042        1.0477  0.0005  0.7812\n",
      "     46            0.9812        \u001b[32m0.2696\u001b[0m       0.6042            0.6042        1.0396  0.0005  0.7817\n",
      "     47            \u001b[36m0.9896\u001b[0m        \u001b[32m0.2188\u001b[0m       0.5833            0.5833        1.0522  0.0004  0.7813\n",
      "     48            \u001b[36m0.9958\u001b[0m        0.2384       0.6146            0.6146        1.0478  0.0004  0.7974\n",
      "     49            0.9958        0.2225       0.6042            0.6042        1.0438  0.0003  0.7973\n",
      "     50            0.9896        \u001b[32m0.2035\u001b[0m       0.5938            0.5938        1.0552  0.0003  0.7969\n",
      "Fine tuning model for subject 8 with 420 trials\n"
     ]
    },
    {
     "name": "stderr",
     "output_type": "stream",
     "text": [
      "C:\\Users\\mengz\\anaconda3\\envs\\hyperBCI\\Lib\\site-packages\\braindecode\\models\\base.py:23: UserWarning: ShallowFBCSPNet: 'input_window_samples' is depreciated. Use 'n_times' instead.\n",
      "  warnings.warn(\n",
      "C:\\Users\\mengz\\anaconda3\\envs\\hyperBCI\\Lib\\site-packages\\braindecode\\models\\base.py:180: UserWarning: LogSoftmax final layer will be removed! Please adjust your loss function accordingly (e.g. CrossEntropyLoss)!\n",
      "  warnings.warn(\"LogSoftmax final layer will be removed! \" +\n"
     ]
    },
    {
     "name": "stdout",
     "output_type": "stream",
     "text": [
      "  epoch    train_accuracy    train_loss    valid_acc    valid_accuracy    valid_loss      lr     dur\n",
      "-------  ----------------  ------------  -----------  ----------------  ------------  ------  ------\n",
      "     31            0.6354        1.2104       0.5104            0.5104        \u001b[94m1.1150\u001b[0m  0.0004  0.7815\n",
      "     32            0.6625        0.9611       \u001b[35m0.5208\u001b[0m            \u001b[31m0.5208\u001b[0m        1.3017  0.0005  0.7812\n",
      "     33            0.7229        0.8111       0.5208            0.5208        1.3434  0.0005  0.8125\n",
      "     34            0.8083        0.7366       \u001b[35m0.5729\u001b[0m            \u001b[31m0.5729\u001b[0m        1.1512  0.0006  0.9531\n",
      "     35            \u001b[36m0.8333\u001b[0m        \u001b[32m0.6416\u001b[0m       0.5625            0.5625        \u001b[94m1.0979\u001b[0m  0.0006  0.9062\n",
      "     36            \u001b[36m0.8646\u001b[0m        \u001b[32m0.5451\u001b[0m       \u001b[35m0.5833\u001b[0m            \u001b[31m0.5833\u001b[0m        \u001b[94m1.0854\u001b[0m  0.0007  0.9844\n",
      "     37            \u001b[36m0.8750\u001b[0m        \u001b[32m0.5078\u001b[0m       0.5833            0.5833        1.0863  0.0007  0.7823\n",
      "     38            \u001b[36m0.9125\u001b[0m        \u001b[32m0.4750\u001b[0m       0.5625            0.5625        \u001b[94m1.0791\u001b[0m  0.0007  0.7818\n",
      "     39            \u001b[36m0.9250\u001b[0m        \u001b[32m0.4459\u001b[0m       0.5833            0.5833        1.1085  0.0007  0.7812\n",
      "     40            \u001b[36m0.9333\u001b[0m        \u001b[32m0.4262\u001b[0m       \u001b[35m0.5938\u001b[0m            \u001b[31m0.5938\u001b[0m        \u001b[94m1.0576\u001b[0m  0.0007  0.7968\n",
      "     41            \u001b[36m0.9500\u001b[0m        \u001b[32m0.3676\u001b[0m       \u001b[35m0.6146\u001b[0m            \u001b[31m0.6146\u001b[0m        1.0671  0.0007  0.7813\n",
      "     42            \u001b[36m0.9667\u001b[0m        \u001b[32m0.3489\u001b[0m       0.5729            0.5729        1.0764  0.0007  0.7818\n",
      "     43            \u001b[36m0.9729\u001b[0m        \u001b[32m0.3409\u001b[0m       0.6146            0.6146        1.0824  0.0006  0.7818\n",
      "     44            \u001b[36m0.9750\u001b[0m        \u001b[32m0.3177\u001b[0m       0.6146            0.6146        1.0766  0.0006  0.7816\n",
      "     45            \u001b[36m0.9833\u001b[0m        \u001b[32m0.2628\u001b[0m       0.6042            0.6042        1.0826  0.0005  0.7969\n",
      "     46            0.9833        0.2898       0.5833            0.5833        1.0992  0.0005  0.7969\n",
      "     47            \u001b[36m0.9875\u001b[0m        \u001b[32m0.2483\u001b[0m       0.5833            0.5833        1.0752  0.0004  0.8281\n",
      "     48            \u001b[36m0.9958\u001b[0m        \u001b[32m0.2480\u001b[0m       0.6042            0.6042        1.0756  0.0004  0.9219\n",
      "     49            0.9938        \u001b[32m0.2156\u001b[0m       0.6042            0.6042        1.0734  0.0003  0.9063\n",
      "     50            0.9938        0.2401       0.5938            0.5938        1.0693  0.0003  0.9693\n",
      "Fine tuning model for subject 8 with 440 trials\n"
     ]
    },
    {
     "name": "stderr",
     "output_type": "stream",
     "text": [
      "C:\\Users\\mengz\\anaconda3\\envs\\hyperBCI\\Lib\\site-packages\\braindecode\\models\\base.py:23: UserWarning: ShallowFBCSPNet: 'input_window_samples' is depreciated. Use 'n_times' instead.\n",
      "  warnings.warn(\n",
      "C:\\Users\\mengz\\anaconda3\\envs\\hyperBCI\\Lib\\site-packages\\braindecode\\models\\base.py:180: UserWarning: LogSoftmax final layer will be removed! Please adjust your loss function accordingly (e.g. CrossEntropyLoss)!\n",
      "  warnings.warn(\"LogSoftmax final layer will be removed! \" +\n"
     ]
    },
    {
     "name": "stdout",
     "output_type": "stream",
     "text": [
      "  epoch    train_accuracy    train_loss    valid_acc    valid_accuracy    valid_loss      lr     dur\n",
      "-------  ----------------  ------------  -----------  ----------------  ------------  ------  ------\n",
      "     31            0.6396        1.2315       0.5000            0.5000        \u001b[94m1.1000\u001b[0m  0.0004  0.7817\n",
      "     32            0.6875        1.0143       0.5000            0.5000        1.1800  0.0005  0.7817\n",
      "     33            0.7000        0.8396       \u001b[35m0.5625\u001b[0m            \u001b[31m0.5625\u001b[0m        1.3024  0.0005  1.0005\n",
      "     34            0.7729        \u001b[32m0.6748\u001b[0m       \u001b[35m0.5833\u001b[0m            \u001b[31m0.5833\u001b[0m        1.2762  0.0006  0.7969\n",
      "     35            \u001b[36m0.8313\u001b[0m        \u001b[32m0.5975\u001b[0m       0.5521            0.5521        1.1539  0.0006  0.7823\n",
      "     36            \u001b[36m0.8562\u001b[0m        0.6076       0.5417            0.5417        1.1362  0.0007  0.7811\n",
      "     37            \u001b[36m0.8833\u001b[0m        \u001b[32m0.5086\u001b[0m       0.5417            0.5417        1.1031  0.0007  0.7814\n",
      "     38            \u001b[36m0.9062\u001b[0m        \u001b[32m0.4867\u001b[0m       0.5625            0.5625        \u001b[94m1.0790\u001b[0m  0.0007  0.8756\n",
      "     39            \u001b[36m0.9292\u001b[0m        \u001b[32m0.4528\u001b[0m       0.5625            0.5625        \u001b[94m1.0753\u001b[0m  0.0007  0.7812\n",
      "     40            \u001b[36m0.9417\u001b[0m        \u001b[32m0.4223\u001b[0m       0.5521            0.5521        \u001b[94m1.0649\u001b[0m  0.0007  0.7969\n",
      "     41            \u001b[36m0.9583\u001b[0m        \u001b[32m0.3644\u001b[0m       \u001b[35m0.5938\u001b[0m            \u001b[31m0.5938\u001b[0m        1.0652  0.0007  0.9219\n",
      "     42            \u001b[36m0.9646\u001b[0m        \u001b[32m0.3193\u001b[0m       0.5625            0.5625        1.1032  0.0007  0.9219\n",
      "     43            \u001b[36m0.9708\u001b[0m        \u001b[32m0.2738\u001b[0m       0.5729            0.5729        1.1190  0.0006  0.9219\n",
      "     44            \u001b[36m0.9812\u001b[0m        0.2889       0.5625            0.5625        1.1129  0.0006  0.9380\n",
      "     45            0.9750        0.3174       0.5833            0.5833        1.0806  0.0005  0.7817\n",
      "     46            \u001b[36m0.9917\u001b[0m        \u001b[32m0.2723\u001b[0m       0.5833            0.5833        1.0754  0.0005  0.7817\n",
      "     47            0.9896        \u001b[32m0.2379\u001b[0m       0.5729            0.5729        1.0849  0.0004  0.7813\n",
      "     48            0.9875        0.2405       0.5729            0.5729        1.0787  0.0004  0.7969\n",
      "     49            0.9917        \u001b[32m0.2214\u001b[0m       \u001b[35m0.6042\u001b[0m            \u001b[31m0.6042\u001b[0m        1.0671  0.0003  0.7974\n",
      "     50            0.9917        \u001b[32m0.1942\u001b[0m       0.5833            0.5833        1.0729  0.0003  0.7817\n",
      "Fine tuning model for subject 8 with 460 trials\n"
     ]
    },
    {
     "name": "stderr",
     "output_type": "stream",
     "text": [
      "C:\\Users\\mengz\\anaconda3\\envs\\hyperBCI\\Lib\\site-packages\\braindecode\\models\\base.py:23: UserWarning: ShallowFBCSPNet: 'input_window_samples' is depreciated. Use 'n_times' instead.\n",
      "  warnings.warn(\n",
      "C:\\Users\\mengz\\anaconda3\\envs\\hyperBCI\\Lib\\site-packages\\braindecode\\models\\base.py:180: UserWarning: LogSoftmax final layer will be removed! Please adjust your loss function accordingly (e.g. CrossEntropyLoss)!\n",
      "  warnings.warn(\"LogSoftmax final layer will be removed! \" +\n"
     ]
    },
    {
     "name": "stdout",
     "output_type": "stream",
     "text": [
      "  epoch    train_accuracy    train_loss    valid_acc    valid_accuracy    valid_loss      lr     dur\n",
      "-------  ----------------  ------------  -----------  ----------------  ------------  ------  ------\n",
      "     31            0.6104        1.2103       \u001b[35m0.5208\u001b[0m            \u001b[31m0.5208\u001b[0m        \u001b[94m1.1101\u001b[0m  0.0004  0.7973\n",
      "     32            0.7000        0.9964       0.5104            0.5104        1.1574  0.0005  0.8129\n",
      "     33            0.7354        0.8387       \u001b[35m0.5312\u001b[0m            \u001b[31m0.5312\u001b[0m        1.2485  0.0005  0.7813\n",
      "     34            0.7750        \u001b[32m0.7280\u001b[0m       \u001b[35m0.5625\u001b[0m            \u001b[31m0.5625\u001b[0m        1.2214  0.0006  0.7969\n",
      "     35            0.7958        \u001b[32m0.6574\u001b[0m       0.5521            0.5521        1.1522  0.0006  0.9531\n",
      "     36            \u001b[36m0.8688\u001b[0m        \u001b[32m0.5493\u001b[0m       0.5521            0.5521        1.1179  0.0007  0.9062\n",
      "     37            \u001b[36m0.8958\u001b[0m        \u001b[32m0.5222\u001b[0m       0.5625            0.5625        \u001b[94m1.0943\u001b[0m  0.0007  0.9375\n",
      "     38            \u001b[36m0.9146\u001b[0m        \u001b[32m0.4674\u001b[0m       \u001b[35m0.5729\u001b[0m            \u001b[31m0.5729\u001b[0m        \u001b[94m1.0840\u001b[0m  0.0007  0.8130\n",
      "     39            \u001b[36m0.9271\u001b[0m        \u001b[32m0.3935\u001b[0m       \u001b[35m0.5833\u001b[0m            \u001b[31m0.5833\u001b[0m        \u001b[94m1.0522\u001b[0m  0.0007  0.7812\n",
      "     40            \u001b[36m0.9375\u001b[0m        \u001b[32m0.3666\u001b[0m       0.5729            0.5729        \u001b[94m1.0300\u001b[0m  0.0007  0.7969\n",
      "     41            \u001b[36m0.9500\u001b[0m        \u001b[32m0.3502\u001b[0m       \u001b[35m0.6042\u001b[0m            \u001b[31m0.6042\u001b[0m        1.0387  0.0007  0.7813\n",
      "     42            \u001b[36m0.9688\u001b[0m        \u001b[32m0.3144\u001b[0m       0.5938            0.5938        1.0620  0.0007  0.7970\n",
      "     43            \u001b[36m0.9729\u001b[0m        0.3203       0.5833            0.5833        1.0895  0.0006  0.7818\n",
      "     44            0.9708        \u001b[32m0.3047\u001b[0m       0.5417            0.5417        1.1095  0.0006  0.7817\n",
      "     45            \u001b[36m0.9833\u001b[0m        \u001b[32m0.2519\u001b[0m       0.5521            0.5521        1.1245  0.0005  0.7972\n",
      "     46            \u001b[36m0.9875\u001b[0m        \u001b[32m0.2498\u001b[0m       0.5625            0.5625        1.1028  0.0005  0.7975\n",
      "     47            0.9812        \u001b[32m0.2315\u001b[0m       0.5625            0.5625        1.1064  0.0004  0.7818\n",
      "     48            0.9854        0.2331       0.5625            0.5625        1.0951  0.0004  0.7813\n",
      "     49            \u001b[36m0.9917\u001b[0m        \u001b[32m0.2202\u001b[0m       0.5833            0.5833        1.0831  0.0003  0.9062\n",
      "     50            \u001b[36m0.9938\u001b[0m        0.2214       0.5938            0.5938        1.0760  0.0003  0.9063\n",
      "Before finetuning for subject 9, the baseline accuracy is 0.4375\n",
      "Fine tuning model for subject 9 with 20 trials\n"
     ]
    },
    {
     "name": "stderr",
     "output_type": "stream",
     "text": [
      "C:\\Users\\mengz\\anaconda3\\envs\\hyperBCI\\Lib\\site-packages\\braindecode\\models\\base.py:23: UserWarning: ShallowFBCSPNet: 'input_window_samples' is depreciated. Use 'n_times' instead.\n",
      "  warnings.warn(\n",
      "C:\\Users\\mengz\\anaconda3\\envs\\hyperBCI\\Lib\\site-packages\\braindecode\\models\\base.py:180: UserWarning: LogSoftmax final layer will be removed! Please adjust your loss function accordingly (e.g. CrossEntropyLoss)!\n",
      "  warnings.warn(\"LogSoftmax final layer will be removed! \" +\n"
     ]
    },
    {
     "name": "stdout",
     "output_type": "stream",
     "text": [
      "  epoch    train_accuracy    train_loss    valid_acc    valid_accuracy    valid_loss      lr     dur\n",
      "-------  ----------------  ------------  -----------  ----------------  ------------  ------  ------\n",
      "     31            0.7354        1.2044       \u001b[35m0.6562\u001b[0m            \u001b[31m0.6562\u001b[0m        \u001b[94m0.9006\u001b[0m  0.0004  1.4692\n",
      "     32            \u001b[36m0.8917\u001b[0m        \u001b[32m0.6747\u001b[0m       0.6458            0.6458        0.9018  0.0005  1.1580\n",
      "     33            \u001b[36m0.9062\u001b[0m        \u001b[32m0.5022\u001b[0m       \u001b[35m0.7396\u001b[0m            \u001b[31m0.7396\u001b[0m        \u001b[94m0.8415\u001b[0m  0.0005  1.1589\n",
      "     34            \u001b[36m0.9563\u001b[0m        \u001b[32m0.3800\u001b[0m       0.7292            0.7292        0.8434  0.0006  1.1406\n",
      "     35            \u001b[36m0.9750\u001b[0m        \u001b[32m0.3306\u001b[0m       0.7083            0.7083        \u001b[94m0.8204\u001b[0m  0.0006  1.1568\n",
      "     36            0.9604        \u001b[32m0.2735\u001b[0m       0.6562            0.6562        0.9936  0.0007  1.1723\n",
      "     37            0.9729        \u001b[32m0.2588\u001b[0m       0.7396            0.7396        0.8819  0.0007  1.1563\n",
      "     38            0.9667        \u001b[32m0.1963\u001b[0m       0.6979            0.6979        0.9470  0.0007  1.1563\n",
      "     39            \u001b[36m0.9875\u001b[0m        0.2234       0.7188            0.7188        0.9728  0.0007  1.3125\n",
      "     40            \u001b[36m0.9917\u001b[0m        \u001b[32m0.1543\u001b[0m       0.6875            0.6875        1.0706  0.0007  1.5625\n",
      "     41            \u001b[36m1.0000\u001b[0m        \u001b[32m0.1429\u001b[0m       0.6979            0.6979        0.8809  0.0007  1.1719\n",
      "     42            0.9958        \u001b[32m0.1050\u001b[0m       0.6979            0.6979        0.9843  0.0007  1.1719\n",
      "     43            0.9979        \u001b[32m0.0826\u001b[0m       0.7396            0.7396        1.0072  0.0006  1.1568\n",
      "     44            1.0000        \u001b[32m0.0767\u001b[0m       0.6875            0.6875        1.0840  0.0006  1.1569\n",
      "     45            1.0000        \u001b[32m0.0746\u001b[0m       0.7396            0.7396        0.9965  0.0005  1.1723\n",
      "     46            1.0000        \u001b[32m0.0423\u001b[0m       0.7083            0.7083        1.0205  0.0005  1.2036\n",
      "     47            1.0000        0.0533       0.7188            0.7188        0.9773  0.0004  1.2031\n",
      "     48            1.0000        0.0500       0.7396            0.7396        0.9718  0.0004  1.1723\n",
      "     49            1.0000        0.0495       \u001b[35m0.7604\u001b[0m            \u001b[31m0.7604\u001b[0m        0.9877  0.0003  1.3750\n",
      "     50            1.0000        \u001b[32m0.0370\u001b[0m       0.7396            0.7396        1.0066  0.0003  1.5938\n",
      "Fine tuning model for subject 9 with 40 trials\n"
     ]
    },
    {
     "name": "stderr",
     "output_type": "stream",
     "text": [
      "C:\\Users\\mengz\\anaconda3\\envs\\hyperBCI\\Lib\\site-packages\\braindecode\\models\\base.py:23: UserWarning: ShallowFBCSPNet: 'input_window_samples' is depreciated. Use 'n_times' instead.\n",
      "  warnings.warn(\n",
      "C:\\Users\\mengz\\anaconda3\\envs\\hyperBCI\\Lib\\site-packages\\braindecode\\models\\base.py:180: UserWarning: LogSoftmax final layer will be removed! Please adjust your loss function accordingly (e.g. CrossEntropyLoss)!\n",
      "  warnings.warn(\"LogSoftmax final layer will be removed! \" +\n"
     ]
    },
    {
     "name": "stdout",
     "output_type": "stream",
     "text": [
      "  epoch    train_accuracy    train_loss    valid_acc    valid_accuracy    valid_loss      lr     dur\n",
      "-------  ----------------  ------------  -----------  ----------------  ------------  ------  ------\n",
      "     31            0.7604        1.2443       \u001b[35m0.6146\u001b[0m            \u001b[31m0.6146\u001b[0m        \u001b[94m0.9819\u001b[0m  0.0004  1.0000\n",
      "     32            \u001b[36m0.8375\u001b[0m        \u001b[32m0.7244\u001b[0m       \u001b[35m0.6458\u001b[0m            \u001b[31m0.6458\u001b[0m        \u001b[94m0.8480\u001b[0m  0.0005  0.9541\n",
      "     33            \u001b[36m0.9104\u001b[0m        \u001b[32m0.4354\u001b[0m       \u001b[35m0.6875\u001b[0m            \u001b[31m0.6875\u001b[0m        \u001b[94m0.7974\u001b[0m  0.0005  0.9375\n",
      "     34            \u001b[36m0.9583\u001b[0m        \u001b[32m0.3971\u001b[0m       \u001b[35m0.7292\u001b[0m            \u001b[31m0.7292\u001b[0m        0.8093  0.0006  0.9375\n",
      "     35            \u001b[36m0.9688\u001b[0m        \u001b[32m0.3580\u001b[0m       \u001b[35m0.7812\u001b[0m            \u001b[31m0.7812\u001b[0m        \u001b[94m0.7370\u001b[0m  0.0006  0.9536\n",
      "     36            0.9417        \u001b[32m0.2989\u001b[0m       0.7292            0.7292        0.7950  0.0007  0.9531\n",
      "     37            0.9667        \u001b[32m0.2629\u001b[0m       0.7083            0.7083        0.7913  0.0007  0.9375\n",
      "     38            \u001b[36m0.9938\u001b[0m        \u001b[32m0.1928\u001b[0m       0.7604            0.7604        0.7630  0.0007  0.9375\n",
      "     39            0.9896        \u001b[32m0.1872\u001b[0m       0.7500            0.7500        0.7481  0.0007  0.9375\n",
      "     40            0.9917        \u001b[32m0.1544\u001b[0m       0.7292            0.7292        0.7869  0.0007  0.9380\n",
      "     41            \u001b[36m0.9958\u001b[0m        \u001b[32m0.1381\u001b[0m       0.7396            0.7396        0.8611  0.0007  1.2031\n",
      "     42            \u001b[36m0.9979\u001b[0m        \u001b[32m0.1109\u001b[0m       0.7396            0.7396        0.8361  0.0007  1.2188\n",
      "     43            \u001b[36m1.0000\u001b[0m        \u001b[32m0.0837\u001b[0m       0.7708            0.7708        0.8373  0.0006  0.9531\n",
      "     44            1.0000        \u001b[32m0.0683\u001b[0m       0.7708            0.7708        0.8178  0.0006  0.9531\n",
      "     45            1.0000        \u001b[32m0.0627\u001b[0m       \u001b[35m0.8021\u001b[0m            \u001b[31m0.8021\u001b[0m        0.8043  0.0005  0.9375\n",
      "     46            1.0000        0.0784       0.7917            0.7917        0.7894  0.0005  0.9375\n",
      "     47            1.0000        0.0747       0.7708            0.7708        0.8323  0.0004  0.9531\n",
      "     48            1.0000        \u001b[32m0.0561\u001b[0m       0.8021            0.8021        0.8276  0.0004  0.9536\n",
      "     49            1.0000        \u001b[32m0.0442\u001b[0m       0.7708            0.7708        0.8174  0.0003  0.9375\n",
      "     50            1.0000        \u001b[32m0.0401\u001b[0m       0.7812            0.7812        0.8225  0.0003  0.9375\n",
      "Fine tuning model for subject 9 with 60 trials\n"
     ]
    },
    {
     "name": "stderr",
     "output_type": "stream",
     "text": [
      "C:\\Users\\mengz\\anaconda3\\envs\\hyperBCI\\Lib\\site-packages\\braindecode\\models\\base.py:23: UserWarning: ShallowFBCSPNet: 'input_window_samples' is depreciated. Use 'n_times' instead.\n",
      "  warnings.warn(\n",
      "C:\\Users\\mengz\\anaconda3\\envs\\hyperBCI\\Lib\\site-packages\\braindecode\\models\\base.py:180: UserWarning: LogSoftmax final layer will be removed! Please adjust your loss function accordingly (e.g. CrossEntropyLoss)!\n",
      "  warnings.warn(\"LogSoftmax final layer will be removed! \" +\n"
     ]
    },
    {
     "name": "stdout",
     "output_type": "stream",
     "text": [
      "  epoch    train_accuracy    train_loss    valid_acc    valid_accuracy    valid_loss      lr     dur\n",
      "-------  ----------------  ------------  -----------  ----------------  ------------  ------  ------\n",
      "     31            0.6958        1.3218       \u001b[35m0.5833\u001b[0m            \u001b[31m0.5833\u001b[0m        \u001b[94m1.0074\u001b[0m  0.0004  0.8910\n",
      "     32            \u001b[36m0.8333\u001b[0m        0.7451       \u001b[35m0.7083\u001b[0m            \u001b[31m0.7083\u001b[0m        \u001b[94m0.8151\u001b[0m  0.0005  0.8906\n",
      "     33            \u001b[36m0.9042\u001b[0m        \u001b[32m0.5169\u001b[0m       0.7083            0.7083        \u001b[94m0.7973\u001b[0m  0.0005  1.0645\n",
      "     34            0.9042        \u001b[32m0.4524\u001b[0m       \u001b[35m0.7292\u001b[0m            \u001b[31m0.7292\u001b[0m        \u001b[94m0.7850\u001b[0m  0.0006  1.0469\n",
      "     35            \u001b[36m0.9583\u001b[0m        \u001b[32m0.3908\u001b[0m       \u001b[35m0.7500\u001b[0m            \u001b[31m0.7500\u001b[0m        \u001b[94m0.7711\u001b[0m  0.0006  1.2031\n",
      "     36            \u001b[36m0.9625\u001b[0m        \u001b[32m0.2915\u001b[0m       0.7292            0.7292        0.8301  0.0007  0.9063\n",
      "     37            0.9625        0.2964       0.7083            0.7083        0.8212  0.0007  0.8912\n",
      "     38            \u001b[36m0.9812\u001b[0m        \u001b[32m0.2409\u001b[0m       0.6979            0.6979        0.8492  0.0007  0.8907\n",
      "     39            \u001b[36m0.9938\u001b[0m        \u001b[32m0.1814\u001b[0m       0.6979            0.6979        0.8117  0.0007  0.8906\n",
      "     40            \u001b[36m0.9958\u001b[0m        \u001b[32m0.1539\u001b[0m       \u001b[35m0.7604\u001b[0m            \u001b[31m0.7604\u001b[0m        0.8528  0.0007  0.8913\n",
      "     41            \u001b[36m0.9979\u001b[0m        \u001b[32m0.1451\u001b[0m       0.7396            0.7396        0.8270  0.0007  0.8750\n",
      "     42            0.9979        \u001b[32m0.1149\u001b[0m       \u001b[35m0.7708\u001b[0m            \u001b[31m0.7708\u001b[0m        0.8054  0.0007  0.8750\n",
      "     43            \u001b[36m1.0000\u001b[0m        \u001b[32m0.1118\u001b[0m       0.7396            0.7396        0.8786  0.0006  0.8906\n",
      "     44            1.0000        \u001b[32m0.1022\u001b[0m       0.7292            0.7292        0.8832  0.0006  0.8906\n",
      "     45            1.0000        \u001b[32m0.0892\u001b[0m       0.7708            0.7708        0.8469  0.0005  0.8906\n",
      "     46            1.0000        0.0998       0.7604            0.7604        0.8319  0.0005  1.0781\n",
      "     47            1.0000        \u001b[32m0.0825\u001b[0m       \u001b[35m0.7917\u001b[0m            \u001b[31m0.7917\u001b[0m        0.8228  0.0004  1.0625\n",
      "     48            1.0000        \u001b[32m0.0748\u001b[0m       0.7604            0.7604        0.8389  0.0004  1.1250\n",
      "     49            1.0000        \u001b[32m0.0612\u001b[0m       0.7396            0.7396        0.8710  0.0003  0.9063\n",
      "     50            1.0000        0.0791       0.7812            0.7812        0.8733  0.0003  0.8906\n",
      "Fine tuning model for subject 9 with 80 trials\n"
     ]
    },
    {
     "name": "stderr",
     "output_type": "stream",
     "text": [
      "C:\\Users\\mengz\\anaconda3\\envs\\hyperBCI\\Lib\\site-packages\\braindecode\\models\\base.py:23: UserWarning: ShallowFBCSPNet: 'input_window_samples' is depreciated. Use 'n_times' instead.\n",
      "  warnings.warn(\n",
      "C:\\Users\\mengz\\anaconda3\\envs\\hyperBCI\\Lib\\site-packages\\braindecode\\models\\base.py:180: UserWarning: LogSoftmax final layer will be removed! Please adjust your loss function accordingly (e.g. CrossEntropyLoss)!\n",
      "  warnings.warn(\"LogSoftmax final layer will be removed! \" +\n"
     ]
    },
    {
     "name": "stdout",
     "output_type": "stream",
     "text": [
      "  epoch    train_accuracy    train_loss    valid_acc    valid_accuracy    valid_loss      lr     dur\n",
      "-------  ----------------  ------------  -----------  ----------------  ------------  ------  ------\n",
      "     31            0.6562        1.3358       \u001b[35m0.5521\u001b[0m            \u001b[31m0.5521\u001b[0m        1.1948  0.0004  0.8598\n",
      "     32            0.8000        0.8590       \u001b[35m0.6250\u001b[0m            \u001b[31m0.6250\u001b[0m        \u001b[94m0.9587\u001b[0m  0.0005  0.8602\n",
      "     33            \u001b[36m0.8625\u001b[0m        \u001b[32m0.6326\u001b[0m       \u001b[35m0.7083\u001b[0m            \u001b[31m0.7083\u001b[0m        \u001b[94m0.7760\u001b[0m  0.0005  0.8593\n",
      "     34            \u001b[36m0.9042\u001b[0m        \u001b[32m0.4762\u001b[0m       \u001b[35m0.7396\u001b[0m            \u001b[31m0.7396\u001b[0m        \u001b[94m0.7546\u001b[0m  0.0006  0.8594\n",
      "     35            \u001b[36m0.9250\u001b[0m        \u001b[32m0.3444\u001b[0m       0.7292            0.7292        \u001b[94m0.7534\u001b[0m  0.0006  0.8750\n",
      "     36            \u001b[36m0.9521\u001b[0m        0.3575       0.7396            0.7396        0.7765  0.0007  0.8599\n",
      "     37            \u001b[36m0.9667\u001b[0m        \u001b[32m0.2887\u001b[0m       \u001b[35m0.8021\u001b[0m            \u001b[31m0.8021\u001b[0m        \u001b[94m0.6859\u001b[0m  0.0007  0.8594\n",
      "     38            \u001b[36m0.9750\u001b[0m        \u001b[32m0.2489\u001b[0m       0.7917            0.7917        0.7496  0.0007  0.8911\n",
      "     39            \u001b[36m0.9896\u001b[0m        \u001b[32m0.2002\u001b[0m       0.7500            0.7500        0.7706  0.0007  1.0469\n",
      "     40            \u001b[36m0.9979\u001b[0m        \u001b[32m0.1821\u001b[0m       0.7812            0.7812        0.6909  0.0007  1.0156\n",
      "     41            \u001b[36m1.0000\u001b[0m        \u001b[32m0.1335\u001b[0m       0.7500            0.7500        0.7037  0.0007  1.0000\n",
      "     42            1.0000        0.1406       0.7500            0.7500        0.6994  0.0007  0.8750\n",
      "     43            0.9979        \u001b[32m0.1186\u001b[0m       0.7708            0.7708        0.7189  0.0006  0.8911\n",
      "     44            1.0000        \u001b[32m0.1114\u001b[0m       0.8021            0.8021        \u001b[94m0.6857\u001b[0m  0.0006  0.9223\n",
      "     45            1.0000        \u001b[32m0.1024\u001b[0m       0.7917            0.7917        0.7170  0.0005  0.8599\n",
      "     46            1.0000        \u001b[32m0.1020\u001b[0m       0.7917            0.7917        0.7008  0.0005  0.8750\n",
      "     47            1.0000        \u001b[32m0.0902\u001b[0m       0.7708            0.7708        0.7014  0.0004  0.8755\n",
      "     48            1.0000        \u001b[32m0.0755\u001b[0m       0.7917            0.7917        \u001b[94m0.6811\u001b[0m  0.0004  0.8598\n",
      "     49            1.0000        0.0816       0.7708            0.7708        0.6832  0.0003  0.8906\n",
      "     50            1.0000        0.0834       0.7812            0.7812        0.6989  0.0003  0.8906\n",
      "Fine tuning model for subject 9 with 100 trials\n"
     ]
    },
    {
     "name": "stderr",
     "output_type": "stream",
     "text": [
      "C:\\Users\\mengz\\anaconda3\\envs\\hyperBCI\\Lib\\site-packages\\braindecode\\models\\base.py:23: UserWarning: ShallowFBCSPNet: 'input_window_samples' is depreciated. Use 'n_times' instead.\n",
      "  warnings.warn(\n",
      "C:\\Users\\mengz\\anaconda3\\envs\\hyperBCI\\Lib\\site-packages\\braindecode\\models\\base.py:180: UserWarning: LogSoftmax final layer will be removed! Please adjust your loss function accordingly (e.g. CrossEntropyLoss)!\n",
      "  warnings.warn(\"LogSoftmax final layer will be removed! \" +\n"
     ]
    },
    {
     "name": "stdout",
     "output_type": "stream",
     "text": [
      "  epoch    train_accuracy    train_loss    valid_acc    valid_accuracy    valid_loss      lr     dur\n",
      "-------  ----------------  ------------  -----------  ----------------  ------------  ------  ------\n",
      "     31            0.6375        1.3570       \u001b[35m0.5417\u001b[0m            \u001b[31m0.5417\u001b[0m        1.2446  0.0004  0.9063\n",
      "     32            0.7542        0.9851       \u001b[35m0.5938\u001b[0m            \u001b[31m0.5938\u001b[0m        \u001b[94m0.9048\u001b[0m  0.0005  0.9688\n",
      "     33            \u001b[36m0.8125\u001b[0m        \u001b[32m0.7259\u001b[0m       \u001b[35m0.6667\u001b[0m            \u001b[31m0.6667\u001b[0m        \u001b[94m0.8936\u001b[0m  0.0005  0.9845\n",
      "     34            \u001b[36m0.8854\u001b[0m        \u001b[32m0.5485\u001b[0m       0.6458            0.6458        \u001b[94m0.8375\u001b[0m  0.0006  0.9531\n",
      "     35            0.8792        \u001b[32m0.4512\u001b[0m       0.6562            0.6562        0.8670  0.0006  0.8287\n",
      "     36            \u001b[36m0.9437\u001b[0m        \u001b[32m0.4199\u001b[0m       \u001b[35m0.7188\u001b[0m            \u001b[31m0.7188\u001b[0m        \u001b[94m0.7777\u001b[0m  0.0007  0.8287\n",
      "     37            \u001b[36m0.9583\u001b[0m        \u001b[32m0.3392\u001b[0m       \u001b[35m0.7396\u001b[0m            \u001b[31m0.7396\u001b[0m        \u001b[94m0.7520\u001b[0m  0.0007  0.8129\n",
      "     38            \u001b[36m0.9708\u001b[0m        \u001b[32m0.2793\u001b[0m       \u001b[35m0.7500\u001b[0m            \u001b[31m0.7500\u001b[0m        \u001b[94m0.7087\u001b[0m  0.0007  0.8125\n",
      "     39            \u001b[36m0.9833\u001b[0m        \u001b[32m0.2551\u001b[0m       0.7500            0.7500        0.7461  0.0007  0.8281\n",
      "     40            0.9771        \u001b[32m0.2155\u001b[0m       0.7292            0.7292        0.7769  0.0007  0.8285\n",
      "     41            0.9833        0.2172       0.7083            0.7083        0.7477  0.0007  0.8285\n",
      "     42            \u001b[36m0.9896\u001b[0m        \u001b[32m0.1903\u001b[0m       0.7500            0.7500        0.7597  0.0007  0.8270\n",
      "     43            \u001b[36m0.9979\u001b[0m        \u001b[32m0.1759\u001b[0m       \u001b[35m0.7812\u001b[0m            \u001b[31m0.7812\u001b[0m        0.7419  0.0006  0.8125\n",
      "     44            0.9979        \u001b[32m0.1504\u001b[0m       \u001b[35m0.7917\u001b[0m            \u001b[31m0.7917\u001b[0m        \u001b[94m0.7056\u001b[0m  0.0006  0.8144\n",
      "     45            \u001b[36m1.0000\u001b[0m        \u001b[32m0.1216\u001b[0m       0.7604            0.7604        \u001b[94m0.6963\u001b[0m  0.0005  0.9063\n",
      "     46            1.0000        0.1333       \u001b[35m0.8021\u001b[0m            \u001b[31m0.8021\u001b[0m        0.7159  0.0005  1.0000\n",
      "     47            1.0000        \u001b[32m0.1134\u001b[0m       0.7708            0.7708        0.7556  0.0004  0.9844\n",
      "     48            1.0000        \u001b[32m0.1015\u001b[0m       0.7604            0.7604        0.7367  0.0004  0.8443\n",
      "     49            1.0000        \u001b[32m0.0933\u001b[0m       0.7604            0.7604        0.7451  0.0003  0.8282\n",
      "     50            0.9979        0.0952       0.7500            0.7500        0.7469  0.0003  0.8126\n",
      "Fine tuning model for subject 9 with 120 trials\n"
     ]
    },
    {
     "name": "stderr",
     "output_type": "stream",
     "text": [
      "C:\\Users\\mengz\\anaconda3\\envs\\hyperBCI\\Lib\\site-packages\\braindecode\\models\\base.py:23: UserWarning: ShallowFBCSPNet: 'input_window_samples' is depreciated. Use 'n_times' instead.\n",
      "  warnings.warn(\n",
      "C:\\Users\\mengz\\anaconda3\\envs\\hyperBCI\\Lib\\site-packages\\braindecode\\models\\base.py:180: UserWarning: LogSoftmax final layer will be removed! Please adjust your loss function accordingly (e.g. CrossEntropyLoss)!\n",
      "  warnings.warn(\"LogSoftmax final layer will be removed! \" +\n"
     ]
    },
    {
     "name": "stdout",
     "output_type": "stream",
     "text": [
      "  epoch    train_accuracy    train_loss    valid_acc    valid_accuracy    valid_loss      lr     dur\n",
      "-------  ----------------  ------------  -----------  ----------------  ------------  ------  ------\n",
      "     31            0.6458        1.3238       0.4896            0.4896        1.2324  0.0004  0.8443\n",
      "     32            0.7521        0.9880       \u001b[35m0.5625\u001b[0m            \u001b[31m0.5625\u001b[0m        \u001b[94m0.9983\u001b[0m  0.0005  0.8449\n",
      "     33            \u001b[36m0.8271\u001b[0m        \u001b[32m0.7107\u001b[0m       \u001b[35m0.6042\u001b[0m            \u001b[31m0.6042\u001b[0m        \u001b[94m0.8797\u001b[0m  0.0005  0.8442\n",
      "     34            \u001b[36m0.8729\u001b[0m        \u001b[32m0.5656\u001b[0m       \u001b[35m0.6667\u001b[0m            \u001b[31m0.6667\u001b[0m        \u001b[94m0.8258\u001b[0m  0.0006  0.8592\n",
      "     35            \u001b[36m0.9083\u001b[0m        \u001b[32m0.4647\u001b[0m       \u001b[35m0.7083\u001b[0m            \u001b[31m0.7083\u001b[0m        \u001b[94m0.8080\u001b[0m  0.0006  0.8447\n",
      "     36            \u001b[36m0.9333\u001b[0m        \u001b[32m0.3708\u001b[0m       \u001b[35m0.7188\u001b[0m            \u001b[31m0.7188\u001b[0m        \u001b[94m0.7684\u001b[0m  0.0007  0.8597\n",
      "     37            \u001b[36m0.9521\u001b[0m        \u001b[32m0.3379\u001b[0m       0.6875            0.6875        \u001b[94m0.7616\u001b[0m  0.0007  0.8437\n",
      "     38            \u001b[36m0.9729\u001b[0m        \u001b[32m0.3079\u001b[0m       \u001b[35m0.7708\u001b[0m            \u001b[31m0.7708\u001b[0m        \u001b[94m0.7262\u001b[0m  0.0007  0.9687\n",
      "     39            \u001b[36m0.9750\u001b[0m        \u001b[32m0.2634\u001b[0m       0.7292            0.7292        0.7306  0.0007  1.0469\n",
      "     40            \u001b[36m0.9875\u001b[0m        \u001b[32m0.2161\u001b[0m       0.7604            0.7604        \u001b[94m0.7156\u001b[0m  0.0007  1.2344\n",
      "     41            \u001b[36m0.9917\u001b[0m        \u001b[32m0.1956\u001b[0m       \u001b[35m0.7812\u001b[0m            \u001b[31m0.7812\u001b[0m        0.7368  0.0007  1.2656\n",
      "     42            0.9917        \u001b[32m0.1655\u001b[0m       0.7708            0.7708        0.7536  0.0007  1.3595\n",
      "     43            \u001b[36m1.0000\u001b[0m        0.1761       0.7708            0.7708        0.7441  0.0006  1.2187\n",
      "     44            0.9979        0.1754       0.7500            0.7500        0.7345  0.0006  1.1879\n",
      "     45            0.9979        \u001b[32m0.1379\u001b[0m       0.7500            0.7500        0.7668  0.0005  0.8438\n",
      "     46            0.9979        \u001b[32m0.1258\u001b[0m       \u001b[35m0.7917\u001b[0m            \u001b[31m0.7917\u001b[0m        0.7455  0.0005  0.8594\n",
      "     47            0.9979        \u001b[32m0.1191\u001b[0m       0.7604            0.7604        0.7427  0.0004  0.8594\n",
      "     48            0.9979        \u001b[32m0.1127\u001b[0m       0.7708            0.7708        0.7375  0.0004  0.8437\n",
      "     49            1.0000        \u001b[32m0.1067\u001b[0m       0.7604            0.7604        0.7397  0.0003  0.8912\n",
      "     50            1.0000        \u001b[32m0.0934\u001b[0m       0.7708            0.7708        0.7527  0.0003  1.0938\n",
      "Fine tuning model for subject 9 with 140 trials\n"
     ]
    },
    {
     "name": "stderr",
     "output_type": "stream",
     "text": [
      "C:\\Users\\mengz\\anaconda3\\envs\\hyperBCI\\Lib\\site-packages\\braindecode\\models\\base.py:23: UserWarning: ShallowFBCSPNet: 'input_window_samples' is depreciated. Use 'n_times' instead.\n",
      "  warnings.warn(\n",
      "C:\\Users\\mengz\\anaconda3\\envs\\hyperBCI\\Lib\\site-packages\\braindecode\\models\\base.py:180: UserWarning: LogSoftmax final layer will be removed! Please adjust your loss function accordingly (e.g. CrossEntropyLoss)!\n",
      "  warnings.warn(\"LogSoftmax final layer will be removed! \" +\n"
     ]
    },
    {
     "name": "stdout",
     "output_type": "stream",
     "text": [
      "  epoch    train_accuracy    train_loss    valid_acc    valid_accuracy    valid_loss      lr     dur\n",
      "-------  ----------------  ------------  -----------  ----------------  ------------  ------  ------\n",
      "     31            0.6354        1.3642       0.5000            0.5000        1.2754  0.0004  0.9219\n",
      "     32            0.7063        1.0056       \u001b[35m0.5417\u001b[0m            \u001b[31m0.5417\u001b[0m        \u001b[94m1.0434\u001b[0m  0.0005  0.9219\n",
      "     33            \u001b[36m0.8167\u001b[0m        \u001b[32m0.7215\u001b[0m       \u001b[35m0.6562\u001b[0m            \u001b[31m0.6562\u001b[0m        \u001b[94m0.8947\u001b[0m  0.0005  0.7813\n",
      "     34            \u001b[36m0.8313\u001b[0m        \u001b[32m0.6178\u001b[0m       \u001b[35m0.6667\u001b[0m            \u001b[31m0.6667\u001b[0m        \u001b[94m0.8850\u001b[0m  0.0006  0.7819\n",
      "     35            \u001b[36m0.8771\u001b[0m        \u001b[32m0.4947\u001b[0m       \u001b[35m0.6875\u001b[0m            \u001b[31m0.6875\u001b[0m        \u001b[94m0.8314\u001b[0m  0.0006  0.7812\n",
      "     36            \u001b[36m0.9000\u001b[0m        \u001b[32m0.4437\u001b[0m       0.6875            0.6875        \u001b[94m0.8075\u001b[0m  0.0007  0.7813\n",
      "     37            \u001b[36m0.9167\u001b[0m        \u001b[32m0.3838\u001b[0m       \u001b[35m0.6979\u001b[0m            \u001b[31m0.6979\u001b[0m        \u001b[94m0.7908\u001b[0m  0.0007  0.7969\n",
      "     38            \u001b[36m0.9417\u001b[0m        \u001b[32m0.3078\u001b[0m       \u001b[35m0.7604\u001b[0m            \u001b[31m0.7604\u001b[0m        \u001b[94m0.7581\u001b[0m  0.0007  0.7968\n",
      "     39            \u001b[36m0.9521\u001b[0m        0.3115       0.7500            0.7500        \u001b[94m0.7566\u001b[0m  0.0007  0.7818\n",
      "     40            \u001b[36m0.9729\u001b[0m        \u001b[32m0.2780\u001b[0m       0.7188            0.7188        0.7816  0.0007  0.7974\n",
      "     41            \u001b[36m0.9854\u001b[0m        \u001b[32m0.2367\u001b[0m       0.7188            0.7188        0.7725  0.0007  0.7969\n",
      "     42            \u001b[36m0.9875\u001b[0m        \u001b[32m0.1931\u001b[0m       0.6979            0.6979        0.7757  0.0007  0.7817\n",
      "     43            \u001b[36m0.9896\u001b[0m        \u001b[32m0.1810\u001b[0m       0.7292            0.7292        \u001b[94m0.7413\u001b[0m  0.0006  0.8750\n",
      "     44            \u001b[36m0.9917\u001b[0m        \u001b[32m0.1561\u001b[0m       0.7500            0.7500        \u001b[94m0.7325\u001b[0m  0.0006  0.9536\n",
      "     45            \u001b[36m0.9958\u001b[0m        0.1711       0.7396            0.7396        0.7677  0.0005  0.9219\n",
      "     46            0.9938        \u001b[32m0.1507\u001b[0m       0.7500            0.7500        0.7669  0.0005  1.0476\n",
      "     47            0.9958        \u001b[32m0.1386\u001b[0m       0.7500            0.7500        0.7466  0.0004  0.7969\n",
      "     48            \u001b[36m0.9979\u001b[0m        \u001b[32m0.1227\u001b[0m       0.7396            0.7396        0.7466  0.0004  0.7812\n",
      "     49            \u001b[36m1.0000\u001b[0m        0.1278       0.7500            0.7500        0.7487  0.0003  0.7817\n",
      "     50            1.0000        \u001b[32m0.1170\u001b[0m       0.7604            0.7604        0.7508  0.0003  0.7990\n",
      "Fine tuning model for subject 9 with 160 trials\n"
     ]
    },
    {
     "name": "stderr",
     "output_type": "stream",
     "text": [
      "C:\\Users\\mengz\\anaconda3\\envs\\hyperBCI\\Lib\\site-packages\\braindecode\\models\\base.py:23: UserWarning: ShallowFBCSPNet: 'input_window_samples' is depreciated. Use 'n_times' instead.\n",
      "  warnings.warn(\n",
      "C:\\Users\\mengz\\anaconda3\\envs\\hyperBCI\\Lib\\site-packages\\braindecode\\models\\base.py:180: UserWarning: LogSoftmax final layer will be removed! Please adjust your loss function accordingly (e.g. CrossEntropyLoss)!\n",
      "  warnings.warn(\"LogSoftmax final layer will be removed! \" +\n"
     ]
    },
    {
     "name": "stdout",
     "output_type": "stream",
     "text": [
      "  epoch    train_accuracy    train_loss    valid_acc    valid_accuracy    valid_loss      lr     dur\n",
      "-------  ----------------  ------------  -----------  ----------------  ------------  ------  ------\n",
      "     31            0.6188        1.2851       \u001b[35m0.5208\u001b[0m            \u001b[31m0.5208\u001b[0m        1.2131  0.0004  0.7813\n",
      "     32            0.7333        1.0212       \u001b[35m0.5312\u001b[0m            \u001b[31m0.5312\u001b[0m        \u001b[94m1.0267\u001b[0m  0.0005  0.7812\n",
      "     33            0.7854        0.7777       \u001b[35m0.5833\u001b[0m            \u001b[31m0.5833\u001b[0m        \u001b[94m0.9318\u001b[0m  0.0005  0.7813\n",
      "     34            \u001b[36m0.8208\u001b[0m        \u001b[32m0.5696\u001b[0m       \u001b[35m0.6354\u001b[0m            \u001b[31m0.6354\u001b[0m        \u001b[94m0.8729\u001b[0m  0.0006  0.7973\n",
      "     35            \u001b[36m0.8792\u001b[0m        \u001b[32m0.4982\u001b[0m       \u001b[35m0.6667\u001b[0m            \u001b[31m0.6667\u001b[0m        \u001b[94m0.8448\u001b[0m  0.0006  0.7817\n",
      "     36            \u001b[36m0.9042\u001b[0m        \u001b[32m0.4472\u001b[0m       0.6667            0.6667        \u001b[94m0.8409\u001b[0m  0.0007  0.7969\n",
      "     37            \u001b[36m0.9229\u001b[0m        \u001b[32m0.4038\u001b[0m       \u001b[35m0.7083\u001b[0m            \u001b[31m0.7083\u001b[0m        \u001b[94m0.7897\u001b[0m  0.0007  0.9537\n",
      "     38            \u001b[36m0.9500\u001b[0m        \u001b[32m0.3188\u001b[0m       0.6979            0.6979        \u001b[94m0.7438\u001b[0m  0.0007  0.9219\n",
      "     39            \u001b[36m0.9688\u001b[0m        \u001b[32m0.2761\u001b[0m       \u001b[35m0.7500\u001b[0m            \u001b[31m0.7500\u001b[0m        \u001b[94m0.7153\u001b[0m  0.0007  0.9446\n",
      "     40            \u001b[36m0.9875\u001b[0m        \u001b[32m0.2756\u001b[0m       0.7500            0.7500        0.7160  0.0007  0.9067\n",
      "     41            0.9854        \u001b[32m0.2374\u001b[0m       0.7396            0.7396        0.7608  0.0007  0.7969\n",
      "     42            0.9854        \u001b[32m0.2285\u001b[0m       0.7500            0.7500        \u001b[94m0.7079\u001b[0m  0.0007  0.8531\n",
      "     43            \u001b[36m0.9958\u001b[0m        \u001b[32m0.1752\u001b[0m       \u001b[35m0.7604\u001b[0m            \u001b[31m0.7604\u001b[0m        0.7399  0.0006  0.8652\n",
      "     44            0.9958        \u001b[32m0.1735\u001b[0m       0.7188            0.7188        0.7639  0.0006  0.8255\n",
      "     45            \u001b[36m0.9979\u001b[0m        \u001b[32m0.1448\u001b[0m       0.7396            0.7396        0.7299  0.0005  0.8041\n",
      "     46            0.9979        0.1462       \u001b[35m0.7708\u001b[0m            \u001b[31m0.7708\u001b[0m        0.7220  0.0005  0.8715\n",
      "     47            0.9979        \u001b[32m0.1426\u001b[0m       0.7604            0.7604        0.7405  0.0004  0.8752\n",
      "     48            \u001b[36m1.0000\u001b[0m        \u001b[32m0.1263\u001b[0m       0.7708            0.7708        0.7261  0.0004  0.8244\n",
      "     49            1.0000        \u001b[32m0.1255\u001b[0m       \u001b[35m0.7917\u001b[0m            \u001b[31m0.7917\u001b[0m        \u001b[94m0.7050\u001b[0m  0.0003  0.8994\n",
      "     50            1.0000        \u001b[32m0.1113\u001b[0m       0.7500            0.7500        \u001b[94m0.6991\u001b[0m  0.0003  0.9224\n",
      "Fine tuning model for subject 9 with 180 trials\n"
     ]
    },
    {
     "name": "stderr",
     "output_type": "stream",
     "text": [
      "C:\\Users\\mengz\\anaconda3\\envs\\hyperBCI\\Lib\\site-packages\\braindecode\\models\\base.py:23: UserWarning: ShallowFBCSPNet: 'input_window_samples' is depreciated. Use 'n_times' instead.\n",
      "  warnings.warn(\n",
      "C:\\Users\\mengz\\anaconda3\\envs\\hyperBCI\\Lib\\site-packages\\braindecode\\models\\base.py:180: UserWarning: LogSoftmax final layer will be removed! Please adjust your loss function accordingly (e.g. CrossEntropyLoss)!\n",
      "  warnings.warn(\"LogSoftmax final layer will be removed! \" +\n"
     ]
    },
    {
     "name": "stdout",
     "output_type": "stream",
     "text": [
      "  epoch    train_accuracy    train_loss    valid_acc    valid_accuracy    valid_loss      lr     dur\n",
      "-------  ----------------  ------------  -----------  ----------------  ------------  ------  ------\n",
      "     31            0.6312        1.3198       0.5104            0.5104        1.2708  0.0004  1.0134\n",
      "     32            0.7167        0.9793       \u001b[35m0.5729\u001b[0m            \u001b[31m0.5729\u001b[0m        \u001b[94m1.0981\u001b[0m  0.0005  1.1909\n",
      "     33            0.7896        0.7656       \u001b[35m0.6146\u001b[0m            \u001b[31m0.6146\u001b[0m        \u001b[94m0.9529\u001b[0m  0.0005  0.8897\n",
      "     34            \u001b[36m0.8354\u001b[0m        \u001b[32m0.6068\u001b[0m       \u001b[35m0.6354\u001b[0m            \u001b[31m0.6354\u001b[0m        \u001b[94m0.9081\u001b[0m  0.0006  0.8324\n",
      "     35            \u001b[36m0.9042\u001b[0m        \u001b[32m0.4759\u001b[0m       \u001b[35m0.6875\u001b[0m            \u001b[31m0.6875\u001b[0m        \u001b[94m0.8445\u001b[0m  0.0006  0.7902\n",
      "     36            \u001b[36m0.9146\u001b[0m        \u001b[32m0.4184\u001b[0m       0.6771            0.6771        \u001b[94m0.8158\u001b[0m  0.0007  0.8042\n",
      "     37            \u001b[36m0.9354\u001b[0m        \u001b[32m0.3860\u001b[0m       \u001b[35m0.7292\u001b[0m            \u001b[31m0.7292\u001b[0m        \u001b[94m0.7901\u001b[0m  0.0007  0.7808\n",
      "     38            \u001b[36m0.9729\u001b[0m        \u001b[32m0.3246\u001b[0m       0.7292            0.7292        0.8141  0.0007  0.8046\n",
      "     39            0.9708        \u001b[32m0.2753\u001b[0m       \u001b[35m0.7396\u001b[0m            \u001b[31m0.7396\u001b[0m        0.8144  0.0007  0.8497\n",
      "     40            \u001b[36m0.9750\u001b[0m        0.2810       \u001b[35m0.7500\u001b[0m            \u001b[31m0.7500\u001b[0m        0.8124  0.0007  0.8001\n",
      "     41            0.9729        \u001b[32m0.2207\u001b[0m       0.7083            0.7083        0.8603  0.0007  0.8228\n",
      "     42            \u001b[36m0.9917\u001b[0m        \u001b[32m0.2103\u001b[0m       0.7396            0.7396        0.7904  0.0007  0.8177\n",
      "     43            \u001b[36m0.9958\u001b[0m        \u001b[32m0.1667\u001b[0m       \u001b[35m0.7604\u001b[0m            \u001b[31m0.7604\u001b[0m        \u001b[94m0.7691\u001b[0m  0.0006  0.8072\n",
      "     44            0.9938        \u001b[32m0.1630\u001b[0m       0.7604            0.7604        0.7917  0.0006  0.9704\n",
      "     45            0.9938        \u001b[32m0.1629\u001b[0m       0.7396            0.7396        0.8026  0.0005  0.9228\n",
      "     46            0.9958        0.1669       0.7396            0.7396        0.8120  0.0005  0.9536\n",
      "     47            \u001b[36m1.0000\u001b[0m        \u001b[32m0.1340\u001b[0m       0.7604            0.7604        0.7775  0.0004  0.7934\n",
      "     48            0.9979        \u001b[32m0.1186\u001b[0m       0.7604            0.7604        0.7869  0.0004  0.8271\n",
      "     49            1.0000        0.1337       0.7604            0.7604        0.7880  0.0003  0.7829\n",
      "     50            0.9979        0.1214       0.7604            0.7604        0.7928  0.0003  0.7947\n",
      "Fine tuning model for subject 9 with 200 trials\n"
     ]
    },
    {
     "name": "stderr",
     "output_type": "stream",
     "text": [
      "C:\\Users\\mengz\\anaconda3\\envs\\hyperBCI\\Lib\\site-packages\\braindecode\\models\\base.py:23: UserWarning: ShallowFBCSPNet: 'input_window_samples' is depreciated. Use 'n_times' instead.\n",
      "  warnings.warn(\n",
      "C:\\Users\\mengz\\anaconda3\\envs\\hyperBCI\\Lib\\site-packages\\braindecode\\models\\base.py:180: UserWarning: LogSoftmax final layer will be removed! Please adjust your loss function accordingly (e.g. CrossEntropyLoss)!\n",
      "  warnings.warn(\"LogSoftmax final layer will be removed! \" +\n"
     ]
    },
    {
     "name": "stdout",
     "output_type": "stream",
     "text": [
      "  epoch    train_accuracy    train_loss    valid_acc    valid_accuracy    valid_loss      lr     dur\n",
      "-------  ----------------  ------------  -----------  ----------------  ------------  ------  ------\n",
      "     31            0.6458        1.4152       0.5000            0.5000        1.2476  0.0004  0.8187\n",
      "     32            0.6771        0.9960       \u001b[35m0.5625\u001b[0m            \u001b[31m0.5625\u001b[0m        \u001b[94m1.0540\u001b[0m  0.0005  0.8206\n",
      "     33            0.8000        0.7491       \u001b[35m0.6771\u001b[0m            \u001b[31m0.6771\u001b[0m        \u001b[94m0.8914\u001b[0m  0.0005  0.8054\n",
      "     34            \u001b[36m0.8438\u001b[0m        \u001b[32m0.6289\u001b[0m       0.6771            0.6771        \u001b[94m0.8523\u001b[0m  0.0006  0.7887\n",
      "     35            \u001b[36m0.8854\u001b[0m        \u001b[32m0.5143\u001b[0m       \u001b[35m0.7083\u001b[0m            \u001b[31m0.7083\u001b[0m        \u001b[94m0.8118\u001b[0m  0.0006  0.8107\n",
      "     36            \u001b[36m0.9271\u001b[0m        \u001b[32m0.4309\u001b[0m       \u001b[35m0.7292\u001b[0m            \u001b[31m0.7292\u001b[0m        \u001b[94m0.7668\u001b[0m  0.0007  0.7962\n",
      "     37            \u001b[36m0.9313\u001b[0m        \u001b[32m0.3416\u001b[0m       \u001b[35m0.7500\u001b[0m            \u001b[31m0.7500\u001b[0m        \u001b[94m0.7283\u001b[0m  0.0007  0.8911\n",
      "     38            \u001b[36m0.9563\u001b[0m        \u001b[32m0.3109\u001b[0m       \u001b[35m0.7917\u001b[0m            \u001b[31m0.7917\u001b[0m        \u001b[94m0.7032\u001b[0m  0.0007  0.9538\n",
      "     39            \u001b[36m0.9771\u001b[0m        \u001b[32m0.2873\u001b[0m       0.7396            0.7396        0.7125  0.0007  0.9985\n",
      "     40            0.9729        \u001b[32m0.2768\u001b[0m       0.7604            0.7604        0.7141  0.0007  0.8599\n",
      "     41            \u001b[36m0.9792\u001b[0m        \u001b[32m0.2286\u001b[0m       0.7604            0.7604        \u001b[94m0.6755\u001b[0m  0.0007  0.7940\n",
      "     42            \u001b[36m0.9833\u001b[0m        \u001b[32m0.2164\u001b[0m       0.7604            0.7604        0.6995  0.0007  0.7964\n",
      "     43            \u001b[36m0.9917\u001b[0m        \u001b[32m0.1720\u001b[0m       0.7604            0.7604        0.7363  0.0006  0.7830\n",
      "     44            \u001b[36m0.9979\u001b[0m        \u001b[32m0.1590\u001b[0m       0.7500            0.7500        0.7049  0.0006  0.7950\n",
      "     45            0.9917        0.1613       0.7917            0.7917        0.6933  0.0005  0.7995\n",
      "     46            0.9979        0.1613       0.7604            0.7604        0.6889  0.0005  0.7905\n",
      "     47            0.9979        \u001b[32m0.1366\u001b[0m       0.7708            0.7708        \u001b[94m0.6750\u001b[0m  0.0004  0.7928\n",
      "     48            0.9979        \u001b[32m0.1336\u001b[0m       0.7917            0.7917        \u001b[94m0.6738\u001b[0m  0.0004  0.7969\n",
      "     49            0.9979        \u001b[32m0.1220\u001b[0m       0.7812            0.7812        \u001b[94m0.6709\u001b[0m  0.0003  0.7972\n",
      "     50            0.9979        \u001b[32m0.1066\u001b[0m       0.7396            0.7396        0.6814  0.0003  0.7814\n",
      "Fine tuning model for subject 9 with 220 trials\n"
     ]
    },
    {
     "name": "stderr",
     "output_type": "stream",
     "text": [
      "C:\\Users\\mengz\\anaconda3\\envs\\hyperBCI\\Lib\\site-packages\\braindecode\\models\\base.py:23: UserWarning: ShallowFBCSPNet: 'input_window_samples' is depreciated. Use 'n_times' instead.\n",
      "  warnings.warn(\n",
      "C:\\Users\\mengz\\anaconda3\\envs\\hyperBCI\\Lib\\site-packages\\braindecode\\models\\base.py:180: UserWarning: LogSoftmax final layer will be removed! Please adjust your loss function accordingly (e.g. CrossEntropyLoss)!\n",
      "  warnings.warn(\"LogSoftmax final layer will be removed! \" +\n"
     ]
    },
    {
     "name": "stdout",
     "output_type": "stream",
     "text": [
      "  epoch    train_accuracy    train_loss    valid_acc    valid_accuracy    valid_loss      lr     dur\n",
      "-------  ----------------  ------------  -----------  ----------------  ------------  ------  ------\n",
      "     31            0.6292        1.4410       0.5000            0.5000        1.2621  0.0004  0.9308\n",
      "     32            0.7042        1.0108       \u001b[35m0.5521\u001b[0m            \u001b[31m0.5521\u001b[0m        \u001b[94m1.0609\u001b[0m  0.0005  0.8909\n",
      "     33            0.8083        0.7452       \u001b[35m0.6146\u001b[0m            \u001b[31m0.6146\u001b[0m        \u001b[94m0.9339\u001b[0m  0.0005  0.9813\n",
      "     34            \u001b[36m0.8417\u001b[0m        \u001b[32m0.6044\u001b[0m       0.5938            0.5938        0.9379  0.0006  0.8495\n",
      "     35            \u001b[36m0.9021\u001b[0m        \u001b[32m0.5156\u001b[0m       \u001b[35m0.6875\u001b[0m            \u001b[31m0.6875\u001b[0m        \u001b[94m0.8266\u001b[0m  0.0006  0.7903\n",
      "     36            \u001b[36m0.9250\u001b[0m        \u001b[32m0.4255\u001b[0m       \u001b[35m0.7083\u001b[0m            \u001b[31m0.7083\u001b[0m        \u001b[94m0.7748\u001b[0m  0.0007  0.7900\n",
      "     37            \u001b[36m0.9354\u001b[0m        \u001b[32m0.3570\u001b[0m       \u001b[35m0.7396\u001b[0m            \u001b[31m0.7396\u001b[0m        0.7853  0.0007  0.7877\n",
      "     38            \u001b[36m0.9646\u001b[0m        \u001b[32m0.3176\u001b[0m       0.7083            0.7083        \u001b[94m0.7574\u001b[0m  0.0007  0.7937\n",
      "     39            \u001b[36m0.9688\u001b[0m        \u001b[32m0.2986\u001b[0m       0.7083            0.7083        \u001b[94m0.7454\u001b[0m  0.0007  0.8047\n",
      "     40            \u001b[36m0.9729\u001b[0m        \u001b[32m0.2324\u001b[0m       0.7188            0.7188        0.7507  0.0007  0.8007\n",
      "     41            \u001b[36m0.9812\u001b[0m        \u001b[32m0.2159\u001b[0m       \u001b[35m0.7604\u001b[0m            \u001b[31m0.7604\u001b[0m        \u001b[94m0.7452\u001b[0m  0.0007  0.7816\n",
      "     42            \u001b[36m0.9854\u001b[0m        \u001b[32m0.2013\u001b[0m       0.6979            0.6979        0.7698  0.0007  0.7786\n",
      "     43            \u001b[36m0.9896\u001b[0m        \u001b[32m0.1947\u001b[0m       0.7083            0.7083        0.7950  0.0006  0.8292\n",
      "     44            \u001b[36m0.9938\u001b[0m        \u001b[32m0.1533\u001b[0m       0.7396            0.7396        0.7586  0.0006  0.7958\n",
      "     45            \u001b[36m0.9958\u001b[0m        0.1651       0.7500            0.7500        0.7581  0.0005  0.9576\n",
      "     46            0.9938        \u001b[32m0.1434\u001b[0m       0.7500            0.7500        0.7775  0.0005  0.9226\n",
      "     47            \u001b[36m0.9979\u001b[0m        \u001b[32m0.1340\u001b[0m       0.7500            0.7500        0.7717  0.0004  0.9791\n",
      "     48            0.9979        0.1466       \u001b[35m0.7708\u001b[0m            \u001b[31m0.7708\u001b[0m        0.7691  0.0004  0.8028\n",
      "     49            0.9979        \u001b[32m0.1190\u001b[0m       0.7604            0.7604        0.7765  0.0003  0.7917\n",
      "     50            0.9979        0.1348       0.7604            0.7604        0.7754  0.0003  0.7898\n",
      "Fine tuning model for subject 9 with 240 trials\n"
     ]
    },
    {
     "name": "stderr",
     "output_type": "stream",
     "text": [
      "C:\\Users\\mengz\\anaconda3\\envs\\hyperBCI\\Lib\\site-packages\\braindecode\\models\\base.py:23: UserWarning: ShallowFBCSPNet: 'input_window_samples' is depreciated. Use 'n_times' instead.\n",
      "  warnings.warn(\n",
      "C:\\Users\\mengz\\anaconda3\\envs\\hyperBCI\\Lib\\site-packages\\braindecode\\models\\base.py:180: UserWarning: LogSoftmax final layer will be removed! Please adjust your loss function accordingly (e.g. CrossEntropyLoss)!\n",
      "  warnings.warn(\"LogSoftmax final layer will be removed! \" +\n"
     ]
    },
    {
     "name": "stdout",
     "output_type": "stream",
     "text": [
      "  epoch    train_accuracy    train_loss    valid_acc    valid_accuracy    valid_loss      lr     dur\n",
      "-------  ----------------  ------------  -----------  ----------------  ------------  ------  ------\n",
      "     31            0.6312        1.4275       0.5000            0.5000        1.1778  0.0004  0.8302\n",
      "     32            0.7271        1.0277       \u001b[35m0.5729\u001b[0m            \u001b[31m0.5729\u001b[0m        \u001b[94m1.0347\u001b[0m  0.0005  0.8455\n",
      "     33            0.8000        0.7479       \u001b[35m0.6667\u001b[0m            \u001b[31m0.6667\u001b[0m        \u001b[94m0.8665\u001b[0m  0.0005  0.7811\n",
      "     34            \u001b[36m0.8500\u001b[0m        \u001b[32m0.6122\u001b[0m       \u001b[35m0.6875\u001b[0m            \u001b[31m0.6875\u001b[0m        \u001b[94m0.8212\u001b[0m  0.0006  0.7835\n",
      "     35            \u001b[36m0.8917\u001b[0m        \u001b[32m0.4544\u001b[0m       \u001b[35m0.6979\u001b[0m            \u001b[31m0.6979\u001b[0m        \u001b[94m0.7875\u001b[0m  0.0006  0.7791\n",
      "     36            \u001b[36m0.9104\u001b[0m        \u001b[32m0.4066\u001b[0m       0.6771            0.6771        0.8059  0.0007  0.7789\n",
      "     37            \u001b[36m0.9167\u001b[0m        0.4135       0.6979            0.6979        0.7951  0.0007  0.7872\n",
      "     38            \u001b[36m0.9396\u001b[0m        \u001b[32m0.3434\u001b[0m       \u001b[35m0.7083\u001b[0m            \u001b[31m0.7083\u001b[0m        \u001b[94m0.7707\u001b[0m  0.0007  0.8502\n",
      "     39            \u001b[36m0.9646\u001b[0m        \u001b[32m0.2977\u001b[0m       \u001b[35m0.7188\u001b[0m            \u001b[31m0.7188\u001b[0m        \u001b[94m0.7494\u001b[0m  0.0007  0.9521\n",
      "     40            \u001b[36m0.9812\u001b[0m        \u001b[32m0.2750\u001b[0m       0.6979            0.6979        \u001b[94m0.7327\u001b[0m  0.0007  0.9528\n",
      "     41            \u001b[36m0.9833\u001b[0m        \u001b[32m0.2350\u001b[0m       0.7188            0.7188        \u001b[94m0.7141\u001b[0m  0.0007  0.9323\n",
      "     42            \u001b[36m0.9917\u001b[0m        \u001b[32m0.1947\u001b[0m       \u001b[35m0.7604\u001b[0m            \u001b[31m0.7604\u001b[0m        0.7526  0.0007  0.7891\n",
      "     43            \u001b[36m0.9979\u001b[0m        0.2056       \u001b[35m0.7708\u001b[0m            \u001b[31m0.7708\u001b[0m        0.7277  0.0006  0.7964\n",
      "     44            0.9938        \u001b[32m0.1863\u001b[0m       0.7708            0.7708        0.7327  0.0006  0.7979\n",
      "     45            0.9979        \u001b[32m0.1790\u001b[0m       0.7604            0.7604        0.7414  0.0005  0.7970\n",
      "     46            0.9979        \u001b[32m0.1567\u001b[0m       0.7604            0.7604        0.7451  0.0005  0.7969\n",
      "     47            0.9979        \u001b[32m0.1397\u001b[0m       0.7396            0.7396        0.7338  0.0004  0.7975\n",
      "     48            0.9979        \u001b[32m0.1321\u001b[0m       0.7604            0.7604        \u001b[94m0.7141\u001b[0m  0.0004  0.7807\n",
      "     49            0.9979        \u001b[32m0.1222\u001b[0m       0.7500            0.7500        \u001b[94m0.7139\u001b[0m  0.0003  0.8137\n",
      "     50            0.9979        \u001b[32m0.1076\u001b[0m       0.7500            0.7500        \u001b[94m0.7127\u001b[0m  0.0003  0.7976\n",
      "Fine tuning model for subject 9 with 260 trials\n"
     ]
    },
    {
     "name": "stderr",
     "output_type": "stream",
     "text": [
      "C:\\Users\\mengz\\anaconda3\\envs\\hyperBCI\\Lib\\site-packages\\braindecode\\models\\base.py:23: UserWarning: ShallowFBCSPNet: 'input_window_samples' is depreciated. Use 'n_times' instead.\n",
      "  warnings.warn(\n",
      "C:\\Users\\mengz\\anaconda3\\envs\\hyperBCI\\Lib\\site-packages\\braindecode\\models\\base.py:180: UserWarning: LogSoftmax final layer will be removed! Please adjust your loss function accordingly (e.g. CrossEntropyLoss)!\n",
      "  warnings.warn(\"LogSoftmax final layer will be removed! \" +\n"
     ]
    },
    {
     "name": "stdout",
     "output_type": "stream",
     "text": [
      "  epoch    train_accuracy    train_loss    valid_acc    valid_accuracy    valid_loss      lr     dur\n",
      "-------  ----------------  ------------  -----------  ----------------  ------------  ------  ------\n",
      "     31            0.6312        1.4122       \u001b[35m0.5312\u001b[0m            \u001b[31m0.5312\u001b[0m        1.3013  0.0004  0.7904\n",
      "     32            0.6833        0.9019       \u001b[35m0.5729\u001b[0m            \u001b[31m0.5729\u001b[0m        \u001b[94m1.0939\u001b[0m  0.0005  0.8297\n",
      "     33            \u001b[36m0.8229\u001b[0m        0.7668       \u001b[35m0.6458\u001b[0m            \u001b[31m0.6458\u001b[0m        \u001b[94m0.9175\u001b[0m  0.0005  0.9346\n",
      "     34            \u001b[36m0.8417\u001b[0m        \u001b[32m0.6281\u001b[0m       0.6458            0.6458        \u001b[94m0.8662\u001b[0m  0.0006  0.8745\n",
      "     35            \u001b[36m0.8771\u001b[0m        \u001b[32m0.4748\u001b[0m       \u001b[35m0.7083\u001b[0m            \u001b[31m0.7083\u001b[0m        \u001b[94m0.8144\u001b[0m  0.0006  0.9845\n",
      "     36            \u001b[36m0.9125\u001b[0m        \u001b[32m0.4561\u001b[0m       \u001b[35m0.7500\u001b[0m            \u001b[31m0.7500\u001b[0m        \u001b[94m0.7892\u001b[0m  0.0007  0.7966\n",
      "     37            \u001b[36m0.9292\u001b[0m        \u001b[32m0.3720\u001b[0m       0.6979            0.6979        0.8017  0.0007  0.8144\n",
      "     38            \u001b[36m0.9521\u001b[0m        \u001b[32m0.3014\u001b[0m       0.7083            0.7083        \u001b[94m0.7798\u001b[0m  0.0007  0.8121\n",
      "     39            \u001b[36m0.9729\u001b[0m        \u001b[32m0.2791\u001b[0m       0.7396            0.7396        \u001b[94m0.7543\u001b[0m  0.0007  0.7969\n",
      "     40            \u001b[36m0.9833\u001b[0m        \u001b[32m0.2490\u001b[0m       \u001b[35m0.7604\u001b[0m            \u001b[31m0.7604\u001b[0m        \u001b[94m0.7404\u001b[0m  0.0007  0.7969\n",
      "     41            0.9792        \u001b[32m0.2202\u001b[0m       \u001b[35m0.7708\u001b[0m            \u001b[31m0.7708\u001b[0m        0.7614  0.0007  0.7810\n",
      "     42            \u001b[36m0.9854\u001b[0m        \u001b[32m0.1911\u001b[0m       \u001b[35m0.8021\u001b[0m            \u001b[31m0.8021\u001b[0m        0.7692  0.0007  0.7830\n",
      "     43            \u001b[36m0.9896\u001b[0m        \u001b[32m0.1667\u001b[0m       0.7917            0.7917        0.7588  0.0006  0.7898\n",
      "     44            \u001b[36m0.9917\u001b[0m        \u001b[32m0.1492\u001b[0m       0.7500            0.7500        0.7595  0.0006  0.7777\n",
      "     45            \u001b[36m0.9958\u001b[0m        \u001b[32m0.1466\u001b[0m       0.7500            0.7500        0.7405  0.0005  0.7956\n",
      "     46            \u001b[36m0.9979\u001b[0m        \u001b[32m0.1459\u001b[0m       0.7917            0.7917        \u001b[94m0.7301\u001b[0m  0.0005  0.8707\n",
      "     47            \u001b[36m1.0000\u001b[0m        \u001b[32m0.1405\u001b[0m       0.7708            0.7708        \u001b[94m0.7175\u001b[0m  0.0004  0.9437\n",
      "     48            0.9979        \u001b[32m0.1233\u001b[0m       0.7604            0.7604        0.7415  0.0004  0.8986\n",
      "     49            0.9979        0.1330       0.7500            0.7500        0.7581  0.0003  1.0055\n",
      "     50            0.9979        0.1239       0.7500            0.7500        0.7606  0.0003  0.7931\n",
      "Fine tuning model for subject 9 with 280 trials\n"
     ]
    },
    {
     "name": "stderr",
     "output_type": "stream",
     "text": [
      "C:\\Users\\mengz\\anaconda3\\envs\\hyperBCI\\Lib\\site-packages\\braindecode\\models\\base.py:23: UserWarning: ShallowFBCSPNet: 'input_window_samples' is depreciated. Use 'n_times' instead.\n",
      "  warnings.warn(\n",
      "C:\\Users\\mengz\\anaconda3\\envs\\hyperBCI\\Lib\\site-packages\\braindecode\\models\\base.py:180: UserWarning: LogSoftmax final layer will be removed! Please adjust your loss function accordingly (e.g. CrossEntropyLoss)!\n",
      "  warnings.warn(\"LogSoftmax final layer will be removed! \" +\n"
     ]
    },
    {
     "name": "stdout",
     "output_type": "stream",
     "text": [
      "  epoch    train_accuracy    train_loss    valid_acc    valid_accuracy    valid_loss      lr     dur\n",
      "-------  ----------------  ------------  -----------  ----------------  ------------  ------  ------\n",
      "     31            0.6271        1.3575       0.5104            0.5104        1.3356  0.0004  0.8477\n",
      "     32            0.6896        0.9509       \u001b[35m0.5833\u001b[0m            \u001b[31m0.5833\u001b[0m        \u001b[94m1.1010\u001b[0m  0.0005  0.7965\n",
      "     33            0.8063        0.8128       \u001b[35m0.6667\u001b[0m            \u001b[31m0.6667\u001b[0m        \u001b[94m0.8804\u001b[0m  0.0005  0.7801\n",
      "     34            \u001b[36m0.8500\u001b[0m        \u001b[32m0.6691\u001b[0m       \u001b[35m0.6771\u001b[0m            \u001b[31m0.6771\u001b[0m        \u001b[94m0.8578\u001b[0m  0.0006  0.8052\n",
      "     35            \u001b[36m0.8667\u001b[0m        \u001b[32m0.5007\u001b[0m       0.6354            0.6354        0.8863  0.0006  0.7995\n",
      "     36            \u001b[36m0.9187\u001b[0m        \u001b[32m0.4787\u001b[0m       \u001b[35m0.7500\u001b[0m            \u001b[31m0.7500\u001b[0m        \u001b[94m0.7820\u001b[0m  0.0007  0.7925\n",
      "     37            \u001b[36m0.9375\u001b[0m        \u001b[32m0.4373\u001b[0m       \u001b[35m0.7604\u001b[0m            \u001b[31m0.7604\u001b[0m        \u001b[94m0.7340\u001b[0m  0.0007  0.7818\n",
      "     38            \u001b[36m0.9604\u001b[0m        \u001b[32m0.3158\u001b[0m       0.7604            0.7604        0.7478  0.0007  0.7892\n",
      "     39            \u001b[36m0.9667\u001b[0m        \u001b[32m0.2809\u001b[0m       0.7396            0.7396        0.7501  0.0007  0.7901\n",
      "     40            \u001b[36m0.9896\u001b[0m        \u001b[32m0.2503\u001b[0m       0.7500            0.7500        0.7545  0.0007  0.8989\n",
      "     41            \u001b[36m0.9938\u001b[0m        \u001b[32m0.2142\u001b[0m       0.7396            0.7396        0.7428  0.0007  0.9433\n",
      "     42            0.9896        \u001b[32m0.1807\u001b[0m       \u001b[35m0.7708\u001b[0m            \u001b[31m0.7708\u001b[0m        0.7410  0.0007  0.9073\n",
      "     43            0.9938        0.1856       0.7604            0.7604        \u001b[94m0.7236\u001b[0m  0.0006  0.9588\n",
      "     44            0.9917        \u001b[32m0.1750\u001b[0m       \u001b[35m0.7812\u001b[0m            \u001b[31m0.7812\u001b[0m        0.7673  0.0006  0.8082\n",
      "     45            \u001b[36m1.0000\u001b[0m        \u001b[32m0.1609\u001b[0m       0.7812            0.7812        \u001b[94m0.7147\u001b[0m  0.0005  0.8039\n",
      "     46            1.0000        \u001b[32m0.1470\u001b[0m       0.7708            0.7708        0.7154  0.0005  0.7813\n",
      "     47            1.0000        0.1504       0.7708            0.7708        0.7277  0.0004  0.8126\n",
      "     48            0.9979        \u001b[32m0.1408\u001b[0m       0.7708            0.7708        0.7319  0.0004  0.8118\n",
      "     49            1.0000        \u001b[32m0.0992\u001b[0m       0.7604            0.7604        0.7313  0.0003  0.7966\n",
      "     50            1.0000        0.1109       0.7604            0.7604        0.7327  0.0003  0.7814\n",
      "Fine tuning model for subject 9 with 300 trials\n"
     ]
    },
    {
     "name": "stderr",
     "output_type": "stream",
     "text": [
      "C:\\Users\\mengz\\anaconda3\\envs\\hyperBCI\\Lib\\site-packages\\braindecode\\models\\base.py:23: UserWarning: ShallowFBCSPNet: 'input_window_samples' is depreciated. Use 'n_times' instead.\n",
      "  warnings.warn(\n",
      "C:\\Users\\mengz\\anaconda3\\envs\\hyperBCI\\Lib\\site-packages\\braindecode\\models\\base.py:180: UserWarning: LogSoftmax final layer will be removed! Please adjust your loss function accordingly (e.g. CrossEntropyLoss)!\n",
      "  warnings.warn(\"LogSoftmax final layer will be removed! \" +\n"
     ]
    },
    {
     "name": "stdout",
     "output_type": "stream",
     "text": [
      "  epoch    train_accuracy    train_loss    valid_acc    valid_accuracy    valid_loss      lr     dur\n",
      "-------  ----------------  ------------  -----------  ----------------  ------------  ------  ------\n",
      "     31            0.6188        1.4192       \u001b[35m0.5208\u001b[0m            \u001b[31m0.5208\u001b[0m        1.2893  0.0004  0.8292\n",
      "     32            0.6792        1.0076       \u001b[35m0.5417\u001b[0m            \u001b[31m0.5417\u001b[0m        1.1591  0.0005  0.8270\n",
      "     33            0.8042        \u001b[32m0.7265\u001b[0m       \u001b[35m0.6875\u001b[0m            \u001b[31m0.6875\u001b[0m        \u001b[94m0.9134\u001b[0m  0.0005  0.8156\n",
      "     34            \u001b[36m0.8396\u001b[0m        \u001b[32m0.6356\u001b[0m       0.6771            0.6771        \u001b[94m0.8637\u001b[0m  0.0006  0.9698\n",
      "     35            \u001b[36m0.8792\u001b[0m        \u001b[32m0.5173\u001b[0m       \u001b[35m0.7083\u001b[0m            \u001b[31m0.7083\u001b[0m        \u001b[94m0.8258\u001b[0m  0.0006  0.8894\n",
      "     36            \u001b[36m0.9125\u001b[0m        \u001b[32m0.4318\u001b[0m       \u001b[35m0.7188\u001b[0m            \u001b[31m0.7188\u001b[0m        \u001b[94m0.7951\u001b[0m  0.0007  1.0252\n",
      "     37            \u001b[36m0.9375\u001b[0m        \u001b[32m0.4070\u001b[0m       \u001b[35m0.7396\u001b[0m            \u001b[31m0.7396\u001b[0m        \u001b[94m0.7523\u001b[0m  0.0007  0.7815\n",
      "     38            \u001b[36m0.9437\u001b[0m        \u001b[32m0.2973\u001b[0m       0.6979            0.6979        0.7581  0.0007  0.7947\n",
      "     39            \u001b[36m0.9521\u001b[0m        \u001b[32m0.2822\u001b[0m       0.7396            0.7396        0.7664  0.0007  0.7828\n",
      "     40            \u001b[36m0.9708\u001b[0m        0.2937       \u001b[35m0.7604\u001b[0m            \u001b[31m0.7604\u001b[0m        \u001b[94m0.7388\u001b[0m  0.0007  0.7957\n",
      "     41            \u001b[36m0.9771\u001b[0m        \u001b[32m0.2107\u001b[0m       0.7500            0.7500        \u001b[94m0.7360\u001b[0m  0.0007  0.7952\n",
      "     42            \u001b[36m0.9896\u001b[0m        0.2111       0.7292            0.7292        0.7392  0.0007  0.7983\n",
      "     43            \u001b[36m0.9917\u001b[0m        \u001b[32m0.1992\u001b[0m       0.7396            0.7396        0.7434  0.0006  0.8113\n",
      "     44            \u001b[36m0.9979\u001b[0m        \u001b[32m0.1859\u001b[0m       0.7500            0.7500        \u001b[94m0.7236\u001b[0m  0.0006  0.7955\n",
      "     45            0.9979        \u001b[32m0.1675\u001b[0m       \u001b[35m0.7812\u001b[0m            \u001b[31m0.7812\u001b[0m        \u001b[94m0.7096\u001b[0m  0.0005  0.8238\n",
      "     46            0.9979        \u001b[32m0.1566\u001b[0m       0.7604            0.7604        0.7186  0.0005  0.8299\n",
      "     47            \u001b[36m1.0000\u001b[0m        \u001b[32m0.1449\u001b[0m       0.7604            0.7604        0.7185  0.0004  0.8581\n",
      "     48            1.0000        0.1552       0.7604            0.7604        0.7256  0.0004  0.9370\n",
      "     49            1.0000        \u001b[32m0.1177\u001b[0m       0.7604            0.7604        0.7404  0.0003  1.0214\n",
      "     50            1.0000        \u001b[32m0.1153\u001b[0m       0.7604            0.7604        0.7419  0.0003  0.9741\n",
      "Fine tuning model for subject 9 with 320 trials\n"
     ]
    },
    {
     "name": "stderr",
     "output_type": "stream",
     "text": [
      "C:\\Users\\mengz\\anaconda3\\envs\\hyperBCI\\Lib\\site-packages\\braindecode\\models\\base.py:23: UserWarning: ShallowFBCSPNet: 'input_window_samples' is depreciated. Use 'n_times' instead.\n",
      "  warnings.warn(\n",
      "C:\\Users\\mengz\\anaconda3\\envs\\hyperBCI\\Lib\\site-packages\\braindecode\\models\\base.py:180: UserWarning: LogSoftmax final layer will be removed! Please adjust your loss function accordingly (e.g. CrossEntropyLoss)!\n",
      "  warnings.warn(\"LogSoftmax final layer will be removed! \" +\n"
     ]
    },
    {
     "name": "stdout",
     "output_type": "stream",
     "text": [
      "  epoch    train_accuracy    train_loss    valid_acc    valid_accuracy    valid_loss      lr     dur\n",
      "-------  ----------------  ------------  -----------  ----------------  ------------  ------  ------\n",
      "     31            0.6354        1.3589       \u001b[35m0.5208\u001b[0m            \u001b[31m0.5208\u001b[0m        1.2449  0.0004  0.8339\n",
      "     32            0.7146        1.0163       \u001b[35m0.5521\u001b[0m            \u001b[31m0.5521\u001b[0m        \u001b[94m1.0776\u001b[0m  0.0005  0.8979\n",
      "     33            0.8021        \u001b[32m0.7227\u001b[0m       \u001b[35m0.6250\u001b[0m            \u001b[31m0.6250\u001b[0m        \u001b[94m0.9151\u001b[0m  0.0005  0.8345\n",
      "     34            \u001b[36m0.8542\u001b[0m        \u001b[32m0.6409\u001b[0m       \u001b[35m0.6562\u001b[0m            \u001b[31m0.6562\u001b[0m        \u001b[94m0.8876\u001b[0m  0.0006  0.8567\n",
      "     35            \u001b[36m0.8917\u001b[0m        \u001b[32m0.5181\u001b[0m       \u001b[35m0.7083\u001b[0m            \u001b[31m0.7083\u001b[0m        \u001b[94m0.8415\u001b[0m  0.0006  0.8377\n",
      "     36            \u001b[36m0.9062\u001b[0m        \u001b[32m0.4234\u001b[0m       \u001b[35m0.7396\u001b[0m            \u001b[31m0.7396\u001b[0m        \u001b[94m0.8193\u001b[0m  0.0007  0.8201\n",
      "     37            \u001b[36m0.9313\u001b[0m        \u001b[32m0.3447\u001b[0m       0.6875            0.6875        \u001b[94m0.8093\u001b[0m  0.0007  0.7802\n",
      "     38            \u001b[36m0.9563\u001b[0m        \u001b[32m0.3099\u001b[0m       0.6562            0.6562        0.8246  0.0007  0.8204\n",
      "     39            \u001b[36m0.9708\u001b[0m        \u001b[32m0.2723\u001b[0m       0.6771            0.6771        0.8147  0.0007  0.9356\n",
      "     40            \u001b[36m0.9750\u001b[0m        \u001b[32m0.2539\u001b[0m       0.7083            0.7083        \u001b[94m0.7733\u001b[0m  0.0007  1.0600\n",
      "     41            0.9708        \u001b[32m0.2092\u001b[0m       0.6667            0.6667        0.7933  0.0007  0.9216\n",
      "     42            \u001b[36m0.9958\u001b[0m        0.2146       0.6979            0.6979        0.7929  0.0007  0.9554\n",
      "     43            0.9854        \u001b[32m0.1829\u001b[0m       0.7188            0.7188        0.7889  0.0006  0.9595\n",
      "     44            \u001b[36m0.9979\u001b[0m        \u001b[32m0.1760\u001b[0m       0.7292            0.7292        0.8024  0.0006  0.8405\n",
      "     45            \u001b[36m1.0000\u001b[0m        \u001b[32m0.1617\u001b[0m       0.7292            0.7292        0.7988  0.0005  0.8691\n",
      "     46            1.0000        \u001b[32m0.1527\u001b[0m       0.7396            0.7396        0.8027  0.0005  0.8291\n",
      "     47            1.0000        \u001b[32m0.1342\u001b[0m       0.7396            0.7396        0.7798  0.0004  0.8249\n",
      "     48            1.0000        \u001b[32m0.1217\u001b[0m       0.7396            0.7396        \u001b[94m0.7609\u001b[0m  0.0004  0.7834\n",
      "     49            1.0000        \u001b[32m0.1210\u001b[0m       \u001b[35m0.7500\u001b[0m            \u001b[31m0.7500\u001b[0m        0.7788  0.0003  0.8357\n",
      "     50            1.0000        0.1290       \u001b[35m0.7604\u001b[0m            \u001b[31m0.7604\u001b[0m        0.7818  0.0003  0.7968\n",
      "Fine tuning model for subject 9 with 340 trials\n"
     ]
    },
    {
     "name": "stderr",
     "output_type": "stream",
     "text": [
      "C:\\Users\\mengz\\anaconda3\\envs\\hyperBCI\\Lib\\site-packages\\braindecode\\models\\base.py:23: UserWarning: ShallowFBCSPNet: 'input_window_samples' is depreciated. Use 'n_times' instead.\n",
      "  warnings.warn(\n",
      "C:\\Users\\mengz\\anaconda3\\envs\\hyperBCI\\Lib\\site-packages\\braindecode\\models\\base.py:180: UserWarning: LogSoftmax final layer will be removed! Please adjust your loss function accordingly (e.g. CrossEntropyLoss)!\n",
      "  warnings.warn(\"LogSoftmax final layer will be removed! \" +\n"
     ]
    },
    {
     "name": "stdout",
     "output_type": "stream",
     "text": [
      "  epoch    train_accuracy    train_loss    valid_acc    valid_accuracy    valid_loss      lr     dur\n",
      "-------  ----------------  ------------  -----------  ----------------  ------------  ------  ------\n",
      "     31            0.6417        1.3799       \u001b[35m0.5208\u001b[0m            \u001b[31m0.5208\u001b[0m        1.2374  0.0004  0.8411\n",
      "     32            0.6958        1.0035       \u001b[35m0.5625\u001b[0m            \u001b[31m0.5625\u001b[0m        \u001b[94m1.0918\u001b[0m  0.0005  0.8502\n",
      "     33            0.8083        0.7703       \u001b[35m0.6458\u001b[0m            \u001b[31m0.6458\u001b[0m        \u001b[94m0.9083\u001b[0m  0.0005  0.8654\n",
      "     34            \u001b[36m0.8542\u001b[0m        \u001b[32m0.6282\u001b[0m       \u001b[35m0.6667\u001b[0m            \u001b[31m0.6667\u001b[0m        \u001b[94m0.8722\u001b[0m  0.0006  1.0844\n",
      "     35            \u001b[36m0.8854\u001b[0m        \u001b[32m0.4954\u001b[0m       \u001b[35m0.7188\u001b[0m            \u001b[31m0.7188\u001b[0m        \u001b[94m0.8367\u001b[0m  0.0006  1.0815\n",
      "     36            \u001b[36m0.8979\u001b[0m        \u001b[32m0.4671\u001b[0m       0.6771            0.6771        \u001b[94m0.8269\u001b[0m  0.0007  1.0201\n",
      "     37            \u001b[36m0.9208\u001b[0m        \u001b[32m0.3821\u001b[0m       0.6979            0.6979        \u001b[94m0.8165\u001b[0m  0.0007  1.3665\n",
      "     38            \u001b[36m0.9354\u001b[0m        \u001b[32m0.3151\u001b[0m       0.6979            0.6979        \u001b[94m0.7795\u001b[0m  0.0007  1.3376\n",
      "     39            \u001b[36m0.9563\u001b[0m        \u001b[32m0.3051\u001b[0m       0.6875            0.6875        \u001b[94m0.7699\u001b[0m  0.0007  1.0504\n",
      "     40            \u001b[36m0.9708\u001b[0m        \u001b[32m0.2520\u001b[0m       \u001b[35m0.7292\u001b[0m            \u001b[31m0.7292\u001b[0m        \u001b[94m0.7648\u001b[0m  0.0007  1.0793\n",
      "     41            \u001b[36m0.9771\u001b[0m        0.2594       0.7083            0.7083        0.7805  0.0007  1.3371\n",
      "     42            0.9750        \u001b[32m0.2342\u001b[0m       0.6875            0.6875        0.7718  0.0007  1.2240\n",
      "     43            \u001b[36m0.9854\u001b[0m        \u001b[32m0.1950\u001b[0m       \u001b[35m0.7604\u001b[0m            \u001b[31m0.7604\u001b[0m        \u001b[94m0.7556\u001b[0m  0.0006  1.3618\n",
      "     44            \u001b[36m0.9896\u001b[0m        \u001b[32m0.1532\u001b[0m       0.7500            0.7500        \u001b[94m0.7442\u001b[0m  0.0006  1.4229\n",
      "     45            \u001b[36m0.9958\u001b[0m        0.1537       0.7396            0.7396        \u001b[94m0.7312\u001b[0m  0.0005  1.4950\n",
      "     46            0.9958        0.1627       0.7500            0.7500        \u001b[94m0.7255\u001b[0m  0.0005  1.1027\n",
      "     47            0.9938        0.1540       0.7500            0.7500        0.7332  0.0004  0.8572\n",
      "     48            0.9938        \u001b[32m0.1334\u001b[0m       0.7396            0.7396        0.7472  0.0004  0.8225\n",
      "     49            \u001b[36m0.9979\u001b[0m        \u001b[32m0.1165\u001b[0m       0.7500            0.7500        0.7485  0.0003  0.8704\n",
      "     50            \u001b[36m1.0000\u001b[0m        0.1191       0.7500            0.7500        0.7310  0.0003  0.8715\n",
      "Fine tuning model for subject 9 with 360 trials\n"
     ]
    },
    {
     "name": "stderr",
     "output_type": "stream",
     "text": [
      "C:\\Users\\mengz\\anaconda3\\envs\\hyperBCI\\Lib\\site-packages\\braindecode\\models\\base.py:23: UserWarning: ShallowFBCSPNet: 'input_window_samples' is depreciated. Use 'n_times' instead.\n",
      "  warnings.warn(\n",
      "C:\\Users\\mengz\\anaconda3\\envs\\hyperBCI\\Lib\\site-packages\\braindecode\\models\\base.py:180: UserWarning: LogSoftmax final layer will be removed! Please adjust your loss function accordingly (e.g. CrossEntropyLoss)!\n",
      "  warnings.warn(\"LogSoftmax final layer will be removed! \" +\n"
     ]
    },
    {
     "name": "stdout",
     "output_type": "stream",
     "text": [
      "  epoch    train_accuracy    train_loss    valid_acc    valid_accuracy    valid_loss      lr     dur\n",
      "-------  ----------------  ------------  -----------  ----------------  ------------  ------  ------\n",
      "     31            0.6229        1.3638       \u001b[35m0.5208\u001b[0m            \u001b[31m0.5208\u001b[0m        1.2707  0.0004  0.8122\n",
      "     32            0.6875        1.0000       \u001b[35m0.5521\u001b[0m            \u001b[31m0.5521\u001b[0m        \u001b[94m1.0615\u001b[0m  0.0005  0.8681\n",
      "     33            0.7958        0.7773       \u001b[35m0.6667\u001b[0m            \u001b[31m0.6667\u001b[0m        \u001b[94m0.8987\u001b[0m  0.0005  0.9675\n",
      "     34            \u001b[36m0.8458\u001b[0m        \u001b[32m0.6359\u001b[0m       \u001b[35m0.6875\u001b[0m            \u001b[31m0.6875\u001b[0m        \u001b[94m0.8341\u001b[0m  0.0006  0.8589\n",
      "     35            \u001b[36m0.8917\u001b[0m        \u001b[32m0.4923\u001b[0m       0.6875            0.6875        0.8356  0.0006  1.0318\n",
      "     36            \u001b[36m0.9104\u001b[0m        \u001b[32m0.3979\u001b[0m       \u001b[35m0.7083\u001b[0m            \u001b[31m0.7083\u001b[0m        0.8351  0.0007  1.0195\n",
      "     37            \u001b[36m0.9250\u001b[0m        0.4100       \u001b[35m0.7292\u001b[0m            \u001b[31m0.7292\u001b[0m        \u001b[94m0.8137\u001b[0m  0.0007  0.9935\n",
      "     38            \u001b[36m0.9604\u001b[0m        \u001b[32m0.3229\u001b[0m       0.7188            0.7188        \u001b[94m0.7550\u001b[0m  0.0007  0.8229\n",
      "     39            0.9542        0.3271       0.7083            0.7083        0.7566  0.0007  0.9173\n",
      "     40            \u001b[36m0.9708\u001b[0m        \u001b[32m0.2834\u001b[0m       0.7188            0.7188        \u001b[94m0.7332\u001b[0m  0.0007  0.7985\n",
      "     41            \u001b[36m0.9771\u001b[0m        \u001b[32m0.2340\u001b[0m       \u001b[35m0.7500\u001b[0m            \u001b[31m0.7500\u001b[0m        0.7407  0.0007  0.8604\n",
      "     42            \u001b[36m0.9833\u001b[0m        \u001b[32m0.2150\u001b[0m       0.7500            0.7500        0.7545  0.0007  0.8011\n",
      "     43            \u001b[36m0.9917\u001b[0m        \u001b[32m0.1839\u001b[0m       \u001b[35m0.7604\u001b[0m            \u001b[31m0.7604\u001b[0m        \u001b[94m0.7225\u001b[0m  0.0006  0.9400\n",
      "     44            0.9875        \u001b[32m0.1774\u001b[0m       0.7500            0.7500        0.7337  0.0006  0.8951\n",
      "     45            0.9896        \u001b[32m0.1567\u001b[0m       0.7604            0.7604        0.7692  0.0005  0.8231\n",
      "     46            0.9917        \u001b[32m0.1359\u001b[0m       \u001b[35m0.7708\u001b[0m            \u001b[31m0.7708\u001b[0m        0.7643  0.0005  0.8443\n",
      "     47            \u001b[36m0.9979\u001b[0m        \u001b[32m0.1331\u001b[0m       \u001b[35m0.8125\u001b[0m            \u001b[31m0.8125\u001b[0m        0.7478  0.0004  0.7924\n",
      "     48            \u001b[36m1.0000\u001b[0m        \u001b[32m0.1323\u001b[0m       0.8125            0.8125        0.7389  0.0004  0.9239\n",
      "     49            1.0000        0.1390       0.8125            0.8125        0.7331  0.0003  0.8784\n",
      "     50            1.0000        \u001b[32m0.1199\u001b[0m       0.8021            0.8021        0.7256  0.0003  0.9572\n",
      "Fine tuning model for subject 9 with 380 trials\n"
     ]
    },
    {
     "name": "stderr",
     "output_type": "stream",
     "text": [
      "C:\\Users\\mengz\\anaconda3\\envs\\hyperBCI\\Lib\\site-packages\\braindecode\\models\\base.py:23: UserWarning: ShallowFBCSPNet: 'input_window_samples' is depreciated. Use 'n_times' instead.\n",
      "  warnings.warn(\n",
      "C:\\Users\\mengz\\anaconda3\\envs\\hyperBCI\\Lib\\site-packages\\braindecode\\models\\base.py:180: UserWarning: LogSoftmax final layer will be removed! Please adjust your loss function accordingly (e.g. CrossEntropyLoss)!\n",
      "  warnings.warn(\"LogSoftmax final layer will be removed! \" +\n"
     ]
    },
    {
     "name": "stdout",
     "output_type": "stream",
     "text": [
      "  epoch    train_accuracy    train_loss    valid_acc    valid_accuracy    valid_loss      lr     dur\n",
      "-------  ----------------  ------------  -----------  ----------------  ------------  ------  ------\n",
      "     31            0.6021        1.2685       \u001b[35m0.5208\u001b[0m            \u001b[31m0.5208\u001b[0m        1.3267  0.0004  0.9174\n",
      "     32            0.6958        1.0289       \u001b[35m0.5521\u001b[0m            \u001b[31m0.5521\u001b[0m        \u001b[94m1.0584\u001b[0m  0.0005  0.9084\n",
      "     33            0.7812        0.7544       \u001b[35m0.6458\u001b[0m            \u001b[31m0.6458\u001b[0m        \u001b[94m0.9031\u001b[0m  0.0005  0.8072\n",
      "     34            \u001b[36m0.8521\u001b[0m        \u001b[32m0.6223\u001b[0m       \u001b[35m0.6562\u001b[0m            \u001b[31m0.6562\u001b[0m        \u001b[94m0.8660\u001b[0m  0.0006  0.8045\n",
      "     35            \u001b[36m0.8625\u001b[0m        \u001b[32m0.4871\u001b[0m       \u001b[35m0.6979\u001b[0m            \u001b[31m0.6979\u001b[0m        \u001b[94m0.8411\u001b[0m  0.0006  0.9064\n",
      "     36            \u001b[36m0.9042\u001b[0m        \u001b[32m0.4785\u001b[0m       0.6979            0.6979        \u001b[94m0.7997\u001b[0m  0.0007  0.8554\n",
      "     37            \u001b[36m0.9229\u001b[0m        \u001b[32m0.3624\u001b[0m       \u001b[35m0.7188\u001b[0m            \u001b[31m0.7188\u001b[0m        \u001b[94m0.7316\u001b[0m  0.0007  0.8125\n",
      "     38            \u001b[36m0.9479\u001b[0m        \u001b[32m0.3573\u001b[0m       \u001b[35m0.7292\u001b[0m            \u001b[31m0.7292\u001b[0m        0.7378  0.0007  0.8803\n",
      "     39            \u001b[36m0.9667\u001b[0m        \u001b[32m0.3048\u001b[0m       0.7083            0.7083        0.7541  0.0007  0.9321\n",
      "     40            0.9625        \u001b[32m0.2365\u001b[0m       0.6979            0.6979        0.7488  0.0007  0.9608\n",
      "     41            \u001b[36m0.9854\u001b[0m        0.2403       \u001b[35m0.7396\u001b[0m            \u001b[31m0.7396\u001b[0m        \u001b[94m0.7257\u001b[0m  0.0007  0.9819\n",
      "     42            \u001b[36m0.9917\u001b[0m        \u001b[32m0.2038\u001b[0m       \u001b[35m0.7500\u001b[0m            \u001b[31m0.7500\u001b[0m        \u001b[94m0.7246\u001b[0m  0.0007  0.9091\n",
      "     43            0.9896        \u001b[32m0.1700\u001b[0m       0.7396            0.7396        \u001b[94m0.6804\u001b[0m  0.0006  0.9698\n",
      "     44            0.9896        0.1769       \u001b[35m0.7708\u001b[0m            \u001b[31m0.7708\u001b[0m        0.6810  0.0006  0.8290\n",
      "     45            \u001b[36m0.9958\u001b[0m        \u001b[32m0.1669\u001b[0m       \u001b[35m0.7812\u001b[0m            \u001b[31m0.7812\u001b[0m        \u001b[94m0.6737\u001b[0m  0.0005  0.8909\n",
      "     46            \u001b[36m1.0000\u001b[0m        \u001b[32m0.1612\u001b[0m       0.7292            0.7292        0.7271  0.0005  0.9830\n",
      "     47            1.0000        \u001b[32m0.1468\u001b[0m       0.7396            0.7396        0.7309  0.0004  0.8098\n",
      "     48            0.9979        \u001b[32m0.1311\u001b[0m       0.7708            0.7708        0.7454  0.0004  0.7839\n",
      "     49            1.0000        \u001b[32m0.1132\u001b[0m       0.7708            0.7708        0.7239  0.0003  0.9263\n",
      "     50            1.0000        0.1328       0.7708            0.7708        0.7086  0.0003  0.8379\n",
      "Fine tuning model for subject 9 with 400 trials\n"
     ]
    },
    {
     "name": "stderr",
     "output_type": "stream",
     "text": [
      "C:\\Users\\mengz\\anaconda3\\envs\\hyperBCI\\Lib\\site-packages\\braindecode\\models\\base.py:23: UserWarning: ShallowFBCSPNet: 'input_window_samples' is depreciated. Use 'n_times' instead.\n",
      "  warnings.warn(\n",
      "C:\\Users\\mengz\\anaconda3\\envs\\hyperBCI\\Lib\\site-packages\\braindecode\\models\\base.py:180: UserWarning: LogSoftmax final layer will be removed! Please adjust your loss function accordingly (e.g. CrossEntropyLoss)!\n",
      "  warnings.warn(\"LogSoftmax final layer will be removed! \" +\n"
     ]
    },
    {
     "name": "stdout",
     "output_type": "stream",
     "text": [
      "  epoch    train_accuracy    train_loss    valid_acc    valid_accuracy    valid_loss      lr     dur\n",
      "-------  ----------------  ------------  -----------  ----------------  ------------  ------  ------\n",
      "     31            0.6167        1.3274       0.4792            0.4792        1.2975  0.0004  0.8628\n",
      "     32            0.7125        0.9794       \u001b[35m0.5521\u001b[0m            \u001b[31m0.5521\u001b[0m        \u001b[94m1.1104\u001b[0m  0.0005  0.8631\n",
      "     33            0.7958        \u001b[32m0.7249\u001b[0m       \u001b[35m0.6146\u001b[0m            \u001b[31m0.6146\u001b[0m        \u001b[94m0.9206\u001b[0m  0.0005  0.8953\n",
      "     34            \u001b[36m0.8625\u001b[0m        \u001b[32m0.6268\u001b[0m       \u001b[35m0.6875\u001b[0m            \u001b[31m0.6875\u001b[0m        \u001b[94m0.8598\u001b[0m  0.0006  0.9564\n",
      "     35            \u001b[36m0.8938\u001b[0m        \u001b[32m0.5148\u001b[0m       \u001b[35m0.7083\u001b[0m            \u001b[31m0.7083\u001b[0m        \u001b[94m0.8242\u001b[0m  0.0006  1.0090\n",
      "     36            \u001b[36m0.9062\u001b[0m        \u001b[32m0.4278\u001b[0m       0.7083            0.7083        0.8370  0.0007  1.1346\n",
      "     37            \u001b[36m0.9333\u001b[0m        \u001b[32m0.3849\u001b[0m       0.7083            0.7083        \u001b[94m0.8173\u001b[0m  0.0007  0.8319\n",
      "     38            \u001b[36m0.9479\u001b[0m        \u001b[32m0.3286\u001b[0m       \u001b[35m0.7292\u001b[0m            \u001b[31m0.7292\u001b[0m        \u001b[94m0.7809\u001b[0m  0.0007  0.7989\n",
      "     39            0.9479        \u001b[32m0.2973\u001b[0m       0.7188            0.7188        0.7866  0.0007  1.0456\n",
      "     40            \u001b[36m0.9875\u001b[0m        \u001b[32m0.2539\u001b[0m       0.7188            0.7188        \u001b[94m0.7729\u001b[0m  0.0007  0.9131\n",
      "     41            0.9771        0.2639       0.7292            0.7292        \u001b[94m0.7586\u001b[0m  0.0007  0.8116\n",
      "     42            0.9875        \u001b[32m0.1965\u001b[0m       \u001b[35m0.7604\u001b[0m            \u001b[31m0.7604\u001b[0m        \u001b[94m0.7497\u001b[0m  0.0007  0.8163\n",
      "     43            \u001b[36m0.9917\u001b[0m        \u001b[32m0.1810\u001b[0m       0.7604            0.7604        0.7509  0.0006  0.8069\n",
      "     44            \u001b[36m0.9958\u001b[0m        \u001b[32m0.1755\u001b[0m       0.7292            0.7292        0.7576  0.0006  0.8148\n",
      "     45            \u001b[36m0.9979\u001b[0m        \u001b[32m0.1350\u001b[0m       0.7292            0.7292        0.7742  0.0005  0.8234\n",
      "     46            0.9979        0.1428       0.7604            0.7604        \u001b[94m0.7437\u001b[0m  0.0005  0.9638\n",
      "     47            0.9979        0.1440       \u001b[35m0.7708\u001b[0m            \u001b[31m0.7708\u001b[0m        \u001b[94m0.7348\u001b[0m  0.0004  0.9803\n",
      "     48            0.9979        \u001b[32m0.1320\u001b[0m       0.7604            0.7604        \u001b[94m0.7155\u001b[0m  0.0004  0.9488\n",
      "     49            0.9979        0.1343       0.7604            0.7604        0.7197  0.0003  1.0481\n",
      "     50            0.9979        0.1465       0.7708            0.7708        \u001b[94m0.7037\u001b[0m  0.0003  0.8705\n",
      "Fine tuning model for subject 9 with 420 trials\n"
     ]
    },
    {
     "name": "stderr",
     "output_type": "stream",
     "text": [
      "C:\\Users\\mengz\\anaconda3\\envs\\hyperBCI\\Lib\\site-packages\\braindecode\\models\\base.py:23: UserWarning: ShallowFBCSPNet: 'input_window_samples' is depreciated. Use 'n_times' instead.\n",
      "  warnings.warn(\n",
      "C:\\Users\\mengz\\anaconda3\\envs\\hyperBCI\\Lib\\site-packages\\braindecode\\models\\base.py:180: UserWarning: LogSoftmax final layer will be removed! Please adjust your loss function accordingly (e.g. CrossEntropyLoss)!\n",
      "  warnings.warn(\"LogSoftmax final layer will be removed! \" +\n"
     ]
    },
    {
     "name": "stdout",
     "output_type": "stream",
     "text": [
      "  epoch    train_accuracy    train_loss    valid_acc    valid_accuracy    valid_loss      lr     dur\n",
      "-------  ----------------  ------------  -----------  ----------------  ------------  ------  ------\n",
      "     31            0.6375        1.4174       \u001b[35m0.5208\u001b[0m            \u001b[31m0.5208\u001b[0m        1.2751  0.0004  0.7984\n",
      "     32            0.6792        1.0090       \u001b[35m0.5625\u001b[0m            \u001b[31m0.5625\u001b[0m        1.1610  0.0005  0.7927\n",
      "     33            0.8000        0.8214       \u001b[35m0.6458\u001b[0m            \u001b[31m0.6458\u001b[0m        \u001b[94m0.8940\u001b[0m  0.0005  0.7990\n",
      "     34            \u001b[36m0.8479\u001b[0m        \u001b[32m0.5910\u001b[0m       \u001b[35m0.6562\u001b[0m            \u001b[31m0.6562\u001b[0m        \u001b[94m0.8912\u001b[0m  0.0006  0.8030\n",
      "     35            \u001b[36m0.8854\u001b[0m        \u001b[32m0.5621\u001b[0m       \u001b[35m0.6875\u001b[0m            \u001b[31m0.6875\u001b[0m        \u001b[94m0.8223\u001b[0m  0.0006  0.8067\n",
      "     36            \u001b[36m0.9042\u001b[0m        \u001b[32m0.4168\u001b[0m       \u001b[35m0.6979\u001b[0m            \u001b[31m0.6979\u001b[0m        \u001b[94m0.7891\u001b[0m  0.0007  0.7990\n",
      "     37            \u001b[36m0.9333\u001b[0m        \u001b[32m0.3735\u001b[0m       0.6979            0.6979        \u001b[94m0.7446\u001b[0m  0.0007  0.9087\n",
      "     38            \u001b[36m0.9542\u001b[0m        \u001b[32m0.3072\u001b[0m       \u001b[35m0.7396\u001b[0m            \u001b[31m0.7396\u001b[0m        \u001b[94m0.7368\u001b[0m  0.0007  0.8770\n",
      "     39            \u001b[36m0.9688\u001b[0m        0.3153       0.7292            0.7292        0.7629  0.0007  0.9632\n",
      "     40            \u001b[36m0.9792\u001b[0m        \u001b[32m0.3036\u001b[0m       0.7188            0.7188        0.7614  0.0007  1.0747\n",
      "     41            0.9771        \u001b[32m0.1953\u001b[0m       \u001b[35m0.7604\u001b[0m            \u001b[31m0.7604\u001b[0m        0.7396  0.0007  0.9181\n",
      "     42            \u001b[36m0.9833\u001b[0m        0.2011       0.7500            0.7500        \u001b[94m0.7305\u001b[0m  0.0007  1.0473\n",
      "     43            \u001b[36m0.9896\u001b[0m        \u001b[32m0.1865\u001b[0m       \u001b[35m0.7708\u001b[0m            \u001b[31m0.7708\u001b[0m        0.7698  0.0006  0.7817\n",
      "     44            0.9896        \u001b[32m0.1695\u001b[0m       0.7604            0.7604        0.7715  0.0006  0.8125\n",
      "     45            \u001b[36m0.9938\u001b[0m        \u001b[32m0.1492\u001b[0m       0.7292            0.7292        0.7592  0.0005  0.8219\n",
      "     46            0.9896        \u001b[32m0.1392\u001b[0m       0.7604            0.7604        0.7655  0.0005  0.9349\n",
      "     47            0.9917        0.1627       0.7500            0.7500        0.7699  0.0004  0.8491\n",
      "     48            \u001b[36m0.9979\u001b[0m        \u001b[32m0.1296\u001b[0m       0.7604            0.7604        0.7691  0.0004  0.8865\n",
      "     49            0.9979        \u001b[32m0.1261\u001b[0m       0.7708            0.7708        0.7714  0.0003  0.9058\n",
      "     50            \u001b[36m1.0000\u001b[0m        \u001b[32m0.1197\u001b[0m       0.7708            0.7708        0.7754  0.0003  0.8091\n",
      "Fine tuning model for subject 9 with 440 trials\n"
     ]
    },
    {
     "name": "stderr",
     "output_type": "stream",
     "text": [
      "C:\\Users\\mengz\\anaconda3\\envs\\hyperBCI\\Lib\\site-packages\\braindecode\\models\\base.py:23: UserWarning: ShallowFBCSPNet: 'input_window_samples' is depreciated. Use 'n_times' instead.\n",
      "  warnings.warn(\n",
      "C:\\Users\\mengz\\anaconda3\\envs\\hyperBCI\\Lib\\site-packages\\braindecode\\models\\base.py:180: UserWarning: LogSoftmax final layer will be removed! Please adjust your loss function accordingly (e.g. CrossEntropyLoss)!\n",
      "  warnings.warn(\"LogSoftmax final layer will be removed! \" +\n"
     ]
    },
    {
     "name": "stdout",
     "output_type": "stream",
     "text": [
      "  epoch    train_accuracy    train_loss    valid_acc    valid_accuracy    valid_loss      lr     dur\n",
      "-------  ----------------  ------------  -----------  ----------------  ------------  ------  ------\n",
      "     31            0.6438        1.4555       0.4792            0.4792        1.2930  0.0004  0.7820\n",
      "     32            0.6792        1.0243       \u001b[35m0.5521\u001b[0m            \u001b[31m0.5521\u001b[0m        \u001b[94m1.0761\u001b[0m  0.0005  0.8281\n",
      "     33            \u001b[36m0.8146\u001b[0m        \u001b[32m0.7169\u001b[0m       \u001b[35m0.6667\u001b[0m            \u001b[31m0.6667\u001b[0m        \u001b[94m0.8273\u001b[0m  0.0005  0.9286\n",
      "     34            \u001b[36m0.8438\u001b[0m        \u001b[32m0.6075\u001b[0m       \u001b[35m0.7083\u001b[0m            \u001b[31m0.7083\u001b[0m        \u001b[94m0.7788\u001b[0m  0.0006  0.9480\n",
      "     35            \u001b[36m0.8938\u001b[0m        \u001b[32m0.5201\u001b[0m       \u001b[35m0.7396\u001b[0m            \u001b[31m0.7396\u001b[0m        0.7821  0.0006  1.0113\n",
      "     36            \u001b[36m0.9125\u001b[0m        \u001b[32m0.4404\u001b[0m       0.6875            0.6875        0.8618  0.0007  0.7932\n",
      "     37            \u001b[36m0.9396\u001b[0m        \u001b[32m0.3510\u001b[0m       0.7188            0.7188        0.8130  0.0007  0.7813\n",
      "     38            \u001b[36m0.9458\u001b[0m        \u001b[32m0.3156\u001b[0m       0.7396            0.7396        \u001b[94m0.7734\u001b[0m  0.0007  0.7975\n",
      "     39            \u001b[36m0.9688\u001b[0m        \u001b[32m0.2853\u001b[0m       0.7396            0.7396        \u001b[94m0.7611\u001b[0m  0.0007  0.7812\n",
      "     40            0.9667        \u001b[32m0.2540\u001b[0m       0.7292            0.7292        0.7771  0.0007  0.7816\n",
      "     41            \u001b[36m0.9750\u001b[0m        \u001b[32m0.2143\u001b[0m       0.7292            0.7292        \u001b[94m0.7431\u001b[0m  0.0007  0.8440\n",
      "     42            \u001b[36m0.9854\u001b[0m        0.2249       \u001b[35m0.7708\u001b[0m            \u001b[31m0.7708\u001b[0m        \u001b[94m0.7066\u001b[0m  0.0007  0.8914\n",
      "     43            \u001b[36m0.9917\u001b[0m        \u001b[32m0.1992\u001b[0m       0.7604            0.7604        0.7093  0.0006  0.8253\n",
      "     44            \u001b[36m0.9958\u001b[0m        \u001b[32m0.1721\u001b[0m       \u001b[35m0.7812\u001b[0m            \u001b[31m0.7812\u001b[0m        \u001b[94m0.6941\u001b[0m  0.0006  0.8641\n",
      "     45            0.9958        0.1809       0.7500            0.7500        0.7083  0.0005  0.9196\n",
      "     46            0.9958        \u001b[32m0.1515\u001b[0m       0.7812            0.7812        0.7103  0.0005  0.9794\n",
      "     47            0.9958        0.1517       0.7708            0.7708        \u001b[94m0.6917\u001b[0m  0.0004  0.9813\n",
      "     48            \u001b[36m0.9979\u001b[0m        \u001b[32m0.1300\u001b[0m       \u001b[35m0.7917\u001b[0m            \u001b[31m0.7917\u001b[0m        \u001b[94m0.6766\u001b[0m  0.0004  0.9771\n",
      "     49            \u001b[36m1.0000\u001b[0m        \u001b[32m0.1198\u001b[0m       0.7812            0.7812        0.6826  0.0003  0.8761\n",
      "     50            1.0000        0.1206       \u001b[35m0.8021\u001b[0m            \u001b[31m0.8021\u001b[0m        0.6894  0.0003  0.9130\n",
      "Fine tuning model for subject 9 with 460 trials\n"
     ]
    },
    {
     "name": "stderr",
     "output_type": "stream",
     "text": [
      "C:\\Users\\mengz\\anaconda3\\envs\\hyperBCI\\Lib\\site-packages\\braindecode\\models\\base.py:23: UserWarning: ShallowFBCSPNet: 'input_window_samples' is depreciated. Use 'n_times' instead.\n",
      "  warnings.warn(\n",
      "C:\\Users\\mengz\\anaconda3\\envs\\hyperBCI\\Lib\\site-packages\\braindecode\\models\\base.py:180: UserWarning: LogSoftmax final layer will be removed! Please adjust your loss function accordingly (e.g. CrossEntropyLoss)!\n",
      "  warnings.warn(\"LogSoftmax final layer will be removed! \" +\n"
     ]
    },
    {
     "name": "stdout",
     "output_type": "stream",
     "text": [
      "  epoch    train_accuracy    train_loss    valid_acc    valid_accuracy    valid_loss      lr     dur\n",
      "-------  ----------------  ------------  -----------  ----------------  ------------  ------  ------\n",
      "     31            0.6479        1.3761       0.5104            0.5104        1.2506  0.0004  0.9468\n",
      "     32            0.6854        1.0033       \u001b[35m0.5521\u001b[0m            \u001b[31m0.5521\u001b[0m        \u001b[94m1.1056\u001b[0m  0.0005  0.8366\n",
      "     33            0.8042        \u001b[32m0.7221\u001b[0m       \u001b[35m0.6458\u001b[0m            \u001b[31m0.6458\u001b[0m        \u001b[94m0.9104\u001b[0m  0.0005  0.7966\n",
      "     34            \u001b[36m0.8521\u001b[0m        \u001b[32m0.6308\u001b[0m       \u001b[35m0.6979\u001b[0m            \u001b[31m0.6979\u001b[0m        \u001b[94m0.8358\u001b[0m  0.0006  0.8590\n",
      "     35            \u001b[36m0.8771\u001b[0m        \u001b[32m0.5346\u001b[0m       \u001b[35m0.7083\u001b[0m            \u001b[31m0.7083\u001b[0m        \u001b[94m0.8156\u001b[0m  0.0006  0.8365\n",
      "     36            \u001b[36m0.9000\u001b[0m        \u001b[32m0.4029\u001b[0m       \u001b[35m0.7396\u001b[0m            \u001b[31m0.7396\u001b[0m        \u001b[94m0.7830\u001b[0m  0.0007  0.8890\n",
      "     37            \u001b[36m0.9292\u001b[0m        \u001b[32m0.3492\u001b[0m       0.7396            0.7396        0.7996  0.0007  0.8898\n",
      "     38            \u001b[36m0.9437\u001b[0m        \u001b[32m0.3375\u001b[0m       0.7188            0.7188        0.7864  0.0007  0.8211\n",
      "     39            \u001b[36m0.9625\u001b[0m        \u001b[32m0.2961\u001b[0m       0.7188            0.7188        \u001b[94m0.7436\u001b[0m  0.0007  0.9933\n",
      "     40            \u001b[36m0.9729\u001b[0m        \u001b[32m0.2647\u001b[0m       \u001b[35m0.7917\u001b[0m            \u001b[31m0.7917\u001b[0m        \u001b[94m0.6999\u001b[0m  0.0007  0.9740\n",
      "     41            \u001b[36m0.9854\u001b[0m        \u001b[32m0.2040\u001b[0m       0.7812            0.7812        0.7070  0.0007  1.0941\n",
      "     42            0.9854        \u001b[32m0.1964\u001b[0m       0.7083            0.7083        0.7717  0.0007  0.9004\n",
      "     43            \u001b[36m0.9896\u001b[0m        \u001b[32m0.1722\u001b[0m       0.7292            0.7292        0.7802  0.0006  0.8682\n",
      "     44            \u001b[36m0.9958\u001b[0m        0.1818       0.7500            0.7500        0.7574  0.0006  0.8957\n",
      "     45            0.9958        \u001b[32m0.1467\u001b[0m       0.7500            0.7500        0.7353  0.0005  0.8109\n",
      "     46            \u001b[36m0.9979\u001b[0m        0.1476       0.7604            0.7604        0.7441  0.0005  0.8911\n",
      "     47            0.9979        \u001b[32m0.1395\u001b[0m       0.7604            0.7604        0.7504  0.0004  0.7968\n",
      "     48            0.9979        0.1440       0.7604            0.7604        0.7459  0.0004  0.7982\n",
      "     49            0.9979        \u001b[32m0.1177\u001b[0m       0.7604            0.7604        0.7535  0.0003  0.9049\n",
      "     50            0.9979        0.1314       0.7708            0.7708        0.7555  0.0003  0.9551\n"
     ]
    }
   ],
   "source": [
    "### Split finetune set into finetune_train and finetune_valid\n",
    "fine_tune_set_by_subj = fine_tune_set.split('subject')\n",
    "\n",
    "data_amount_step = 20\n",
    "results_columns = ['valid_accuracy',]\n",
    "dict_results = {}\n",
    "\n",
    "### Finetune for each subject in the finetune set\n",
    "for finetune_subj_id, finetune_subj_set in fine_tune_set_by_subj.items():\n",
    "    \n",
    "    finetune_splitted_lst_by_run = list(finetune_subj_set.split('run').values())\n",
    "    finetune_subj_train_set = BaseConcatDataset(finetune_splitted_lst_by_run[:-1])\n",
    "    finetune_subj_valid_set = BaseConcatDataset(finetune_splitted_lst_by_run[-1:])\n",
    "\n",
    "    ### Baseline accuracy on the finetune_valid set\n",
    "    finetune_valid_predicted = cur_clf.predict(finetune_subj_valid_set)\n",
    "    finetune_valid_true = np.array(finetune_subj_valid_set.get_metadata().target)\n",
    "    finetune_baseline_correct = np.equal(finetune_valid_predicted, finetune_valid_true)\n",
    "    finetune_baseline_acc = np.sum(finetune_baseline_correct) / len(finetune_baseline_correct)\n",
    "    print(f'Before finetuning for subject {finetune_subj_id}, the baseline accuracy is {finetune_baseline_acc}')\n",
    "\n",
    "    dict_subj_results = {0: finetune_baseline_acc}\n",
    "\n",
    "    ### Finetune with different amount of new data\n",
    "    finetune_trials_num = len(finetune_subj_train_set.get_metadata())\n",
    "    for finetune_training_data_amount in np.arange(1, finetune_trials_num // data_amount_step) * data_amount_step:\n",
    "\n",
    "        ## Get current finetune samples\n",
    "        cur_finetune_subj_train_subset = get_subset(finetune_subj_train_set, finetune_training_data_amount)\n",
    "\n",
    "        finetune_model = ShallowFBCSPNet(\n",
    "            n_chans,\n",
    "            n_classes,\n",
    "            input_window_samples=input_window_samples,\n",
    "            final_conv_length='auto',\n",
    "        )\n",
    "\n",
    "        finetune_lr = 0.0625 * 0.01\n",
    "        finetune_weight_decay = 0\n",
    "        finetune_batch_size = int(min(finetune_training_data_amount // 2, 64))\n",
    "        finetune_n_epochs = 20\n",
    "        \n",
    "        new_clf = EEGClassifier(\n",
    "            finetune_model,\n",
    "            criterion=torch.nn.NLLLoss,\n",
    "            optimizer=torch.optim.AdamW,\n",
    "            train_split=predefined_split(finetune_subj_valid_set), \n",
    "            optimizer__lr=finetune_lr,\n",
    "            optimizer__weight_decay=finetune_weight_decay,\n",
    "            batch_size=finetune_batch_size,\n",
    "            callbacks=[\n",
    "                \"accuracy\", (\"lr_scheduler\", LRScheduler('CosineAnnealingLR', T_max=finetune_n_epochs - 1)),\n",
    "            ],\n",
    "            device=device,\n",
    "            classes=classes,\n",
    "        )\n",
    "        new_clf.initialize()\n",
    "        \n",
    "        ## Load pretrained model\n",
    "        new_clf.load_params(f_params=os.path.join(results_dir, f'{exp_name}_model.pkl'), \n",
    "                            f_optimizer=os.path.join(results_dir, f'{exp_name}_opt.pkl'), \n",
    "                            f_history=os.path.join(results_dir, f'{exp_name}_history.json'))\n",
    "\n",
    "        ## Continue training / finetuning\n",
    "        print(f'Fine tuning model for subject {finetune_subj_id} with {finetune_training_data_amount} trials')\n",
    "        _ = new_clf.partial_fit(finetune_subj_train_set, y=None, epochs=finetune_n_epochs)\n",
    "\n",
    "        ## Get results after fine tuning\n",
    "        df = pd.DataFrame(new_clf.history[:, results_columns], columns=results_columns,\n",
    "                          # index=new_clf.history[:, 'epoch'],\n",
    "                         )\n",
    "\n",
    "        cur_final_acc = np.mean(df.tail(5).valid_accuracy)\n",
    "        dict_subj_results.update({finetune_training_data_amount: cur_final_acc})\n",
    "\n",
    "    dict_results.update({finetune_subj_id: dict_subj_results})"
   ]
  },
  {
   "cell_type": "code",
   "execution_count": 17,
   "metadata": {},
   "outputs": [],
   "source": [
    "file_name = 'ShallowFBCSPNet_BNCI2014_001_finetuning_1'\n",
    "file_path = os.path.join(results_dir, f'{file_name}.pkl')\n",
    "\n",
    "with open(f'{results_dir}\\\\{file_name}.pkl', 'wb') as f:\n",
    "    pickle.dump(dict_results, f)"
   ]
  },
  {
   "cell_type": "code",
   "execution_count": 20,
   "metadata": {},
   "outputs": [],
   "source": [
    "# if os.path.exists(file_path) and os.path.getsize(file_path) > 0:\n",
    "#     with open(file_path, 'rb') as f:\n",
    "#         baseline_2_1 = pickle.load(f)\n",
    "#     print(\"Dictionary loaded successfully.\")\n",
    "# else:\n",
    "#     print(f\"Error: File '{file_path}' does not exist or is empty.\")"
   ]
  },
  {
   "cell_type": "markdown",
   "metadata": {},
   "source": [
    "## Plotting Results\n",
    "\n",
    "\n"
   ]
  },
  {
   "cell_type": "code",
   "execution_count": 15,
   "metadata": {
    "scrolled": true
   },
   "outputs": [
    {
     "data": {
      "text/html": [
       "<div>\n",
       "<style scoped>\n",
       "    .dataframe tbody tr th:only-of-type {\n",
       "        vertical-align: middle;\n",
       "    }\n",
       "\n",
       "    .dataframe tbody tr th {\n",
       "        vertical-align: top;\n",
       "    }\n",
       "\n",
       "    .dataframe thead th {\n",
       "        text-align: right;\n",
       "    }\n",
       "</style>\n",
       "<table border=\"1\" class=\"dataframe\">\n",
       "  <thead>\n",
       "    <tr style=\"text-align: right;\">\n",
       "      <th></th>\n",
       "      <th>6</th>\n",
       "      <th>7</th>\n",
       "      <th>8</th>\n",
       "      <th>9</th>\n",
       "    </tr>\n",
       "  </thead>\n",
       "  <tbody>\n",
       "    <tr>\n",
       "      <th>0</th>\n",
       "      <td>0.270833</td>\n",
       "      <td>0.343750</td>\n",
       "      <td>0.479167</td>\n",
       "      <td>0.437500</td>\n",
       "    </tr>\n",
       "    <tr>\n",
       "      <th>20</th>\n",
       "      <td>0.356250</td>\n",
       "      <td>0.666667</td>\n",
       "      <td>0.610417</td>\n",
       "      <td>0.733333</td>\n",
       "    </tr>\n",
       "    <tr>\n",
       "      <th>40</th>\n",
       "      <td>0.412500</td>\n",
       "      <td>0.710417</td>\n",
       "      <td>0.550000</td>\n",
       "      <td>0.783333</td>\n",
       "    </tr>\n",
       "    <tr>\n",
       "      <th>60</th>\n",
       "      <td>0.387500</td>\n",
       "      <td>0.662500</td>\n",
       "      <td>0.591667</td>\n",
       "      <td>0.766667</td>\n",
       "    </tr>\n",
       "    <tr>\n",
       "      <th>80</th>\n",
       "      <td>0.362500</td>\n",
       "      <td>0.616667</td>\n",
       "      <td>0.589583</td>\n",
       "      <td>0.781250</td>\n",
       "    </tr>\n",
       "    <tr>\n",
       "      <th>100</th>\n",
       "      <td>0.416667</td>\n",
       "      <td>0.645833</td>\n",
       "      <td>0.568750</td>\n",
       "      <td>0.768750</td>\n",
       "    </tr>\n",
       "    <tr>\n",
       "      <th>120</th>\n",
       "      <td>0.404167</td>\n",
       "      <td>0.622917</td>\n",
       "      <td>0.591667</td>\n",
       "      <td>0.770833</td>\n",
       "    </tr>\n",
       "    <tr>\n",
       "      <th>140</th>\n",
       "      <td>0.400000</td>\n",
       "      <td>0.589583</td>\n",
       "      <td>0.585417</td>\n",
       "      <td>0.750000</td>\n",
       "    </tr>\n",
       "    <tr>\n",
       "      <th>160</th>\n",
       "      <td>0.412500</td>\n",
       "      <td>0.597917</td>\n",
       "      <td>0.604167</td>\n",
       "      <td>0.768750</td>\n",
       "    </tr>\n",
       "    <tr>\n",
       "      <th>180</th>\n",
       "      <td>0.395833</td>\n",
       "      <td>0.620833</td>\n",
       "      <td>0.579167</td>\n",
       "      <td>0.756250</td>\n",
       "    </tr>\n",
       "    <tr>\n",
       "      <th>200</th>\n",
       "      <td>0.393750</td>\n",
       "      <td>0.597917</td>\n",
       "      <td>0.593750</td>\n",
       "      <td>0.768750</td>\n",
       "    </tr>\n",
       "    <tr>\n",
       "      <th>220</th>\n",
       "      <td>0.400000</td>\n",
       "      <td>0.577083</td>\n",
       "      <td>0.583333</td>\n",
       "      <td>0.758333</td>\n",
       "    </tr>\n",
       "    <tr>\n",
       "      <th>240</th>\n",
       "      <td>0.397917</td>\n",
       "      <td>0.625000</td>\n",
       "      <td>0.589583</td>\n",
       "      <td>0.752083</td>\n",
       "    </tr>\n",
       "    <tr>\n",
       "      <th>260</th>\n",
       "      <td>0.400000</td>\n",
       "      <td>0.597917</td>\n",
       "      <td>0.577083</td>\n",
       "      <td>0.764583</td>\n",
       "    </tr>\n",
       "    <tr>\n",
       "      <th>280</th>\n",
       "      <td>0.400000</td>\n",
       "      <td>0.608333</td>\n",
       "      <td>0.595833</td>\n",
       "      <td>0.766667</td>\n",
       "    </tr>\n",
       "    <tr>\n",
       "      <th>300</th>\n",
       "      <td>0.408333</td>\n",
       "      <td>0.577083</td>\n",
       "      <td>0.583333</td>\n",
       "      <td>0.760417</td>\n",
       "    </tr>\n",
       "    <tr>\n",
       "      <th>320</th>\n",
       "      <td>0.400000</td>\n",
       "      <td>0.597917</td>\n",
       "      <td>0.587500</td>\n",
       "      <td>0.745833</td>\n",
       "    </tr>\n",
       "    <tr>\n",
       "      <th>340</th>\n",
       "      <td>0.360417</td>\n",
       "      <td>0.625000</td>\n",
       "      <td>0.587500</td>\n",
       "      <td>0.747917</td>\n",
       "    </tr>\n",
       "    <tr>\n",
       "      <th>360</th>\n",
       "      <td>0.383333</td>\n",
       "      <td>0.610417</td>\n",
       "      <td>0.575000</td>\n",
       "      <td>0.802083</td>\n",
       "    </tr>\n",
       "    <tr>\n",
       "      <th>380</th>\n",
       "      <td>0.400000</td>\n",
       "      <td>0.629167</td>\n",
       "      <td>0.581250</td>\n",
       "      <td>0.756250</td>\n",
       "    </tr>\n",
       "    <tr>\n",
       "      <th>400</th>\n",
       "      <td>0.412500</td>\n",
       "      <td>0.641667</td>\n",
       "      <td>0.600000</td>\n",
       "      <td>0.764583</td>\n",
       "    </tr>\n",
       "    <tr>\n",
       "      <th>420</th>\n",
       "      <td>0.422917</td>\n",
       "      <td>0.591667</td>\n",
       "      <td>0.593750</td>\n",
       "      <td>0.762500</td>\n",
       "    </tr>\n",
       "    <tr>\n",
       "      <th>440</th>\n",
       "      <td>0.395833</td>\n",
       "      <td>0.612500</td>\n",
       "      <td>0.583333</td>\n",
       "      <td>0.785417</td>\n",
       "    </tr>\n",
       "    <tr>\n",
       "      <th>460</th>\n",
       "      <td>0.393750</td>\n",
       "      <td>0.656250</td>\n",
       "      <td>0.572917</td>\n",
       "      <td>0.762500</td>\n",
       "    </tr>\n",
       "  </tbody>\n",
       "</table>\n",
       "</div>"
      ],
      "text/plain": [
       "            6         7         8         9\n",
       "0    0.270833  0.343750  0.479167  0.437500\n",
       "20   0.356250  0.666667  0.610417  0.733333\n",
       "40   0.412500  0.710417  0.550000  0.783333\n",
       "60   0.387500  0.662500  0.591667  0.766667\n",
       "80   0.362500  0.616667  0.589583  0.781250\n",
       "100  0.416667  0.645833  0.568750  0.768750\n",
       "120  0.404167  0.622917  0.591667  0.770833\n",
       "140  0.400000  0.589583  0.585417  0.750000\n",
       "160  0.412500  0.597917  0.604167  0.768750\n",
       "180  0.395833  0.620833  0.579167  0.756250\n",
       "200  0.393750  0.597917  0.593750  0.768750\n",
       "220  0.400000  0.577083  0.583333  0.758333\n",
       "240  0.397917  0.625000  0.589583  0.752083\n",
       "260  0.400000  0.597917  0.577083  0.764583\n",
       "280  0.400000  0.608333  0.595833  0.766667\n",
       "300  0.408333  0.577083  0.583333  0.760417\n",
       "320  0.400000  0.597917  0.587500  0.745833\n",
       "340  0.360417  0.625000  0.587500  0.747917\n",
       "360  0.383333  0.610417  0.575000  0.802083\n",
       "380  0.400000  0.629167  0.581250  0.756250\n",
       "400  0.412500  0.641667  0.600000  0.764583\n",
       "420  0.422917  0.591667  0.593750  0.762500\n",
       "440  0.395833  0.612500  0.583333  0.785417\n",
       "460  0.393750  0.656250  0.572917  0.762500"
      ]
     },
     "metadata": {},
     "output_type": "display_data"
    }
   ],
   "source": [
    "df_results = pd.DataFrame(dict_results)\n",
    "display(df_results)\n",
    "\n",
    "subject_averaged_df = df_results.mean(axis=1)\n",
    "# Calculate the standard error of the mean\n",
    "std_err_df = df_results.sem(axis=1)\n",
    "# Calculate the confidence interval (95% confidence level)\n",
    "conf_interval_df = stats.t.interval(0.95, len(df_results.columns) - 1, loc=subject_averaged_df, scale=std_err_df)"
   ]
  },
  {
   "cell_type": "code",
   "execution_count": 22,
   "metadata": {},
   "outputs": [
    {
     "data": {
      "image/png": "[encoded data removed]",
      "text/plain": [
       "<Figure size 1200x500 with 2 Axes>"
      ]
     },
     "metadata": {},
     "output_type": "display_data"
    }
   ],
   "source": [
    "fig, (ax1, ax2) = plt.subplots(1, 2, figsize=(12, 5))  # 1 row, 2 columns\n",
    "\n",
    "for subj_id, subj_res in dict_results.items():\n",
    "    ax1.plot(subj_res.keys(), subj_res.values(), label=f'Subject {subj_id}')\n",
    "\n",
    "ax1.legend()\n",
    "ax1.set_xlabel('Amount of fine tuning data (trials, 4 secs each)')\n",
    "ax1.set_ylabel('Validation Accuracy')\n",
    "\n",
    "ax2.plot(subject_averaged_df, label='Subject averaged')\n",
    "ax2.fill_between(subject_averaged_df.index, conf_interval_df[0], conf_interval_df[1], color='b', alpha=0.3, label='95% CI')\n",
    "ax2.legend()\n",
    "ax2.set_xlabel('Amount of fine tuning data (trials, 4 secs each)')\n",
    "\n",
    "plt.suptitle('ShallowFBCSPNet on BNCI2014_001 Dataset \\n Fine-tuning for Subject 6~9 (Pretrained on Subject 1~5)')\n",
    "\n",
    "plt.savefig(os.path.join(results_dir, f'{file_name}.png'))"
   ]
  },
  {
   "cell_type": "code",
   "execution_count": null,
   "metadata": {},
   "outputs": [],
   "source": []
  }
 ],
 "metadata": {
  "kernelspec": {
   "display_name": "Python 3 (ipykernel)",
   "language": "python",
   "name": "python3"
  },
  "language_info": {
   "codemirror_mode": {
    "name": "ipython",
    "version": 3
   },
   "file_extension": ".py",
   "mimetype": "text/x-python",
   "name": "python",
   "nbconvert_exporter": "python",
   "pygments_lexer": "ipython3",
   "version": "3.11.8"
  }
 },
 "nbformat": 4,
 "nbformat_minor": 4
}
