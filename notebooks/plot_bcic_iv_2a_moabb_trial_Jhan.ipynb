{
 "cells": [
  {
   "cell_type": "markdown",
   "metadata": {},
   "source": [
    "\n",
    "# Basic Brain Decoding on EEG Data\n",
    "\n",
    "This tutorial shows you how to train and test deep learning models with\n",
    "Braindecode in a classical EEG setting: you have trials of data with\n",
    "labels (e.g., Right Hand, Left Hand, etc.).\n",
    "   :depth: 2\n"
   ]
  },
  {
   "cell_type": "markdown",
   "metadata": {},
   "source": [
    "## Loading and preparing the data\n",
    "\n",
    "\n"
   ]
  },
  {
   "cell_type": "code",
   "execution_count": 54,
   "metadata": {},
   "outputs": [],
   "source": [
    "from braindecode.datasets import MOABBDataset\n",
    "import os\n",
    "from moabb.datasets import download\n",
    "from mne import get_config, set_config\n",
    "from pathlib import Path"
   ]
  },
  {
   "cell_type": "markdown",
   "metadata": {},
   "source": [
    "### Loading the dataset\n",
    "\n",
    "\n"
   ]
  },
  {
   "cell_type": "markdown",
   "metadata": {},
   "source": [
    "First, we load the data. In this tutorial, we load the BCI Competition\n",
    "IV 2a data [1]_ using braindecode's wrapper to load via\n",
    "[MOABB library](https://github.com/NeuroTechX/moabb)_ [2]_.\n",
    "\n",
    "<div class=\"alert alert-info\"><h4>Note</h4><p>To load your own datasets either via mne or from\n",
    "   preprocessed X/y numpy arrays, see [MNE Dataset\n",
    "   Tutorial](./plot_mne_dataset_example.html)_ and [Numpy Dataset\n",
    "   Tutorial](./plot_custom_dataset_example.html)_.</p></div>\n",
    "\n",
    "\n"
   ]
  },
  {
   "cell_type": "code",
   "execution_count": 56,
   "metadata": {
    "collapsed": false,
    "jupyter": {
     "outputs_hidden": false
    }
   },
   "outputs": [
    {
     "name": "stderr",
     "output_type": "stream",
     "text": [
      "C:\\Users\\mengz\\AppData\\Local\\Temp\\ipykernel_6860\\1675492772.py:8: RuntimeWarning: Setting non-standard config type: \"MNE_DATASETS_BNCI2014-001_PATH\"\n",
      "  set_config('MNE_DATASETS_BNCI2014-001_PATH', dir_data)\n",
      "C:\\Users\\mengz\\AppData\\Local\\Temp\\ipykernel_6860\\1675492772.py:9: RuntimeWarning: Setting non-standard config type: \"MNE_DATASETS_BNCI2014_001_PATH\"\n",
      "  set_config('MNE_DATASETS_BNCI2014_001_PATH', dir_data)\n",
      "Downloading data from 'http://bnci-horizon-2020.eu/database/data-sets/001-2014/A02T.mat' to file 'C:\\Users\\mengz\\Box\\Hoffman_Lab\\HyperBCI\\METHODS\\HypernetBCI\\data\\MNE-bnci-data\\database\\data-sets\\001-2014\\A02T.mat'.\n",
      "c:\\Users\\mengz\\anaconda3\\envs\\hyperBCI\\Lib\\site-packages\\urllib3\\connectionpool.py:1061: InsecureRequestWarning: Unverified HTTPS request is being made to host 'lampx.tugraz.at'. Adding certificate verification is strongly advised. See: https://urllib3.readthedocs.io/en/1.26.x/advanced-usage.html#ssl-warnings\n",
      "  warnings.warn(\n",
      "100%|#############################################| 43.1M/43.1M [00:00<?, ?B/s]\n",
      "SHA256 hash of downloaded file: 5ddd5cb520b1692c3ba1363f48d98f58f0e46f3699ee50d749947950fc39db27\n",
      "Use this value as the 'known_hash' argument of 'pooch.retrieve' to ensure that the file hasn't changed if it is downloaded again in the future.\n",
      "Downloading data from 'http://bnci-horizon-2020.eu/database/data-sets/001-2014/A02E.mat' to file 'C:\\Users\\mengz\\Box\\Hoffman_Lab\\HyperBCI\\METHODS\\HypernetBCI\\data\\MNE-bnci-data\\database\\data-sets\\001-2014\\A02E.mat'.\n",
      "c:\\Users\\mengz\\anaconda3\\envs\\hyperBCI\\Lib\\site-packages\\urllib3\\connectionpool.py:1061: InsecureRequestWarning: Unverified HTTPS request is being made to host 'lampx.tugraz.at'. Adding certificate verification is strongly advised. See: https://urllib3.readthedocs.io/en/1.26.x/advanced-usage.html#ssl-warnings\n",
      "  warnings.warn(\n",
      "100%|#############################################| 44.2M/44.2M [00:00<?, ?B/s]\n",
      "SHA256 hash of downloaded file: d63c454005d3a9b41d8440629482e855afc823339bdd0b5721842a7ee9cc7b12\n",
      "Use this value as the 'known_hash' argument of 'pooch.retrieve' to ensure that the file hasn't changed if it is downloaded again in the future.\n"
     ]
    }
   ],
   "source": [
    "# assuming current working directory is Hypernet/notebooks\n",
    "repo_path = os.path.dirname(os.getcwd())\n",
    "# set dataset location environment variable\n",
    "dataset_name = \"BNCI2014_001\"\n",
    "# dataset_name = 'BNCI2014-001'\n",
    "dir_data = os.path.join(repo_path, 'data')\n",
    "cache_config = {'path': dir_data}\n",
    "set_config('MNE_DATASETS_BNCI2014-001_PATH', dir_data)\n",
    "set_config('MNE_DATASETS_BNCI2014_001_PATH', dir_data)\n",
    "# os.environ[f'MNE_DATASETS_{dataset_name}_PATH'] = os.path.join(repo_path, 'data')\n",
    "\n",
    "subject_id = 2\n",
    "dataset = MOABBDataset(dataset_name=dataset_name, subject_ids=[subject_id])\n",
    "# dataset = MOABBDataset(dataset_name=dataset_name, subject_ids=[subject_id], dataset_kwargs=None, dataset_load_kwargs=cache_config)\n",
    "# dataset = MOABBDataset(dataset_name, [subject_id,], None, cache_config)"
   ]
  },
  {
   "cell_type": "code",
   "execution_count": 46,
   "metadata": {},
   "outputs": [],
   "source": []
  },
  {
   "cell_type": "code",
   "execution_count": 53,
   "metadata": {},
   "outputs": [
    {
     "data": {
      "text/plain": [
       "'c:\\\\Users\\\\mengz\\\\Box\\\\Hoffman_Lab\\\\HyperBCI\\\\METHODS\\\\HypernetBCI\\\\data'"
      ]
     },
     "execution_count": 53,
     "metadata": {},
     "output_type": "execute_result"
    }
   ],
   "source": [
    "get_config(f\"MNE_DATASETS_BNCI2014-001_PATH\")"
   ]
  },
  {
   "cell_type": "code",
   "execution_count": 48,
   "metadata": {},
   "outputs": [
    {
     "data": {
      "text/plain": [
       "True"
      ]
     },
     "execution_count": 48,
     "metadata": {},
     "output_type": "execute_result"
    }
   ],
   "source": [
    "# download.get_dataset_path(dataset_name, None)\n",
    "test = Path(get_config(\"MNE_DATA\", get_config(\"MNE_DATA\"))).expanduser()\n",
    "test.exists()"
   ]
  },
  {
   "cell_type": "markdown",
   "metadata": {},
   "source": [
    "### Preprocessing\n",
    "\n",
    "\n"
   ]
  },
  {
   "cell_type": "markdown",
   "metadata": {},
   "source": [
    "Now we apply preprocessing like bandpass filtering to our dataset. You\n",
    "can either apply functions provided by\n",
    "[mne.Raw](https://mne.tools/stable/generated/mne.io.Raw.html)_ or\n",
    "[mne.Epochs](https://mne.tools/0.11/generated/mne.Epochs.html#mne.Epochs)_\n",
    "or apply your own functions, either to the MNE object or the underlying\n",
    "numpy array.\n",
    "\n",
    "<div class=\"alert alert-info\"><h4>Note</h4><p>Generally, braindecode prepocessing is directly applied to the loaded\n",
    "   data, and not applied on-the-fly as transformations, such as in\n",
    "   PyTorch-libraries like\n",
    "   [torchvision](https://pytorch.org/docs/stable/torchvision/index.html)_.</p></div>\n",
    "\n",
    "\n"
   ]
  },
  {
   "cell_type": "code",
   "execution_count": 2,
   "metadata": {
    "collapsed": false,
    "jupyter": {
     "outputs_hidden": false
    }
   },
   "outputs": [
    {
     "name": "stderr",
     "output_type": "stream",
     "text": [
      "c:\\Users\\mengz\\anaconda3\\envs\\hyperBCI\\Lib\\site-packages\\braindecode\\preprocessing\\preprocess.py:55: UserWarning: Preprocessing choices with lambda functions cannot be saved.\n",
      "  warn('Preprocessing choices with lambda functions cannot be saved.')\n"
     ]
    },
    {
     "data": {
      "text/plain": [
       "<braindecode.datasets.moabb.MOABBDataset at 0x126063c9bd0>"
      ]
     },
     "execution_count": 2,
     "metadata": {},
     "output_type": "execute_result"
    }
   ],
   "source": [
    "from numpy import multiply\n",
    "\n",
    "from braindecode.preprocessing import (Preprocessor,\n",
    "                                       exponential_moving_standardize,\n",
    "                                       preprocess)\n",
    "\n",
    "low_cut_hz = 4.  # low cut frequency for filtering\n",
    "high_cut_hz = 38.  # high cut frequency for filtering\n",
    "# Parameters for exponential moving standardization\n",
    "factor_new = 1e-3\n",
    "init_block_size = 1000\n",
    "# Factor to convert from V to uV\n",
    "factor = 1e6\n",
    "\n",
    "preprocessors = [\n",
    "    Preprocessor('pick_types', eeg=True, meg=False, stim=False),  # Keep EEG sensors\n",
    "    Preprocessor(lambda data: multiply(data, factor)),  # Convert from V to uV\n",
    "    Preprocessor('filter', l_freq=low_cut_hz, h_freq=high_cut_hz),  # Bandpass filter\n",
    "    Preprocessor(exponential_moving_standardize,  # Exponential moving standardization\n",
    "                 factor_new=factor_new, init_block_size=init_block_size)\n",
    "]\n",
    "\n",
    "# Transform the data\n",
    "preprocess(dataset, preprocessors, n_jobs=-1)"
   ]
  },
  {
   "cell_type": "markdown",
   "metadata": {},
   "source": [
    "### Extracting Compute Windows\n",
    "\n",
    "\n"
   ]
  },
  {
   "cell_type": "markdown",
   "metadata": {},
   "source": [
    "Now we extract compute windows from the signals, these will be the inputs\n",
    "to the deep networks during training. In the case of trialwise\n",
    "decoding, we just have to decide if we want to include some part\n",
    "before and/or after the trial. For our work with this dataset,\n",
    "it was often beneficial to also include the 500 ms before the trial.\n",
    "\n",
    "\n"
   ]
  },
  {
   "cell_type": "code",
   "execution_count": 3,
   "metadata": {
    "collapsed": false,
    "jupyter": {
     "outputs_hidden": false
    }
   },
   "outputs": [
    {
     "name": "stdout",
     "output_type": "stream",
     "text": [
      "Used Annotations descriptions: ['feet', 'left_hand', 'right_hand', 'tongue']\n",
      "Used Annotations descriptions: ['feet', 'left_hand', 'right_hand', 'tongue']\n",
      "Used Annotations descriptions: ['feet', 'left_hand', 'right_hand', 'tongue']\n",
      "Used Annotations descriptions: ['feet', 'left_hand', 'right_hand', 'tongue']\n",
      "Used Annotations descriptions: ['feet', 'left_hand', 'right_hand', 'tongue']\n",
      "Used Annotations descriptions: ['feet', 'left_hand', 'right_hand', 'tongue']\n",
      "Used Annotations descriptions: ['feet', 'left_hand', 'right_hand', 'tongue']\n",
      "Used Annotations descriptions: ['feet', 'left_hand', 'right_hand', 'tongue']\n",
      "Used Annotations descriptions: ['feet', 'left_hand', 'right_hand', 'tongue']\n",
      "Used Annotations descriptions: ['feet', 'left_hand', 'right_hand', 'tongue']\n",
      "Used Annotations descriptions: ['feet', 'left_hand', 'right_hand', 'tongue']\n",
      "Used Annotations descriptions: ['feet', 'left_hand', 'right_hand', 'tongue']\n"
     ]
    }
   ],
   "source": [
    "from braindecode.preprocessing import create_windows_from_events\n",
    "\n",
    "trial_start_offset_seconds = -0.5\n",
    "# Extract sampling frequency, check that they are same in all datasets\n",
    "sfreq = dataset.datasets[0].raw.info['sfreq']\n",
    "assert all([ds.raw.info['sfreq'] == sfreq for ds in dataset.datasets])\n",
    "# Calculate the trial start offset in samples.\n",
    "trial_start_offset_samples = int(trial_start_offset_seconds * sfreq)\n",
    "\n",
    "# Create windows using braindecode function for this. It needs parameters to define how\n",
    "# trials should be used.\n",
    "windows_dataset = create_windows_from_events(\n",
    "    dataset,\n",
    "    trial_start_offset_samples=trial_start_offset_samples,\n",
    "    trial_stop_offset_samples=0,\n",
    "    preload=True,\n",
    ")"
   ]
  },
  {
   "cell_type": "markdown",
   "metadata": {},
   "source": [
    "### Splitting the dataset into training and validation sets\n",
    "\n",
    "\n"
   ]
  },
  {
   "cell_type": "markdown",
   "metadata": {},
   "source": [
    "We can easily split the dataset using additional info stored in the\n",
    "description attribute, in this case ``session`` column. We select\n",
    "``T`` for training and ``test`` for validation.\n",
    "\n",
    "\n"
   ]
  },
  {
   "cell_type": "code",
   "execution_count": 4,
   "metadata": {},
   "outputs": [],
   "source": [
    "from braindecode.datasets import BaseConcatDataset\n",
    "from braindecode.datasets.base import EEGWindowsDataset"
   ]
  },
  {
   "cell_type": "code",
   "execution_count": 5,
   "metadata": {},
   "outputs": [],
   "source": [
    "splitted_lst_by_run = list(windows_dataset.split('run').values())\n",
    "# valid_set_size = 1\n",
    "# train_set = BaseConcatDataset(splitted_lst_by_run[:-valid_set_size])\n",
    "# valid_set = BaseConcatDataset(splitted_lst_by_run[-valid_set_size:])\n",
    "splitted_dict_by_ses = windows_dataset.split('session')\n",
    "train_set = splitted_dict_by_ses.get('0train')\n",
    "valid_set = splitted_dict_by_ses.get('1test')"
   ]
  },
  {
   "cell_type": "code",
   "execution_count": 6,
   "metadata": {
    "scrolled": true
   },
   "outputs": [
    {
     "data": {
      "text/html": [
       "<div>\n",
       "<style scoped>\n",
       "    .dataframe tbody tr th:only-of-type {\n",
       "        vertical-align: middle;\n",
       "    }\n",
       "\n",
       "    .dataframe tbody tr th {\n",
       "        vertical-align: top;\n",
       "    }\n",
       "\n",
       "    .dataframe thead th {\n",
       "        text-align: right;\n",
       "    }\n",
       "</style>\n",
       "<table border=\"1\" class=\"dataframe\">\n",
       "  <thead>\n",
       "    <tr style=\"text-align: right;\">\n",
       "      <th></th>\n",
       "      <th>i_window_in_trial</th>\n",
       "      <th>i_start_in_trial</th>\n",
       "      <th>i_stop_in_trial</th>\n",
       "      <th>target</th>\n",
       "      <th>subject</th>\n",
       "      <th>session</th>\n",
       "      <th>run</th>\n",
       "    </tr>\n",
       "  </thead>\n",
       "  <tbody>\n",
       "    <tr>\n",
       "      <th>0</th>\n",
       "      <td>0</td>\n",
       "      <td>125</td>\n",
       "      <td>1250</td>\n",
       "      <td>1</td>\n",
       "      <td>2</td>\n",
       "      <td>0train</td>\n",
       "      <td>0</td>\n",
       "    </tr>\n",
       "    <tr>\n",
       "      <th>1</th>\n",
       "      <td>0</td>\n",
       "      <td>2128</td>\n",
       "      <td>3253</td>\n",
       "      <td>2</td>\n",
       "      <td>2</td>\n",
       "      <td>0train</td>\n",
       "      <td>0</td>\n",
       "    </tr>\n",
       "    <tr>\n",
       "      <th>2</th>\n",
       "      <td>0</td>\n",
       "      <td>4046</td>\n",
       "      <td>5171</td>\n",
       "      <td>2</td>\n",
       "      <td>2</td>\n",
       "      <td>0train</td>\n",
       "      <td>0</td>\n",
       "    </tr>\n",
       "    <tr>\n",
       "      <th>3</th>\n",
       "      <td>0</td>\n",
       "      <td>5998</td>\n",
       "      <td>7123</td>\n",
       "      <td>1</td>\n",
       "      <td>2</td>\n",
       "      <td>0train</td>\n",
       "      <td>0</td>\n",
       "    </tr>\n",
       "    <tr>\n",
       "      <th>4</th>\n",
       "      <td>0</td>\n",
       "      <td>8006</td>\n",
       "      <td>9131</td>\n",
       "      <td>2</td>\n",
       "      <td>2</td>\n",
       "      <td>0train</td>\n",
       "      <td>0</td>\n",
       "    </tr>\n",
       "    <tr>\n",
       "      <th>...</th>\n",
       "      <td>...</td>\n",
       "      <td>...</td>\n",
       "      <td>...</td>\n",
       "      <td>...</td>\n",
       "      <td>...</td>\n",
       "      <td>...</td>\n",
       "      <td>...</td>\n",
       "    </tr>\n",
       "    <tr>\n",
       "      <th>43</th>\n",
       "      <td>0</td>\n",
       "      <td>86625</td>\n",
       "      <td>87750</td>\n",
       "      <td>0</td>\n",
       "      <td>2</td>\n",
       "      <td>0train</td>\n",
       "      <td>5</td>\n",
       "    </tr>\n",
       "    <tr>\n",
       "      <th>44</th>\n",
       "      <td>0</td>\n",
       "      <td>88531</td>\n",
       "      <td>89656</td>\n",
       "      <td>3</td>\n",
       "      <td>2</td>\n",
       "      <td>0train</td>\n",
       "      <td>5</td>\n",
       "    </tr>\n",
       "    <tr>\n",
       "      <th>45</th>\n",
       "      <td>0</td>\n",
       "      <td>90459</td>\n",
       "      <td>91584</td>\n",
       "      <td>0</td>\n",
       "      <td>2</td>\n",
       "      <td>0train</td>\n",
       "      <td>5</td>\n",
       "    </tr>\n",
       "    <tr>\n",
       "      <th>46</th>\n",
       "      <td>0</td>\n",
       "      <td>92573</td>\n",
       "      <td>93698</td>\n",
       "      <td>1</td>\n",
       "      <td>2</td>\n",
       "      <td>0train</td>\n",
       "      <td>5</td>\n",
       "    </tr>\n",
       "    <tr>\n",
       "      <th>47</th>\n",
       "      <td>0</td>\n",
       "      <td>94632</td>\n",
       "      <td>95757</td>\n",
       "      <td>0</td>\n",
       "      <td>2</td>\n",
       "      <td>0train</td>\n",
       "      <td>5</td>\n",
       "    </tr>\n",
       "  </tbody>\n",
       "</table>\n",
       "<p>288 rows × 7 columns</p>\n",
       "</div>"
      ],
      "text/plain": [
       "    i_window_in_trial  i_start_in_trial  i_stop_in_trial  target  subject  \\\n",
       "0                   0               125             1250       1        2   \n",
       "1                   0              2128             3253       2        2   \n",
       "2                   0              4046             5171       2        2   \n",
       "3                   0              5998             7123       1        2   \n",
       "4                   0              8006             9131       2        2   \n",
       "..                ...               ...              ...     ...      ...   \n",
       "43                  0             86625            87750       0        2   \n",
       "44                  0             88531            89656       3        2   \n",
       "45                  0             90459            91584       0        2   \n",
       "46                  0             92573            93698       1        2   \n",
       "47                  0             94632            95757       0        2   \n",
       "\n",
       "   session run  \n",
       "0   0train   0  \n",
       "1   0train   0  \n",
       "2   0train   0  \n",
       "3   0train   0  \n",
       "4   0train   0  \n",
       "..     ...  ..  \n",
       "43  0train   5  \n",
       "44  0train   5  \n",
       "45  0train   5  \n",
       "46  0train   5  \n",
       "47  0train   5  \n",
       "\n",
       "[288 rows x 7 columns]"
      ]
     },
     "execution_count": 6,
     "metadata": {},
     "output_type": "execute_result"
    }
   ],
   "source": [
    "train_set.get_metadata()"
   ]
  },
  {
   "cell_type": "markdown",
   "metadata": {},
   "source": [
    "## Creating a model\n",
    "\n",
    "\n"
   ]
  },
  {
   "cell_type": "markdown",
   "metadata": {},
   "source": [
    "Now we create the deep learning model! Braindecode comes with some\n",
    "predefined convolutional neural network architectures for raw\n",
    "time-domain EEG. Here, we use the shallow ConvNet model from [3]_. These models are\n",
    "pure [PyTorch](https://pytorch.org)_ deep learning models, therefore\n",
    "to use your own model, it just has to be a normal PyTorch\n",
    "[nn.Module](https://pytorch.org/docs/stable/nn.html#torch.nn.Module)_.\n",
    "\n",
    "\n"
   ]
  },
  {
   "cell_type": "code",
   "execution_count": 14,
   "metadata": {
    "collapsed": false,
    "jupyter": {
     "outputs_hidden": false
    },
    "scrolled": true
   },
   "outputs": [
    {
     "name": "stdout",
     "output_type": "stream",
     "text": [
      "======================================================================================================================================================\n",
      "Layer (type (var_name):depth-idx)                  Input Shape               Output Shape              Param #                   Kernel Shape\n",
      "======================================================================================================================================================\n",
      "EEGNetv4 (EEGNetv4)                                [1, 22, 1125]             [1, 4]                    --                        --\n",
      "├─Ensure4d (ensuredims): 1-1                       [1, 22, 1125]             [1, 22, 1125, 1]          --                        --\n",
      "├─Rearrange (dimshuffle): 1-2                      [1, 22, 1125, 1]          [1, 1, 22, 1125]          --                        --\n",
      "├─Conv2d (conv_temporal): 1-3                      [1, 1, 22, 1125]          [1, 8, 22, 1126]          512                       [1, 64]\n",
      "├─BatchNorm2d (bnorm_temporal): 1-4                [1, 8, 22, 1126]          [1, 8, 22, 1126]          16                        --\n",
      "├─Conv2dWithConstraint (conv_spatial): 1-5         [1, 8, 22, 1126]          [1, 16, 1, 1126]          352                       [22, 1]\n",
      "├─BatchNorm2d (bnorm_1): 1-6                       [1, 16, 1, 1126]          [1, 16, 1, 1126]          32                        --\n",
      "├─Expression (elu_1): 1-7                          [1, 16, 1, 1126]          [1, 16, 1, 1126]          --                        --\n",
      "├─AvgPool2d (pool_1): 1-8                          [1, 16, 1, 1126]          [1, 16, 1, 281]           --                        [1, 4]\n",
      "├─Dropout (drop_1): 1-9                            [1, 16, 1, 281]           [1, 16, 1, 281]           --                        --\n",
      "├─Conv2d (conv_separable_depth): 1-10              [1, 16, 1, 281]           [1, 16, 1, 282]           256                       [1, 16]\n",
      "├─Conv2d (conv_separable_point): 1-11              [1, 16, 1, 282]           [1, 16, 1, 282]           256                       [1, 1]\n",
      "├─BatchNorm2d (bnorm_2): 1-12                      [1, 16, 1, 282]           [1, 16, 1, 282]           32                        --\n",
      "├─Expression (elu_2): 1-13                         [1, 16, 1, 282]           [1, 16, 1, 282]           --                        --\n",
      "├─AvgPool2d (pool_2): 1-14                         [1, 16, 1, 282]           [1, 16, 1, 35]            --                        [1, 8]\n",
      "├─Dropout (drop_2): 1-15                           [1, 16, 1, 35]            [1, 16, 1, 35]            --                        --\n",
      "├─Sequential (final_layer): 1-16                   [1, 16, 1, 35]            [1, 4]                    --                        --\n",
      "│    └─Conv2d (conv_classifier): 2-1               [1, 16, 1, 35]            [1, 4, 1, 1]              2,244                     [1, 35]\n",
      "│    └─Rearrange (permute_back): 2-2               [1, 4, 1, 1]              [1, 4, 1, 1]              --                        --\n",
      "│    └─Expression (squeeze): 2-3                   [1, 4, 1, 1]              [1, 4]                    --                        --\n",
      "======================================================================================================================================================\n",
      "Total params: 3,700\n",
      "Trainable params: 3,700\n",
      "Non-trainable params: 0\n",
      "Total mult-adds (Units.MEGABYTES): 13.23\n",
      "======================================================================================================================================================\n",
      "Input size (MB): 0.10\n",
      "Forward/backward pass size (MB): 3.57\n",
      "Params size (MB): 0.01\n",
      "Estimated Total Size (MB): 3.68\n",
      "======================================================================================================================================================\n"
     ]
    }
   ],
   "source": [
    "import torch\n",
    "\n",
    "from braindecode.models import ShallowFBCSPNet, EEGResNet, EEGNetv4\n",
    "from braindecode.util import set_random_seeds\n",
    "\n",
    "cuda = torch.cuda.is_available()  # check if GPU is available, if True chooses to use it\n",
    "device = 'cuda' if cuda else 'cpu'\n",
    "if cuda:\n",
    "    torch.backends.cudnn.benchmark = True\n",
    "# Set random seed to be able to roughly reproduce results\n",
    "# Note that with cudnn benchmark set to True, GPU indeterminism\n",
    "# may still make results substantially different between runs.\n",
    "# To obtain more consistent results at the cost of increased computation time,\n",
    "# you can set `cudnn_benchmark=False` in `set_random_seeds`\n",
    "# or remove `torch.backends.cudnn.benchmark = True`\n",
    "seed = 20200220\n",
    "set_random_seeds(seed=seed, cuda=cuda)\n",
    "\n",
    "n_classes = 4\n",
    "classes = list(range(n_classes))\n",
    "# Extract number of chans and time steps from dataset\n",
    "n_chans = train_set[0][0].shape[0]\n",
    "input_window_samples = train_set[0][0].shape[1]\n",
    "\n",
    "# model = ShallowFBCSPNet(\n",
    "#     n_chans,\n",
    "#     n_classes,\n",
    "#     input_window_samples=input_window_samples,\n",
    "#     final_conv_length='auto',\n",
    "# )\n",
    "\n",
    "# print(n_chans)\n",
    "# print(input_window_samples)\n",
    "model = EEGNetv4(\n",
    "    n_chans,\n",
    "    n_classes,\n",
    "    final_conv_length='auto',\n",
    "    input_window_samples=input_window_samples\n",
    ")\n",
    "\n",
    "# Display torchinfo table describing the model\n",
    "print(model)\n",
    "\n",
    "# Send model to GPU\n",
    "if cuda:\n",
    "    model = model.cuda()"
   ]
  },
  {
   "cell_type": "markdown",
   "metadata": {},
   "source": [
    "## Model Training\n",
    "\n",
    "\n"
   ]
  },
  {
   "cell_type": "markdown",
   "metadata": {},
   "source": [
    "Now we will train the network! ``EEGClassifier`` is a Braindecode object\n",
    "responsible for managing the training of neural networks. It inherits\n",
    "from skorch [NeuralNetClassifier](https://skorch.readthedocs.io/en/stable/classifier.html#)_,\n",
    "so the training logic is the same as in [Skorch](https://skorch.readthedocs.io/en/stable/)_.\n",
    "\n",
    "\n"
   ]
  },
  {
   "cell_type": "markdown",
   "metadata": {},
   "source": [
    "<div class=\"alert alert-info\"><h4>Note</h4><p>In this tutorial, we use some default parameters that we\n",
    "   have found to work well for motor decoding, however we strongly\n",
    "   encourage you to perform your own hyperparameter optimization using\n",
    "   cross validation on your training data.</p></div>\n",
    "\n",
    "\n"
   ]
  },
  {
   "cell_type": "code",
   "execution_count": 17,
   "metadata": {
    "collapsed": false,
    "jupyter": {
     "outputs_hidden": false
    },
    "scrolled": true
   },
   "outputs": [
    {
     "name": "stdout",
     "output_type": "stream",
     "text": [
      "  epoch    train_accuracy    train_loss    valid_acc    valid_accuracy    valid_loss      lr     dur\n",
      "-------  ----------------  ------------  -----------  ----------------  ------------  ------  ------\n",
      "      1            \u001b[36m0.3403\u001b[0m      \u001b[32m-52.8720\u001b[0m       \u001b[35m0.2847\u001b[0m            \u001b[31m0.2847\u001b[0m      \u001b[94m-10.9955\u001b[0m  0.0100  1.6839\n",
      "      2            0.3333      \u001b[32m-68.7236\u001b[0m       0.2500            0.2500      \u001b[94m-30.8067\u001b[0m  0.0100  1.1737\n",
      "      3            0.3229      \u001b[32m-86.8599\u001b[0m       0.2153            0.2153     \u001b[94m-100.2481\u001b[0m  0.0099  1.1775\n",
      "      4            \u001b[36m0.3576\u001b[0m     \u001b[32m-107.1503\u001b[0m       0.2569            0.2569     \u001b[94m-211.5935\u001b[0m  0.0099  1.2116\n",
      "      5            0.3403     \u001b[32m-128.9943\u001b[0m       0.2639            0.2639     \u001b[94m-367.0528\u001b[0m  0.0097  1.3935\n",
      "      6            0.3229     \u001b[32m-153.6530\u001b[0m       0.2569            0.2569     \u001b[94m-513.2859\u001b[0m  0.0096  1.3171\n",
      "      7            0.3021     \u001b[32m-181.7183\u001b[0m       0.2396            0.2396     \u001b[94m-621.1923\u001b[0m  0.0094  1.1613\n",
      "      8            0.3229     \u001b[32m-210.3772\u001b[0m       0.2396            0.2396     \u001b[94m-824.1370\u001b[0m  0.0092  1.2666\n",
      "      9            0.2986     \u001b[32m-241.5150\u001b[0m       0.2431            0.2431    \u001b[94m-1092.3467\u001b[0m  0.0090  1.1787\n",
      "     10            0.2500     \u001b[32m-274.1609\u001b[0m       0.2500            0.2500    \u001b[94m-1484.7403\u001b[0m  0.0087  1.2644\n",
      "     11            0.2465     \u001b[32m-310.1274\u001b[0m       0.2500            0.2500    \u001b[94m-1681.9151\u001b[0m  0.0085  1.4730\n",
      "     12            0.2500     \u001b[32m-348.6039\u001b[0m       0.2500            0.2500    \u001b[94m-1926.1135\u001b[0m  0.0082  1.8201\n",
      "     13            0.2500     \u001b[32m-386.7467\u001b[0m       0.2500            0.2500    \u001b[94m-2263.6965\u001b[0m  0.0078  1.2545\n",
      "     14            0.2500     \u001b[32m-423.8819\u001b[0m       0.2500            0.2500    \u001b[94m-2643.9033\u001b[0m  0.0075  1.1835\n",
      "     15            0.2500     \u001b[32m-463.2802\u001b[0m       0.2500            0.2500    \u001b[94m-2818.5442\u001b[0m  0.0071  1.1843\n",
      "     16            0.2500     \u001b[32m-503.7275\u001b[0m       0.2500            0.2500    \u001b[94m-3113.4345\u001b[0m  0.0068  1.1833\n",
      "     17            0.2500     \u001b[32m-549.7721\u001b[0m       0.2500            0.2500    \u001b[94m-3473.4295\u001b[0m  0.0064  1.1842\n",
      "     18            0.2500     \u001b[32m-584.9595\u001b[0m       0.2500            0.2500    \u001b[94m-3712.7284\u001b[0m  0.0060  1.1819\n",
      "     19            0.2500     \u001b[32m-621.5058\u001b[0m       0.2500            0.2500    \u001b[94m-3915.3502\u001b[0m  0.0056  1.1768\n",
      "     20            0.2500     \u001b[32m-661.2423\u001b[0m       0.2500            0.2500    \u001b[94m-4224.0107\u001b[0m  0.0052  1.1874\n",
      "     21            0.2500     \u001b[32m-695.0322\u001b[0m       0.2500            0.2500    \u001b[94m-4265.5798\u001b[0m  0.0048  1.1790\n",
      "     22            0.2500     \u001b[32m-731.1027\u001b[0m       0.2500            0.2500    -4189.6531  0.0044  1.2457\n",
      "     23            0.2500     \u001b[32m-762.2654\u001b[0m       0.2500            0.2500    \u001b[94m-4459.2011\u001b[0m  0.0040  1.2139\n",
      "     24            0.2500     \u001b[32m-790.9006\u001b[0m       0.2500            0.2500    \u001b[94m-4573.2330\u001b[0m  0.0036  1.1847\n",
      "     25            0.2500     \u001b[32m-817.8033\u001b[0m       0.2500            0.2500    -4570.2701  0.0032  1.1837\n",
      "     26            0.2500     \u001b[32m-836.9279\u001b[0m       0.2500            0.2500    -4539.8286  0.0029  1.3729\n"
     ]
    }
   ],
   "source": [
    "from skorch.callbacks import LRScheduler\n",
    "from skorch.helper import predefined_split\n",
    "\n",
    "from braindecode import EEGClassifier\n",
    "\n",
    "# We found these values to be good for the shallow network:\n",
    "# lr = 0.0625 * 0.01\n",
    "# weight_decay = 0\n",
    "\n",
    "# For deep4 they should be:\n",
    "lr = 1 * 0.01\n",
    "weight_decay = 0.5 * 0.001\n",
    "\n",
    "batch_size = 64\n",
    "n_epochs = 40\n",
    "\n",
    "clf = EEGClassifier(\n",
    "    model,\n",
    "    criterion=torch.nn.NLLLoss,\n",
    "    optimizer=torch.optim.AdamW,\n",
    "    train_split=predefined_split(valid_set),  # using valid_set for validation\n",
    "    optimizer__lr=lr,\n",
    "    optimizer__weight_decay=weight_decay,\n",
    "    batch_size=batch_size,\n",
    "    callbacks=[\n",
    "        \"accuracy\", (\"lr_scheduler\", LRScheduler('CosineAnnealingLR', T_max=n_epochs - 1)),\n",
    "    ],\n",
    "    device=device,\n",
    "    classes=classes,\n",
    ")\n",
    "# Model training for the specified number of epochs. `y` is None as it is\n",
    "# already supplied in the dataset.\n",
    "_ = clf.fit(train_set, y=None, epochs=n_epochs)"
   ]
  },
  {
   "cell_type": "markdown",
   "metadata": {},
   "source": [
    "## Plotting Results\n",
    "\n",
    "\n"
   ]
  },
  {
   "cell_type": "markdown",
   "metadata": {},
   "source": [
    "Now we use the history stored by Skorch throughout training to plot\n",
    "accuracy and loss curves.\n",
    "\n",
    "\n"
   ]
  },
  {
   "cell_type": "code",
   "execution_count": null,
   "metadata": {
    "collapsed": false,
    "jupyter": {
     "outputs_hidden": false
    }
   },
   "outputs": [],
   "source": [
    "import matplotlib.pyplot as plt\n",
    "import pandas as pd\n",
    "from matplotlib.lines import Line2D\n",
    "\n",
    "# Extract loss and accuracy values for plotting from history object\n",
    "results_columns = ['train_loss', 'valid_loss', 'train_accuracy', 'valid_accuracy']\n",
    "df = pd.DataFrame(clf.history[:, results_columns], columns=results_columns,\n",
    "                  index=clf.history[:, 'epoch'])\n",
    "\n",
    "# get percent of misclass for better visual comparison to loss\n",
    "df = df.assign(train_misclass=100 - 100 * df.train_accuracy,\n",
    "               valid_misclass=100 - 100 * df.valid_accuracy)\n",
    "\n",
    "fig, ax1 = plt.subplots(figsize=(8, 3))\n",
    "df.loc[:, ['train_loss', 'valid_loss']].plot(\n",
    "    ax=ax1, style=['-', ':'], marker='o', color='tab:blue', legend=False, fontsize=14)\n",
    "\n",
    "ax1.tick_params(axis='y', labelcolor='tab:blue', labelsize=14)\n",
    "ax1.set_ylabel(\"Loss\", color='tab:blue', fontsize=14)\n",
    "\n",
    "ax2 = ax1.twinx()  # instantiate a second axes that shares the same x-axis\n",
    "\n",
    "df.loc[:, ['train_misclass', 'valid_misclass']].plot(\n",
    "    ax=ax2, style=['-', ':'], marker='o', color='tab:red', legend=False)\n",
    "ax2.tick_params(axis='y', labelcolor='tab:red', labelsize=14)\n",
    "ax2.set_ylabel(\"Misclassification Rate [%]\", color='tab:red', fontsize=14)\n",
    "ax2.set_ylim(ax2.get_ylim()[0], 85)  # make some room for legend\n",
    "ax1.set_xlabel(\"Epoch\", fontsize=14)\n",
    "\n",
    "# where some data has already been plotted to ax\n",
    "handles = []\n",
    "handles.append(Line2D([0], [0], color='black', linewidth=1, linestyle='-', label='Train'))\n",
    "handles.append(Line2D([0], [0], color='black', linewidth=1, linestyle=':', label='Valid'))\n",
    "plt.legend(handles, [h.get_label() for h in handles], fontsize=14)\n",
    "plt.tight_layout()"
   ]
  },
  {
   "cell_type": "markdown",
   "metadata": {},
   "source": [
    "## Plotting a  Confusion Matrix\n",
    "\n",
    "\n"
   ]
  },
  {
   "cell_type": "markdown",
   "metadata": {},
   "source": [
    "Here we generate a confusion matrix as in [3]_.\n",
    "\n",
    "\n"
   ]
  },
  {
   "cell_type": "code",
   "execution_count": null,
   "metadata": {
    "collapsed": false,
    "jupyter": {
     "outputs_hidden": false
    }
   },
   "outputs": [],
   "source": [
    "from sklearn.metrics import confusion_matrix\n",
    "\n",
    "from braindecode.visualization import plot_confusion_matrix\n",
    "\n",
    "# generate confusion matrices\n",
    "# get the targets\n",
    "y_true = valid_set.get_metadata().target\n",
    "y_pred = clf.predict(valid_set)\n",
    "\n",
    "# generating confusion matrix\n",
    "confusion_mat = confusion_matrix(y_true, y_pred)\n",
    "\n",
    "# add class labels\n",
    "# label_dict is class_name : str -> i_class : int\n",
    "label_dict = windows_dataset.datasets[0].window_kwargs[0][1]['mapping']\n",
    "# sort the labels by values (values are integer class labels)\n",
    "labels = [k for k, v in sorted(label_dict.items(), key=lambda kv: kv[1])]\n",
    "\n",
    "# plot the basic conf. matrix\n",
    "plot_confusion_matrix(confusion_mat, class_names=labels)"
   ]
  },
  {
   "cell_type": "markdown",
   "metadata": {},
   "source": [
    "## References\n",
    "\n",
    ".. [1] Tangermann, M., Müller, K.R., Aertsen, A., Birbaumer, N., Braun, C.,\n",
    "       Brunner, C., Leeb, R., Mehring, C., Miller, K.J., Mueller-Putz, G.\n",
    "       and Nolte, G., 2012. Review of the BCI competition IV.\n",
    "       Frontiers in neuroscience, 6, p.55.\n",
    "\n",
    ".. [2] Jayaram, Vinay, and Alexandre Barachant.\n",
    "       \"MOABB: trustworthy algorithm benchmarking for BCIs.\"\n",
    "       Journal of neural engineering 15.6 (2018): 066011.\n",
    "\n",
    ".. [3] Schirrmeister, R.T., Springenberg, J.T., Fiederer, L.D.J., Glasstetter, M.,\n",
    "       Eggensperger, K., Tangermann, M., Hutter, F., Burgard, W. and Ball, T. (2017),\n",
    "       Deep learning with convolutional neural networks for EEG decoding and visualization.\n",
    "       Hum. Brain Mapping, 38: 5391-5420. https://doi.org/10.1002/hbm.23730.\n",
    "\n"
   ]
  }
 ],
 "metadata": {
  "kernelspec": {
   "display_name": "Python 3 (ipykernel)",
   "language": "python",
   "name": "python3"
  },
  "language_info": {
   "codemirror_mode": {
    "name": "ipython",
    "version": 3
   },
   "file_extension": ".py",
   "mimetype": "text/x-python",
   "name": "python",
   "nbconvert_exporter": "python",
   "pygments_lexer": "ipython3",
   "version": "3.11.8"
  }
 },
 "nbformat": 4,
 "nbformat_minor": 4
}
