{
 "cells": [
  {
   "cell_type": "markdown",
   "metadata": {},
   "source": [
    "\n",
    "# Basic Brain Decoding on EEG Data\n",
    "\n",
    "This tutorial shows you how to train and test deep learning models with\n",
    "Braindecode in a classical EEG setting: you have trials of data with\n",
    "labels (e.g., Right Hand, Left Hand, etc.).\n",
    "   :depth: 2\n"
   ]
  },
  {
   "cell_type": "markdown",
   "metadata": {},
   "source": [
    "## Loading and preparing the data\n",
    "\n",
    "\n"
   ]
  },
  {
   "cell_type": "markdown",
   "metadata": {},
   "source": [
    "### Loading the dataset\n",
    "\n",
    "\n"
   ]
  },
  {
   "cell_type": "markdown",
   "metadata": {},
   "source": [
    "First, we load the data. In this tutorial, we load the BCI Competition\n",
    "IV 2a data [1]_ using braindecode's wrapper to load via\n",
    "[MOABB library](https://github.com/NeuroTechX/moabb)_ [2]_.\n",
    "\n",
    "<div class=\"alert alert-info\"><h4>Note</h4><p>To load your own datasets either via mne or from\n",
    "   preprocessed X/y numpy arrays, see [MNE Dataset\n",
    "   Tutorial](./plot_mne_dataset_example.html)_ and [Numpy Dataset\n",
    "   Tutorial](./plot_custom_dataset_example.html)_.</p></div>\n",
    "\n",
    "\n"
   ]
  },
  {
   "cell_type": "code",
   "execution_count": 25,
   "metadata": {
    "collapsed": false,
    "jupyter": {
     "outputs_hidden": false
    }
   },
   "outputs": [],
   "source": [
    "from braindecode.datasets import MOABBDataset\n",
    "\n",
    "subject_id = 2\n",
    "dataset = MOABBDataset(dataset_name=\"BNCI2014_001\", subject_ids=[subject_id])"
   ]
  },
  {
   "cell_type": "markdown",
   "metadata": {},
   "source": [
    "### Preprocessing\n",
    "\n",
    "\n"
   ]
  },
  {
   "cell_type": "markdown",
   "metadata": {},
   "source": [
    "Now we apply preprocessing like bandpass filtering to our dataset. You\n",
    "can either apply functions provided by\n",
    "[mne.Raw](https://mne.tools/stable/generated/mne.io.Raw.html)_ or\n",
    "[mne.Epochs](https://mne.tools/0.11/generated/mne.Epochs.html#mne.Epochs)_\n",
    "or apply your own functions, either to the MNE object or the underlying\n",
    "numpy array.\n",
    "\n",
    "<div class=\"alert alert-info\"><h4>Note</h4><p>Generally, braindecode prepocessing is directly applied to the loaded\n",
    "   data, and not applied on-the-fly as transformations, such as in\n",
    "   PyTorch-libraries like\n",
    "   [torchvision](https://pytorch.org/docs/stable/torchvision/index.html)_.</p></div>\n",
    "\n",
    "\n"
   ]
  },
  {
   "cell_type": "code",
   "execution_count": 26,
   "metadata": {
    "collapsed": false,
    "jupyter": {
     "outputs_hidden": false
    }
   },
   "outputs": [
    {
     "name": "stderr",
     "output_type": "stream",
     "text": [
      "C:\\Users\\mengz\\anaconda3\\envs\\hyperBCI\\Lib\\site-packages\\braindecode\\preprocessing\\preprocess.py:55: UserWarning: Preprocessing choices with lambda functions cannot be saved.\n",
      "  warn('Preprocessing choices with lambda functions cannot be saved.')\n"
     ]
    },
    {
     "data": {
      "text/plain": [
       "<braindecode.datasets.moabb.MOABBDataset at 0x18c87df1e10>"
      ]
     },
     "execution_count": 26,
     "metadata": {},
     "output_type": "execute_result"
    }
   ],
   "source": [
    "from numpy import multiply\n",
    "\n",
    "from braindecode.preprocessing import (Preprocessor,\n",
    "                                       exponential_moving_standardize,\n",
    "                                       preprocess)\n",
    "\n",
    "low_cut_hz = 4.  # low cut frequency for filtering\n",
    "high_cut_hz = 38.  # high cut frequency for filtering\n",
    "# Parameters for exponential moving standardization\n",
    "factor_new = 1e-3\n",
    "init_block_size = 1000\n",
    "# Factor to convert from V to uV\n",
    "factor = 1e6\n",
    "\n",
    "preprocessors = [\n",
    "    Preprocessor('pick_types', eeg=True, meg=False, stim=False),  # Keep EEG sensors\n",
    "    Preprocessor(lambda data: multiply(data, factor)),  # Convert from V to uV\n",
    "    Preprocessor('filter', l_freq=low_cut_hz, h_freq=high_cut_hz),  # Bandpass filter\n",
    "    Preprocessor(exponential_moving_standardize,  # Exponential moving standardization\n",
    "                 factor_new=factor_new, init_block_size=init_block_size)\n",
    "]\n",
    "\n",
    "# Transform the data\n",
    "preprocess(dataset, preprocessors, n_jobs=-1)"
   ]
  },
  {
   "cell_type": "markdown",
   "metadata": {},
   "source": [
    "### Extracting Compute Windows\n",
    "\n",
    "\n"
   ]
  },
  {
   "cell_type": "markdown",
   "metadata": {},
   "source": [
    "Now we extract compute windows from the signals, these will be the inputs\n",
    "to the deep networks during training. In the case of trialwise\n",
    "decoding, we just have to decide if we want to include some part\n",
    "before and/or after the trial. For our work with this dataset,\n",
    "it was often beneficial to also include the 500 ms before the trial.\n",
    "\n",
    "\n"
   ]
  },
  {
   "cell_type": "code",
   "execution_count": 27,
   "metadata": {
    "collapsed": false,
    "jupyter": {
     "outputs_hidden": false
    }
   },
   "outputs": [
    {
     "name": "stdout",
     "output_type": "stream",
     "text": [
      "Used Annotations descriptions: ['feet', 'left_hand', 'right_hand', 'tongue']\n",
      "Used Annotations descriptions: ['feet', 'left_hand', 'right_hand', 'tongue']\n",
      "Used Annotations descriptions: ['feet', 'left_hand', 'right_hand', 'tongue']\n",
      "Used Annotations descriptions: ['feet', 'left_hand', 'right_hand', 'tongue']\n",
      "Used Annotations descriptions: ['feet', 'left_hand', 'right_hand', 'tongue']\n",
      "Used Annotations descriptions: ['feet', 'left_hand', 'right_hand', 'tongue']\n",
      "Used Annotations descriptions: ['feet', 'left_hand', 'right_hand', 'tongue']\n",
      "Used Annotations descriptions: ['feet', 'left_hand', 'right_hand', 'tongue']\n",
      "Used Annotations descriptions: ['feet', 'left_hand', 'right_hand', 'tongue']\n",
      "Used Annotations descriptions: ['feet', 'left_hand', 'right_hand', 'tongue']\n",
      "Used Annotations descriptions: ['feet', 'left_hand', 'right_hand', 'tongue']\n",
      "Used Annotations descriptions: ['feet', 'left_hand', 'right_hand', 'tongue']\n"
     ]
    }
   ],
   "source": [
    "from braindecode.preprocessing import create_windows_from_events\n",
    "\n",
    "trial_start_offset_seconds = -0.5\n",
    "# Extract sampling frequency, check that they are same in all datasets\n",
    "sfreq = dataset.datasets[0].raw.info['sfreq']\n",
    "assert all([ds.raw.info['sfreq'] == sfreq for ds in dataset.datasets])\n",
    "# Calculate the trial start offset in samples.\n",
    "trial_start_offset_samples = int(trial_start_offset_seconds * sfreq)\n",
    "\n",
    "# Create windows using braindecode function for this. It needs parameters to define how\n",
    "# trials should be used.\n",
    "windows_dataset = create_windows_from_events(\n",
    "    dataset,\n",
    "    trial_start_offset_samples=trial_start_offset_samples,\n",
    "    trial_stop_offset_samples=0,\n",
    "    preload=True,\n",
    ")"
   ]
  },
  {
   "cell_type": "markdown",
   "metadata": {},
   "source": [
    "### Splitting the dataset into training and validation sets\n",
    "\n",
    "\n"
   ]
  },
  {
   "cell_type": "markdown",
   "metadata": {},
   "source": [
    "We can easily split the dataset using additional info stored in the\n",
    "description attribute, in this case ``session`` column. We select\n",
    "``T`` for training and ``test`` for validation.\n",
    "\n",
    "\n"
   ]
  },
  {
   "cell_type": "code",
   "execution_count": 28,
   "metadata": {},
   "outputs": [],
   "source": [
    "from braindecode.datasets import BaseConcatDataset\n",
    "from braindecode.datasets.base import EEGWindowsDataset"
   ]
  },
  {
   "cell_type": "code",
   "execution_count": 34,
   "metadata": {},
   "outputs": [],
   "source": [
    "splitted_lst_by_run = list(windows_dataset.split('run').values())\n",
    "# valid_set_size = 1\n",
    "# train_set = BaseConcatDataset(splitted_lst_by_run[:-valid_set_size])\n",
    "# valid_set = BaseConcatDataset(splitted_lst_by_run[-valid_set_size:])\n",
    "splitted_dict_by_ses = windows_dataset.split('session')\n",
    "train_set = splitted_dict_by_ses.get('0train')\n",
    "valid_set = splitted_dict_by_ses.get('1test')"
   ]
  },
  {
   "cell_type": "code",
   "execution_count": 35,
   "metadata": {
    "scrolled": true
   },
   "outputs": [
    {
     "data": {
      "text/html": [
       "<div>\n",
       "<style scoped>\n",
       "    .dataframe tbody tr th:only-of-type {\n",
       "        vertical-align: middle;\n",
       "    }\n",
       "\n",
       "    .dataframe tbody tr th {\n",
       "        vertical-align: top;\n",
       "    }\n",
       "\n",
       "    .dataframe thead th {\n",
       "        text-align: right;\n",
       "    }\n",
       "</style>\n",
       "<table border=\"1\" class=\"dataframe\">\n",
       "  <thead>\n",
       "    <tr style=\"text-align: right;\">\n",
       "      <th></th>\n",
       "      <th>i_window_in_trial</th>\n",
       "      <th>i_start_in_trial</th>\n",
       "      <th>i_stop_in_trial</th>\n",
       "      <th>target</th>\n",
       "      <th>subject</th>\n",
       "      <th>session</th>\n",
       "      <th>run</th>\n",
       "    </tr>\n",
       "  </thead>\n",
       "  <tbody>\n",
       "    <tr>\n",
       "      <th>0</th>\n",
       "      <td>0</td>\n",
       "      <td>125</td>\n",
       "      <td>1250</td>\n",
       "      <td>1</td>\n",
       "      <td>2</td>\n",
       "      <td>0train</td>\n",
       "      <td>0</td>\n",
       "    </tr>\n",
       "    <tr>\n",
       "      <th>1</th>\n",
       "      <td>0</td>\n",
       "      <td>2128</td>\n",
       "      <td>3253</td>\n",
       "      <td>2</td>\n",
       "      <td>2</td>\n",
       "      <td>0train</td>\n",
       "      <td>0</td>\n",
       "    </tr>\n",
       "    <tr>\n",
       "      <th>2</th>\n",
       "      <td>0</td>\n",
       "      <td>4046</td>\n",
       "      <td>5171</td>\n",
       "      <td>2</td>\n",
       "      <td>2</td>\n",
       "      <td>0train</td>\n",
       "      <td>0</td>\n",
       "    </tr>\n",
       "    <tr>\n",
       "      <th>3</th>\n",
       "      <td>0</td>\n",
       "      <td>5998</td>\n",
       "      <td>7123</td>\n",
       "      <td>1</td>\n",
       "      <td>2</td>\n",
       "      <td>0train</td>\n",
       "      <td>0</td>\n",
       "    </tr>\n",
       "    <tr>\n",
       "      <th>4</th>\n",
       "      <td>0</td>\n",
       "      <td>8006</td>\n",
       "      <td>9131</td>\n",
       "      <td>2</td>\n",
       "      <td>2</td>\n",
       "      <td>0train</td>\n",
       "      <td>0</td>\n",
       "    </tr>\n",
       "    <tr>\n",
       "      <th>...</th>\n",
       "      <td>...</td>\n",
       "      <td>...</td>\n",
       "      <td>...</td>\n",
       "      <td>...</td>\n",
       "      <td>...</td>\n",
       "      <td>...</td>\n",
       "      <td>...</td>\n",
       "    </tr>\n",
       "    <tr>\n",
       "      <th>43</th>\n",
       "      <td>0</td>\n",
       "      <td>86625</td>\n",
       "      <td>87750</td>\n",
       "      <td>0</td>\n",
       "      <td>2</td>\n",
       "      <td>0train</td>\n",
       "      <td>5</td>\n",
       "    </tr>\n",
       "    <tr>\n",
       "      <th>44</th>\n",
       "      <td>0</td>\n",
       "      <td>88531</td>\n",
       "      <td>89656</td>\n",
       "      <td>3</td>\n",
       "      <td>2</td>\n",
       "      <td>0train</td>\n",
       "      <td>5</td>\n",
       "    </tr>\n",
       "    <tr>\n",
       "      <th>45</th>\n",
       "      <td>0</td>\n",
       "      <td>90459</td>\n",
       "      <td>91584</td>\n",
       "      <td>0</td>\n",
       "      <td>2</td>\n",
       "      <td>0train</td>\n",
       "      <td>5</td>\n",
       "    </tr>\n",
       "    <tr>\n",
       "      <th>46</th>\n",
       "      <td>0</td>\n",
       "      <td>92573</td>\n",
       "      <td>93698</td>\n",
       "      <td>1</td>\n",
       "      <td>2</td>\n",
       "      <td>0train</td>\n",
       "      <td>5</td>\n",
       "    </tr>\n",
       "    <tr>\n",
       "      <th>47</th>\n",
       "      <td>0</td>\n",
       "      <td>94632</td>\n",
       "      <td>95757</td>\n",
       "      <td>0</td>\n",
       "      <td>2</td>\n",
       "      <td>0train</td>\n",
       "      <td>5</td>\n",
       "    </tr>\n",
       "  </tbody>\n",
       "</table>\n",
       "<p>288 rows × 7 columns</p>\n",
       "</div>"
      ],
      "text/plain": [
       "    i_window_in_trial  i_start_in_trial  i_stop_in_trial  target  subject  \\\n",
       "0                   0               125             1250       1        2   \n",
       "1                   0              2128             3253       2        2   \n",
       "2                   0              4046             5171       2        2   \n",
       "3                   0              5998             7123       1        2   \n",
       "4                   0              8006             9131       2        2   \n",
       "..                ...               ...              ...     ...      ...   \n",
       "43                  0             86625            87750       0        2   \n",
       "44                  0             88531            89656       3        2   \n",
       "45                  0             90459            91584       0        2   \n",
       "46                  0             92573            93698       1        2   \n",
       "47                  0             94632            95757       0        2   \n",
       "\n",
       "   session run  \n",
       "0   0train   0  \n",
       "1   0train   0  \n",
       "2   0train   0  \n",
       "3   0train   0  \n",
       "4   0train   0  \n",
       "..     ...  ..  \n",
       "43  0train   5  \n",
       "44  0train   5  \n",
       "45  0train   5  \n",
       "46  0train   5  \n",
       "47  0train   5  \n",
       "\n",
       "[288 rows x 7 columns]"
      ]
     },
     "execution_count": 35,
     "metadata": {},
     "output_type": "execute_result"
    }
   ],
   "source": [
    "train_set.get_metadata()"
   ]
  },
  {
   "cell_type": "markdown",
   "metadata": {},
   "source": [
    "## Creating a model\n",
    "\n",
    "\n"
   ]
  },
  {
   "cell_type": "markdown",
   "metadata": {},
   "source": [
    "Now we create the deep learning model! Braindecode comes with some\n",
    "predefined convolutional neural network architectures for raw\n",
    "time-domain EEG. Here, we use the shallow ConvNet model from [3]_. These models are\n",
    "pure [PyTorch](https://pytorch.org)_ deep learning models, therefore\n",
    "to use your own model, it just has to be a normal PyTorch\n",
    "[nn.Module](https://pytorch.org/docs/stable/nn.html#torch.nn.Module)_.\n",
    "\n",
    "\n"
   ]
  },
  {
   "cell_type": "code",
   "execution_count": 36,
   "metadata": {
    "collapsed": false,
    "jupyter": {
     "outputs_hidden": false
    },
    "scrolled": true
   },
   "outputs": [
    {
     "name": "stdout",
     "output_type": "stream",
     "text": [
      "============================================================================================================================================\n",
      "Layer (type (var_name):depth-idx)        Input Shape               Output Shape              Param #                   Kernel Shape\n",
      "============================================================================================================================================\n",
      "ShallowFBCSPNet (ShallowFBCSPNet)        [1, 22, 1125]             [1, 4]                    --                        --\n",
      "├─Ensure4d (ensuredims): 1-1             [1, 22, 1125]             [1, 22, 1125, 1]          --                        --\n",
      "├─Rearrange (dimshuffle): 1-2            [1, 22, 1125, 1]          [1, 1, 1125, 22]          --                        --\n",
      "├─CombinedConv (conv_time_spat): 1-3     [1, 1, 1125, 22]          [1, 40, 1101, 1]          36,240                    --\n",
      "├─BatchNorm2d (bnorm): 1-4               [1, 40, 1101, 1]          [1, 40, 1101, 1]          80                        --\n",
      "├─Expression (conv_nonlin_exp): 1-5      [1, 40, 1101, 1]          [1, 40, 1101, 1]          --                        --\n",
      "├─AvgPool2d (pool): 1-6                  [1, 40, 1101, 1]          [1, 40, 69, 1]            --                        [75, 1]\n",
      "├─Expression (pool_nonlin_exp): 1-7      [1, 40, 69, 1]            [1, 40, 69, 1]            --                        --\n",
      "├─Dropout (drop): 1-8                    [1, 40, 69, 1]            [1, 40, 69, 1]            --                        --\n",
      "├─Sequential (final_layer): 1-9          [1, 40, 69, 1]            [1, 4]                    --                        --\n",
      "│    └─Conv2d (conv_classifier): 2-1     [1, 40, 69, 1]            [1, 4, 1, 1]              11,044                    [69, 1]\n",
      "│    └─LogSoftmax (logsoftmax): 2-2      [1, 4, 1, 1]              [1, 4, 1, 1]              --                        --\n",
      "│    └─Expression (squeeze): 2-3         [1, 4, 1, 1]              [1, 4]                    --                        --\n",
      "============================================================================================================================================\n",
      "Total params: 47,364\n",
      "Trainable params: 47,364\n",
      "Non-trainable params: 0\n",
      "Total mult-adds (Units.MEGABYTES): 0.01\n",
      "============================================================================================================================================\n",
      "Input size (MB): 0.10\n",
      "Forward/backward pass size (MB): 0.35\n",
      "Params size (MB): 0.04\n",
      "Estimated Total Size (MB): 0.50\n",
      "============================================================================================================================================\n"
     ]
    },
    {
     "name": "stderr",
     "output_type": "stream",
     "text": [
      "C:\\Users\\mengz\\anaconda3\\envs\\hyperBCI\\Lib\\site-packages\\braindecode\\models\\base.py:23: UserWarning: ShallowFBCSPNet: 'input_window_samples' is depreciated. Use 'n_times' instead.\n",
      "  warnings.warn(\n",
      "C:\\Users\\mengz\\anaconda3\\envs\\hyperBCI\\Lib\\site-packages\\braindecode\\models\\base.py:180: UserWarning: LogSoftmax final layer will be removed! Please adjust your loss function accordingly (e.g. CrossEntropyLoss)!\n",
      "  warnings.warn(\"LogSoftmax final layer will be removed! \" +\n"
     ]
    }
   ],
   "source": [
    "import torch\n",
    "\n",
    "from braindecode.models import ShallowFBCSPNet\n",
    "from braindecode.util import set_random_seeds\n",
    "\n",
    "cuda = torch.cuda.is_available()  # check if GPU is available, if True chooses to use it\n",
    "device = 'cuda' if cuda else 'cpu'\n",
    "if cuda:\n",
    "    torch.backends.cudnn.benchmark = True\n",
    "# Set random seed to be able to roughly reproduce results\n",
    "# Note that with cudnn benchmark set to True, GPU indeterminism\n",
    "# may still make results substantially different between runs.\n",
    "# To obtain more consistent results at the cost of increased computation time,\n",
    "# you can set `cudnn_benchmark=False` in `set_random_seeds`\n",
    "# or remove `torch.backends.cudnn.benchmark = True`\n",
    "seed = 20200220\n",
    "set_random_seeds(seed=seed, cuda=cuda)\n",
    "\n",
    "n_classes = 4\n",
    "classes = list(range(n_classes))\n",
    "# Extract number of chans and time steps from dataset\n",
    "n_chans = train_set[0][0].shape[0]\n",
    "input_window_samples = train_set[0][0].shape[1]\n",
    "\n",
    "model = ShallowFBCSPNet(\n",
    "    n_chans,\n",
    "    n_classes,\n",
    "    input_window_samples=input_window_samples,\n",
    "    final_conv_length='auto',\n",
    ")\n",
    "\n",
    "# Display torchinfo table describing the model\n",
    "print(model)\n",
    "\n",
    "# Send model to GPU\n",
    "if cuda:\n",
    "    model = model.cuda()"
   ]
  },
  {
   "cell_type": "markdown",
   "metadata": {},
   "source": [
    "## Model Training\n",
    "\n",
    "\n"
   ]
  },
  {
   "cell_type": "markdown",
   "metadata": {},
   "source": [
    "Now we will train the network! ``EEGClassifier`` is a Braindecode object\n",
    "responsible for managing the training of neural networks. It inherits\n",
    "from skorch [NeuralNetClassifier](https://skorch.readthedocs.io/en/stable/classifier.html#)_,\n",
    "so the training logic is the same as in [Skorch](https://skorch.readthedocs.io/en/stable/)_.\n",
    "\n",
    "\n"
   ]
  },
  {
   "cell_type": "markdown",
   "metadata": {},
   "source": [
    "<div class=\"alert alert-info\"><h4>Note</h4><p>In this tutorial, we use some default parameters that we\n",
    "   have found to work well for motor decoding, however we strongly\n",
    "   encourage you to perform your own hyperparameter optimization using\n",
    "   cross validation on your training data.</p></div>\n",
    "\n",
    "\n"
   ]
  },
  {
   "cell_type": "code",
   "execution_count": 37,
   "metadata": {
    "collapsed": false,
    "jupyter": {
     "outputs_hidden": false
    },
    "scrolled": true
   },
   "outputs": [
    {
     "name": "stdout",
     "output_type": "stream",
     "text": [
      "  epoch    train_accuracy    train_loss    valid_acc    valid_accuracy    valid_loss      lr     dur\n",
      "-------  ----------------  ------------  -----------  ----------------  ------------  ------  ------\n",
      "      1            \u001b[36m0.2535\u001b[0m        \u001b[32m1.7834\u001b[0m       \u001b[35m0.2465\u001b[0m            \u001b[31m0.2465\u001b[0m        \u001b[94m4.4177\u001b[0m  0.0006  0.6286\n",
      "      2            0.2500        \u001b[32m1.4821\u001b[0m       \u001b[35m0.2500\u001b[0m            \u001b[31m0.2500\u001b[0m        \u001b[94m3.9927\u001b[0m  0.0006  0.6005\n",
      "      3            \u001b[36m0.3368\u001b[0m        \u001b[32m1.3903\u001b[0m       \u001b[35m0.2708\u001b[0m            \u001b[31m0.2708\u001b[0m        \u001b[94m2.8641\u001b[0m  0.0006  0.5832\n",
      "      4            \u001b[36m0.4028\u001b[0m        \u001b[32m1.2767\u001b[0m       0.2465            0.2465        \u001b[94m2.6521\u001b[0m  0.0006  0.5809\n",
      "      5            \u001b[36m0.4097\u001b[0m        1.2827       0.2500            0.2500        \u001b[94m2.5013\u001b[0m  0.0006  0.5586\n",
      "      6            \u001b[36m0.4792\u001b[0m        \u001b[32m1.2606\u001b[0m       0.2535            0.2535        \u001b[94m2.1043\u001b[0m  0.0006  0.5855\n",
      "      7            \u001b[36m0.4965\u001b[0m        \u001b[32m1.1933\u001b[0m       \u001b[35m0.2778\u001b[0m            \u001b[31m0.2778\u001b[0m        \u001b[94m1.7825\u001b[0m  0.0006  0.5802\n",
      "      8            \u001b[36m0.5382\u001b[0m        \u001b[32m1.1155\u001b[0m       \u001b[35m0.2917\u001b[0m            \u001b[31m0.2917\u001b[0m        \u001b[94m1.6531\u001b[0m  0.0006  0.5679\n",
      "      9            \u001b[36m0.6111\u001b[0m        \u001b[32m1.0743\u001b[0m       0.2708            0.2708        \u001b[94m1.6060\u001b[0m  0.0006  0.6992\n",
      "     10            \u001b[36m0.6840\u001b[0m        \u001b[32m1.0190\u001b[0m       0.2882            0.2882        \u001b[94m1.5681\u001b[0m  0.0005  0.7162\n",
      "     11            \u001b[36m0.7361\u001b[0m        \u001b[32m0.9964\u001b[0m       0.2847            0.2847        \u001b[94m1.5480\u001b[0m  0.0005  0.6824\n",
      "     12            \u001b[36m0.7465\u001b[0m        \u001b[32m0.9481\u001b[0m       0.2847            0.2847        1.5593  0.0005  0.7342\n",
      "     13            \u001b[36m0.7951\u001b[0m        \u001b[32m0.9468\u001b[0m       0.2812            0.2812        1.5679  0.0005  0.6302\n",
      "     14            \u001b[36m0.8125\u001b[0m        \u001b[32m0.8812\u001b[0m       0.2778            0.2778        1.5734  0.0005  0.6082\n",
      "     15            \u001b[36m0.8368\u001b[0m        0.9097       0.2778            0.2778        1.5684  0.0004  0.5921\n",
      "     16            0.8160        \u001b[32m0.8618\u001b[0m       0.2708            0.2708        1.5713  0.0004  0.5876\n",
      "     17            0.8194        0.8896       0.2708            0.2708        1.5882  0.0004  0.5901\n",
      "     18            \u001b[36m0.8507\u001b[0m        \u001b[32m0.8415\u001b[0m       0.2778            0.2778        1.5955  0.0004  0.5996\n",
      "     19            \u001b[36m0.8646\u001b[0m        \u001b[32m0.7523\u001b[0m       0.2708            0.2708        1.6008  0.0004  0.6465\n",
      "     20            \u001b[36m0.8750\u001b[0m        0.7632       0.2847            0.2847        1.6315  0.0003  0.6319\n",
      "     21            \u001b[36m0.8819\u001b[0m        \u001b[32m0.7095\u001b[0m       0.2708            0.2708        1.6292  0.0003  0.6346\n",
      "     22            \u001b[36m0.9062\u001b[0m        0.7439       0.2639            0.2639        1.6175  0.0003  0.5913\n",
      "     23            \u001b[36m0.9271\u001b[0m        \u001b[32m0.7080\u001b[0m       0.2743            0.2743        1.6182  0.0002  0.6003\n",
      "     24            \u001b[36m0.9306\u001b[0m        \u001b[32m0.6631\u001b[0m       0.2639            0.2639        1.6465  0.0002  0.6153\n",
      "     25            0.9306        0.6633       0.2812            0.2812        1.6734  0.0002  0.6119\n",
      "     26            0.9271        \u001b[32m0.6466\u001b[0m       0.2708            0.2708        1.7042  0.0002  0.6094\n",
      "     27            0.9201        0.6792       0.2674            0.2674        1.7146  0.0002  0.6142\n",
      "     28            0.9306        0.6869       0.2639            0.2639        1.7090  0.0001  0.7226\n",
      "     29            \u001b[36m0.9340\u001b[0m        \u001b[32m0.6207\u001b[0m       0.2674            0.2674        1.6879  0.0001  0.7424\n",
      "     30            \u001b[36m0.9410\u001b[0m        \u001b[32m0.6172\u001b[0m       0.2743            0.2743        1.6755  0.0001  0.7471\n",
      "     31            \u001b[36m0.9444\u001b[0m        0.6660       0.2674            0.2674        1.6648  0.0001  0.8151\n",
      "     32            0.9444        0.6217       0.2604            0.2604        1.6611  0.0001  0.7316\n",
      "     33            \u001b[36m0.9514\u001b[0m        \u001b[32m0.5982\u001b[0m       0.2604            0.2604        1.6555  0.0000  0.6178\n",
      "     34            \u001b[36m0.9549\u001b[0m        0.6252       0.2604            0.2604        1.6524  0.0000  0.6113\n",
      "     35            0.9549        0.6277       0.2604            0.2604        1.6537  0.0000  0.6268\n",
      "     36            0.9549        \u001b[32m0.5891\u001b[0m       0.2569            0.2569        1.6549  0.0000  0.6220\n",
      "     37            0.9514        0.6609       0.2604            0.2604        1.6560  0.0000  0.6290\n",
      "     38            0.9514        0.6722       0.2604            0.2604        1.6575  0.0000  0.6088\n",
      "     39            0.9514        0.5930       0.2604            0.2604        1.6573  0.0000  0.6149\n",
      "     40            0.9514        0.6631       0.2604            0.2604        1.6574  0.0000  0.6149\n"
     ]
    }
   ],
   "source": [
    "from skorch.callbacks import LRScheduler\n",
    "from skorch.helper import predefined_split\n",
    "\n",
    "from braindecode import EEGClassifier\n",
    "\n",
    "# We found these values to be good for the shallow network:\n",
    "lr = 0.0625 * 0.01\n",
    "weight_decay = 0\n",
    "\n",
    "# For deep4 they should be:\n",
    "# lr = 1 * 0.01\n",
    "# weight_decay = 0.5 * 0.001\n",
    "\n",
    "batch_size = 64\n",
    "n_epochs = 40\n",
    "\n",
    "clf = EEGClassifier(\n",
    "    model,\n",
    "    criterion=torch.nn.NLLLoss,\n",
    "    optimizer=torch.optim.AdamW,\n",
    "    train_split=predefined_split(valid_set),  # using valid_set for validation\n",
    "    optimizer__lr=lr,\n",
    "    optimizer__weight_decay=weight_decay,\n",
    "    batch_size=batch_size,\n",
    "    callbacks=[\n",
    "        \"accuracy\", (\"lr_scheduler\", LRScheduler('CosineAnnealingLR', T_max=n_epochs - 1)),\n",
    "    ],\n",
    "    device=device,\n",
    "    classes=classes,\n",
    ")\n",
    "# Model training for the specified number of epochs. `y` is None as it is\n",
    "# already supplied in the dataset.\n",
    "_ = clf.fit(train_set, y=None, epochs=n_epochs)"
   ]
  },
  {
   "cell_type": "markdown",
   "metadata": {},
   "source": [
    "## Plotting Results\n",
    "\n",
    "\n"
   ]
  },
  {
   "cell_type": "markdown",
   "metadata": {},
   "source": [
    "Now we use the history stored by Skorch throughout training to plot\n",
    "accuracy and loss curves.\n",
    "\n",
    "\n"
   ]
  },
  {
   "cell_type": "code",
   "execution_count": null,
   "metadata": {
    "collapsed": false,
    "jupyter": {
     "outputs_hidden": false
    }
   },
   "outputs": [],
   "source": [
    "import matplotlib.pyplot as plt\n",
    "import pandas as pd\n",
    "from matplotlib.lines import Line2D\n",
    "\n",
    "# Extract loss and accuracy values for plotting from history object\n",
    "results_columns = ['train_loss', 'valid_loss', 'train_accuracy', 'valid_accuracy']\n",
    "df = pd.DataFrame(clf.history[:, results_columns], columns=results_columns,\n",
    "                  index=clf.history[:, 'epoch'])\n",
    "\n",
    "# get percent of misclass for better visual comparison to loss\n",
    "df = df.assign(train_misclass=100 - 100 * df.train_accuracy,\n",
    "               valid_misclass=100 - 100 * df.valid_accuracy)\n",
    "\n",
    "fig, ax1 = plt.subplots(figsize=(8, 3))\n",
    "df.loc[:, ['train_loss', 'valid_loss']].plot(\n",
    "    ax=ax1, style=['-', ':'], marker='o', color='tab:blue', legend=False, fontsize=14)\n",
    "\n",
    "ax1.tick_params(axis='y', labelcolor='tab:blue', labelsize=14)\n",
    "ax1.set_ylabel(\"Loss\", color='tab:blue', fontsize=14)\n",
    "\n",
    "ax2 = ax1.twinx()  # instantiate a second axes that shares the same x-axis\n",
    "\n",
    "df.loc[:, ['train_misclass', 'valid_misclass']].plot(\n",
    "    ax=ax2, style=['-', ':'], marker='o', color='tab:red', legend=False)\n",
    "ax2.tick_params(axis='y', labelcolor='tab:red', labelsize=14)\n",
    "ax2.set_ylabel(\"Misclassification Rate [%]\", color='tab:red', fontsize=14)\n",
    "ax2.set_ylim(ax2.get_ylim()[0], 85)  # make some room for legend\n",
    "ax1.set_xlabel(\"Epoch\", fontsize=14)\n",
    "\n",
    "# where some data has already been plotted to ax\n",
    "handles = []\n",
    "handles.append(Line2D([0], [0], color='black', linewidth=1, linestyle='-', label='Train'))\n",
    "handles.append(Line2D([0], [0], color='black', linewidth=1, linestyle=':', label='Valid'))\n",
    "plt.legend(handles, [h.get_label() for h in handles], fontsize=14)\n",
    "plt.tight_layout()"
   ]
  },
  {
   "cell_type": "markdown",
   "metadata": {},
   "source": [
    "## Plotting a  Confusion Matrix\n",
    "\n",
    "\n"
   ]
  },
  {
   "cell_type": "markdown",
   "metadata": {},
   "source": [
    "Here we generate a confusion matrix as in [3]_.\n",
    "\n",
    "\n"
   ]
  },
  {
   "cell_type": "code",
   "execution_count": null,
   "metadata": {
    "collapsed": false,
    "jupyter": {
     "outputs_hidden": false
    }
   },
   "outputs": [],
   "source": [
    "from sklearn.metrics import confusion_matrix\n",
    "\n",
    "from braindecode.visualization import plot_confusion_matrix\n",
    "\n",
    "# generate confusion matrices\n",
    "# get the targets\n",
    "y_true = valid_set.get_metadata().target\n",
    "y_pred = clf.predict(valid_set)\n",
    "\n",
    "# generating confusion matrix\n",
    "confusion_mat = confusion_matrix(y_true, y_pred)\n",
    "\n",
    "# add class labels\n",
    "# label_dict is class_name : str -> i_class : int\n",
    "label_dict = windows_dataset.datasets[0].window_kwargs[0][1]['mapping']\n",
    "# sort the labels by values (values are integer class labels)\n",
    "labels = [k for k, v in sorted(label_dict.items(), key=lambda kv: kv[1])]\n",
    "\n",
    "# plot the basic conf. matrix\n",
    "plot_confusion_matrix(confusion_mat, class_names=labels)"
   ]
  },
  {
   "cell_type": "markdown",
   "metadata": {},
   "source": [
    "## References\n",
    "\n",
    ".. [1] Tangermann, M., Müller, K.R., Aertsen, A., Birbaumer, N., Braun, C.,\n",
    "       Brunner, C., Leeb, R., Mehring, C., Miller, K.J., Mueller-Putz, G.\n",
    "       and Nolte, G., 2012. Review of the BCI competition IV.\n",
    "       Frontiers in neuroscience, 6, p.55.\n",
    "\n",
    ".. [2] Jayaram, Vinay, and Alexandre Barachant.\n",
    "       \"MOABB: trustworthy algorithm benchmarking for BCIs.\"\n",
    "       Journal of neural engineering 15.6 (2018): 066011.\n",
    "\n",
    ".. [3] Schirrmeister, R.T., Springenberg, J.T., Fiederer, L.D.J., Glasstetter, M.,\n",
    "       Eggensperger, K., Tangermann, M., Hutter, F., Burgard, W. and Ball, T. (2017),\n",
    "       Deep learning with convolutional neural networks for EEG decoding and visualization.\n",
    "       Hum. Brain Mapping, 38: 5391-5420. https://doi.org/10.1002/hbm.23730.\n",
    "\n"
   ]
  }
 ],
 "metadata": {
  "kernelspec": {
   "display_name": "Python 3 (ipykernel)",
   "language": "python",
   "name": "python3"
  },
  "language_info": {
   "codemirror_mode": {
    "name": "ipython",
    "version": 3
   },
   "file_extension": ".py",
   "mimetype": "text/x-python",
   "name": "python",
   "nbconvert_exporter": "python",
   "pygments_lexer": "ipython3",
   "version": "3.11.8"
  }
 },
 "nbformat": 4,
 "nbformat_minor": 4
}
