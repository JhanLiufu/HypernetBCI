{
  "cells": [
    {
      "cell_type": "markdown",
      "metadata": {},
      "source": [
        "\n",
        "# Sleep staging on the Sleep Physionet dataset using Chambon2018 network\n",
        "\n",
        "This tutorial shows how to train and test a sleep staging neural network with\n",
        "Braindecode. We adapt the time distributed approach of [1]_ to learn on\n",
        "sequences of EEG windows using the openly accessible Sleep Physionet dataset\n",
        "[2]_ [3]_.\n"
      ]
    },
    {
      "cell_type": "code",
      "execution_count": null,
      "metadata": {
        "collapsed": false
      },
      "outputs": [],
      "source": [
        "# Authors: Hubert Banville <hubert.jbanville@gmail.com>\n",
        "#\n",
        "# License: BSD (3-clause)"
      ]
    },
    {
      "cell_type": "markdown",
      "metadata": {},
      "source": [
        "## Loading and preprocessing the dataset\n",
        "\n",
        "### Loading\n",
        "\n",
        "First, we load the data using the\n",
        ":class:`braindecode.datasets.sleep_physionet.SleepPhysionet` class. We load\n",
        "two recordings from two different individuals: we will use the first one to\n",
        "train our network and the second one to evaluate performance (as in the `MNE`_\n",
        "sleep staging example).\n",
        "\n",
        "\n",
        "\n"
      ]
    },
    {
      "cell_type": "code",
      "execution_count": 1,
      "metadata": {
        "collapsed": false
      },
      "outputs": [
        {
          "name": "stderr",
          "output_type": "stream",
          "text": [
            "<frozen importlib._bootstrap>:241: FutureWarning: mne.io.pick.pick_types is deprecated will be removed in 1.6, use documented public API instead. If no appropriate public API exists, please open an issue on GitHub.\n",
            "<frozen importlib._bootstrap>:241: FutureWarning: mne.io.pick.pick_channels_regexp is deprecated will be removed in 1.6, use documented public API instead. If no appropriate public API exists, please open an issue on GitHub.\n",
            "<frozen importlib._bootstrap>:241: FutureWarning: mne.io.pick.channel_type is deprecated will be removed in 1.6, use documented public API instead. If no appropriate public API exists, please open an issue on GitHub.\n"
          ]
        },
        {
          "name": "stdout",
          "output_type": "stream",
          "text": [
            "Extracting EDF parameters from C:\\Users\\mengz\\Box\\Hoffman_Lab\\HyperBCI\\METHODS\\HypernetBCI\\data\\physionet-sleep-data\\SC4012E0-PSG.edf...\n",
            "EDF file detected\n",
            "Setting channel info structure...\n",
            "Creating raw.info structure...\n"
          ]
        },
        {
          "name": "stderr",
          "output_type": "stream",
          "text": [
            "c:\\Users\\mengz\\anaconda3\\envs\\hyperBCI\\Lib\\site-packages\\moabb\\pipelines\\__init__.py:26: ModuleNotFoundError: Tensorflow is not installed. You won't be able to use these MOABB pipelines if you attempt to do so.\n",
            "  warn(\n"
          ]
        },
        {
          "name": "stdout",
          "output_type": "stream",
          "text": [
            "Extracting EDF parameters from C:\\Users\\mengz\\Box\\Hoffman_Lab\\HyperBCI\\METHODS\\HypernetBCI\\data\\physionet-sleep-data\\SC4022E0-PSG.edf...\n",
            "EDF file detected\n",
            "Setting channel info structure...\n",
            "Creating raw.info structure...\n"
          ]
        }
      ],
      "source": [
        "from numbers import Integral\n",
        "from braindecode.datasets import SleepPhysionet\n",
        "\n",
        "subject_ids = [1, 2]\n",
        "dataset = SleepPhysionet(\n",
        "    subject_ids=subject_ids, recording_ids=[2], crop_wake_mins=30)"
      ]
    },
    {
      "cell_type": "markdown",
      "metadata": {},
      "source": [
        "### Preprocessing\n",
        "\n",
        "Next, we preprocess the raw data. We convert the data to microvolts and apply\n",
        "a lowpass filter. We omit the downsampling step of [1]_ as the Sleep\n",
        "Physionet data is already sampled at a lower 100 Hz.\n",
        "\n"
      ]
    },
    {
      "cell_type": "code",
      "execution_count": 2,
      "metadata": {
        "collapsed": false
      },
      "outputs": [
        {
          "name": "stdout",
          "output_type": "stream",
          "text": [
            "Reading 0 ... 3447000  =      0.000 ... 34470.000 secs...\n"
          ]
        },
        {
          "name": "stderr",
          "output_type": "stream",
          "text": [
            "c:\\Users\\mengz\\anaconda3\\envs\\hyperBCI\\Lib\\site-packages\\braindecode\\preprocessing\\preprocess.py:55: UserWarning: Preprocessing choices with lambda functions cannot be saved.\n",
            "  warn('Preprocessing choices with lambda functions cannot be saved.')\n"
          ]
        },
        {
          "name": "stdout",
          "output_type": "stream",
          "text": [
            "Filtering raw data in 1 contiguous segment\n",
            "Setting up low-pass filter at 30 Hz\n",
            "\n",
            "FIR filter parameters\n",
            "---------------------\n",
            "Designing a one-pass, zero-phase, non-causal lowpass filter:\n",
            "- Windowed time-domain design (firwin) method\n",
            "- Hamming window with 0.0194 passband ripple and 53 dB stopband attenuation\n",
            "- Upper passband edge: 30.00 Hz\n",
            "- Upper transition bandwidth: 7.50 Hz (-6 dB cutoff frequency: 33.75 Hz)\n",
            "- Filter length: 45 samples (0.450 s)\n",
            "\n",
            "Reading 0 ... 3027000  =      0.000 ... 30270.000 secs...\n",
            "Filtering raw data in 1 contiguous segment\n",
            "Setting up low-pass filter at 30 Hz\n",
            "\n",
            "FIR filter parameters\n",
            "---------------------\n",
            "Designing a one-pass, zero-phase, non-causal lowpass filter:\n",
            "- Windowed time-domain design (firwin) method\n",
            "- Hamming window with 0.0194 passband ripple and 53 dB stopband attenuation\n",
            "- Upper passband edge: 30.00 Hz\n",
            "- Upper transition bandwidth: 7.50 Hz (-6 dB cutoff frequency: 33.75 Hz)\n",
            "- Filter length: 45 samples (0.450 s)\n",
            "\n"
          ]
        },
        {
          "data": {
            "text/plain": [
              "<braindecode.datasets.sleep_physionet.SleepPhysionet at 0x14adc4e2110>"
            ]
          },
          "execution_count": 2,
          "metadata": {},
          "output_type": "execute_result"
        }
      ],
      "source": [
        "from braindecode.preprocessing import preprocess, Preprocessor\n",
        "from numpy import multiply\n",
        "\n",
        "high_cut_hz = 30\n",
        "factor = 1e6\n",
        "\n",
        "preprocessors = [\n",
        "    Preprocessor(lambda data: multiply(data, factor), apply_on_array=True),  # Convert from V to uV\n",
        "    Preprocessor('filter', l_freq=None, h_freq=high_cut_hz)\n",
        "]\n",
        "\n",
        "# Transform the data\n",
        "preprocess(dataset, preprocessors)"
      ]
    },
    {
      "cell_type": "markdown",
      "metadata": {},
      "source": [
        "### Extract windows\n",
        "\n",
        "We extract 30-s windows to be used in the classification task.\n",
        "\n"
      ]
    },
    {
      "cell_type": "code",
      "execution_count": 3,
      "metadata": {
        "collapsed": false
      },
      "outputs": [
        {
          "name": "stdout",
          "output_type": "stream",
          "text": [
            "Used Annotations descriptions: ['Sleep stage 1', 'Sleep stage 2', 'Sleep stage 3', 'Sleep stage 4', 'Sleep stage R', 'Sleep stage W']\n"
          ]
        },
        {
          "name": "stdout",
          "output_type": "stream",
          "text": [
            "Used Annotations descriptions: ['Sleep stage 1', 'Sleep stage 2', 'Sleep stage 3', 'Sleep stage 4', 'Sleep stage R', 'Sleep stage W']\n"
          ]
        }
      ],
      "source": [
        "from braindecode.preprocessing import create_windows_from_events\n",
        "\n",
        "mapping = {  # We merge stages 3 and 4 following AASM standards.\n",
        "    'Sleep stage W': 0,\n",
        "    'Sleep stage 1': 1,\n",
        "    'Sleep stage 2': 2,\n",
        "    'Sleep stage 3': 3,\n",
        "    'Sleep stage 4': 3,\n",
        "    'Sleep stage R': 4\n",
        "}\n",
        "\n",
        "window_size_s = 30\n",
        "sfreq = 100\n",
        "window_size_samples = window_size_s * sfreq\n",
        "\n",
        "windows_dataset = create_windows_from_events(\n",
        "    dataset,\n",
        "    trial_start_offset_samples=0,\n",
        "    trial_stop_offset_samples=0,\n",
        "    window_size_samples=window_size_samples,\n",
        "    window_stride_samples=window_size_samples,\n",
        "    preload=True,\n",
        "    mapping=mapping\n",
        ")"
      ]
    },
    {
      "cell_type": "markdown",
      "metadata": {},
      "source": [
        "### Window preprocessing\n",
        "\n",
        "We also preprocess the windows by applying channel-wise z-score normalization\n",
        "in each window.\n",
        "\n"
      ]
    },
    {
      "cell_type": "code",
      "execution_count": 4,
      "metadata": {
        "collapsed": false
      },
      "outputs": [
        {
          "data": {
            "text/plain": [
              "<braindecode.datasets.base.BaseConcatDataset at 0x14afb386950>"
            ]
          },
          "execution_count": 4,
          "metadata": {},
          "output_type": "execute_result"
        }
      ],
      "source": [
        "from sklearn.preprocessing import scale as standard_scale\n",
        "\n",
        "preprocess(windows_dataset, [Preprocessor(standard_scale, channel_wise=True)])"
      ]
    },
    {
      "cell_type": "code",
      "execution_count": 34,
      "metadata": {
        "collapsed": false
      },
      "outputs": [],
      "source": [
        "import numpy as np\n",
        "from braindecode.samplers import SequenceSampler\n",
        "from sklearn.utils import compute_class_weight"
      ]
    },
    {
      "cell_type": "code",
      "execution_count": 27,
      "metadata": {},
      "outputs": [],
      "source": [
        "from braindecode.datasets import BaseConcatDataset\n",
        "from braindecode.datasets.base import EEGWindowsDataset\n",
        "\n",
        "def get_subset(input_set, target_trial_num, random_sample=False, from_back=False):\n",
        "    # check inputs\n",
        "    assert isinstance(input_set, BaseConcatDataset)\n",
        "    assert isinstance(target_trial_num, int)\n",
        "    \n",
        "    new_ds_lst = []\n",
        "\n",
        "    if random_sample:\n",
        "        return None\n",
        "        # base_ds_cnt = len(input_set.datasets)\n",
        "\n",
        "        # if base_ds_cnt == 1:\n",
        "        #     cur_ds = input_set.datasets[0]\n",
        "        #     trial_idx = generate_non_repeating_integers(target_trial_num, len(cur_ds))\n",
        "        #     # print(trial_idx[:4])\n",
        "        #     new_ds_lst.append(EEGWindowsDataset(cur_ds.raw, cur_ds.metadata.iloc[trial_idx], \n",
        "        #                                                 description=cur_ds.description))\n",
        "\n",
        "        # elif base_ds_cnt > 1:\n",
        "        #     trial_cnt_from_each_base_ds = sample_integers_sum_to_x(target_trial_num, base_ds_cnt)\n",
        "        #     for i, cnt in enumerate(trial_cnt_from_each_base_ds):\n",
        "        #         if not cnt:\n",
        "        #             # no sampling in current base dataset\n",
        "        #             continue\n",
        "            \n",
        "        #         # Access current base dataset\n",
        "        #         cur_ds = input_set.datasets[i]\n",
        "        #         assert isinstance(cur_ds, EEGWindowsDataset)\n",
        "        #         # Randomly sample trial index\n",
        "        #         try:\n",
        "        #             trial_idx = generate_non_repeating_integers(cnt, len(cur_ds))\n",
        "        #             new_ds_lst.append(EEGWindowsDataset(cur_ds.raw, cur_ds.metadata.iloc[trial_idx], \n",
        "        #                                                 description=cur_ds.description))\n",
        "        #         except ValueError:\n",
        "        #             # If trying to sample more trials in current ds than there are\n",
        "        #             # Get entire cur_ds, and get what's missing fromt the next ds\n",
        "        #             new_ds_lst.append(cur_ds)\n",
        "        #             trial_cnt_from_each_base_ds[i+1] += (cnt - len(cur_ds))\n",
        "\n",
        "    else:\n",
        "    \n",
        "        if from_back:\n",
        "            for ds in reversed(input_set.datasets):\n",
        "                assert isinstance(ds, EEGWindowsDataset)\n",
        "                if target_trial_num > cur_run_trial_num:\n",
        "                    new_ds_lst.append(ds)\n",
        "                    target_trial_num -= cur_run_trial_num\n",
        "                else:\n",
        "                    new_ds_lst.append(EEGWindowsDataset(ds.raw, ds.metadata[-target_trial_num:], description=ds.description))\n",
        "                    break\n",
        "\n",
        "        else:\n",
        "            for ds in input_set.datasets:\n",
        "                assert isinstance(ds, EEGWindowsDataset)\n",
        "                cur_run_trial_num = len(ds.metadata)\n",
        "                if target_trial_num > cur_run_trial_num:\n",
        "                    new_ds_lst.append(ds)\n",
        "                    target_trial_num -= cur_run_trial_num\n",
        "                else:\n",
        "                    new_ds_lst.append(EEGWindowsDataset(ds.raw, ds.metadata[:target_trial_num], description=ds.description))\n",
        "                    break\n",
        "\n",
        "    return BaseConcatDataset(new_ds_lst)"
      ]
    },
    {
      "cell_type": "code",
      "execution_count": 40,
      "metadata": {},
      "outputs": [],
      "source": [
        "def get_center_label(x):\n",
        "    # Use label of center window in the sequence as sequence target\n",
        "    if isinstance(x, Integral):\n",
        "        return x\n",
        "    return x[np.ceil(len(x) / 2).astype(int)] if len(x) > 1 else x"
      ]
    },
    {
      "cell_type": "code",
      "execution_count": 37,
      "metadata": {},
      "outputs": [
        {
          "name": "stdout",
          "output_type": "stream",
          "text": [
            "Subject 1\n",
            "Currently training for subject 1 with 40=19=19 sequences\n",
            "Currently training for subject 1 with 80=39=39 sequences\n",
            "Currently training for subject 1 with 120=59=59 sequences\n",
            "Currently training for subject 1 with 160=79=79 sequences\n",
            "Currently training for subject 1 with 200=99=99 sequences\n",
            "Currently training for subject 1 with 240=119=119 sequences\n",
            "Currently training for subject 1 with 280=139=139 sequences\n",
            "Currently training for subject 1 with 320=159=159 sequences\n"
          ]
        },
        {
          "name": "stderr",
          "output_type": "stream",
          "text": [
            "c:\\Users\\mengz\\anaconda3\\envs\\hyperBCI\\Lib\\site-packages\\braindecode\\datasets\\base.py:511: SettingWithCopyWarning: \n",
            "A value is trying to be set on a copy of a slice from a DataFrame.\n",
            "Try using .loc[row_indexer,col_indexer] = value instead\n",
            "\n",
            "See the caveats in the documentation: https://pandas.pydata.org/pandas-docs/stable/user_guide/indexing.html#returning-a-view-versus-a-copy\n",
            "  df[k] = v\n",
            "c:\\Users\\mengz\\anaconda3\\envs\\hyperBCI\\Lib\\site-packages\\braindecode\\datasets\\base.py:511: SettingWithCopyWarning: \n",
            "A value is trying to be set on a copy of a slice from a DataFrame.\n",
            "Try using .loc[row_indexer,col_indexer] = value instead\n",
            "\n",
            "See the caveats in the documentation: https://pandas.pydata.org/pandas-docs/stable/user_guide/indexing.html#returning-a-view-versus-a-copy\n",
            "  df[k] = v\n",
            "c:\\Users\\mengz\\anaconda3\\envs\\hyperBCI\\Lib\\site-packages\\braindecode\\datasets\\base.py:511: SettingWithCopyWarning: \n",
            "A value is trying to be set on a copy of a slice from a DataFrame.\n",
            "Try using .loc[row_indexer,col_indexer] = value instead\n",
            "\n",
            "See the caveats in the documentation: https://pandas.pydata.org/pandas-docs/stable/user_guide/indexing.html#returning-a-view-versus-a-copy\n",
            "  df[k] = v\n",
            "c:\\Users\\mengz\\anaconda3\\envs\\hyperBCI\\Lib\\site-packages\\braindecode\\datasets\\base.py:511: SettingWithCopyWarning: \n",
            "A value is trying to be set on a copy of a slice from a DataFrame.\n",
            "Try using .loc[row_indexer,col_indexer] = value instead\n",
            "\n",
            "See the caveats in the documentation: https://pandas.pydata.org/pandas-docs/stable/user_guide/indexing.html#returning-a-view-versus-a-copy\n",
            "  df[k] = v\n",
            "c:\\Users\\mengz\\anaconda3\\envs\\hyperBCI\\Lib\\site-packages\\braindecode\\datasets\\base.py:511: SettingWithCopyWarning: \n",
            "A value is trying to be set on a copy of a slice from a DataFrame.\n",
            "Try using .loc[row_indexer,col_indexer] = value instead\n",
            "\n",
            "See the caveats in the documentation: https://pandas.pydata.org/pandas-docs/stable/user_guide/indexing.html#returning-a-view-versus-a-copy\n",
            "  df[k] = v\n",
            "c:\\Users\\mengz\\anaconda3\\envs\\hyperBCI\\Lib\\site-packages\\braindecode\\datasets\\base.py:511: SettingWithCopyWarning: \n",
            "A value is trying to be set on a copy of a slice from a DataFrame.\n",
            "Try using .loc[row_indexer,col_indexer] = value instead\n",
            "\n",
            "See the caveats in the documentation: https://pandas.pydata.org/pandas-docs/stable/user_guide/indexing.html#returning-a-view-versus-a-copy\n",
            "  df[k] = v\n",
            "c:\\Users\\mengz\\anaconda3\\envs\\hyperBCI\\Lib\\site-packages\\braindecode\\datasets\\base.py:511: SettingWithCopyWarning: \n",
            "A value is trying to be set on a copy of a slice from a DataFrame.\n",
            "Try using .loc[row_indexer,col_indexer] = value instead\n",
            "\n",
            "See the caveats in the documentation: https://pandas.pydata.org/pandas-docs/stable/user_guide/indexing.html#returning-a-view-versus-a-copy\n",
            "  df[k] = v\n",
            "c:\\Users\\mengz\\anaconda3\\envs\\hyperBCI\\Lib\\site-packages\\braindecode\\datasets\\base.py:511: SettingWithCopyWarning: \n",
            "A value is trying to be set on a copy of a slice from a DataFrame.\n",
            "Try using .loc[row_indexer,col_indexer] = value instead\n",
            "\n",
            "See the caveats in the documentation: https://pandas.pydata.org/pandas-docs/stable/user_guide/indexing.html#returning-a-view-versus-a-copy\n",
            "  df[k] = v\n",
            "c:\\Users\\mengz\\anaconda3\\envs\\hyperBCI\\Lib\\site-packages\\braindecode\\datasets\\base.py:511: SettingWithCopyWarning: \n",
            "A value is trying to be set on a copy of a slice from a DataFrame.\n",
            "Try using .loc[row_indexer,col_indexer] = value instead\n",
            "\n",
            "See the caveats in the documentation: https://pandas.pydata.org/pandas-docs/stable/user_guide/indexing.html#returning-a-view-versus-a-copy\n",
            "  df[k] = v\n",
            "c:\\Users\\mengz\\anaconda3\\envs\\hyperBCI\\Lib\\site-packages\\braindecode\\datasets\\base.py:511: SettingWithCopyWarning: \n",
            "A value is trying to be set on a copy of a slice from a DataFrame.\n",
            "Try using .loc[row_indexer,col_indexer] = value instead\n",
            "\n",
            "See the caveats in the documentation: https://pandas.pydata.org/pandas-docs/stable/user_guide/indexing.html#returning-a-view-versus-a-copy\n",
            "  df[k] = v\n"
          ]
        },
        {
          "name": "stdout",
          "output_type": "stream",
          "text": [
            "Currently training for subject 1 with 360=179=179 sequences\n",
            "Currently training for subject 1 with 400=199=199 sequences\n",
            "Currently training for subject 1 with 440=219=219 sequences\n",
            "Currently training for subject 1 with 480=239=239 sequences\n",
            "Currently training for subject 1 with 520=259=259 sequences\n",
            "Currently training for subject 1 with 560=279=279 sequences\n"
          ]
        },
        {
          "name": "stderr",
          "output_type": "stream",
          "text": [
            "c:\\Users\\mengz\\anaconda3\\envs\\hyperBCI\\Lib\\site-packages\\braindecode\\datasets\\base.py:511: SettingWithCopyWarning: \n",
            "A value is trying to be set on a copy of a slice from a DataFrame.\n",
            "Try using .loc[row_indexer,col_indexer] = value instead\n",
            "\n",
            "See the caveats in the documentation: https://pandas.pydata.org/pandas-docs/stable/user_guide/indexing.html#returning-a-view-versus-a-copy\n",
            "  df[k] = v\n",
            "c:\\Users\\mengz\\anaconda3\\envs\\hyperBCI\\Lib\\site-packages\\braindecode\\datasets\\base.py:511: SettingWithCopyWarning: \n",
            "A value is trying to be set on a copy of a slice from a DataFrame.\n",
            "Try using .loc[row_indexer,col_indexer] = value instead\n",
            "\n",
            "See the caveats in the documentation: https://pandas.pydata.org/pandas-docs/stable/user_guide/indexing.html#returning-a-view-versus-a-copy\n",
            "  df[k] = v\n",
            "c:\\Users\\mengz\\anaconda3\\envs\\hyperBCI\\Lib\\site-packages\\braindecode\\datasets\\base.py:511: SettingWithCopyWarning: \n",
            "A value is trying to be set on a copy of a slice from a DataFrame.\n",
            "Try using .loc[row_indexer,col_indexer] = value instead\n",
            "\n",
            "See the caveats in the documentation: https://pandas.pydata.org/pandas-docs/stable/user_guide/indexing.html#returning-a-view-versus-a-copy\n",
            "  df[k] = v\n",
            "c:\\Users\\mengz\\anaconda3\\envs\\hyperBCI\\Lib\\site-packages\\braindecode\\datasets\\base.py:511: SettingWithCopyWarning: \n",
            "A value is trying to be set on a copy of a slice from a DataFrame.\n",
            "Try using .loc[row_indexer,col_indexer] = value instead\n",
            "\n",
            "See the caveats in the documentation: https://pandas.pydata.org/pandas-docs/stable/user_guide/indexing.html#returning-a-view-versus-a-copy\n",
            "  df[k] = v\n",
            "c:\\Users\\mengz\\anaconda3\\envs\\hyperBCI\\Lib\\site-packages\\braindecode\\datasets\\base.py:511: SettingWithCopyWarning: \n",
            "A value is trying to be set on a copy of a slice from a DataFrame.\n",
            "Try using .loc[row_indexer,col_indexer] = value instead\n",
            "\n",
            "See the caveats in the documentation: https://pandas.pydata.org/pandas-docs/stable/user_guide/indexing.html#returning-a-view-versus-a-copy\n",
            "  df[k] = v\n",
            "c:\\Users\\mengz\\anaconda3\\envs\\hyperBCI\\Lib\\site-packages\\braindecode\\datasets\\base.py:511: SettingWithCopyWarning: \n",
            "A value is trying to be set on a copy of a slice from a DataFrame.\n",
            "Try using .loc[row_indexer,col_indexer] = value instead\n",
            "\n",
            "See the caveats in the documentation: https://pandas.pydata.org/pandas-docs/stable/user_guide/indexing.html#returning-a-view-versus-a-copy\n",
            "  df[k] = v\n"
          ]
        },
        {
          "name": "stdout",
          "output_type": "stream",
          "text": [
            "Currently training for subject 1 with 600=299=299 sequences\n",
            "Currently training for subject 1 with 640=319=319 sequences\n",
            "Currently training for subject 1 with 680=339=339 sequences\n",
            "Currently training for subject 1 with 720=359=359 sequences\n",
            "Currently training for subject 1 with 760=379=379 sequences\n"
          ]
        },
        {
          "name": "stderr",
          "output_type": "stream",
          "text": [
            "c:\\Users\\mengz\\anaconda3\\envs\\hyperBCI\\Lib\\site-packages\\braindecode\\datasets\\base.py:511: SettingWithCopyWarning: \n",
            "A value is trying to be set on a copy of a slice from a DataFrame.\n",
            "Try using .loc[row_indexer,col_indexer] = value instead\n",
            "\n",
            "See the caveats in the documentation: https://pandas.pydata.org/pandas-docs/stable/user_guide/indexing.html#returning-a-view-versus-a-copy\n",
            "  df[k] = v\n",
            "c:\\Users\\mengz\\anaconda3\\envs\\hyperBCI\\Lib\\site-packages\\braindecode\\datasets\\base.py:511: SettingWithCopyWarning: \n",
            "A value is trying to be set on a copy of a slice from a DataFrame.\n",
            "Try using .loc[row_indexer,col_indexer] = value instead\n",
            "\n",
            "See the caveats in the documentation: https://pandas.pydata.org/pandas-docs/stable/user_guide/indexing.html#returning-a-view-versus-a-copy\n",
            "  df[k] = v\n",
            "c:\\Users\\mengz\\anaconda3\\envs\\hyperBCI\\Lib\\site-packages\\braindecode\\datasets\\base.py:511: SettingWithCopyWarning: \n",
            "A value is trying to be set on a copy of a slice from a DataFrame.\n",
            "Try using .loc[row_indexer,col_indexer] = value instead\n",
            "\n",
            "See the caveats in the documentation: https://pandas.pydata.org/pandas-docs/stable/user_guide/indexing.html#returning-a-view-versus-a-copy\n",
            "  df[k] = v\n",
            "c:\\Users\\mengz\\anaconda3\\envs\\hyperBCI\\Lib\\site-packages\\braindecode\\datasets\\base.py:511: SettingWithCopyWarning: \n",
            "A value is trying to be set on a copy of a slice from a DataFrame.\n",
            "Try using .loc[row_indexer,col_indexer] = value instead\n",
            "\n",
            "See the caveats in the documentation: https://pandas.pydata.org/pandas-docs/stable/user_guide/indexing.html#returning-a-view-versus-a-copy\n",
            "  df[k] = v\n",
            "c:\\Users\\mengz\\anaconda3\\envs\\hyperBCI\\Lib\\site-packages\\braindecode\\datasets\\base.py:511: SettingWithCopyWarning: \n",
            "A value is trying to be set on a copy of a slice from a DataFrame.\n",
            "Try using .loc[row_indexer,col_indexer] = value instead\n",
            "\n",
            "See the caveats in the documentation: https://pandas.pydata.org/pandas-docs/stable/user_guide/indexing.html#returning-a-view-versus-a-copy\n",
            "  df[k] = v\n"
          ]
        },
        {
          "name": "stdout",
          "output_type": "stream",
          "text": [
            "Currently training for subject 1 with 800=399=399 sequences\n",
            "Currently training for subject 1 with 840=419=419 sequences\n",
            "Currently training for subject 1 with 880=439=439 sequences\n",
            "Currently training for subject 1 with 920=459=459 sequences\n",
            "Subject 2\n"
          ]
        },
        {
          "name": "stderr",
          "output_type": "stream",
          "text": [
            "c:\\Users\\mengz\\anaconda3\\envs\\hyperBCI\\Lib\\site-packages\\braindecode\\datasets\\base.py:511: SettingWithCopyWarning: \n",
            "A value is trying to be set on a copy of a slice from a DataFrame.\n",
            "Try using .loc[row_indexer,col_indexer] = value instead\n",
            "\n",
            "See the caveats in the documentation: https://pandas.pydata.org/pandas-docs/stable/user_guide/indexing.html#returning-a-view-versus-a-copy\n",
            "  df[k] = v\n",
            "c:\\Users\\mengz\\anaconda3\\envs\\hyperBCI\\Lib\\site-packages\\braindecode\\datasets\\base.py:511: SettingWithCopyWarning: \n",
            "A value is trying to be set on a copy of a slice from a DataFrame.\n",
            "Try using .loc[row_indexer,col_indexer] = value instead\n",
            "\n",
            "See the caveats in the documentation: https://pandas.pydata.org/pandas-docs/stable/user_guide/indexing.html#returning-a-view-versus-a-copy\n",
            "  df[k] = v\n",
            "c:\\Users\\mengz\\anaconda3\\envs\\hyperBCI\\Lib\\site-packages\\braindecode\\datasets\\base.py:511: SettingWithCopyWarning: \n",
            "A value is trying to be set on a copy of a slice from a DataFrame.\n",
            "Try using .loc[row_indexer,col_indexer] = value instead\n",
            "\n",
            "See the caveats in the documentation: https://pandas.pydata.org/pandas-docs/stable/user_guide/indexing.html#returning-a-view-versus-a-copy\n",
            "  df[k] = v\n",
            "c:\\Users\\mengz\\anaconda3\\envs\\hyperBCI\\Lib\\site-packages\\braindecode\\datasets\\base.py:511: SettingWithCopyWarning: \n",
            "A value is trying to be set on a copy of a slice from a DataFrame.\n",
            "Try using .loc[row_indexer,col_indexer] = value instead\n",
            "\n",
            "See the caveats in the documentation: https://pandas.pydata.org/pandas-docs/stable/user_guide/indexing.html#returning-a-view-versus-a-copy\n",
            "  df[k] = v\n"
          ]
        },
        {
          "name": "stdout",
          "output_type": "stream",
          "text": [
            "Currently training for subject 2 with 40=19=19 sequences\n",
            "Currently training for subject 2 with 80=39=39 sequences\n",
            "Currently training for subject 2 with 120=59=59 sequences\n",
            "Currently training for subject 2 with 160=79=79 sequences\n",
            "Currently training for subject 2 with 200=99=99 sequences\n",
            "Currently training for subject 2 with 240=119=119 sequences\n",
            "Currently training for subject 2 with 280=139=139 sequences\n",
            "Currently training for subject 2 with 320=159=159 sequences\n",
            "Currently training for subject 2 with 360=179=179 sequences\n"
          ]
        },
        {
          "name": "stderr",
          "output_type": "stream",
          "text": [
            "c:\\Users\\mengz\\anaconda3\\envs\\hyperBCI\\Lib\\site-packages\\braindecode\\datasets\\base.py:511: SettingWithCopyWarning: \n",
            "A value is trying to be set on a copy of a slice from a DataFrame.\n",
            "Try using .loc[row_indexer,col_indexer] = value instead\n",
            "\n",
            "See the caveats in the documentation: https://pandas.pydata.org/pandas-docs/stable/user_guide/indexing.html#returning-a-view-versus-a-copy\n",
            "  df[k] = v\n",
            "c:\\Users\\mengz\\anaconda3\\envs\\hyperBCI\\Lib\\site-packages\\braindecode\\datasets\\base.py:511: SettingWithCopyWarning: \n",
            "A value is trying to be set on a copy of a slice from a DataFrame.\n",
            "Try using .loc[row_indexer,col_indexer] = value instead\n",
            "\n",
            "See the caveats in the documentation: https://pandas.pydata.org/pandas-docs/stable/user_guide/indexing.html#returning-a-view-versus-a-copy\n",
            "  df[k] = v\n",
            "c:\\Users\\mengz\\anaconda3\\envs\\hyperBCI\\Lib\\site-packages\\braindecode\\datasets\\base.py:511: SettingWithCopyWarning: \n",
            "A value is trying to be set on a copy of a slice from a DataFrame.\n",
            "Try using .loc[row_indexer,col_indexer] = value instead\n",
            "\n",
            "See the caveats in the documentation: https://pandas.pydata.org/pandas-docs/stable/user_guide/indexing.html#returning-a-view-versus-a-copy\n",
            "  df[k] = v\n",
            "c:\\Users\\mengz\\anaconda3\\envs\\hyperBCI\\Lib\\site-packages\\braindecode\\datasets\\base.py:511: SettingWithCopyWarning: \n",
            "A value is trying to be set on a copy of a slice from a DataFrame.\n",
            "Try using .loc[row_indexer,col_indexer] = value instead\n",
            "\n",
            "See the caveats in the documentation: https://pandas.pydata.org/pandas-docs/stable/user_guide/indexing.html#returning-a-view-versus-a-copy\n",
            "  df[k] = v\n",
            "c:\\Users\\mengz\\anaconda3\\envs\\hyperBCI\\Lib\\site-packages\\braindecode\\datasets\\base.py:511: SettingWithCopyWarning: \n",
            "A value is trying to be set on a copy of a slice from a DataFrame.\n",
            "Try using .loc[row_indexer,col_indexer] = value instead\n",
            "\n",
            "See the caveats in the documentation: https://pandas.pydata.org/pandas-docs/stable/user_guide/indexing.html#returning-a-view-versus-a-copy\n",
            "  df[k] = v\n",
            "c:\\Users\\mengz\\anaconda3\\envs\\hyperBCI\\Lib\\site-packages\\braindecode\\datasets\\base.py:511: SettingWithCopyWarning: \n",
            "A value is trying to be set on a copy of a slice from a DataFrame.\n",
            "Try using .loc[row_indexer,col_indexer] = value instead\n",
            "\n",
            "See the caveats in the documentation: https://pandas.pydata.org/pandas-docs/stable/user_guide/indexing.html#returning-a-view-versus-a-copy\n",
            "  df[k] = v\n",
            "c:\\Users\\mengz\\anaconda3\\envs\\hyperBCI\\Lib\\site-packages\\braindecode\\datasets\\base.py:511: SettingWithCopyWarning: \n",
            "A value is trying to be set on a copy of a slice from a DataFrame.\n",
            "Try using .loc[row_indexer,col_indexer] = value instead\n",
            "\n",
            "See the caveats in the documentation: https://pandas.pydata.org/pandas-docs/stable/user_guide/indexing.html#returning-a-view-versus-a-copy\n",
            "  df[k] = v\n",
            "c:\\Users\\mengz\\anaconda3\\envs\\hyperBCI\\Lib\\site-packages\\braindecode\\datasets\\base.py:511: SettingWithCopyWarning: \n",
            "A value is trying to be set on a copy of a slice from a DataFrame.\n",
            "Try using .loc[row_indexer,col_indexer] = value instead\n",
            "\n",
            "See the caveats in the documentation: https://pandas.pydata.org/pandas-docs/stable/user_guide/indexing.html#returning-a-view-versus-a-copy\n",
            "  df[k] = v\n",
            "c:\\Users\\mengz\\anaconda3\\envs\\hyperBCI\\Lib\\site-packages\\braindecode\\datasets\\base.py:511: SettingWithCopyWarning: \n",
            "A value is trying to be set on a copy of a slice from a DataFrame.\n",
            "Try using .loc[row_indexer,col_indexer] = value instead\n",
            "\n",
            "See the caveats in the documentation: https://pandas.pydata.org/pandas-docs/stable/user_guide/indexing.html#returning-a-view-versus-a-copy\n",
            "  df[k] = v\n"
          ]
        },
        {
          "name": "stdout",
          "output_type": "stream",
          "text": [
            "Currently training for subject 2 with 400=199=199 sequences\n",
            "Currently training for subject 2 with 440=219=219 sequences\n",
            "Currently training for subject 2 with 480=239=239 sequences\n",
            "Currently training for subject 2 with 520=259=259 sequences\n",
            "Currently training for subject 2 with 560=279=279 sequences\n",
            "Currently training for subject 2 with 600=299=299 sequences\n"
          ]
        },
        {
          "name": "stderr",
          "output_type": "stream",
          "text": [
            "c:\\Users\\mengz\\anaconda3\\envs\\hyperBCI\\Lib\\site-packages\\braindecode\\datasets\\base.py:511: SettingWithCopyWarning: \n",
            "A value is trying to be set on a copy of a slice from a DataFrame.\n",
            "Try using .loc[row_indexer,col_indexer] = value instead\n",
            "\n",
            "See the caveats in the documentation: https://pandas.pydata.org/pandas-docs/stable/user_guide/indexing.html#returning-a-view-versus-a-copy\n",
            "  df[k] = v\n",
            "c:\\Users\\mengz\\anaconda3\\envs\\hyperBCI\\Lib\\site-packages\\braindecode\\datasets\\base.py:511: SettingWithCopyWarning: \n",
            "A value is trying to be set on a copy of a slice from a DataFrame.\n",
            "Try using .loc[row_indexer,col_indexer] = value instead\n",
            "\n",
            "See the caveats in the documentation: https://pandas.pydata.org/pandas-docs/stable/user_guide/indexing.html#returning-a-view-versus-a-copy\n",
            "  df[k] = v\n",
            "c:\\Users\\mengz\\anaconda3\\envs\\hyperBCI\\Lib\\site-packages\\braindecode\\datasets\\base.py:511: SettingWithCopyWarning: \n",
            "A value is trying to be set on a copy of a slice from a DataFrame.\n",
            "Try using .loc[row_indexer,col_indexer] = value instead\n",
            "\n",
            "See the caveats in the documentation: https://pandas.pydata.org/pandas-docs/stable/user_guide/indexing.html#returning-a-view-versus-a-copy\n",
            "  df[k] = v\n",
            "c:\\Users\\mengz\\anaconda3\\envs\\hyperBCI\\Lib\\site-packages\\braindecode\\datasets\\base.py:511: SettingWithCopyWarning: \n",
            "A value is trying to be set on a copy of a slice from a DataFrame.\n",
            "Try using .loc[row_indexer,col_indexer] = value instead\n",
            "\n",
            "See the caveats in the documentation: https://pandas.pydata.org/pandas-docs/stable/user_guide/indexing.html#returning-a-view-versus-a-copy\n",
            "  df[k] = v\n",
            "c:\\Users\\mengz\\anaconda3\\envs\\hyperBCI\\Lib\\site-packages\\braindecode\\datasets\\base.py:511: SettingWithCopyWarning: \n",
            "A value is trying to be set on a copy of a slice from a DataFrame.\n",
            "Try using .loc[row_indexer,col_indexer] = value instead\n",
            "\n",
            "See the caveats in the documentation: https://pandas.pydata.org/pandas-docs/stable/user_guide/indexing.html#returning-a-view-versus-a-copy\n",
            "  df[k] = v\n",
            "c:\\Users\\mengz\\anaconda3\\envs\\hyperBCI\\Lib\\site-packages\\braindecode\\datasets\\base.py:511: SettingWithCopyWarning: \n",
            "A value is trying to be set on a copy of a slice from a DataFrame.\n",
            "Try using .loc[row_indexer,col_indexer] = value instead\n",
            "\n",
            "See the caveats in the documentation: https://pandas.pydata.org/pandas-docs/stable/user_guide/indexing.html#returning-a-view-versus-a-copy\n",
            "  df[k] = v\n"
          ]
        },
        {
          "name": "stdout",
          "output_type": "stream",
          "text": [
            "Currently training for subject 2 with 640=319=319 sequences\n",
            "Currently training for subject 2 with 680=339=339 sequences\n",
            "Currently training for subject 2 with 720=359=359 sequences\n",
            "Currently training for subject 2 with 760=379=379 sequences\n"
          ]
        },
        {
          "name": "stderr",
          "output_type": "stream",
          "text": [
            "c:\\Users\\mengz\\anaconda3\\envs\\hyperBCI\\Lib\\site-packages\\braindecode\\datasets\\base.py:511: SettingWithCopyWarning: \n",
            "A value is trying to be set on a copy of a slice from a DataFrame.\n",
            "Try using .loc[row_indexer,col_indexer] = value instead\n",
            "\n",
            "See the caveats in the documentation: https://pandas.pydata.org/pandas-docs/stable/user_guide/indexing.html#returning-a-view-versus-a-copy\n",
            "  df[k] = v\n",
            "c:\\Users\\mengz\\anaconda3\\envs\\hyperBCI\\Lib\\site-packages\\braindecode\\datasets\\base.py:511: SettingWithCopyWarning: \n",
            "A value is trying to be set on a copy of a slice from a DataFrame.\n",
            "Try using .loc[row_indexer,col_indexer] = value instead\n",
            "\n",
            "See the caveats in the documentation: https://pandas.pydata.org/pandas-docs/stable/user_guide/indexing.html#returning-a-view-versus-a-copy\n",
            "  df[k] = v\n",
            "c:\\Users\\mengz\\anaconda3\\envs\\hyperBCI\\Lib\\site-packages\\braindecode\\datasets\\base.py:511: SettingWithCopyWarning: \n",
            "A value is trying to be set on a copy of a slice from a DataFrame.\n",
            "Try using .loc[row_indexer,col_indexer] = value instead\n",
            "\n",
            "See the caveats in the documentation: https://pandas.pydata.org/pandas-docs/stable/user_guide/indexing.html#returning-a-view-versus-a-copy\n",
            "  df[k] = v\n",
            "c:\\Users\\mengz\\anaconda3\\envs\\hyperBCI\\Lib\\site-packages\\braindecode\\datasets\\base.py:511: SettingWithCopyWarning: \n",
            "A value is trying to be set on a copy of a slice from a DataFrame.\n",
            "Try using .loc[row_indexer,col_indexer] = value instead\n",
            "\n",
            "See the caveats in the documentation: https://pandas.pydata.org/pandas-docs/stable/user_guide/indexing.html#returning-a-view-versus-a-copy\n",
            "  df[k] = v\n"
          ]
        },
        {
          "name": "stdout",
          "output_type": "stream",
          "text": [
            "Currently training for subject 2 with 800=399=399 sequences\n"
          ]
        }
      ],
      "source": [
        "# Sequences of 3 consecutive windows\n",
        "n_windows = 3 \n",
        "# Maximally overlapping sequences\n",
        "n_windows_stride = 2\n",
        "\n",
        "for subject_id, subject_dataset in windows_dataset.split('subject').items():\n",
        "\n",
        "    print(f'Subject {subject_id}')\n",
        "\n",
        "    test_percentage = 0.2\n",
        "    test_set_size = int(len(subject_dataset) * test_percentage)\n",
        "    train_set = get_subset(subject_dataset, target_trial_num=len(subject_dataset)-test_set_size)\n",
        "    test_set = get_subset(subject_dataset, target_trial_num=test_set_size, from_back=True)\n",
        "\n",
        "    # display(train_set.get_metadata())\n",
        "    # display(test_set.get_metadata())\n",
        "\n",
        "    test_sampler = SequenceSampler(\n",
        "        test_set.get_metadata(), n_windows, n_windows_stride, randomize=True\n",
        "    )\n",
        "    test_set.target_transform = get_center_label\n",
        "\n",
        "    train_set_size = len(train_set)\n",
        "    data_amount_step = 40\n",
        "    for training_data_amount in np.arange(1, (train_set_size // data_amount_step) + 1) * data_amount_step:\n",
        "\n",
        "        # random_sample should be True\n",
        "        train_subset = get_subset(train_set, target_trial_num=int(training_data_amount))\n",
        "        train_sampler = SequenceSampler(\n",
        "            train_subset.get_metadata(), n_windows, n_windows_stride, randomize=True\n",
        "        )\n",
        "        train_subset.target_transform = get_center_label\n",
        "\n",
        "        y_train = [train_subset[idx][1] for idx in train_sampler]\n",
        "        class_weights = compute_class_weight('balanced', classes=np.unique(y_train), y=y_train)\n",
        "\n",
        "        print(f'Currently training for subject {subject_id} with {training_data_amount}={len(train_sampler)}={len(y_train)} sequences')"
      ]
    },
    {
      "cell_type": "markdown",
      "metadata": {},
      "source": [
        "## Create model\n",
        "\n",
        "We can now create the deep learning model. In this tutorial, we use the sleep\n",
        "staging architecture introduced in [1]_, which is a four-layer convolutional\n",
        "neural network. We use the time distributed version of the model, where the\n",
        "feature vectors of a sequence of windows are concatenated and passed to a\n",
        "linear layer for classification.\n",
        "\n",
        "\n"
      ]
    },
    {
      "cell_type": "code",
      "execution_count": 20,
      "metadata": {
        "collapsed": false
      },
      "outputs": [],
      "source": [
        "import torch\n",
        "from torch import nn\n",
        "from braindecode.util import set_random_seeds\n",
        "from braindecode.models import SleepStagerChambon2018, TimeDistributed\n",
        "\n",
        "cuda = torch.cuda.is_available()  # check if GPU is available\n",
        "device = 'cuda' if torch.cuda.is_available() else 'cpu'\n",
        "if cuda:\n",
        "    torch.backends.cudnn.benchmark = True\n",
        "# Set random seed to be able to roughly reproduce results\n",
        "# Note that with cudnn benchmark set to True, GPU indeterminism\n",
        "# may still make results substantially different between runs.\n",
        "# To obtain more consistent results at the cost of increased computation time,\n",
        "# you can set `cudnn_benchmark=False` in `set_random_seeds`\n",
        "# or remove `torch.backends.cudnn.benchmark = True`\n",
        "set_random_seeds(seed=31, cuda=cuda)\n",
        "\n",
        "n_classes = 5\n",
        "# Extract number of channels and time steps from dataset\n",
        "n_channels, input_size_samples = train_set[0][0].shape\n",
        "\n",
        "feat_extractor = SleepStagerChambon2018(\n",
        "    n_channels,\n",
        "    sfreq,\n",
        "    n_outputs=n_classes,\n",
        "    n_times=input_size_samples,\n",
        "    return_feats=True\n",
        ")\n",
        "\n",
        "model = nn.Sequential(\n",
        "    TimeDistributed(feat_extractor),  # apply model on each 30-s window\n",
        "    nn.Sequential(  # apply linear layer on concatenated feature vectors\n",
        "        nn.Flatten(start_dim=1),\n",
        "        nn.Dropout(0.5),\n",
        "        nn.Linear(feat_extractor.len_last_layer * n_windows, n_classes)\n",
        "    )\n",
        ")\n",
        "\n",
        "# Send model to GPU\n",
        "if cuda:\n",
        "    model.cuda()"
      ]
    },
    {
      "cell_type": "markdown",
      "metadata": {},
      "source": [
        "## Training\n",
        "\n",
        "We can now train our network. :class:`braindecode.EEGClassifier` is a\n",
        "braindecode object that is responsible for managing the training of neural\n",
        "networks. It inherits from :class:`skorch.NeuralNetClassifier`, so the\n",
        "training logic is the same as in\n",
        "[Skorch](https://skorch.readthedocs.io/en/stable/)_.\n",
        "\n",
        "<div class=\"alert alert-info\"><h4>Note</h4><p>We use different hyperparameters from [1]_, as these hyperparameters were\n",
        "   optimized on a different dataset (MASS SS3) and with a different number of\n",
        "   recordings. Generally speaking, it is recommended to perform\n",
        "   hyperparameter optimization if reusing this code on a different dataset or\n",
        "   with more recordings.</p></div>\n",
        "\n",
        "\n"
      ]
    },
    {
      "cell_type": "code",
      "execution_count": 21,
      "metadata": {
        "collapsed": false
      },
      "outputs": [
        {
          "name": "stdout",
          "output_type": "stream",
          "text": [
            "  epoch    train_bal_acc    train_loss    valid_acc    valid_bal_acc    valid_loss     dur\n",
            "-------  ---------------  ------------  -----------  ---------------  ------------  ------\n",
            "      1           \u001b[36m0.1798\u001b[0m        \u001b[32m1.5856\u001b[0m       \u001b[35m0.1220\u001b[0m           \u001b[31m0.2000\u001b[0m        \u001b[94m1.5893\u001b[0m  1.7596\n",
            "      2           \u001b[36m0.2434\u001b[0m        \u001b[32m1.5177\u001b[0m       \u001b[35m0.1964\u001b[0m           \u001b[31m0.3358\u001b[0m        \u001b[94m1.5321\u001b[0m  1.5729\n",
            "      3           \u001b[36m0.2945\u001b[0m        \u001b[32m1.4009\u001b[0m       \u001b[35m0.2054\u001b[0m           \u001b[31m0.3508\u001b[0m        \u001b[94m1.5213\u001b[0m  1.5638\n",
            "      4           \u001b[36m0.4086\u001b[0m        \u001b[32m1.3395\u001b[0m       \u001b[35m0.3006\u001b[0m           \u001b[31m0.4185\u001b[0m        \u001b[94m1.4261\u001b[0m  1.7018\n",
            "      5           \u001b[36m0.4399\u001b[0m        \u001b[32m1.2244\u001b[0m       \u001b[35m0.4018\u001b[0m           \u001b[31m0.4728\u001b[0m        \u001b[94m1.3719\u001b[0m  1.9333\n",
            "      6           \u001b[36m0.5144\u001b[0m        \u001b[32m1.1301\u001b[0m       \u001b[35m0.4405\u001b[0m           \u001b[31m0.4903\u001b[0m        \u001b[94m1.2758\u001b[0m  1.6669\n",
            "      7           \u001b[36m0.5610\u001b[0m        \u001b[32m1.0355\u001b[0m       \u001b[35m0.5833\u001b[0m           \u001b[31m0.5167\u001b[0m        1.2839  1.6681\n",
            "      8           \u001b[36m0.6515\u001b[0m        \u001b[32m0.9343\u001b[0m       \u001b[35m0.6577\u001b[0m           \u001b[31m0.6779\u001b[0m        \u001b[94m1.0782\u001b[0m  1.6855\n",
            "      9           \u001b[36m0.6875\u001b[0m        \u001b[32m0.7856\u001b[0m       0.5089           0.6460        \u001b[94m0.9789\u001b[0m  1.6964\n",
            "     10           \u001b[36m0.7301\u001b[0m        \u001b[32m0.6811\u001b[0m       0.4613           0.5687        0.9974  1.6705\n"
          ]
        },
        {
          "data": {
            "text/plain": [
              "<class 'braindecode.classifier.EEGClassifier'>[initialized](\n",
              "  module_=Sequential(\n",
              "    (0): TimeDistributed(\n",
              "      (module): SleepStagerChambon2018(\n",
              "        (spatial_conv): Conv2d(1, 2, kernel_size=(2, 1), stride=(1, 1))\n",
              "        (feature_extractor): Sequential(\n",
              "          (0): Conv2d(1, 8, kernel_size=(1, 50), stride=(1, 1), padding=(0, 25))\n",
              "          (1): Identity()\n",
              "          (2): ReLU()\n",
              "          (3): MaxPool2d(kernel_size=(1, 13), stride=(1, 13), padding=0, dilation=1, ceil_mode=False)\n",
              "          (4): Conv2d(8, 8, kernel_size=(1, 50), stride=(1, 1), padding=(0, 25))\n",
              "          (5): Identity()\n",
              "          (6): ReLU()\n",
              "          (7): MaxPool2d(kernel_size=(1, 13), stride=(1, 13), padding=0, dilation=1, ceil_mode=False)\n",
              "        )\n",
              "      )\n",
              "    )\n",
              "    (1): Sequential(\n",
              "      (0): Flatten(start_dim=1, end_dim=-1)\n",
              "      (1): Dropout(p=0.5, inplace=False)\n",
              "      (2): Linear(in_features=816, out_features=5, bias=True)\n",
              "    )\n",
              "  ),\n",
              ")"
            ]
          },
          "execution_count": 21,
          "metadata": {},
          "output_type": "execute_result"
        }
      ],
      "source": [
        "from skorch.helper import predefined_split\n",
        "from skorch.callbacks import EpochScoring\n",
        "from braindecode import EEGClassifier\n",
        "\n",
        "lr = 1e-3\n",
        "batch_size = 32\n",
        "n_epochs = 10\n",
        "\n",
        "train_bal_acc = EpochScoring(\n",
        "    scoring='balanced_accuracy', on_train=True, name='train_bal_acc',\n",
        "    lower_is_better=False)\n",
        "valid_bal_acc = EpochScoring(\n",
        "    scoring='balanced_accuracy', on_train=False, name='valid_bal_acc',\n",
        "    lower_is_better=False)\n",
        "callbacks = [\n",
        "    ('train_bal_acc', train_bal_acc),\n",
        "    ('valid_bal_acc', valid_bal_acc)\n",
        "]\n",
        "\n",
        "clf = EEGClassifier(\n",
        "    model,\n",
        "    criterion=torch.nn.CrossEntropyLoss,\n",
        "    criterion__weight=torch.Tensor(class_weights).to(device),\n",
        "    optimizer=torch.optim.Adam,\n",
        "    iterator_train__shuffle=False,\n",
        "    iterator_train__sampler=train_sampler,\n",
        "    iterator_valid__sampler=valid_sampler,\n",
        "    train_split=predefined_split(valid_set),  # using valid_set for validation\n",
        "    optimizer__lr=lr,\n",
        "    batch_size=batch_size,\n",
        "    callbacks=callbacks,\n",
        "    device=device,\n",
        "    classes=np.unique(y_train),\n",
        ")\n",
        "# Model training for a specified number of epochs. `y` is None as it is already\n",
        "# supplied in the dataset.\n",
        "clf.fit(train_set, y=None, epochs=n_epochs)"
      ]
    },
    {
      "cell_type": "markdown",
      "metadata": {},
      "source": [
        "## Plot results\n",
        "\n",
        "We use the history stored by Skorch during training to plot the performance of\n",
        "the model throughout training. Specifically, we plot the loss and the balanced\n",
        "balanced accuracy for the training and validation sets.\n",
        "\n"
      ]
    },
    {
      "cell_type": "code",
      "execution_count": 23,
      "metadata": {
        "collapsed": false
      },
      "outputs": [
        {
          "data": {
            "image/png": "[encoded data removed]",
            "text/plain": [
              "<Figure size 800x700 with 2 Axes>"
            ]
          },
          "metadata": {},
          "output_type": "display_data"
        }
      ],
      "source": [
        "import matplotlib.pyplot as plt\n",
        "import pandas as pd\n",
        "\n",
        "# Extract loss and balanced accuracy values for plotting from history object\n",
        "df = pd.DataFrame(clf.history.to_list())\n",
        "df.index.name = \"Epoch\"\n",
        "fig, (ax1, ax2) = plt.subplots(2, 1, figsize=(8, 7), sharex=True)\n",
        "df[['train_loss', 'valid_loss']].plot(color=['r', 'b'], ax=ax1)\n",
        "df[['train_bal_acc', 'valid_bal_acc']].plot(color=['r', 'b'], ax=ax2)\n",
        "ax1.set_ylabel('Loss')\n",
        "ax2.set_ylabel('Balanced accuracy')\n",
        "ax1.legend(['Train', 'Valid'])\n",
        "ax2.legend(['Train', 'Valid'])\n",
        "fig.tight_layout()\n",
        "plt.show()"
      ]
    },
    {
      "cell_type": "markdown",
      "metadata": {},
      "source": [
        "Finally, we also display the confusion matrix and classification report:\n",
        "\n",
        "\n"
      ]
    },
    {
      "cell_type": "code",
      "execution_count": null,
      "metadata": {
        "collapsed": false
      },
      "outputs": [],
      "source": [
        "from sklearn.metrics import confusion_matrix, classification_report\n",
        "from braindecode.visualization import plot_confusion_matrix\n",
        "\n",
        "y_true = [valid_set[[i]][1][0] for i in range(len(valid_sampler))]\n",
        "y_pred = clf.predict(valid_set)\n",
        "\n",
        "confusion_mat = confusion_matrix(y_true, y_pred)\n",
        "\n",
        "plot_confusion_matrix(confusion_mat=confusion_mat,\n",
        "                      class_names=['Wake', 'N1', 'N2', 'N3', 'REM'])\n",
        "\n",
        "print(classification_report(y_true, y_pred))"
      ]
    },
    {
      "cell_type": "markdown",
      "metadata": {},
      "source": [
        "Finally, we can also visualize the hypnogram of the recording we used for\n",
        "validation, with the predicted sleep stages overlaid on top of the true\n",
        "sleep stages. We can see that the model cannot correctly identify the\n",
        "different sleep stages with this amount of training.\n",
        "\n"
      ]
    },
    {
      "cell_type": "code",
      "execution_count": null,
      "metadata": {
        "collapsed": false
      },
      "outputs": [],
      "source": [
        "import matplotlib.pyplot as plt\n",
        "\n",
        "fig, ax = plt.subplots(figsize=(15, 5))\n",
        "ax.plot(y_true, color='b', label='Expert annotations')\n",
        "ax.plot(y_pred.flatten(), color='r', label='Predict annotations', alpha=0.5)\n",
        "ax.set_xlabel('Time (epochs)')\n",
        "ax.set_ylabel('Sleep stage')"
      ]
    },
    {
      "cell_type": "markdown",
      "metadata": {},
      "source": [
        "Our model was able to learn despite the low amount of data that was available\n",
        "(only two recordings in this example) and reached a balanced accuracy of\n",
        "about 36% in a 5-class classification task (chance-level = 20%) on held-out\n",
        "data.\n",
        "\n",
        "<div class=\"alert alert-info\"><h4>Note</h4><p>To further improve performance, more recordings should be included in the\n",
        "   training set, and hyperparameters should be selected accordingly.\n",
        "   Increasing the sequence length was also shown in [1]_ to help improve\n",
        "   performance, especially when few EEG channels are available.</p></div>\n",
        "\n"
      ]
    },
    {
      "cell_type": "markdown",
      "metadata": {},
      "source": [
        "## References\n",
        "\n",
        ".. [1] Chambon, S., Galtier, M., Arnal, P., Wainrib, G. and Gramfort, A.\n",
        "      (2018)A Deep Learning Architecture for Temporal Sleep Stage\n",
        "      Classification Using Multivariate and Multimodal Time Series.\n",
        "      IEEE Trans. on Neural Systems and Rehabilitation Engineering 26:\n",
        "      (758-769)\n",
        "\n",
        ".. [2] B Kemp, AH Zwinderman, B Tuk, HAC Kamphuisen, JJL Oberyé. Analysis of\n",
        "       a sleep-dependent neuronal feedback loop: the slow-wave\n",
        "       microcontinuity of the EEG. IEEE-BME 47(9):1185-1194 (2000).\n",
        "\n",
        ".. [3] Goldberger AL, Amaral LAN, Glass L, Hausdorff JM, Ivanov PCh,\n",
        "       Mark RG, Mietus JE, Moody GB, Peng C-K, Stanley HE. (2000)\n",
        "       PhysioBank, PhysioToolkit, and PhysioNet: Components of a New\n",
        "       Research Resource for Complex Physiologic Signals.\n",
        "       Circulation 101(23):e215-e220\n",
        "\n"
      ]
    }
  ],
  "metadata": {
    "kernelspec": {
      "display_name": "Python 3",
      "language": "python",
      "name": "python3"
    },
    "language_info": {
      "codemirror_mode": {
        "name": "ipython",
        "version": 3
      },
      "file_extension": ".py",
      "mimetype": "text/x-python",
      "name": "python",
      "nbconvert_exporter": "python",
      "pygments_lexer": "ipython3",
      "version": "3.11.8"
    }
  },
  "nbformat": 4,
  "nbformat_minor": 0
}
